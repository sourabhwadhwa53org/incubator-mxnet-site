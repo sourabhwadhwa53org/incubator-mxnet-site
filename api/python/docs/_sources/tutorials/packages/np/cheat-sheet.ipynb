{
 "cells": [
  {
   "cell_type": "markdown",
   "id": "676ac5cd",
   "metadata": {},
   "source": [
    "<!--- Licensed to the Apache Software Foundation (ASF) under one -->\n",
    "<!--- or more contributor license agreements.  See the NOTICE file -->\n",
    "<!--- distributed with this work for additional information -->\n",
    "<!--- regarding copyright ownership.  The ASF licenses this file -->\n",
    "<!--- to you under the Apache License, Version 2.0 (the -->\n",
    "<!--- \"License\"); you may not use this file except in compliance -->\n",
    "<!--- with the License.  You may obtain a copy of the License at -->\n",
    "\n",
    "<!---   http://www.apache.org/licenses/LICENSE-2.0 -->\n",
    "\n",
    "<!--- Unless required by applicable law or agreed to in writing, -->\n",
    "<!--- software distributed under the License is distributed on an -->\n",
    "<!--- \"AS IS\" BASIS, WITHOUT WARRANTIES OR CONDITIONS OF ANY -->\n",
    "<!--- KIND, either express or implied.  See the License for the -->\n",
    "<!--- specific language governing permissions and limitations -->\n",
    "<!--- under the License. -->\n",
    "\n",
    "# The NP on MXNet cheat sheet\n",
    "\n",
    "To begin, import the `np` and `npx` module and update MXNet to run in\n",
    "NumPy-like mode."
   ]
  },
  {
   "cell_type": "code",
   "execution_count": null,
   "id": "907c20ad",
   "metadata": {},
   "outputs": [],
   "source": [
    "from mxnet import np, npx\n",
    "npx.set_np()  # Change MXNet to the numpy-like mode."
   ]
  },
  {
   "cell_type": "markdown",
   "id": "cf0c6cc5",
   "metadata": {},
   "source": [
    "NDArray figure (TODO)\n",
    "\n",
    "## Creating arrays"
   ]
  },
  {
   "cell_type": "code",
   "execution_count": null,
   "id": "ef0d76c2",
   "metadata": {},
   "outputs": [],
   "source": [
    "np.array([1, 2, 3])  # default datatype is float32"
   ]
  },
  {
   "cell_type": "code",
   "execution_count": null,
   "id": "e3ddd2d2",
   "metadata": {},
   "outputs": [],
   "source": [
    "np.array([(1.5, 2, 3), (4, 5, 6)], dtype='float16')"
   ]
  },
  {
   "cell_type": "code",
   "execution_count": null,
   "id": "5de55ac7",
   "metadata": {},
   "outputs": [],
   "source": [
    "np.array([[(15,2,3), (4,5,6)], [(3,2,1), (4,5,6)]], dtype='int32')"
   ]
  },
  {
   "cell_type": "markdown",
   "id": "0f9db0ca",
   "metadata": {},
   "source": [
    "### Initial placeholders"
   ]
  },
  {
   "cell_type": "code",
   "execution_count": null,
   "id": "9c0dcf14",
   "metadata": {},
   "outputs": [],
   "source": [
    "np.zeros((3, 4))  # Create an array of zeros"
   ]
  },
  {
   "cell_type": "code",
   "execution_count": null,
   "id": "413c11cd",
   "metadata": {},
   "outputs": [],
   "source": [
    "np.ones((2, 3, 4), dtype='int8')  # Create an array of ones"
   ]
  },
  {
   "cell_type": "code",
   "execution_count": null,
   "id": "cd75854c",
   "metadata": {},
   "outputs": [],
   "source": [
    "np.arange(10, 25, 5)  # Create an array of evenly spaced values (step value)"
   ]
  },
  {
   "cell_type": "code",
   "execution_count": null,
   "id": "6659736d",
   "metadata": {},
   "outputs": [],
   "source": [
    "# Create an array of evenly spaced values (number of samples)\n",
    "# np.linspace(0, 2, 9)"
   ]
  },
  {
   "cell_type": "code",
   "execution_count": null,
   "id": "438e4e0e",
   "metadata": {},
   "outputs": [],
   "source": [
    "# np.full((2, 2), 7)  # Create a constant array"
   ]
  },
  {
   "cell_type": "code",
   "execution_count": null,
   "id": "64365b26",
   "metadata": {},
   "outputs": [],
   "source": [
    "# np.eye(2)  # Create a 2X2 identity matrix"
   ]
  },
  {
   "cell_type": "code",
   "execution_count": null,
   "id": "3db7c23d",
   "metadata": {},
   "outputs": [],
   "source": [
    "# np.random.random((2, 2))  # Create an array with random values"
   ]
  },
  {
   "cell_type": "code",
   "execution_count": null,
   "id": "7b102874",
   "metadata": {},
   "outputs": [],
   "source": [
    "np.empty((3,2))  # Create an empty array"
   ]
  },
  {
   "cell_type": "markdown",
   "id": "7fcf37b0",
   "metadata": {},
   "source": [
    "## I/O\n",
    "\n",
    "### Saving and loading on disk"
   ]
  },
  {
   "cell_type": "code",
   "execution_count": null,
   "id": "7ec17fed",
   "metadata": {},
   "outputs": [],
   "source": [
    "# Save one array\n",
    "a = np.array([1, 2, 3])\n",
    "npx.save('my_array', a)\n",
    "npx.load('my_array')"
   ]
  },
  {
   "cell_type": "code",
   "execution_count": null,
   "id": "647e20e9",
   "metadata": {},
   "outputs": [],
   "source": [
    "# Save a list of arrays\n",
    "b = np.array([4, 6, 8])\n",
    "npx.save('my_arrays', [a, b])  # FIXME, cannot be a tuple\n",
    "npx.load('my_arrays')"
   ]
  },
  {
   "cell_type": "markdown",
   "id": "5d71e710",
   "metadata": {},
   "source": [
    "### Saving and loading text files"
   ]
  },
  {
   "cell_type": "code",
   "execution_count": null,
   "id": "f405a100",
   "metadata": {},
   "outputs": [],
   "source": [
    "# np.loadtxt(\"myfile.txt\")\n",
    "# np.genfromtxt(\"my_file.csv\", delimiter=',')\n",
    "# np.savetxt(\"myarray.txt\", a, delimiter=\" \")"
   ]
  },
  {
   "cell_type": "markdown",
   "id": "67ff655f",
   "metadata": {},
   "source": [
    "## Data types"
   ]
  },
  {
   "cell_type": "code",
   "execution_count": null,
   "id": "041cd8fe",
   "metadata": {},
   "outputs": [],
   "source": [
    "# np.int64    # Signed 64-bit integer types\n",
    "# np.float32  # Standard double-precision floating point\n",
    "# np.complex  # Complex numbers represented by 128 floats\n",
    "# np.bool     # Boolean type storing TRUE and FALSE values\n",
    "# np.object   # Python object type\n",
    "# np.string_  # Fixed-length string type\n",
    "# np.unicode_ # Fixed-length unicode type"
   ]
  },
  {
   "cell_type": "markdown",
   "id": "6f2d10d5",
   "metadata": {},
   "source": [
    "## Inspecting your array"
   ]
  },
  {
   "cell_type": "code",
   "execution_count": null,
   "id": "ac8e8a78",
   "metadata": {},
   "outputs": [],
   "source": [
    "a.shape # Array dimensions"
   ]
  },
  {
   "cell_type": "code",
   "execution_count": null,
   "id": "3573381f",
   "metadata": {},
   "outputs": [],
   "source": [
    "len(a) # Length of array"
   ]
  },
  {
   "cell_type": "code",
   "execution_count": null,
   "id": "5c6de279",
   "metadata": {},
   "outputs": [],
   "source": [
    "b.ndim # Number of array dimensions"
   ]
  },
  {
   "cell_type": "code",
   "execution_count": null,
   "id": "58f5a366",
   "metadata": {},
   "outputs": [],
   "source": [
    "b.size # Number of array elements"
   ]
  },
  {
   "cell_type": "code",
   "execution_count": null,
   "id": "6e05c35a",
   "metadata": {},
   "outputs": [],
   "source": [
    "b.dtype # Data type of array elements"
   ]
  },
  {
   "cell_type": "code",
   "execution_count": null,
   "id": "f2acee91",
   "metadata": {},
   "outputs": [],
   "source": [
    "# b.dtype.name # Name of data type"
   ]
  },
  {
   "cell_type": "code",
   "execution_count": null,
   "id": "7d754e0c",
   "metadata": {},
   "outputs": [],
   "source": [
    "b.astype('int') # Convert an array to a different type"
   ]
  },
  {
   "cell_type": "markdown",
   "id": "00538fdd",
   "metadata": {},
   "source": [
    "## Asking For Help"
   ]
  },
  {
   "cell_type": "code",
   "execution_count": null,
   "id": "9af71117",
   "metadata": {},
   "outputs": [],
   "source": [
    "# np.info(np.ndarray.dtype)"
   ]
  },
  {
   "cell_type": "markdown",
   "id": "dbb65816",
   "metadata": {},
   "source": [
    "## Array mathematics\n",
    "\n",
    "### Arithmetic operations"
   ]
  },
  {
   "cell_type": "code",
   "execution_count": null,
   "id": "f040251d",
   "metadata": {},
   "outputs": [],
   "source": [
    "a - b # Subtraction"
   ]
  },
  {
   "cell_type": "code",
   "execution_count": null,
   "id": "80f74a0c",
   "metadata": {},
   "outputs": [],
   "source": [
    "np.subtract(a, b) # Subtraction"
   ]
  },
  {
   "cell_type": "code",
   "execution_count": null,
   "id": "82a8a9b3",
   "metadata": {},
   "outputs": [],
   "source": [
    "b + a # Addition"
   ]
  },
  {
   "cell_type": "code",
   "execution_count": null,
   "id": "f294792c",
   "metadata": {},
   "outputs": [],
   "source": [
    "np.add(b, a) # Addition"
   ]
  },
  {
   "cell_type": "code",
   "execution_count": null,
   "id": "548a8e3f",
   "metadata": {},
   "outputs": [],
   "source": [
    "a / b # Division"
   ]
  },
  {
   "cell_type": "code",
   "execution_count": null,
   "id": "709a5dd3",
   "metadata": {},
   "outputs": [],
   "source": [
    "np.divide(a,b) # Division"
   ]
  },
  {
   "cell_type": "code",
   "execution_count": null,
   "id": "5e2af59e",
   "metadata": {},
   "outputs": [],
   "source": [
    "a * b # Multiplication"
   ]
  },
  {
   "cell_type": "code",
   "execution_count": null,
   "id": "ec7d2357",
   "metadata": {},
   "outputs": [],
   "source": [
    "np.multiply(a, b) # Multiplication"
   ]
  },
  {
   "cell_type": "code",
   "execution_count": null,
   "id": "059fe703",
   "metadata": {},
   "outputs": [],
   "source": [
    "np.exp(b) # Exponentiation"
   ]
  },
  {
   "cell_type": "code",
   "execution_count": null,
   "id": "eff1a4b3",
   "metadata": {},
   "outputs": [],
   "source": [
    "np.sqrt(b) # Square root"
   ]
  },
  {
   "cell_type": "code",
   "execution_count": null,
   "id": "4efd5476",
   "metadata": {},
   "outputs": [],
   "source": [
    "np.sin(a) # Sines of an array"
   ]
  },
  {
   "cell_type": "code",
   "execution_count": null,
   "id": "0402d46c",
   "metadata": {},
   "outputs": [],
   "source": [
    "np.cos(b) # Element-wise cosine"
   ]
  },
  {
   "cell_type": "code",
   "execution_count": null,
   "id": "9a5ed948",
   "metadata": {},
   "outputs": [],
   "source": [
    "np.log(a) # Element-wise natural logarithm"
   ]
  },
  {
   "cell_type": "code",
   "execution_count": null,
   "id": "a40cfb92",
   "metadata": {},
   "outputs": [],
   "source": [
    "a.dot(b) # Dot product"
   ]
  },
  {
   "cell_type": "markdown",
   "id": "27e51a3a",
   "metadata": {},
   "source": [
    "### Comparison\n",
    "\n",
    "### Aggregate functions"
   ]
  },
  {
   "cell_type": "code",
   "execution_count": null,
   "id": "911f5896",
   "metadata": {},
   "outputs": [],
   "source": [
    "a.sum() # Array-wise sum"
   ]
  },
  {
   "cell_type": "code",
   "execution_count": null,
   "id": "e40ab0b3",
   "metadata": {},
   "outputs": [],
   "source": [
    "# a.min() # Array-wise minimum value"
   ]
  },
  {
   "cell_type": "code",
   "execution_count": null,
   "id": "167d35ae",
   "metadata": {},
   "outputs": [],
   "source": [
    "c = np.array(([[1,2,3], [2,3,4]]))\n",
    "# c.max(axis=0) # Maximum value of an array row"
   ]
  },
  {
   "cell_type": "code",
   "execution_count": null,
   "id": "0fcbb0d2",
   "metadata": {},
   "outputs": [],
   "source": [
    "# c.cumsum(axis=1) # Cumulative sum of the elements"
   ]
  },
  {
   "cell_type": "code",
   "execution_count": null,
   "id": "4637ffea",
   "metadata": {},
   "outputs": [],
   "source": [
    "a.mean() # Mean"
   ]
  },
  {
   "cell_type": "code",
   "execution_count": null,
   "id": "4fb501db",
   "metadata": {},
   "outputs": [],
   "source": [
    "# b.median() # Median"
   ]
  },
  {
   "cell_type": "code",
   "execution_count": null,
   "id": "1dbc28d3",
   "metadata": {},
   "outputs": [],
   "source": [
    "# a.corrcoef() # Correlation coefficient"
   ]
  },
  {
   "cell_type": "code",
   "execution_count": null,
   "id": "cf9f9936",
   "metadata": {},
   "outputs": [],
   "source": [
    "# np.std(b) # Standard deviation"
   ]
  },
  {
   "cell_type": "markdown",
   "id": "567d7b98",
   "metadata": {},
   "source": [
    "## Copying arrays"
   ]
  },
  {
   "cell_type": "code",
   "execution_count": null,
   "id": "a1d925aa",
   "metadata": {},
   "outputs": [],
   "source": [
    "# a.view() # Create a view of the array with the same data"
   ]
  },
  {
   "cell_type": "code",
   "execution_count": null,
   "id": "412b0cef",
   "metadata": {},
   "outputs": [],
   "source": [
    "np.copy(a) # Create a copy of the array"
   ]
  },
  {
   "cell_type": "code",
   "execution_count": null,
   "id": "cf3ce8e9",
   "metadata": {},
   "outputs": [],
   "source": [
    "a.copy() # Create a deep copy of the array"
   ]
  },
  {
   "cell_type": "markdown",
   "id": "345e72c1",
   "metadata": {},
   "source": [
    "## Sorting Arrays"
   ]
  },
  {
   "cell_type": "code",
   "execution_count": null,
   "id": "2634a909",
   "metadata": {},
   "outputs": [],
   "source": [
    "# a.sort() # Sort an array"
   ]
  },
  {
   "cell_type": "code",
   "execution_count": null,
   "id": "fc4be221",
   "metadata": {},
   "outputs": [],
   "source": [
    "# c.sort(axis=0) # Sort the elements of an array's axis"
   ]
  },
  {
   "cell_type": "markdown",
   "id": "0b5b9fb1",
   "metadata": {},
   "source": [
    "## Subsetting, slicing, indexing\n",
    "\n",
    "### Subsetting"
   ]
  },
  {
   "cell_type": "code",
   "execution_count": null,
   "id": "146a437c",
   "metadata": {},
   "outputs": [],
   "source": [
    "a[2] # Select the element at the 2nd index 3"
   ]
  },
  {
   "cell_type": "code",
   "execution_count": null,
   "id": "30202139",
   "metadata": {},
   "outputs": [],
   "source": [
    "c[0,1] # Select the element at row 1 column 2"
   ]
  },
  {
   "cell_type": "markdown",
   "id": "88ae65c1",
   "metadata": {},
   "source": [
    "### Slicing"
   ]
  },
  {
   "cell_type": "code",
   "execution_count": null,
   "id": "b3a69d00",
   "metadata": {},
   "outputs": [],
   "source": [
    "a[0:2] # Select items at index 0 and 1"
   ]
  },
  {
   "cell_type": "code",
   "execution_count": null,
   "id": "130e6fc0",
   "metadata": {},
   "outputs": [],
   "source": [
    "c[0:2,1] # Select items at rows 0 and 1 in column 1"
   ]
  },
  {
   "cell_type": "code",
   "execution_count": null,
   "id": "3a602bd6",
   "metadata": {},
   "outputs": [],
   "source": [
    "c[:1] # Select all items at row 0"
   ]
  },
  {
   "cell_type": "code",
   "execution_count": null,
   "id": "cad63e45",
   "metadata": {},
   "outputs": [],
   "source": [
    "# c[1,...] # Same as [1,:,:]"
   ]
  },
  {
   "cell_type": "code",
   "execution_count": null,
   "id": "a6ff144f",
   "metadata": {},
   "outputs": [],
   "source": [
    "a[ : :-1] #Reversed array a array([3, 2, 1])"
   ]
  },
  {
   "cell_type": "markdown",
   "id": "c5d8d457",
   "metadata": {},
   "source": [
    "### Boolean Indexing"
   ]
  },
  {
   "cell_type": "code",
   "execution_count": null,
   "id": "df35f2f8",
   "metadata": {},
   "outputs": [],
   "source": [
    "# a[a<2] # Select elements from a less than 2"
   ]
  },
  {
   "cell_type": "markdown",
   "id": "18d97f42",
   "metadata": {},
   "source": [
    "### Fancy indexing"
   ]
  },
  {
   "cell_type": "code",
   "execution_count": null,
   "id": "fba0dac1",
   "metadata": {},
   "outputs": [],
   "source": [
    "c[[1,0,1,0], [0,1,2,0]] # Select elements (1,0),(0,1),(1,2) and (0,0)"
   ]
  },
  {
   "cell_type": "code",
   "execution_count": null,
   "id": "d9d2f0e9",
   "metadata": {},
   "outputs": [],
   "source": [
    "c[[1,0,1,0]][:,[0,1,2,0]] # Select a subset of the matrix’s rows"
   ]
  },
  {
   "cell_type": "markdown",
   "id": "d7a2e858",
   "metadata": {},
   "source": [
    "## Array manipulation\n",
    "\n",
    "### Transposing array"
   ]
  },
  {
   "cell_type": "code",
   "execution_count": null,
   "id": "45c0fe95",
   "metadata": {},
   "outputs": [],
   "source": [
    "np.transpose(c) # Permute array dimensions"
   ]
  },
  {
   "cell_type": "code",
   "execution_count": null,
   "id": "d4488e45",
   "metadata": {},
   "outputs": [],
   "source": [
    "c.T # Permute array dimensions"
   ]
  },
  {
   "cell_type": "markdown",
   "id": "af70394b",
   "metadata": {},
   "source": [
    "### Changing array shape"
   ]
  },
  {
   "cell_type": "code",
   "execution_count": null,
   "id": "796cd593",
   "metadata": {},
   "outputs": [],
   "source": [
    "# b.ravel() # Flatten the array"
   ]
  },
  {
   "cell_type": "code",
   "execution_count": null,
   "id": "d5799587",
   "metadata": {},
   "outputs": [],
   "source": [
    "# c.reshape(3,-2) # Reshape, but don’t change data"
   ]
  },
  {
   "cell_type": "markdown",
   "id": "31a5c7a4",
   "metadata": {},
   "source": [
    "### Adding and removing elements"
   ]
  },
  {
   "cell_type": "code",
   "execution_count": null,
   "id": "bb0dfcf2",
   "metadata": {},
   "outputs": [],
   "source": [
    "# c.resize((6,2)) # Return a new array with shape (6, 2)"
   ]
  },
  {
   "cell_type": "code",
   "execution_count": null,
   "id": "a5d84fe1",
   "metadata": {},
   "outputs": [],
   "source": [
    "# np.append(h,g) # Append items to an array"
   ]
  },
  {
   "cell_type": "code",
   "execution_count": null,
   "id": "97764c96",
   "metadata": {},
   "outputs": [],
   "source": [
    "# np.insert(a, 1, 5) # Insert items in an array"
   ]
  },
  {
   "cell_type": "code",
   "execution_count": null,
   "id": "56948dbf",
   "metadata": {},
   "outputs": [],
   "source": [
    "# np.delete(a, [1]) # Delete items from an array"
   ]
  },
  {
   "cell_type": "markdown",
   "id": "f91178c4",
   "metadata": {},
   "source": [
    "### Combining arrays"
   ]
  },
  {
   "cell_type": "code",
   "execution_count": null,
   "id": "e3c9ee03",
   "metadata": {},
   "outputs": [],
   "source": [
    "np.concatenate((a,b),axis=0) # Concatenate arrays"
   ]
  },
  {
   "cell_type": "code",
   "execution_count": null,
   "id": "ef994a98",
   "metadata": {},
   "outputs": [],
   "source": [
    "# np.vstack((a,b)) # Stack arrays vertically (row-wise)"
   ]
  },
  {
   "cell_type": "code",
   "execution_count": null,
   "id": "36ebf9b0",
   "metadata": {},
   "outputs": [],
   "source": [
    "# np.r_[e,f] # Stack arrays vertically (row-wise)"
   ]
  },
  {
   "cell_type": "code",
   "execution_count": null,
   "id": "40b59626",
   "metadata": {},
   "outputs": [],
   "source": [
    "# np.hstack((e,f)) # Stack arrays horizontally (column-wise)"
   ]
  },
  {
   "cell_type": "code",
   "execution_count": null,
   "id": "eaaad0c5",
   "metadata": {},
   "outputs": [],
   "source": [
    "# np.column_stack((a,d)) # Create stacked column-wise arrays"
   ]
  },
  {
   "cell_type": "code",
   "execution_count": null,
   "id": "941d8f9b",
   "metadata": {},
   "outputs": [],
   "source": [
    "# np.c_[a,d] # Create stacked column-wise arrays"
   ]
  },
  {
   "cell_type": "markdown",
   "id": "449f0234",
   "metadata": {},
   "source": [
    "### Splitting arrays"
   ]
  },
  {
   "cell_type": "code",
   "execution_count": null,
   "id": "7eeb80e0",
   "metadata": {},
   "outputs": [],
   "source": [
    "# np.hsplit(a,3) # Split the array horizontally at the 3rd index"
   ]
  },
  {
   "cell_type": "code",
   "execution_count": null,
   "id": "7dd0d698",
   "metadata": {},
   "outputs": [],
   "source": [
    "# np.vsplit(c,2) # Split the array vertically at the 2nd index"
   ]
  },
  {
   "cell_type": "markdown",
   "id": "c476d245",
   "metadata": {},
   "source": [
    "## Use GPUs\n",
    "\n",
    "Prerequisites: A GPU exists and GPU-enabled MXNet is installed."
   ]
  },
  {
   "cell_type": "code",
   "execution_count": null,
   "id": "ef423d5d",
   "metadata": {},
   "outputs": [],
   "source": [
    "npx.num_gpus()  # Query number of GPUs"
   ]
  },
  {
   "cell_type": "code",
   "execution_count": null,
   "id": "c36a6643",
   "metadata": {},
   "outputs": [],
   "source": [
    "npx.gpu(0), npx.gpu(1)  # Context for the first and second GPUs"
   ]
  },
  {
   "cell_type": "code",
   "execution_count": null,
   "id": "1b8d2cc2",
   "metadata": {},
   "outputs": [],
   "source": [
    "gpu_0 = npx.gpu(0) if npx.num_gpus() > 1 else npx.cpu()\n",
    "g0 = np.zeros((2,3), ctx=gpu_0)  # Create array on GPU 0\n",
    "g0"
   ]
  },
  {
   "cell_type": "code",
   "execution_count": null,
   "id": "17ee1c94",
   "metadata": {},
   "outputs": [],
   "source": [
    "gpu_1 = npx.gpu(1) if npx.num_gpus() > 2 else npx.cpu()\n",
    "g1 = np.random.uniform(size=(2,3), ctx=gpu_1)  # Create array on GPU 1\n",
    "g1"
   ]
  },
  {
   "cell_type": "code",
   "execution_count": null,
   "id": "29b7b9ae",
   "metadata": {},
   "outputs": [],
   "source": [
    "# Copy to another GPU\n",
    "g1.copyto(gpu_0)"
   ]
  },
  {
   "cell_type": "code",
   "execution_count": null,
   "id": "994badbb",
   "metadata": {},
   "outputs": [],
   "source": [
    "# Return itself if matching the context, otherwise copy\n",
    "g1.copyto(gpu_0), g1.copyto(gpu_0)"
   ]
  },
  {
   "cell_type": "code",
   "execution_count": null,
   "id": "54c225ca",
   "metadata": {},
   "outputs": [],
   "source": [
    "g1.context  # Query the device an array is on"
   ]
  },
  {
   "cell_type": "code",
   "execution_count": null,
   "id": "52bea53f",
   "metadata": {},
   "outputs": [],
   "source": [
    "## The computation is performed by the devices on which the input arrays are\n",
    "g0 + g1.copyto(gpu_0)"
   ]
  },
  {
   "cell_type": "markdown",
   "id": "d92a632a",
   "metadata": {},
   "source": [
    "## Auto differentiation"
   ]
  },
  {
   "cell_type": "code",
   "execution_count": null,
   "id": "2f55d925",
   "metadata": {},
   "outputs": [],
   "source": [
    "a.attach_grad() # Allocate gradient for a variable\n",
    "a.grad # access the gradient"
   ]
  },
  {
   "cell_type": "markdown",
   "id": "81b1c744",
   "metadata": {},
   "source": [
    "Compute the $\\nabla_a b=\\exp(2a)^T a$"
   ]
  },
  {
   "cell_type": "code",
   "execution_count": null,
   "id": "b1665aed",
   "metadata": {},
   "outputs": [],
   "source": [
    "from mxnet import autograd\n",
    "\n",
    "with autograd.record():\n",
    "    b = np.exp(2*a).dot(a)\n",
    "b.backward()\n",
    "a.grad"
   ]
  },
  {
   "cell_type": "markdown",
   "id": "fd53c51d",
   "metadata": {},
   "source": [
    "**Acknowledgement**\n",
    "\n",
    "Adapted from www.datacamp.com."
   ]
  }
 ],
 "metadata": {
  "language_info": {
   "name": "python"
  }
 },
 "nbformat": 4,
 "nbformat_minor": 5
}