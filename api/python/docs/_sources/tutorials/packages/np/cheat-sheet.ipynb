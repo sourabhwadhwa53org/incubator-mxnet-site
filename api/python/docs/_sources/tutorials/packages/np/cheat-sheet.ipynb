{
 "cells": [
  {
   "cell_type": "markdown",
   "id": "db8aeb56",
   "metadata": {},
   "source": [
    "<!--- Licensed to the Apache Software Foundation (ASF) under one -->\n",
    "<!--- or more contributor license agreements.  See the NOTICE file -->\n",
    "<!--- distributed with this work for additional information -->\n",
    "<!--- regarding copyright ownership.  The ASF licenses this file -->\n",
    "<!--- to you under the Apache License, Version 2.0 (the -->\n",
    "<!--- \"License\"); you may not use this file except in compliance -->\n",
    "<!--- with the License.  You may obtain a copy of the License at -->\n",
    "\n",
    "<!---   http://www.apache.org/licenses/LICENSE-2.0 -->\n",
    "\n",
    "<!--- Unless required by applicable law or agreed to in writing, -->\n",
    "<!--- software distributed under the License is distributed on an -->\n",
    "<!--- \"AS IS\" BASIS, WITHOUT WARRANTIES OR CONDITIONS OF ANY -->\n",
    "<!--- KIND, either express or implied.  See the License for the -->\n",
    "<!--- specific language governing permissions and limitations -->\n",
    "<!--- under the License. -->\n",
    "\n",
    "# The NP on MXNet cheat sheet\n",
    "\n",
    "To begin, import the `np` and `npx` module and update MXNet to run in\n",
    "NumPy-like mode."
   ]
  },
  {
   "cell_type": "code",
   "execution_count": null,
   "id": "93f75989",
   "metadata": {},
   "outputs": [],
   "source": [
    "from mxnet import np, npx\n",
    "npx.set_np()  # Change MXNet to the numpy-like mode."
   ]
  },
  {
   "cell_type": "markdown",
   "id": "e2bd75bd",
   "metadata": {},
   "source": [
    "NDArray figure (TODO)\n",
    "\n",
    "## Creating arrays"
   ]
  },
  {
   "cell_type": "code",
   "execution_count": null,
   "id": "1ae1ba2c",
   "metadata": {},
   "outputs": [],
   "source": [
    "np.array([1, 2, 3])  # default datatype is float32"
   ]
  },
  {
   "cell_type": "code",
   "execution_count": null,
   "id": "20685999",
   "metadata": {},
   "outputs": [],
   "source": [
    "np.array([(1.5, 2, 3), (4, 5, 6)], dtype='float16')"
   ]
  },
  {
   "cell_type": "code",
   "execution_count": null,
   "id": "a97521ad",
   "metadata": {},
   "outputs": [],
   "source": [
    "np.array([[(15,2,3), (4,5,6)], [(3,2,1), (4,5,6)]], dtype='int32')"
   ]
  },
  {
   "cell_type": "markdown",
   "id": "07fcb41e",
   "metadata": {},
   "source": [
    "### Initial placeholders"
   ]
  },
  {
   "cell_type": "code",
   "execution_count": null,
   "id": "1dde9608",
   "metadata": {},
   "outputs": [],
   "source": [
    "np.zeros((3, 4))  # Create an array of zeros"
   ]
  },
  {
   "cell_type": "code",
   "execution_count": null,
   "id": "1e1aaba3",
   "metadata": {},
   "outputs": [],
   "source": [
    "np.ones((2, 3, 4), dtype='int8')  # Create an array of ones"
   ]
  },
  {
   "cell_type": "code",
   "execution_count": null,
   "id": "5f2d6b3a",
   "metadata": {},
   "outputs": [],
   "source": [
    "np.arange(10, 25, 5)  # Create an array of evenly spaced values (step value)"
   ]
  },
  {
   "cell_type": "code",
   "execution_count": null,
   "id": "3a12da3c",
   "metadata": {},
   "outputs": [],
   "source": [
    "# Create an array of evenly spaced values (number of samples)\n",
    "# np.linspace(0, 2, 9)"
   ]
  },
  {
   "cell_type": "code",
   "execution_count": null,
   "id": "9664edda",
   "metadata": {},
   "outputs": [],
   "source": [
    "# np.full((2, 2), 7)  # Create a constant array"
   ]
  },
  {
   "cell_type": "code",
   "execution_count": null,
   "id": "73114293",
   "metadata": {},
   "outputs": [],
   "source": [
    "# np.eye(2)  # Create a 2X2 identity matrix"
   ]
  },
  {
   "cell_type": "code",
   "execution_count": null,
   "id": "991f8afe",
   "metadata": {},
   "outputs": [],
   "source": [
    "# np.random.random((2, 2))  # Create an array with random values"
   ]
  },
  {
   "cell_type": "code",
   "execution_count": null,
   "id": "e755d637",
   "metadata": {},
   "outputs": [],
   "source": [
    "np.empty((3,2))  # Create an empty array"
   ]
  },
  {
   "cell_type": "markdown",
   "id": "b4102003",
   "metadata": {},
   "source": [
    "## I/O\n",
    "\n",
    "### Saving and loading on disk"
   ]
  },
  {
   "cell_type": "code",
   "execution_count": null,
   "id": "9c41ab5a",
   "metadata": {},
   "outputs": [],
   "source": [
    "# Save one array\n",
    "a = np.array([1, 2, 3])\n",
    "npx.save('my_array', a)\n",
    "npx.load('my_array')"
   ]
  },
  {
   "cell_type": "code",
   "execution_count": null,
   "id": "dccce8d9",
   "metadata": {},
   "outputs": [],
   "source": [
    "# Save a list of arrays\n",
    "b = np.array([4, 6, 8])\n",
    "npx.save('my_arrays', [a, b])  # FIXME, cannot be a tuple\n",
    "npx.load('my_arrays')"
   ]
  },
  {
   "cell_type": "markdown",
   "id": "ea028202",
   "metadata": {},
   "source": [
    "### Saving and loading text files"
   ]
  },
  {
   "cell_type": "code",
   "execution_count": null,
   "id": "9fa192d8",
   "metadata": {},
   "outputs": [],
   "source": [
    "# np.loadtxt(\"myfile.txt\")\n",
    "# np.genfromtxt(\"my_file.csv\", delimiter=',')\n",
    "# np.savetxt(\"myarray.txt\", a, delimiter=\" \")"
   ]
  },
  {
   "cell_type": "markdown",
   "id": "95b79e6d",
   "metadata": {},
   "source": [
    "## Data types"
   ]
  },
  {
   "cell_type": "code",
   "execution_count": null,
   "id": "639ebbbf",
   "metadata": {},
   "outputs": [],
   "source": [
    "# np.int64    # Signed 64-bit integer types\n",
    "# np.float32  # Standard double-precision floating point\n",
    "# np.complex  # Complex numbers represented by 128 floats\n",
    "# np.bool     # Boolean type storing TRUE and FALSE values\n",
    "# np.object   # Python object type\n",
    "# np.string_  # Fixed-length string type\n",
    "# np.unicode_ # Fixed-length unicode type"
   ]
  },
  {
   "cell_type": "markdown",
   "id": "9e04b04d",
   "metadata": {},
   "source": [
    "## Inspecting your array"
   ]
  },
  {
   "cell_type": "code",
   "execution_count": null,
   "id": "67453d3a",
   "metadata": {},
   "outputs": [],
   "source": [
    "a.shape # Array dimensions"
   ]
  },
  {
   "cell_type": "code",
   "execution_count": null,
   "id": "90c9d265",
   "metadata": {},
   "outputs": [],
   "source": [
    "len(a) # Length of array"
   ]
  },
  {
   "cell_type": "code",
   "execution_count": null,
   "id": "defa420b",
   "metadata": {},
   "outputs": [],
   "source": [
    "b.ndim # Number of array dimensions"
   ]
  },
  {
   "cell_type": "code",
   "execution_count": null,
   "id": "bb9383f0",
   "metadata": {},
   "outputs": [],
   "source": [
    "b.size # Number of array elements"
   ]
  },
  {
   "cell_type": "code",
   "execution_count": null,
   "id": "b98fa824",
   "metadata": {},
   "outputs": [],
   "source": [
    "b.dtype # Data type of array elements"
   ]
  },
  {
   "cell_type": "code",
   "execution_count": null,
   "id": "65a99ef0",
   "metadata": {},
   "outputs": [],
   "source": [
    "# b.dtype.name # Name of data type"
   ]
  },
  {
   "cell_type": "code",
   "execution_count": null,
   "id": "593278d3",
   "metadata": {},
   "outputs": [],
   "source": [
    "b.astype('int') # Convert an array to a different type"
   ]
  },
  {
   "cell_type": "markdown",
   "id": "1b80edf7",
   "metadata": {},
   "source": [
    "## Asking For Help"
   ]
  },
  {
   "cell_type": "code",
   "execution_count": null,
   "id": "a9c6537a",
   "metadata": {},
   "outputs": [],
   "source": [
    "# np.info(np.ndarray.dtype)"
   ]
  },
  {
   "cell_type": "markdown",
   "id": "e21759be",
   "metadata": {},
   "source": [
    "## Array mathematics\n",
    "\n",
    "### Arithmetic operations"
   ]
  },
  {
   "cell_type": "code",
   "execution_count": null,
   "id": "a18eb267",
   "metadata": {},
   "outputs": [],
   "source": [
    "a - b # Subtraction"
   ]
  },
  {
   "cell_type": "code",
   "execution_count": null,
   "id": "0006bb02",
   "metadata": {},
   "outputs": [],
   "source": [
    "np.subtract(a, b) # Subtraction"
   ]
  },
  {
   "cell_type": "code",
   "execution_count": null,
   "id": "0f08febc",
   "metadata": {},
   "outputs": [],
   "source": [
    "b + a # Addition"
   ]
  },
  {
   "cell_type": "code",
   "execution_count": null,
   "id": "3f7d992b",
   "metadata": {},
   "outputs": [],
   "source": [
    "np.add(b, a) # Addition"
   ]
  },
  {
   "cell_type": "code",
   "execution_count": null,
   "id": "c2668cb9",
   "metadata": {},
   "outputs": [],
   "source": [
    "a / b # Division"
   ]
  },
  {
   "cell_type": "code",
   "execution_count": null,
   "id": "a889507d",
   "metadata": {},
   "outputs": [],
   "source": [
    "np.divide(a,b) # Division"
   ]
  },
  {
   "cell_type": "code",
   "execution_count": null,
   "id": "a476571f",
   "metadata": {},
   "outputs": [],
   "source": [
    "a * b # Multiplication"
   ]
  },
  {
   "cell_type": "code",
   "execution_count": null,
   "id": "9a0ef253",
   "metadata": {},
   "outputs": [],
   "source": [
    "np.multiply(a, b) # Multiplication"
   ]
  },
  {
   "cell_type": "code",
   "execution_count": null,
   "id": "6bdeaf9d",
   "metadata": {},
   "outputs": [],
   "source": [
    "np.exp(b) # Exponentiation"
   ]
  },
  {
   "cell_type": "code",
   "execution_count": null,
   "id": "6d98f890",
   "metadata": {},
   "outputs": [],
   "source": [
    "np.sqrt(b) # Square root"
   ]
  },
  {
   "cell_type": "code",
   "execution_count": null,
   "id": "08a292cf",
   "metadata": {},
   "outputs": [],
   "source": [
    "np.sin(a) # Sines of an array"
   ]
  },
  {
   "cell_type": "code",
   "execution_count": null,
   "id": "ce234ca2",
   "metadata": {},
   "outputs": [],
   "source": [
    "np.cos(b) # Element-wise cosine"
   ]
  },
  {
   "cell_type": "code",
   "execution_count": null,
   "id": "cb4b9c0f",
   "metadata": {},
   "outputs": [],
   "source": [
    "np.log(a) # Element-wise natural logarithm"
   ]
  },
  {
   "cell_type": "code",
   "execution_count": null,
   "id": "25bd5cf6",
   "metadata": {},
   "outputs": [],
   "source": [
    "a.dot(b) # Dot product"
   ]
  },
  {
   "cell_type": "markdown",
   "id": "7180b030",
   "metadata": {},
   "source": [
    "### Comparison\n",
    "\n",
    "### Aggregate functions"
   ]
  },
  {
   "cell_type": "code",
   "execution_count": null,
   "id": "a1a2dba6",
   "metadata": {},
   "outputs": [],
   "source": [
    "a.sum() # Array-wise sum"
   ]
  },
  {
   "cell_type": "code",
   "execution_count": null,
   "id": "238b95b2",
   "metadata": {},
   "outputs": [],
   "source": [
    "# a.min() # Array-wise minimum value"
   ]
  },
  {
   "cell_type": "code",
   "execution_count": null,
   "id": "96e03eba",
   "metadata": {},
   "outputs": [],
   "source": [
    "c = np.array(([[1,2,3], [2,3,4]]))\n",
    "# c.max(axis=0) # Maximum value of an array row"
   ]
  },
  {
   "cell_type": "code",
   "execution_count": null,
   "id": "202066ec",
   "metadata": {},
   "outputs": [],
   "source": [
    "# c.cumsum(axis=1) # Cumulative sum of the elements"
   ]
  },
  {
   "cell_type": "code",
   "execution_count": null,
   "id": "c334882a",
   "metadata": {},
   "outputs": [],
   "source": [
    "a.mean() # Mean"
   ]
  },
  {
   "cell_type": "code",
   "execution_count": null,
   "id": "b90ce891",
   "metadata": {},
   "outputs": [],
   "source": [
    "# b.median() # Median"
   ]
  },
  {
   "cell_type": "code",
   "execution_count": null,
   "id": "c2489c6e",
   "metadata": {},
   "outputs": [],
   "source": [
    "# a.corrcoef() # Correlation coefficient"
   ]
  },
  {
   "cell_type": "code",
   "execution_count": null,
   "id": "434874b1",
   "metadata": {},
   "outputs": [],
   "source": [
    "# np.std(b) # Standard deviation"
   ]
  },
  {
   "cell_type": "markdown",
   "id": "397596b8",
   "metadata": {},
   "source": [
    "## Copying arrays"
   ]
  },
  {
   "cell_type": "code",
   "execution_count": null,
   "id": "158c057b",
   "metadata": {},
   "outputs": [],
   "source": [
    "# a.view() # Create a view of the array with the same data"
   ]
  },
  {
   "cell_type": "code",
   "execution_count": null,
   "id": "3bec07ff",
   "metadata": {},
   "outputs": [],
   "source": [
    "np.copy(a) # Create a copy of the array"
   ]
  },
  {
   "cell_type": "code",
   "execution_count": null,
   "id": "7a315ca1",
   "metadata": {},
   "outputs": [],
   "source": [
    "a.copy() # Create a deep copy of the array"
   ]
  },
  {
   "cell_type": "markdown",
   "id": "a60e332b",
   "metadata": {},
   "source": [
    "## Sorting Arrays"
   ]
  },
  {
   "cell_type": "code",
   "execution_count": null,
   "id": "07088795",
   "metadata": {},
   "outputs": [],
   "source": [
    "# a.sort() # Sort an array"
   ]
  },
  {
   "cell_type": "code",
   "execution_count": null,
   "id": "e2e98733",
   "metadata": {},
   "outputs": [],
   "source": [
    "# c.sort(axis=0) # Sort the elements of an array's axis"
   ]
  },
  {
   "cell_type": "markdown",
   "id": "7642b46d",
   "metadata": {},
   "source": [
    "## Subsetting, slicing, indexing\n",
    "\n",
    "### Subsetting"
   ]
  },
  {
   "cell_type": "code",
   "execution_count": null,
   "id": "ae9ee29d",
   "metadata": {},
   "outputs": [],
   "source": [
    "a[2] # Select the element at the 2nd index 3"
   ]
  },
  {
   "cell_type": "code",
   "execution_count": null,
   "id": "e801f289",
   "metadata": {},
   "outputs": [],
   "source": [
    "c[0,1] # Select the element at row 1 column 2"
   ]
  },
  {
   "cell_type": "markdown",
   "id": "6cb154f9",
   "metadata": {},
   "source": [
    "### Slicing"
   ]
  },
  {
   "cell_type": "code",
   "execution_count": null,
   "id": "8bf6830e",
   "metadata": {},
   "outputs": [],
   "source": [
    "a[0:2] # Select items at index 0 and 1"
   ]
  },
  {
   "cell_type": "code",
   "execution_count": null,
   "id": "951cce02",
   "metadata": {},
   "outputs": [],
   "source": [
    "c[0:2,1] # Select items at rows 0 and 1 in column 1"
   ]
  },
  {
   "cell_type": "code",
   "execution_count": null,
   "id": "d9b91e08",
   "metadata": {},
   "outputs": [],
   "source": [
    "c[:1] # Select all items at row 0"
   ]
  },
  {
   "cell_type": "code",
   "execution_count": null,
   "id": "0826e05e",
   "metadata": {},
   "outputs": [],
   "source": [
    "# c[1,...] # Same as [1,:,:]"
   ]
  },
  {
   "cell_type": "code",
   "execution_count": null,
   "id": "aa8e5600",
   "metadata": {},
   "outputs": [],
   "source": [
    "a[ : :-1] #Reversed array a array([3, 2, 1])"
   ]
  },
  {
   "cell_type": "markdown",
   "id": "f1aeaa90",
   "metadata": {},
   "source": [
    "### Boolean Indexing"
   ]
  },
  {
   "cell_type": "code",
   "execution_count": null,
   "id": "2a4437b0",
   "metadata": {},
   "outputs": [],
   "source": [
    "# a[a<2] # Select elements from a less than 2"
   ]
  },
  {
   "cell_type": "markdown",
   "id": "a3cfc477",
   "metadata": {},
   "source": [
    "### Fancy indexing"
   ]
  },
  {
   "cell_type": "code",
   "execution_count": null,
   "id": "837395a4",
   "metadata": {},
   "outputs": [],
   "source": [
    "c[[1,0,1,0], [0,1,2,0]] # Select elements (1,0),(0,1),(1,2) and (0,0)"
   ]
  },
  {
   "cell_type": "code",
   "execution_count": null,
   "id": "581c1f0d",
   "metadata": {},
   "outputs": [],
   "source": [
    "c[[1,0,1,0]][:,[0,1,2,0]] # Select a subset of the matrix’s rows"
   ]
  },
  {
   "cell_type": "markdown",
   "id": "003a76ac",
   "metadata": {},
   "source": [
    "## Array manipulation\n",
    "\n",
    "### Transposing array"
   ]
  },
  {
   "cell_type": "code",
   "execution_count": null,
   "id": "e732fa31",
   "metadata": {},
   "outputs": [],
   "source": [
    "np.transpose(c) # Permute array dimensions"
   ]
  },
  {
   "cell_type": "code",
   "execution_count": null,
   "id": "751affbe",
   "metadata": {},
   "outputs": [],
   "source": [
    "c.T # Permute array dimensions"
   ]
  },
  {
   "cell_type": "markdown",
   "id": "15c853d4",
   "metadata": {},
   "source": [
    "### Changing array shape"
   ]
  },
  {
   "cell_type": "code",
   "execution_count": null,
   "id": "3d989e50",
   "metadata": {},
   "outputs": [],
   "source": [
    "# b.ravel() # Flatten the array"
   ]
  },
  {
   "cell_type": "code",
   "execution_count": null,
   "id": "eb949342",
   "metadata": {},
   "outputs": [],
   "source": [
    "# c.reshape(3,-2) # Reshape, but don’t change data"
   ]
  },
  {
   "cell_type": "markdown",
   "id": "820035f6",
   "metadata": {},
   "source": [
    "### Adding and removing elements"
   ]
  },
  {
   "cell_type": "code",
   "execution_count": null,
   "id": "a268f9f4",
   "metadata": {},
   "outputs": [],
   "source": [
    "# c.resize((6,2)) # Return a new array with shape (6, 2)"
   ]
  },
  {
   "cell_type": "code",
   "execution_count": null,
   "id": "db8040ef",
   "metadata": {},
   "outputs": [],
   "source": [
    "# np.append(h,g) # Append items to an array"
   ]
  },
  {
   "cell_type": "code",
   "execution_count": null,
   "id": "ce4698dd",
   "metadata": {},
   "outputs": [],
   "source": [
    "# np.insert(a, 1, 5) # Insert items in an array"
   ]
  },
  {
   "cell_type": "code",
   "execution_count": null,
   "id": "de49ce3a",
   "metadata": {},
   "outputs": [],
   "source": [
    "# np.delete(a, [1]) # Delete items from an array"
   ]
  },
  {
   "cell_type": "markdown",
   "id": "d6905f06",
   "metadata": {},
   "source": [
    "### Combining arrays"
   ]
  },
  {
   "cell_type": "code",
   "execution_count": null,
   "id": "adbf7367",
   "metadata": {},
   "outputs": [],
   "source": [
    "np.concatenate((a,b),axis=0) # Concatenate arrays"
   ]
  },
  {
   "cell_type": "code",
   "execution_count": null,
   "id": "23282b1b",
   "metadata": {},
   "outputs": [],
   "source": [
    "# np.vstack((a,b)) # Stack arrays vertically (row-wise)"
   ]
  },
  {
   "cell_type": "code",
   "execution_count": null,
   "id": "8683d312",
   "metadata": {},
   "outputs": [],
   "source": [
    "# np.r_[e,f] # Stack arrays vertically (row-wise)"
   ]
  },
  {
   "cell_type": "code",
   "execution_count": null,
   "id": "c2e4da9c",
   "metadata": {},
   "outputs": [],
   "source": [
    "# np.hstack((e,f)) # Stack arrays horizontally (column-wise)"
   ]
  },
  {
   "cell_type": "code",
   "execution_count": null,
   "id": "dfc92dcc",
   "metadata": {},
   "outputs": [],
   "source": [
    "# np.column_stack((a,d)) # Create stacked column-wise arrays"
   ]
  },
  {
   "cell_type": "code",
   "execution_count": null,
   "id": "019aadff",
   "metadata": {},
   "outputs": [],
   "source": [
    "# np.c_[a,d] # Create stacked column-wise arrays"
   ]
  },
  {
   "cell_type": "markdown",
   "id": "1a17806c",
   "metadata": {},
   "source": [
    "### Splitting arrays"
   ]
  },
  {
   "cell_type": "code",
   "execution_count": null,
   "id": "ce9fe898",
   "metadata": {},
   "outputs": [],
   "source": [
    "# np.hsplit(a,3) # Split the array horizontally at the 3rd index"
   ]
  },
  {
   "cell_type": "code",
   "execution_count": null,
   "id": "5453b16a",
   "metadata": {},
   "outputs": [],
   "source": [
    "# np.vsplit(c,2) # Split the array vertically at the 2nd index"
   ]
  },
  {
   "cell_type": "markdown",
   "id": "aa668424",
   "metadata": {},
   "source": [
    "## Use GPUs\n",
    "\n",
    "Prerequisites: A GPU exists and GPU-enabled MXNet is installed."
   ]
  },
  {
   "cell_type": "code",
   "execution_count": null,
   "id": "ed216043",
   "metadata": {},
   "outputs": [],
   "source": [
    "npx.num_gpus()  # Query number of GPUs"
   ]
  },
  {
   "cell_type": "code",
   "execution_count": null,
   "id": "9625682b",
   "metadata": {},
   "outputs": [],
   "source": [
    "npx.gpu(0), npx.gpu(1)  # Context for the first and second GPUs"
   ]
  },
  {
   "cell_type": "code",
   "execution_count": null,
   "id": "028b133d",
   "metadata": {},
   "outputs": [],
   "source": [
    "gpu_0 = npx.gpu(0) if npx.num_gpus() > 1 else npx.cpu()\n",
    "g0 = np.zeros((2,3), ctx=gpu_0)  # Create array on GPU 0\n",
    "g0"
   ]
  },
  {
   "cell_type": "code",
   "execution_count": null,
   "id": "c65532af",
   "metadata": {},
   "outputs": [],
   "source": [
    "gpu_1 = npx.gpu(1) if npx.num_gpus() > 2 else npx.cpu()\n",
    "g1 = np.random.uniform(size=(2,3), ctx=gpu_1)  # Create array on GPU 1\n",
    "g1"
   ]
  },
  {
   "cell_type": "code",
   "execution_count": null,
   "id": "7c361aae",
   "metadata": {},
   "outputs": [],
   "source": [
    "# Copy to another GPU\n",
    "g1.copyto(gpu_0)"
   ]
  },
  {
   "cell_type": "code",
   "execution_count": null,
   "id": "cc744ec5",
   "metadata": {},
   "outputs": [],
   "source": [
    "# Return itself if matching the context, otherwise copy\n",
    "g1.copyto(gpu_0), g1.copyto(gpu_0)"
   ]
  },
  {
   "cell_type": "code",
   "execution_count": null,
   "id": "90aca983",
   "metadata": {},
   "outputs": [],
   "source": [
    "g1.context  # Query the device an array is on"
   ]
  },
  {
   "cell_type": "code",
   "execution_count": null,
   "id": "1e1ecfb3",
   "metadata": {},
   "outputs": [],
   "source": [
    "## The computation is performed by the devices on which the input arrays are\n",
    "g0 + g1.copyto(gpu_0)"
   ]
  },
  {
   "cell_type": "markdown",
   "id": "58d8e619",
   "metadata": {},
   "source": [
    "## Auto differentiation"
   ]
  },
  {
   "cell_type": "code",
   "execution_count": null,
   "id": "1ac423b7",
   "metadata": {},
   "outputs": [],
   "source": [
    "a.attach_grad() # Allocate gradient for a variable\n",
    "a.grad # access the gradient"
   ]
  },
  {
   "cell_type": "markdown",
   "id": "cab11c9a",
   "metadata": {},
   "source": [
    "Compute the $\\nabla_a b=\\exp(2a)^T a$"
   ]
  },
  {
   "cell_type": "code",
   "execution_count": null,
   "id": "d0f4fbb9",
   "metadata": {},
   "outputs": [],
   "source": [
    "from mxnet import autograd\n",
    "\n",
    "with autograd.record():\n",
    "    b = np.exp(2*a).dot(a)\n",
    "b.backward()\n",
    "a.grad"
   ]
  },
  {
   "cell_type": "markdown",
   "id": "c0a0f0cb",
   "metadata": {},
   "source": [
    "**Acknowledgement**\n",
    "\n",
    "Adapted from www.datacamp.com."
   ]
  }
 ],
 "metadata": {
  "language_info": {
   "name": "python"
  }
 },
 "nbformat": 4,
 "nbformat_minor": 5
}