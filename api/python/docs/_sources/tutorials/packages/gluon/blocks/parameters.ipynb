{
 "cells": [
  {
   "cell_type": "markdown",
   "id": "fbe11c8f",
   "metadata": {},
   "source": [
    "<!--- Licensed to the Apache Software Foundation (ASF) under one -->\n",
    "<!--- or more contributor license agreements.  See the NOTICE file -->\n",
    "<!--- distributed with this work for additional information -->\n",
    "<!--- regarding copyright ownership.  The ASF licenses this file -->\n",
    "<!--- to you under the Apache License, Version 2.0 (the -->\n",
    "<!--- \"License\"); you may not use this file except in compliance -->\n",
    "<!--- with the License.  You may obtain a copy of the License at -->\n",
    "\n",
    "<!---   http://www.apache.org/licenses/LICENSE-2.0 -->\n",
    "\n",
    "<!--- Unless required by applicable law or agreed to in writing, -->\n",
    "<!--- software distributed under the License is distributed on an -->\n",
    "<!--- \"AS IS\" BASIS, WITHOUT WARRANTIES OR CONDITIONS OF ANY -->\n",
    "<!--- KIND, either express or implied.  See the License for the -->\n",
    "<!--- specific language governing permissions and limitations -->\n",
    "<!--- under the License. -->\n",
    "\n",
    "# Parameter Management\n",
    "\n",
    "The ultimate goal of training deep neural networks is finding good parameter values for a given architecture. The [nn.Sequential](../../../../api/gluon/nn/index.rst#mxnet.gluon.nn.Sequential) class is a perfect tool to work with standard models. However, very few models are entirely standard, and most scientists want to build novel things, which requires working with model parameters.\n",
    "\n",
    "This section shows how to manipulate parameters. In particular we will cover the following aspects:\n",
    "\n",
    "* How to access parameters in order to debug, diagnose, visualize or save them. It is the first step to understand how to work with custom models.\n",
    "* We will learn how to set parameters to specific values, e.g. how to initialize them. We will discuss the structure of parameter initializers.\n",
    "* We will show how this knowledge can be used to build networks that share some parameters.\n",
    "\n",
    "As always, we start with a Multilayer Perceptron with a single hidden layer. We will use it to demonstrate the aspects mentioned above."
   ]
  },
  {
   "cell_type": "code",
   "execution_count": 1,
   "id": "ca41fd14",
   "metadata": {
    "attributes": {
     "classes": [],
     "id": "",
     "n": "1"
    }
   },
   "outputs": [
    {
     "name": "stderr",
     "output_type": "stream",
     "text": [
      "[10:51:21] /work/mxnet/src/storage/storage.cc:202: Using Pooled (Naive) StorageManager for CPU\n"
     ]
    },
    {
     "data": {
      "text/plain": [
       "array([[ 0.06240272, -0.03268593,  0.02582653,  0.02254182, -0.03728798,\n",
       "        -0.04253786,  0.00540613, -0.01364186, -0.09915452, -0.02272738],\n",
       "       [ 0.02816677, -0.03341204,  0.03565666,  0.02506382, -0.04136416,\n",
       "        -0.04941845,  0.01738528,  0.01081961, -0.09932579, -0.01176298]])"
      ]
     },
     "execution_count": 1,
     "metadata": {},
     "output_type": "execute_result"
    }
   ],
   "source": [
    "from mxnet import init, np\n",
    "from mxnet.gluon import nn\n",
    "\n",
    "\n",
    "net = nn.Sequential()\n",
    "net.add(nn.Dense(256, activation='relu'))\n",
    "net.add(nn.Dense(10))\n",
    "net.initialize()  # Use the default initialization method\n",
    "\n",
    "x = np.random.uniform(size=(2, 20))\n",
    "net(x)            # Forward computation"
   ]
  },
  {
   "cell_type": "markdown",
   "id": "6e69e260",
   "metadata": {},
   "source": [
    "## Parameter Access\n",
    "\n",
    "In case of a Sequential class we can access the parameters simply by indexing each layer of the network. The `params` variable contains the required data. Let's try this out in practice by inspecting the parameters of the first layer."
   ]
  },
  {
   "cell_type": "code",
   "execution_count": 2,
   "id": "1ebfbe57",
   "metadata": {
    "attributes": {
     "classes": [],
     "id": "",
     "n": "2"
    }
   },
   "outputs": [
    {
     "name": "stdout",
     "output_type": "stream",
     "text": [
      "{'0.weight': Parameter (shape=(256, 20), dtype=float32), '0.bias': Parameter (shape=(256,), dtype=float32), '1.weight': Parameter (shape=(10, 256), dtype=float32), '1.bias': Parameter (shape=(10,), dtype=float32)}\n"
     ]
    }
   ],
   "source": [
    "print(net.collect_params())"
   ]
  },
  {
   "cell_type": "markdown",
   "id": "34169d27",
   "metadata": {},
   "source": [
    "From the output we can see that the layer consists of two sets of parameters: `0.weight` and `0.bias`. They are both single precision and they have the necessary shapes that we would expect from the first layer, given that the input dimension is 20 and the output dimension 256. The names of the parameters are very useful, because they allow us to identify parameters *uniquely* even in a network of hundreds of layers and with nontrivial structure. The second layer is structured in a similar way.\n",
    "\n",
    "### Targeted Parameters\n",
    "\n",
    "In order to do something useful with the parameters we need to access them. There are several ways to do this, ranging from simple to general. Let's look at some of them."
   ]
  },
  {
   "cell_type": "code",
   "execution_count": 3,
   "id": "f6742fec",
   "metadata": {
    "attributes": {
     "classes": [],
     "id": "",
     "n": "3"
    }
   },
   "outputs": [
    {
     "name": "stdout",
     "output_type": "stream",
     "text": [
      "Parameter (shape=(10,), dtype=float32)\n",
      "[0. 0. 0. 0. 0. 0. 0. 0. 0. 0.]\n"
     ]
    }
   ],
   "source": [
    "print(net[1].bias)\n",
    "print(net[1].bias.data())"
   ]
  },
  {
   "cell_type": "markdown",
   "id": "806526e3",
   "metadata": {},
   "source": [
    "The first line returns the bias of the second layer. Since this is an object containing data, gradients, and additional information, we need to request the data explicitly. To request the data, we call `data` method on the parameter on the second line. Note that the bias is all 0 since we initialized the bias to contain all zeros.\n",
    "\n",
    "We can also access the parameter by name, such as `0.weight`. This is possible since each layer comes with its own parameter dictionary that can be accessed directly. Both methods are entirely equivalent, but the first method leads to more readable code."
   ]
  },
  {
   "cell_type": "code",
   "execution_count": 4,
   "id": "4a510425",
   "metadata": {
    "attributes": {
     "classes": [],
     "id": "",
     "n": "4"
    }
   },
   "outputs": [
    {
     "name": "stdout",
     "output_type": "stream",
     "text": [
      "Parameter (shape=(256, 20), dtype=float32)\n",
      "[[ 0.06700657 -0.00369488  0.0418822  ... -0.05517294 -0.01194733\n",
      "  -0.00369594]\n",
      " [-0.03296221 -0.04391347  0.03839272 ...  0.05636378  0.02545484\n",
      "  -0.007007  ]\n",
      " [-0.0196689   0.01582889 -0.00881553 ...  0.01509629 -0.01908049\n",
      "  -0.02449339]\n",
      " ...\n",
      " [-0.02055008 -0.02618652  0.06762936 ... -0.02315108 -0.06794678\n",
      "  -0.04618235]\n",
      " [ 0.02802853  0.06672969  0.05018687 ... -0.02206502 -0.01315478\n",
      "  -0.03791244]\n",
      " [-0.00638592  0.00914261  0.06667828 ... -0.00800052  0.03406764\n",
      "  -0.03954004]]\n"
     ]
    }
   ],
   "source": [
    "print(net[0].params['weight'])\n",
    "print(net[0].params['weight'].data())"
   ]
  },
  {
   "cell_type": "markdown",
   "id": "56fa37b6",
   "metadata": {},
   "source": [
    "Note that the weights are nonzero as they were randomly initialized when we constructed the network.\n",
    "\n",
    "[data](../../../../api/gluon/parameter.rst#mxnet.gluon.Parameter.data) is not the only method that we can invoke. For instance, we can compute the gradient with respect to the parameters. It has the same shape as the weight. However, since we did not invoke backpropagation yet, the values are all 0."
   ]
  },
  {
   "cell_type": "code",
   "execution_count": 5,
   "id": "3f4aec1c",
   "metadata": {
    "attributes": {
     "classes": [],
     "id": "",
     "n": "5"
    }
   },
   "outputs": [
    {
     "data": {
      "text/plain": [
       "array([[0., 0., 0., ..., 0., 0., 0.],\n",
       "       [0., 0., 0., ..., 0., 0., 0.],\n",
       "       [0., 0., 0., ..., 0., 0., 0.],\n",
       "       ...,\n",
       "       [0., 0., 0., ..., 0., 0., 0.],\n",
       "       [0., 0., 0., ..., 0., 0., 0.],\n",
       "       [0., 0., 0., ..., 0., 0., 0.]])"
      ]
     },
     "execution_count": 5,
     "metadata": {},
     "output_type": "execute_result"
    }
   ],
   "source": [
    "net[0].weight.grad()"
   ]
  },
  {
   "cell_type": "markdown",
   "id": "60f4a62e",
   "metadata": {},
   "source": [
    "### All Parameters at Once\n",
    "\n",
    "Accessing parameters as described above can be a bit tedious, in particular if we have more complex blocks, or blocks of blocks (or even blocks of blocks of blocks), since we need to walk through the entire tree in reverse order to learn how the blocks were constructed. To avoid this, blocks come with a method [collect_params](../../../../api/gluon/block.rst#mxnet.gluon.Block.collect_params) which grabs all parameters of a network in one dictionary such that we can traverse it with ease. It does so by iterating over all constituents of a block and calls `collect_params` on sub-blocks as needed. To see the difference, consider the following:"
   ]
  },
  {
   "cell_type": "code",
   "execution_count": 6,
   "id": "1902a0b1",
   "metadata": {
    "attributes": {
     "classes": [],
     "id": "",
     "n": "6"
    }
   },
   "outputs": [
    {
     "name": "stdout",
     "output_type": "stream",
     "text": [
      "{'weight': Parameter (shape=(256, 20), dtype=float32), 'bias': Parameter (shape=(256,), dtype=float32)}\n",
      "{'0.weight': Parameter (shape=(256, 20), dtype=float32), '0.bias': Parameter (shape=(256,), dtype=float32), '1.weight': Parameter (shape=(10, 256), dtype=float32), '1.bias': Parameter (shape=(10,), dtype=float32)}\n"
     ]
    }
   ],
   "source": [
    "# Parameters only for the first layer\n",
    "print(net[0].collect_params())\n",
    "# Parameters of the entire network\n",
    "print(net.collect_params())"
   ]
  },
  {
   "cell_type": "markdown",
   "id": "857c4212",
   "metadata": {},
   "source": [
    "This provides us with the third way of accessing the parameters of the network. If we want to get the value of the bias term of the second layer we could simply use this:"
   ]
  },
  {
   "cell_type": "code",
   "execution_count": 7,
   "id": "1d54cd3b",
   "metadata": {
    "attributes": {
     "classes": [],
     "id": "",
     "n": "7"
    }
   },
   "outputs": [
    {
     "data": {
      "text/plain": [
       "array([0., 0., 0., 0., 0., 0., 0., 0., 0., 0.])"
      ]
     },
     "execution_count": 7,
     "metadata": {},
     "output_type": "execute_result"
    }
   ],
   "source": [
    "net.collect_params()['1.bias'].data()"
   ]
  },
  {
   "cell_type": "markdown",
   "id": "d9cef529",
   "metadata": {},
   "source": [
    "By adding a regular expression as an argument to `collect_params` method, we can select only a particular set of parameters whose names are matched by the regular expression."
   ]
  },
  {
   "cell_type": "code",
   "execution_count": 8,
   "id": "8d14951f",
   "metadata": {
    "attributes": {
     "classes": [],
     "id": "",
     "n": "8"
    }
   },
   "outputs": [
    {
     "name": "stdout",
     "output_type": "stream",
     "text": [
      "{'0.weight': Parameter (shape=(256, 20), dtype=float32), '1.weight': Parameter (shape=(10, 256), dtype=float32)}\n",
      "{'0.weight': Parameter (shape=(256, 20), dtype=float32), '0.bias': Parameter (shape=(256,), dtype=float32)}\n"
     ]
    }
   ],
   "source": [
    "print(net.collect_params('.*weight'))\n",
    "print(net.collect_params('0.*'))"
   ]
  },
  {
   "cell_type": "markdown",
   "id": "9bfa115d",
   "metadata": {},
   "source": [
    "### Rube Goldberg strikes again\n",
    "\n",
    "Let's see how the parameter naming conventions work if we nest multiple blocks inside each other. For that we first define a function that produces blocks (a block factory, so to speak) and then we combine these inside yet larger blocks."
   ]
  },
  {
   "cell_type": "code",
   "execution_count": 9,
   "id": "83ad6250",
   "metadata": {
    "attributes": {
     "classes": [],
     "id": "",
     "n": "20"
    }
   },
   "outputs": [
    {
     "data": {
      "text/plain": [
       "array([[-4.1923025e-09,  1.9830502e-09,  8.9444063e-10,  6.2912990e-09,\n",
       "        -3.3241778e-09,  5.4330038e-09,  1.6013515e-09, -3.7408681e-09,\n",
       "         8.5468477e-09, -6.4805539e-09],\n",
       "       [-3.7507064e-09,  1.4866974e-09,  6.8314709e-10,  5.6925784e-09,\n",
       "        -2.6349172e-09,  4.8626667e-09,  1.4280275e-09, -3.4603027e-09,\n",
       "         7.4127922e-09, -5.7896132e-09]])"
      ]
     },
     "execution_count": 9,
     "metadata": {},
     "output_type": "execute_result"
    }
   ],
   "source": [
    "def block1():\n",
    "    net = nn.Sequential()\n",
    "    net.add(nn.Dense(32, activation='relu'))\n",
    "    net.add(nn.Dense(16, activation='relu'))\n",
    "    return net\n",
    "\n",
    "def block2():\n",
    "    net = nn.Sequential()\n",
    "    for i in range(4):\n",
    "        net.add(block1())\n",
    "    return net\n",
    "\n",
    "rgnet = nn.Sequential()\n",
    "rgnet.add(block2())\n",
    "rgnet.add(nn.Dense(10))\n",
    "rgnet.initialize()\n",
    "rgnet(x)"
   ]
  },
  {
   "cell_type": "markdown",
   "id": "7d6470ef",
   "metadata": {},
   "source": [
    "Now that we are done designing the network, let's see how it is organized. `collect_params` provides us with this information, both in terms of naming and in terms of logical structure."
   ]
  },
  {
   "cell_type": "code",
   "execution_count": 10,
   "id": "ecb04c4b",
   "metadata": {},
   "outputs": [
    {
     "name": "stdout",
     "output_type": "stream",
     "text": [
      "<bound method Block.collect_params of Sequential(\n",
      "  (0): Sequential(\n",
      "    (0): Sequential(\n",
      "      (0): Dense(20 -> 32, Activation(relu))\n",
      "      (1): Dense(32 -> 16, Activation(relu))\n",
      "    )\n",
      "    (1): Sequential(\n",
      "      (0): Dense(16 -> 32, Activation(relu))\n",
      "      (1): Dense(32 -> 16, Activation(relu))\n",
      "    )\n",
      "    (2): Sequential(\n",
      "      (0): Dense(16 -> 32, Activation(relu))\n",
      "      (1): Dense(32 -> 16, Activation(relu))\n",
      "    )\n",
      "    (3): Sequential(\n",
      "      (0): Dense(16 -> 32, Activation(relu))\n",
      "      (1): Dense(32 -> 16, Activation(relu))\n",
      "    )\n",
      "  )\n",
      "  (1): Dense(16 -> 10, linear)\n",
      ")>\n",
      "{'0.0.0.weight': Parameter (shape=(32, 20), dtype=float32), '0.0.0.bias': Parameter (shape=(32,), dtype=float32), '0.0.1.weight': Parameter (shape=(16, 32), dtype=float32), '0.0.1.bias': Parameter (shape=(16,), dtype=float32), '0.1.0.weight': Parameter (shape=(32, 16), dtype=float32), '0.1.0.bias': Parameter (shape=(32,), dtype=float32), '0.1.1.weight': Parameter (shape=(16, 32), dtype=float32), '0.1.1.bias': Parameter (shape=(16,), dtype=float32), '0.2.0.weight': Parameter (shape=(32, 16), dtype=float32), '0.2.0.bias': Parameter (shape=(32,), dtype=float32), '0.2.1.weight': Parameter (shape=(16, 32), dtype=float32), '0.2.1.bias': Parameter (shape=(16,), dtype=float32), '0.3.0.weight': Parameter (shape=(32, 16), dtype=float32), '0.3.0.bias': Parameter (shape=(32,), dtype=float32), '0.3.1.weight': Parameter (shape=(16, 32), dtype=float32), '0.3.1.bias': Parameter (shape=(16,), dtype=float32), '1.weight': Parameter (shape=(10, 16), dtype=float32), '1.bias': Parameter (shape=(10,), dtype=float32)}\n"
     ]
    }
   ],
   "source": [
    "print(rgnet.collect_params)\n",
    "print(rgnet.collect_params())"
   ]
  },
  {
   "cell_type": "markdown",
   "id": "178a2968",
   "metadata": {},
   "source": [
    "We can access layers following the hierarchy in which they are structured. For instance, if we want to access the bias of the first layer of the second subblock of the first major block, we could perform the following:"
   ]
  },
  {
   "cell_type": "code",
   "execution_count": 11,
   "id": "1abbaae7",
   "metadata": {},
   "outputs": [
    {
     "data": {
      "text/plain": [
       "array([0., 0., 0., 0., 0., 0., 0., 0., 0., 0., 0., 0., 0., 0., 0., 0., 0.,\n",
       "       0., 0., 0., 0., 0., 0., 0., 0., 0., 0., 0., 0., 0., 0., 0.])"
      ]
     },
     "execution_count": 11,
     "metadata": {},
     "output_type": "execute_result"
    }
   ],
   "source": [
    "rgnet[0][1][0].bias.data()"
   ]
  },
  {
   "cell_type": "markdown",
   "id": "caf1aab4",
   "metadata": {},
   "source": [
    "### Saving and loading parameters\n",
    "\n",
    "In order to save parameters, we can use [save_parameters](../../../../api/gluon/block.rst#mxnet.gluon.Block.save_parameters) method on the whole network or a particular subblock. The only parameter that is needed is the `file_name`. In a similar way, we can load parameters back from the file. We use [load_parameters](../../../../api/gluon/block.rst#mxnet.gluon.Block.load_parameters) method for that:"
   ]
  },
  {
   "cell_type": "code",
   "execution_count": 12,
   "id": "d95d7485",
   "metadata": {},
   "outputs": [],
   "source": [
    "rgnet.save_parameters('model.params')\n",
    "rgnet.load_parameters('model.params')"
   ]
  },
  {
   "cell_type": "markdown",
   "id": "820b61ae",
   "metadata": {},
   "source": [
    "## Parameter Initialization\n",
    "\n",
    "Now that we know how to access the parameters, let's look at how to initialize them properly. By default, MXNet initializes the weight matrices uniformly by drawing from $U[-0.07, 0.07]$ and the bias parameters are all set to $0$. However, we often need to use other methods to initialize the weights. MXNet's [init](../../../../api/initializer/index.rst) module provides a variety of preset initialization methods, but if we want something unusual, we need to do a bit of extra work.\n",
    "\n",
    "### Built-in Initialization\n",
    "\n",
    "Let's begin with the built-in initializers. The code below initializes all parameters with Gaussian random variables."
   ]
  },
  {
   "cell_type": "code",
   "execution_count": 13,
   "id": "e0ff57d6",
   "metadata": {
    "attributes": {
     "classes": [],
     "id": "",
     "n": "9"
    }
   },
   "outputs": [
    {
     "data": {
      "text/plain": [
       "array([-9.8788980e-03,  5.3957910e-03, -7.0842835e-03, -7.4317548e-03,\n",
       "       -1.4880488e-02,  6.4959102e-03, -8.2659349e-03,  1.8743129e-02,\n",
       "        1.6201857e-02,  1.4534278e-03,  2.2331164e-03,  1.5926110e-02,\n",
       "       -1.2915777e-02, -8.8592555e-05, -1.7293986e-03, -7.2338698e-03,\n",
       "        8.7698260e-03, -4.9947016e-03, -9.6906107e-03,  2.0079101e-03])"
      ]
     },
     "execution_count": 13,
     "metadata": {},
     "output_type": "execute_result"
    }
   ],
   "source": [
    "# force_reinit ensures that the variables are initialized again,\n",
    "# regardless of whether they were already initialized previously\n",
    "net.initialize(init=init.Normal(sigma=0.01), force_reinit=True)\n",
    "net[0].weight.data()[0]"
   ]
  },
  {
   "cell_type": "markdown",
   "id": "21b36cb5",
   "metadata": {},
   "source": [
    "If we wanted to initialize all parameters to 1, we could do this simply by changing the initializer to [Constant(1)](../../../../api/initializer/index.rst#mxnet.initializer.Constant)."
   ]
  },
  {
   "cell_type": "code",
   "execution_count": 14,
   "id": "6f2140a4",
   "metadata": {
    "attributes": {
     "classes": [],
     "id": "",
     "n": "10"
    }
   },
   "outputs": [
    {
     "data": {
      "text/plain": [
       "array([1., 1., 1., 1., 1., 1., 1., 1., 1., 1., 1., 1., 1., 1., 1., 1., 1.,\n",
       "       1., 1., 1.])"
      ]
     },
     "execution_count": 14,
     "metadata": {},
     "output_type": "execute_result"
    }
   ],
   "source": [
    "net.initialize(init=init.Constant(1), force_reinit=True)\n",
    "net[0].weight.data()[0]"
   ]
  },
  {
   "cell_type": "markdown",
   "id": "973c4d06",
   "metadata": {},
   "source": [
    "If we want to initialize only a specific parameter in a different manner, we can simply set the initializer only for the appropriate subblock (or parameter) for that matter. For instance, below we initialize the second layer to a constant value of 42 and we use the [Xavier](../../../../api/initializer/index.rst#mxnet.initializer.Xavier) initializer for the weights of the first layer."
   ]
  },
  {
   "cell_type": "code",
   "execution_count": 15,
   "id": "fd759d92",
   "metadata": {
    "attributes": {
     "classes": [],
     "id": "",
     "n": "11"
    }
   },
   "outputs": [
    {
     "name": "stdout",
     "output_type": "stream",
     "text": [
      "42.0\n",
      "[-0.06319056 -0.10960881  0.11757872 -0.07595599 -0.0849717   0.0851637\n",
      "  0.08330765  0.04028694 -0.0305525   0.02012795 -0.03856885  0.1375024\n",
      "  0.10155623 -0.05016676 -0.02575382 -0.14205234  0.14225402  0.02719662\n",
      " -0.0888046  -0.00962897]\n"
     ]
    }
   ],
   "source": [
    "net[1].initialize(init=init.Constant(42), force_reinit=True)\n",
    "net[0].weight.initialize(init=init.Xavier(), force_reinit=True)\n",
    "print(net[1].weight.data()[0,0])\n",
    "print(net[0].weight.data()[0])"
   ]
  },
  {
   "cell_type": "markdown",
   "id": "3da9e901",
   "metadata": {},
   "source": [
    "### Custom Initialization\n",
    "\n",
    "Sometimes, the initialization methods we need are not provided in the `init` module. If this is the case, we can implement a subclass of the [Initializer](../../../../api/initializer/index.rst#mxnet.initializer.Initializer) class so that we can use it like any other initialization method. Usually, we only need to implement the `_init_weight` method and modify the incoming NDArray according to the initial result. In the example below, we pick a nontrivial distribution, just to prove the point. We draw the coefficients from the following distribution:\n",
    "\n",
    "$$\n",
    "\\begin{aligned}\n",
    "    w \\sim \\begin{cases}\n",
    "        U[5, 10] & \\text{ with probability } \\frac{1}{4} \\\\\n",
    "            0    & \\text{ with probability } \\frac{1}{2} \\\\\n",
    "        U[-10, -5] & \\text{ with probability } \\frac{1}{4}\n",
    "    \\end{cases}\n",
    "\\end{aligned}\n",
    "$$"
   ]
  },
  {
   "cell_type": "code",
   "execution_count": 16,
   "id": "7dff2223",
   "metadata": {
    "attributes": {
     "classes": [],
     "id": "",
     "n": "12"
    }
   },
   "outputs": [
    {
     "name": "stdout",
     "output_type": "stream",
     "text": [
      "Init weight (256, 20)\n",
      "Init weight (10, 256)\n"
     ]
    },
    {
     "data": {
      "text/plain": [
       "array([-5.172625 , -7.0209026,  5.1446533, -9.844563 ,  8.545956 ,\n",
       "       -0.       ,  0.       , -0.       ,  5.107664 ,  9.658335 ,\n",
       "        5.8564453,  7.4483128,  0.       ,  0.       , -0.       ,\n",
       "        7.9034443,  0.       ,  5.4223766,  8.5655575,  5.1224785])"
      ]
     },
     "execution_count": 16,
     "metadata": {},
     "output_type": "execute_result"
    }
   ],
   "source": [
    "class MyInit(init.Initializer):\n",
    "    def _init_weight(self, name, data):\n",
    "        print('Init', name, data.shape)\n",
    "        data[:] = np.random.uniform(low=-10, high=10, size=data.shape)\n",
    "        data *= np.abs(data) >= 5\n",
    "\n",
    "net.initialize(MyInit(), force_reinit=True)\n",
    "net[0].weight.data()[0]"
   ]
  },
  {
   "cell_type": "markdown",
   "id": "90ba941d",
   "metadata": {},
   "source": [
    "If even this functionality is insufficient, we can set parameters directly. Since `data()` returns an NDArray we can access it just like any other matrix. A note for advanced users - if you want to adjust parameters within an [autograd](../../../../api/autograd/index.rst) scope you need to use [set_data](../../../../api/gluon/parameter.rst#mxnet.gluon.Parameter.set_data) to avoid confusing the automatic differentiation mechanics."
   ]
  },
  {
   "cell_type": "code",
   "execution_count": 17,
   "id": "16f8df71",
   "metadata": {
    "attributes": {
     "classes": [],
     "id": "",
     "n": "13"
    }
   },
   "outputs": [
    {
     "data": {
      "text/plain": [
       "array([42.       , -6.0209026,  6.1446533, -8.844563 ,  9.545956 ,\n",
       "        1.       ,  1.       ,  1.       ,  6.107664 , 10.658335 ,\n",
       "        6.8564453,  8.448313 ,  1.       ,  1.       ,  1.       ,\n",
       "        8.903444 ,  1.       ,  6.4223766,  9.5655575,  6.1224785])"
      ]
     },
     "execution_count": 17,
     "metadata": {},
     "output_type": "execute_result"
    }
   ],
   "source": [
    "net[0].weight.data()[:] += 1\n",
    "net[0].weight.data()[0,0] = 42\n",
    "net[0].weight.data()[0]"
   ]
  },
  {
   "cell_type": "markdown",
   "id": "51f07912",
   "metadata": {},
   "source": [
    "## Tied Parameters\n",
    "\n",
    "In some cases, we want to share model parameters across multiple layers. For instance, when we want to find good word embeddings we may decide to use the same parameters both for encoding and decoding of words. In the code below, we allocate a dense layer and then use its parameters specifically to set those of another layer."
   ]
  },
  {
   "cell_type": "code",
   "execution_count": 18,
   "id": "224b0d06",
   "metadata": {
    "attributes": {
     "classes": [],
     "id": "",
     "n": "14"
    }
   },
   "outputs": [
    {
     "name": "stdout",
     "output_type": "stream",
     "text": [
      "[ True  True  True  True  True  True  True  True]\n",
      "[ True  True  True  True  True  True  True  True]\n"
     ]
    },
    {
     "name": "stderr",
     "output_type": "stream",
     "text": [
      "/work/mxnet/python/mxnet/gluon/block.py:574: UserWarning: Parameter 'bias' is already initialized, ignoring. Set force_reinit=True to re-initialize.\n",
      "  v.initialize(None, ctx, init, force_reinit=force_reinit)\n"
     ]
    }
   ],
   "source": [
    "net = nn.Sequential()\n",
    "# We need to give the shared layer a name such that we can reference\n",
    "# its parameters\n",
    "shared = nn.Dense(8, activation='relu')\n",
    "net.add(nn.Dense(8, activation='relu'),\n",
    "        shared,\n",
    "        nn.Dense(8, activation='relu').share_parameters(shared.params),\n",
    "        nn.Dense(10))\n",
    "net.initialize()\n",
    "\n",
    "x = np.random.uniform(size=(2, 20))\n",
    "net(x)\n",
    "\n",
    "# Check whether the parameters are the same\n",
    "print(net[1].weight.data()[0] == net[2].weight.data()[0])\n",
    "net[1].weight.data()[0,0] = 100\n",
    "# And make sure that they're actually the same object rather\n",
    "# than just having the same value\n",
    "print(net[1].weight.data()[0] == net[2].weight.data()[0])"
   ]
  },
  {
   "cell_type": "markdown",
   "id": "f1d29bc6",
   "metadata": {},
   "source": [
    "The above example shows that the parameters of the second and third layer are tied. They are identical rather than just being equal. That is, by changing one of the parameters the other one changes, too. What happens to the gradients is quite ingenious. Since the model parameters contain gradients, the gradients of the second hidden layer and the third hidden layer are accumulated in the [shared.params.grad()](../../../../api/gluon/parameter.rst#mxnet.gluon.Parameter.grad) during backpropagation."
   ]
  }
 ],
 "metadata": {
  "language_info": {
   "name": "python"
  }
 },
 "nbformat": 4,
 "nbformat_minor": 5
}