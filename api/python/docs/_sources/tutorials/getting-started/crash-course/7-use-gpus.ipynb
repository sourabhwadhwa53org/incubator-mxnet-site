{
 "cells": [
  {
   "cell_type": "markdown",
   "id": "8105f4e9",
   "metadata": {},
   "source": [
    "<!--- Licensed to the Apache Software Foundation (ASF) under one -->\n",
    "<!--- or more contributor license agreements.  See the NOTICE file -->\n",
    "<!--- distributed with this work for additional information -->\n",
    "<!--- regarding copyright ownership.  The ASF licenses this file -->\n",
    "<!--- to you under the Apache License, Version 2.0 (the -->\n",
    "<!--- \"License\"); you may not use this file except in compliance -->\n",
    "<!--- with the License.  You may obtain a copy of the License at -->\n",
    "\n",
    "<!---   http://www.apache.org/licenses/LICENSE-2.0 -->\n",
    "\n",
    "<!--- Unless required by applicable law or agreed to in writing, -->\n",
    "<!--- software distributed under the License is distributed on an -->\n",
    "<!--- \"AS IS\" BASIS, WITHOUT WARRANTIES OR CONDITIONS OF ANY -->\n",
    "<!--- KIND, either express or implied.  See the License for the -->\n",
    "<!--- specific language governing permissions and limitations -->\n",
    "<!--- under the License. -->\n",
    "\n",
    "# Step 7: Load and Run a NN using GPU\n",
    "\n",
    "In this step, you will learn how to use graphics processing units (GPUs) with MXNet. If you use GPUs to train and deploy neural networks, you may be able to train or perform inference quicker than with central processing units (CPUs).\n",
    "\n",
    "## Prerequisites\n",
    "\n",
    "Before you start the steps, make sure you have at least one Nvidia GPU on your machine and make sure that you have CUDA properly installed. GPUs from AMD and Intel are not supported. Additionally, you will need to install the GPU-enabled version of MXNet. You can find information about how to install the GPU version of MXNet for your system [here](https://mxnet.apache.org/versions/1.4.1/install/ubuntu_setup.html).\n",
    "\n",
    "You can use the following command to view the number GPUs that are available to MXNet."
   ]
  },
  {
   "cell_type": "code",
   "execution_count": 1,
   "id": "4a79ed59",
   "metadata": {},
   "outputs": [
    {
     "data": {
      "text/plain": [
       "1"
      ]
     },
     "execution_count": 1,
     "metadata": {},
     "output_type": "execute_result"
    }
   ],
   "source": [
    "from mxnet import np, npx, gluon, autograd\n",
    "from mxnet.gluon import nn\n",
    "import time\n",
    "npx.set_np()\n",
    "\n",
    "npx.num_gpus() #This command provides the number of GPUs MXNet can access"
   ]
  },
  {
   "cell_type": "markdown",
   "id": "a6745b10",
   "metadata": {},
   "source": [
    "## Allocate data to a GPU\n",
    "\n",
    "MXNet's ndarray is very similar to NumPy's. One major difference is that MXNet's ndarray has a `context` attribute specifieing which device an array is on. By default, arrays are stored on `npx.cpu()`. To change it to the first GPU, you can use the following code, `npx.gpu()` or `npx.gpu(0)` to indicate the first GPU."
   ]
  },
  {
   "cell_type": "code",
   "execution_count": 2,
   "id": "a3d6ee76",
   "metadata": {},
   "outputs": [
    {
     "name": "stderr",
     "output_type": "stream",
     "text": [
      "[03:41:49] /work/mxnet/src/storage/storage.cc:199: Using Pooled (Naive) StorageManager for GPU\n"
     ]
    },
    {
     "data": {
      "text/plain": [
       "array([[1., 1., 1., 1.],\n",
       "       [1., 1., 1., 1.],\n",
       "       [1., 1., 1., 1.]], ctx=gpu(0))"
      ]
     },
     "execution_count": 2,
     "metadata": {},
     "output_type": "execute_result"
    }
   ],
   "source": [
    "gpu = npx.gpu() if npx.num_gpus() > 0 else npx.cpu()\n",
    "x = np.ones((3,4), ctx=gpu)\n",
    "x"
   ]
  },
  {
   "cell_type": "markdown",
   "id": "a6c7cfc9",
   "metadata": {},
   "source": [
    "If you're using a CPU, MXNet allocates data on the main memory and tries to use as many CPU cores as possible.  If there are multiple GPUs, MXNet will tell you which GPUs the ndarray is allocated on.\n",
    "\n",
    "Assuming there is at least two GPUs. You can create another ndarray and assign it to a different GPU. If you only have one GPU, then you will get an error trying to run this code. In the example code here, you will copy `x` to the second GPU, `npx.gpu(1)`:"
   ]
  },
  {
   "cell_type": "code",
   "execution_count": 3,
   "id": "fb6e569a",
   "metadata": {},
   "outputs": [
    {
     "name": "stderr",
     "output_type": "stream",
     "text": [
      "["
     ]
    },
    {
     "data": {
      "text/plain": [
       "array([[1., 1., 1., 1.],\n",
       "       [1., 1., 1., 1.],\n",
       "       [1., 1., 1., 1.]])"
      ]
     },
     "execution_count": 3,
     "metadata": {},
     "output_type": "execute_result"
    },
    {
     "name": "stderr",
     "output_type": "stream",
     "text": [
      "03:41:49] /work/mxnet/src/storage/storage.cc:199: Using Pooled (Naive) StorageManager for CPU\n"
     ]
    }
   ],
   "source": [
    "gpu_1 = npx.gpu(1) if npx.num_gpus() > 1 else npx.cpu()\n",
    "x.copyto(gpu_1)"
   ]
  },
  {
   "cell_type": "markdown",
   "id": "0bcb309d",
   "metadata": {},
   "source": [
    "MXNet requries that users explicitly move data between devices. But several operators such as `print`, and `asnumpy`, will implicitly move data to main memory.\n",
    "\n",
    "## Choosing GPU Ids\n",
    "If you have multiple GPUs on your machine, MXNet can access each of them through 0-indexing with `npx`. As you saw before, the first GPU was accessed using `npx.gpu(0)`, and the second using `npx.gpu(1)`. This extends to however many GPUs your machine has. So if your machine has eight GPUs, the last GPU is accessed using `npx.gpu(7)`. This allows you to select which GPUs to use for operations and training. You might find it particularly useful when you want to leverage multiple GPUs while training neural networks.\n",
    "\n",
    "## Run an operation on a GPU\n",
    "\n",
    "To perform an operation on a particular GPU, you only need to guarantee that the input of an operation is already on that GPU. The output is allocated on the same GPU as well. Almost all operators in the `np` and `npx` module support running on a GPU."
   ]
  },
  {
   "cell_type": "code",
   "execution_count": 4,
   "id": "5667dd17",
   "metadata": {},
   "outputs": [
    {
     "data": {
      "text/plain": [
       "array([[1.7402194, 1.9209938, 1.0390205, 1.9689629],\n",
       "       [1.9251406, 1.4463501, 1.6673192, 1.1099306],\n",
       "       [1.4702187, 1.5131936, 1.7761751, 1.2947657]], ctx=gpu(0))"
      ]
     },
     "execution_count": 4,
     "metadata": {},
     "output_type": "execute_result"
    }
   ],
   "source": [
    "y = np.random.uniform(size=(3,4), ctx=gpu)\n",
    "x + y"
   ]
  },
  {
   "cell_type": "markdown",
   "id": "2d2f7918",
   "metadata": {},
   "source": [
    "Remember that if the inputs are not on the same GPU, you will get an error.\n",
    "\n",
    "## Run a neural network on a GPU\n",
    "\n",
    "To run a neural network on a GPU, you only need to copy and move the input data and parameters to the GPU. To demonstrate this you can reuse the previously defined LeafNetwork in [Training Neural Networks](6-train-nn.md). The following code example shows this."
   ]
  },
  {
   "cell_type": "code",
   "execution_count": 5,
   "id": "0524631c",
   "metadata": {},
   "outputs": [],
   "source": [
    "# The convolutional block has a convolution layer, a max pool layer and a batch normalization layer\n",
    "def conv_block(filters, kernel_size=2, stride=2, batch_norm=True):\n",
    "    conv_block = nn.HybridSequential()\n",
    "    conv_block.add(nn.Conv2D(channels=filters, kernel_size=kernel_size, activation='relu'),\n",
    "              nn.MaxPool2D(pool_size=4, strides=stride))\n",
    "    if batch_norm:\n",
    "        conv_block.add(nn.BatchNorm())\n",
    "    return conv_block\n",
    "\n",
    "# The dense block consists of a dense layer and a dropout layer\n",
    "def dense_block(neurons, activation='relu', dropout=0.2):\n",
    "    dense_block = nn.HybridSequential()\n",
    "    dense_block.add(nn.Dense(neurons, activation=activation))\n",
    "    if dropout:\n",
    "        dense_block.add(nn.Dropout(dropout))\n",
    "    return dense_block\n",
    "\n",
    "# Create neural network blueprint using the blocks\n",
    "class LeafNetwork(nn.HybridBlock):\n",
    "    def __init__(self):\n",
    "        super(LeafNetwork, self).__init__()\n",
    "        self.conv1 = conv_block(32)\n",
    "        self.conv2 = conv_block(64)\n",
    "        self.conv3 = conv_block(128)\n",
    "        self.flatten = nn.Flatten()\n",
    "        self.dense1 = dense_block(100)\n",
    "        self.dense2 = dense_block(10)\n",
    "        self.dense3 = nn.Dense(2)\n",
    "\n",
    "    def forward(self, batch):\n",
    "        batch = self.conv1(batch)\n",
    "        batch = self.conv2(batch)\n",
    "        batch = self.conv3(batch)\n",
    "        batch = self.flatten(batch)\n",
    "        batch = self.dense1(batch)\n",
    "        batch = self.dense2(batch)\n",
    "        batch = self.dense3(batch)\n",
    "\n",
    "        return batch"
   ]
  },
  {
   "cell_type": "markdown",
   "id": "3f78bb81",
   "metadata": {},
   "source": [
    "Load the saved parameters onto GPU 0 directly as shown below; additionally, you could use `net.collect_params().reset_ctx(gpu)` to change the device."
   ]
  },
  {
   "cell_type": "code",
   "execution_count": 6,
   "id": "b20fb25a",
   "metadata": {},
   "outputs": [],
   "source": [
    "net = LeafNetwork()\n",
    "net.load_parameters('leaf_models.params', ctx=gpu)"
   ]
  },
  {
   "cell_type": "markdown",
   "id": "bdff36df",
   "metadata": {},
   "source": [
    "Use the following command to create input data on GPU 0. The forward function will then run on GPU 0."
   ]
  },
  {
   "cell_type": "code",
   "execution_count": 7,
   "id": "b8a6e45d",
   "metadata": {},
   "outputs": [
    {
     "name": "stderr",
     "output_type": "stream",
     "text": [
      "[03:41:49] /work/mxnet/src/operator/nn/./cudnn/./cudnn_algoreg-inl.h:97: Running performance tests to find the best convolution algorithm, this can take a while... (set the environment variable MXNET_CUDNN_AUTOTUNE_DEFAULT to 0 to disable)\n"
     ]
    },
    {
     "data": {
      "text/plain": [
       "array([[ 1.3770186, -6.8562512]], ctx=gpu(0))"
      ]
     },
     "execution_count": 7,
     "metadata": {},
     "output_type": "execute_result"
    }
   ],
   "source": [
    "x = np.random.uniform(size=(1, 3, 128, 128), ctx=gpu)\n",
    "net(x)"
   ]
  },
  {
   "cell_type": "markdown",
   "id": "c6c707cc",
   "metadata": {},
   "source": [
    "## Training with multiple GPUs\n",
    "\n",
    "Finally, you will see how you can use multiple GPUs to jointly train a neural network through data parallelism. To elaborate on what data parallelism is, assume there are *n* GPUs, then you can split each data batch into *n* parts, and use a GPU on each of these parts to run the forward and backward passes on the seperate chunks of the data.\n",
    "\n",
    "First copy the data definitions with the following commands, and the transform functions from the tutorial [Training Neural Networks](6-train-nn.md)."
   ]
  },
  {
   "cell_type": "code",
   "execution_count": 8,
   "id": "d293fb3c",
   "metadata": {},
   "outputs": [],
   "source": [
    "# Import transforms as compose a series of transformations to the images\n",
    "from mxnet.gluon.data.vision import transforms\n",
    "\n",
    "jitter_param = 0.05\n",
    "\n",
    "# mean and std for normalizing image value in range (0,1)\n",
    "mean = [0.485, 0.456, 0.406]\n",
    "std = [0.229, 0.224, 0.225]\n",
    "\n",
    "training_transformer = transforms.Compose([\n",
    "    transforms.Resize(size=224, keep_ratio=True),\n",
    "    transforms.CenterCrop(128),\n",
    "    transforms.RandomFlipLeftRight(),\n",
    "    transforms.RandomColorJitter(contrast=jitter_param),\n",
    "    transforms.ToTensor(),\n",
    "    transforms.Normalize(mean, std)\n",
    "])\n",
    "\n",
    "validation_transformer = transforms.Compose([\n",
    "    transforms.Resize(size=224, keep_ratio=True),\n",
    "    transforms.CenterCrop(128),\n",
    "    transforms.ToTensor(),\n",
    "    transforms.Normalize(mean, std)\n",
    "])\n",
    "\n",
    "# Use ImageFolderDataset to create a Dataset object from directory structure\n",
    "train_dataset = gluon.data.vision.ImageFolderDataset('./datasets/train')\n",
    "val_dataset = gluon.data.vision.ImageFolderDataset('./datasets/validation')\n",
    "test_dataset = gluon.data.vision.ImageFolderDataset('./datasets/test')\n",
    "\n",
    "# Create data loaders\n",
    "batch_size = 4\n",
    "train_loader = gluon.data.DataLoader(train_dataset.transform_first(training_transformer),batch_size=batch_size, shuffle=True, try_nopython=True)\n",
    "validation_loader = gluon.data.DataLoader(val_dataset.transform_first(validation_transformer), batch_size=batch_size, try_nopython=True)\n",
    "test_loader = gluon.data.DataLoader(test_dataset.transform_first(validation_transformer), batch_size=batch_size, try_nopython=True)"
   ]
  },
  {
   "cell_type": "markdown",
   "id": "176bfdfd",
   "metadata": {},
   "source": [
    "### Define a helper function\n",
    "This is the same test function defined previously in the **Step 6**."
   ]
  },
  {
   "cell_type": "code",
   "execution_count": 9,
   "id": "80715458",
   "metadata": {},
   "outputs": [],
   "source": [
    "# Function to return the accuracy for the validation and test set\n",
    "def test(val_data, devices):\n",
    "    acc = gluon.metric.Accuracy()\n",
    "    for batch in val_data:\n",
    "        data, label = batch[0], batch[1]\n",
    "        data_list = gluon.utils.split_and_load(data, devices)\n",
    "        label_list = gluon.utils.split_and_load(label, devices)\n",
    "        outputs = [net(X) for X in data_list]\n",
    "        acc.update(label_list, outputs)\n",
    "\n",
    "    _, accuracy = acc.get()\n",
    "    return accuracy"
   ]
  },
  {
   "cell_type": "markdown",
   "id": "83e94381",
   "metadata": {},
   "source": [
    "The training loop is quite similar to that shown earlier. The major differences are highlighted in the following code."
   ]
  },
  {
   "cell_type": "code",
   "execution_count": 10,
   "id": "29c542c3",
   "metadata": {},
   "outputs": [
    {
     "name": "stdout",
     "output_type": "stream",
     "text": [
      "Using 1 GPUs\n"
     ]
    },
    {
     "name": "stdout",
     "output_type": "stream",
     "text": [
      "Epoch[1] Batch[5] Speed: 0.7779143243448763 samples/sec                   batch loss = 14.51857876777649 | accuracy = 0.45\n"
     ]
    },
    {
     "name": "stdout",
     "output_type": "stream",
     "text": [
      "Epoch[1] Batch[10] Speed: 1.2550220245039203 samples/sec                   batch loss = 28.780237913131714 | accuracy = 0.45\n"
     ]
    },
    {
     "name": "stdout",
     "output_type": "stream",
     "text": [
      "Epoch[1] Batch[15] Speed: 1.253437326624513 samples/sec                   batch loss = 42.632917165756226 | accuracy = 0.5166666666666667\n"
     ]
    },
    {
     "name": "stdout",
     "output_type": "stream",
     "text": [
      "Epoch[1] Batch[20] Speed: 1.253662771073903 samples/sec                   batch loss = 57.808756828308105 | accuracy = 0.475\n"
     ]
    },
    {
     "name": "stdout",
     "output_type": "stream",
     "text": [
      "Epoch[1] Batch[25] Speed: 1.250166524031137 samples/sec                   batch loss = 71.46293807029724 | accuracy = 0.49\n"
     ]
    },
    {
     "name": "stdout",
     "output_type": "stream",
     "text": [
      "Epoch[1] Batch[30] Speed: 1.255875523430681 samples/sec                   batch loss = 86.77378344535828 | accuracy = 0.4583333333333333\n"
     ]
    },
    {
     "name": "stdout",
     "output_type": "stream",
     "text": [
      "Epoch[1] Batch[35] Speed: 1.263819557485799 samples/sec                   batch loss = 100.790292263031 | accuracy = 0.4714285714285714\n"
     ]
    },
    {
     "name": "stdout",
     "output_type": "stream",
     "text": [
      "Epoch[1] Batch[40] Speed: 1.2648617456887858 samples/sec                   batch loss = 114.80110287666321 | accuracy = 0.48125\n"
     ]
    },
    {
     "name": "stdout",
     "output_type": "stream",
     "text": [
      "Epoch[1] Batch[45] Speed: 1.2601310543458977 samples/sec                   batch loss = 128.85063910484314 | accuracy = 0.48333333333333334\n"
     ]
    },
    {
     "name": "stdout",
     "output_type": "stream",
     "text": [
      "Epoch[1] Batch[50] Speed: 1.2571397228708365 samples/sec                   batch loss = 142.49865412712097 | accuracy = 0.5\n"
     ]
    },
    {
     "name": "stdout",
     "output_type": "stream",
     "text": [
      "Epoch[1] Batch[55] Speed: 1.2624593357428888 samples/sec                   batch loss = 156.30507469177246 | accuracy = 0.509090909090909\n"
     ]
    },
    {
     "name": "stdout",
     "output_type": "stream",
     "text": [
      "Epoch[1] Batch[60] Speed: 1.265339870649946 samples/sec                   batch loss = 171.2585060596466 | accuracy = 0.5041666666666667\n"
     ]
    },
    {
     "name": "stdout",
     "output_type": "stream",
     "text": [
      "Epoch[1] Batch[65] Speed: 1.2641125647720317 samples/sec                   batch loss = 185.178236246109 | accuracy = 0.5038461538461538\n"
     ]
    },
    {
     "name": "stdout",
     "output_type": "stream",
     "text": [
      "Epoch[1] Batch[70] Speed: 1.261794983856046 samples/sec                   batch loss = 198.57166147232056 | accuracy = 0.5107142857142857\n"
     ]
    },
    {
     "name": "stdout",
     "output_type": "stream",
     "text": [
      "Epoch[1] Batch[75] Speed: 1.2615376725850722 samples/sec                   batch loss = 212.86119413375854 | accuracy = 0.51\n"
     ]
    },
    {
     "name": "stdout",
     "output_type": "stream",
     "text": [
      "Epoch[1] Batch[80] Speed: 1.2583229411961916 samples/sec                   batch loss = 226.2100076675415 | accuracy = 0.51875\n"
     ]
    },
    {
     "name": "stdout",
     "output_type": "stream",
     "text": [
      "Epoch[1] Batch[85] Speed: 1.256930635433675 samples/sec                   batch loss = 239.91428184509277 | accuracy = 0.5235294117647059\n"
     ]
    },
    {
     "name": "stdout",
     "output_type": "stream",
     "text": [
      "Epoch[1] Batch[90] Speed: 1.2549464539635735 samples/sec                   batch loss = 252.99440026283264 | accuracy = 0.5277777777777778\n"
     ]
    },
    {
     "name": "stdout",
     "output_type": "stream",
     "text": [
      "Epoch[1] Batch[95] Speed: 1.2651894875320828 samples/sec                   batch loss = 267.1946439743042 | accuracy = 0.5263157894736842\n"
     ]
    },
    {
     "name": "stdout",
     "output_type": "stream",
     "text": [
      "Epoch[1] Batch[100] Speed: 1.259567677373442 samples/sec                   batch loss = 280.7601342201233 | accuracy = 0.5225\n"
     ]
    },
    {
     "name": "stdout",
     "output_type": "stream",
     "text": [
      "Epoch[1] Batch[105] Speed: 1.2573924159011138 samples/sec                   batch loss = 294.90967535972595 | accuracy = 0.5190476190476191\n"
     ]
    },
    {
     "name": "stdout",
     "output_type": "stream",
     "text": [
      "Epoch[1] Batch[110] Speed: 1.2588830323856002 samples/sec                   batch loss = 308.6675434112549 | accuracy = 0.5159090909090909\n"
     ]
    },
    {
     "name": "stdout",
     "output_type": "stream",
     "text": [
      "Epoch[1] Batch[115] Speed: 1.264374643770403 samples/sec                   batch loss = 322.1761155128479 | accuracy = 0.5195652173913043\n"
     ]
    },
    {
     "name": "stdout",
     "output_type": "stream",
     "text": [
      "Epoch[1] Batch[120] Speed: 1.2598467958311526 samples/sec                   batch loss = 336.1299605369568 | accuracy = 0.5208333333333334\n"
     ]
    },
    {
     "name": "stdout",
     "output_type": "stream",
     "text": [
      "Epoch[1] Batch[125] Speed: 1.2562313574432005 samples/sec                   batch loss = 349.72041368484497 | accuracy = 0.524\n"
     ]
    },
    {
     "name": "stdout",
     "output_type": "stream",
     "text": [
      "Epoch[1] Batch[130] Speed: 1.261243582039016 samples/sec                   batch loss = 363.6695730686188 | accuracy = 0.5230769230769231\n"
     ]
    },
    {
     "name": "stdout",
     "output_type": "stream",
     "text": [
      "Epoch[1] Batch[135] Speed: 1.2598059276571185 samples/sec                   batch loss = 377.7924211025238 | accuracy = 0.5259259259259259\n"
     ]
    },
    {
     "name": "stdout",
     "output_type": "stream",
     "text": [
      "Epoch[1] Batch[140] Speed: 1.2683058699799488 samples/sec                   batch loss = 391.58365297317505 | accuracy = 0.5303571428571429\n"
     ]
    },
    {
     "name": "stdout",
     "output_type": "stream",
     "text": [
      "Epoch[1] Batch[145] Speed: 1.259238399123821 samples/sec                   batch loss = 405.18893027305603 | accuracy = 0.5344827586206896\n"
     ]
    },
    {
     "name": "stdout",
     "output_type": "stream",
     "text": [
      "Epoch[1] Batch[150] Speed: 1.261198261993896 samples/sec                   batch loss = 418.40489196777344 | accuracy = 0.54\n"
     ]
    },
    {
     "name": "stdout",
     "output_type": "stream",
     "text": [
      "Epoch[1] Batch[155] Speed: 1.2585402336487332 samples/sec                   batch loss = 432.4694561958313 | accuracy = 0.535483870967742\n"
     ]
    },
    {
     "name": "stdout",
     "output_type": "stream",
     "text": [
      "Epoch[1] Batch[160] Speed: 1.255652665662327 samples/sec                   batch loss = 445.96718287467957 | accuracy = 0.5359375\n"
     ]
    },
    {
     "name": "stdout",
     "output_type": "stream",
     "text": [
      "Epoch[1] Batch[165] Speed: 1.2525649739650215 samples/sec                   batch loss = 459.16812539100647 | accuracy = 0.5409090909090909\n"
     ]
    },
    {
     "name": "stdout",
     "output_type": "stream",
     "text": [
      "Epoch[1] Batch[170] Speed: 1.2547365939661237 samples/sec                   batch loss = 472.18818378448486 | accuracy = 0.5470588235294118\n"
     ]
    },
    {
     "name": "stdout",
     "output_type": "stream",
     "text": [
      "Epoch[1] Batch[175] Speed: 1.2519498548937387 samples/sec                   batch loss = 485.99947476387024 | accuracy = 0.5471428571428572\n"
     ]
    },
    {
     "name": "stdout",
     "output_type": "stream",
     "text": [
      "Epoch[1] Batch[180] Speed: 1.251025556325252 samples/sec                   batch loss = 499.9642298221588 | accuracy = 0.5444444444444444\n"
     ]
    },
    {
     "name": "stdout",
     "output_type": "stream",
     "text": [
      "Epoch[1] Batch[185] Speed: 1.2545824347708912 samples/sec                   batch loss = 513.6710138320923 | accuracy = 0.5445945945945946\n"
     ]
    },
    {
     "name": "stdout",
     "output_type": "stream",
     "text": [
      "Epoch[1] Batch[190] Speed: 1.2552821318197616 samples/sec                   batch loss = 527.2194519042969 | accuracy = 0.5447368421052632\n"
     ]
    },
    {
     "name": "stdout",
     "output_type": "stream",
     "text": [
      "Epoch[1] Batch[195] Speed: 1.2538120192518238 samples/sec                   batch loss = 540.7495269775391 | accuracy = 0.5448717948717948\n"
     ]
    },
    {
     "name": "stdout",
     "output_type": "stream",
     "text": [
      "Epoch[1] Batch[200] Speed: 1.2532090612937354 samples/sec                   batch loss = 554.6540536880493 | accuracy = 0.5425\n"
     ]
    },
    {
     "name": "stdout",
     "output_type": "stream",
     "text": [
      "Epoch[1] Batch[205] Speed: 1.260995783757002 samples/sec                   batch loss = 567.3509058952332 | accuracy = 0.5475609756097561\n"
     ]
    },
    {
     "name": "stdout",
     "output_type": "stream",
     "text": [
      "Epoch[1] Batch[210] Speed: 1.2588466660914128 samples/sec                   batch loss = 580.8469195365906 | accuracy = 0.55\n"
     ]
    },
    {
     "name": "stdout",
     "output_type": "stream",
     "text": [
      "Epoch[1] Batch[215] Speed: 1.2555880131767314 samples/sec                   batch loss = 593.7435960769653 | accuracy = 0.5558139534883721\n"
     ]
    },
    {
     "name": "stdout",
     "output_type": "stream",
     "text": [
      "Epoch[1] Batch[220] Speed: 1.2554851279647423 samples/sec                   batch loss = 607.0735778808594 | accuracy = 0.5556818181818182\n"
     ]
    },
    {
     "name": "stdout",
     "output_type": "stream",
     "text": [
      "Epoch[1] Batch[225] Speed: 1.2605878018868677 samples/sec                   batch loss = 621.0165317058563 | accuracy = 0.5555555555555556\n"
     ]
    },
    {
     "name": "stdout",
     "output_type": "stream",
     "text": [
      "Epoch[1] Batch[230] Speed: 1.260273421050299 samples/sec                   batch loss = 634.4282510280609 | accuracy = 0.5576086956521739\n"
     ]
    },
    {
     "name": "stdout",
     "output_type": "stream",
     "text": [
      "Epoch[1] Batch[235] Speed: 1.259224600234924 samples/sec                   batch loss = 648.6811127662659 | accuracy = 0.5585106382978723\n"
     ]
    },
    {
     "name": "stdout",
     "output_type": "stream",
     "text": [
      "Epoch[1] Batch[240] Speed: 1.2581616722558413 samples/sec                   batch loss = 661.7051854133606 | accuracy = 0.559375\n"
     ]
    },
    {
     "name": "stdout",
     "output_type": "stream",
     "text": [
      "Epoch[1] Batch[245] Speed: 1.2608094778105048 samples/sec                   batch loss = 675.2446506023407 | accuracy = 0.5612244897959183\n"
     ]
    },
    {
     "name": "stdout",
     "output_type": "stream",
     "text": [
      "Epoch[1] Batch[250] Speed: 1.2566682443790904 samples/sec                   batch loss = 688.3797307014465 | accuracy = 0.562\n"
     ]
    },
    {
     "name": "stdout",
     "output_type": "stream",
     "text": [
      "Epoch[1] Batch[255] Speed: 1.255059202917128 samples/sec                   batch loss = 701.5492672920227 | accuracy = 0.5647058823529412\n"
     ]
    },
    {
     "name": "stdout",
     "output_type": "stream",
     "text": [
      "Epoch[1] Batch[260] Speed: 1.2584120390160465 samples/sec                   batch loss = 715.3750236034393 | accuracy = 0.5673076923076923\n"
     ]
    },
    {
     "name": "stdout",
     "output_type": "stream",
     "text": [
      "Epoch[1] Batch[265] Speed: 1.2600247735841164 samples/sec                   batch loss = 728.3212051391602 | accuracy = 0.569811320754717\n"
     ]
    },
    {
     "name": "stdout",
     "output_type": "stream",
     "text": [
      "Epoch[1] Batch[270] Speed: 1.2559065474430424 samples/sec                   batch loss = 741.6327226161957 | accuracy = 0.5685185185185185\n"
     ]
    },
    {
     "name": "stdout",
     "output_type": "stream",
     "text": [
      "Epoch[1] Batch[275] Speed: 1.2571584687906578 samples/sec                   batch loss = 754.4600169658661 | accuracy = 0.5718181818181818\n"
     ]
    },
    {
     "name": "stdout",
     "output_type": "stream",
     "text": [
      "Epoch[1] Batch[280] Speed: 1.2604598526880462 samples/sec                   batch loss = 768.9324128627777 | accuracy = 0.5741071428571428\n"
     ]
    },
    {
     "name": "stdout",
     "output_type": "stream",
     "text": [
      "Epoch[1] Batch[285] Speed: 1.2603176332145047 samples/sec                   batch loss = 782.3016793727875 | accuracy = 0.5745614035087719\n"
     ]
    },
    {
     "name": "stdout",
     "output_type": "stream",
     "text": [
      "Epoch[1] Batch[290] Speed: 1.2594311426129576 samples/sec                   batch loss = 796.1931438446045 | accuracy = 0.5741379310344827\n"
     ]
    },
    {
     "name": "stdout",
     "output_type": "stream",
     "text": [
      "Epoch[1] Batch[295] Speed: 1.2545370293032359 samples/sec                   batch loss = 810.5249338150024 | accuracy = 0.5694915254237288\n"
     ]
    },
    {
     "name": "stdout",
     "output_type": "stream",
     "text": [
      "Epoch[1] Batch[300] Speed: 1.2563430202870165 samples/sec                   batch loss = 823.0721971988678 | accuracy = 0.5716666666666667\n"
     ]
    },
    {
     "name": "stdout",
     "output_type": "stream",
     "text": [
      "Epoch[1] Batch[305] Speed: 1.2607384193457922 samples/sec                   batch loss = 836.8484621047974 | accuracy = 0.5704918032786885\n"
     ]
    },
    {
     "name": "stdout",
     "output_type": "stream",
     "text": [
      "Epoch[1] Batch[310] Speed: 1.2542053126427382 samples/sec                   batch loss = 850.7623569965363 | accuracy = 0.5717741935483871\n"
     ]
    },
    {
     "name": "stdout",
     "output_type": "stream",
     "text": [
      "Epoch[1] Batch[315] Speed: 1.2598500124203678 samples/sec                   batch loss = 863.8734323978424 | accuracy = 0.573015873015873\n"
     ]
    },
    {
     "name": "stdout",
     "output_type": "stream",
     "text": [
      "Epoch[1] Batch[320] Speed: 1.2560715645365184 samples/sec                   batch loss = 877.7162208557129 | accuracy = 0.571875\n"
     ]
    },
    {
     "name": "stdout",
     "output_type": "stream",
     "text": [
      "Epoch[1] Batch[325] Speed: 1.2572339291273005 samples/sec                   batch loss = 891.0316894054413 | accuracy = 0.5723076923076923\n"
     ]
    },
    {
     "name": "stdout",
     "output_type": "stream",
     "text": [
      "Epoch[1] Batch[330] Speed: 1.2599378127274534 samples/sec                   batch loss = 905.447630405426 | accuracy = 0.5712121212121212\n"
     ]
    },
    {
     "name": "stdout",
     "output_type": "stream",
     "text": [
      "Epoch[1] Batch[335] Speed: 1.2601287827975145 samples/sec                   batch loss = 919.36017537117 | accuracy = 0.5708955223880597\n"
     ]
    },
    {
     "name": "stdout",
     "output_type": "stream",
     "text": [
      "Epoch[1] Batch[340] Speed: 1.2599465177350002 samples/sec                   batch loss = 933.4058368206024 | accuracy = 0.5683823529411764\n"
     ]
    },
    {
     "name": "stdout",
     "output_type": "stream",
     "text": [
      "Epoch[1] Batch[345] Speed: 1.2579088586024278 samples/sec                   batch loss = 946.1323339939117 | accuracy = 0.5688405797101449\n"
     ]
    },
    {
     "name": "stdout",
     "output_type": "stream",
     "text": [
      "Epoch[1] Batch[350] Speed: 1.2597293069768447 samples/sec                   batch loss = 958.7582540512085 | accuracy = 0.57\n"
     ]
    },
    {
     "name": "stdout",
     "output_type": "stream",
     "text": [
      "Epoch[1] Batch[355] Speed: 1.255070187869851 samples/sec                   batch loss = 971.8327119350433 | accuracy = 0.5704225352112676\n"
     ]
    },
    {
     "name": "stdout",
     "output_type": "stream",
     "text": [
      "Epoch[1] Batch[360] Speed: 1.2604178084368398 samples/sec                   batch loss = 985.750803232193 | accuracy = 0.5701388888888889\n"
     ]
    },
    {
     "name": "stdout",
     "output_type": "stream",
     "text": [
      "Epoch[1] Batch[365] Speed: 1.2602316732246395 samples/sec                   batch loss = 998.6941895484924 | accuracy = 0.571917808219178\n"
     ]
    },
    {
     "name": "stdout",
     "output_type": "stream",
     "text": [
      "Epoch[1] Batch[370] Speed: 1.2560428832390023 samples/sec                   batch loss = 1012.3839731216431 | accuracy = 0.5716216216216217\n"
     ]
    },
    {
     "name": "stdout",
     "output_type": "stream",
     "text": [
      "Epoch[1] Batch[375] Speed: 1.2556518198746236 samples/sec                   batch loss = 1025.913940191269 | accuracy = 0.5726666666666667\n"
     ]
    },
    {
     "name": "stdout",
     "output_type": "stream",
     "text": [
      "Epoch[1] Batch[380] Speed: 1.2570860316214845 samples/sec                   batch loss = 1038.842716217041 | accuracy = 0.5743421052631579\n"
     ]
    },
    {
     "name": "stdout",
     "output_type": "stream",
     "text": [
      "Epoch[1] Batch[385] Speed: 1.2523091695588513 samples/sec                   batch loss = 1051.2024199962616 | accuracy = 0.5766233766233766\n"
     ]
    },
    {
     "name": "stdout",
     "output_type": "stream",
     "text": [
      "Epoch[1] Batch[390] Speed: 1.2554169229548948 samples/sec                   batch loss = 1065.3163528442383 | accuracy = 0.5756410256410256\n"
     ]
    },
    {
     "name": "stdout",
     "output_type": "stream",
     "text": [
      "Epoch[1] Batch[395] Speed: 1.267937414260209 samples/sec                   batch loss = 1078.1969771385193 | accuracy = 0.5765822784810126\n"
     ]
    },
    {
     "name": "stdout",
     "output_type": "stream",
     "text": [
      "Epoch[1] Batch[400] Speed: 1.2610853552945924 samples/sec                   batch loss = 1091.3782494068146 | accuracy = 0.5775\n"
     ]
    },
    {
     "name": "stdout",
     "output_type": "stream",
     "text": [
      "Epoch[1] Batch[405] Speed: 1.2649303132420824 samples/sec                   batch loss = 1104.307322025299 | accuracy = 0.5771604938271605\n"
     ]
    },
    {
     "name": "stdout",
     "output_type": "stream",
     "text": [
      "Epoch[1] Batch[410] Speed: 1.2616283647282518 samples/sec                   batch loss = 1117.1192469596863 | accuracy = 0.5780487804878048\n"
     ]
    },
    {
     "name": "stdout",
     "output_type": "stream",
     "text": [
      "Epoch[1] Batch[415] Speed: 1.261773916820861 samples/sec                   batch loss = 1131.099113702774 | accuracy = 0.5789156626506025\n"
     ]
    },
    {
     "name": "stdout",
     "output_type": "stream",
     "text": [
      "Epoch[1] Batch[420] Speed: 1.2594306698985906 samples/sec                   batch loss = 1146.664517402649 | accuracy = 0.5761904761904761\n"
     ]
    },
    {
     "name": "stdout",
     "output_type": "stream",
     "text": [
      "Epoch[1] Batch[425] Speed: 1.2571196587620082 samples/sec                   batch loss = 1159.5470864772797 | accuracy = 0.5758823529411765\n"
     ]
    },
    {
     "name": "stdout",
     "output_type": "stream",
     "text": [
      "Epoch[1] Batch[430] Speed: 1.2520178705582277 samples/sec                   batch loss = 1172.8274109363556 | accuracy = 0.5773255813953488\n"
     ]
    },
    {
     "name": "stdout",
     "output_type": "stream",
     "text": [
      "Epoch[1] Batch[435] Speed: 1.25134224623819 samples/sec                   batch loss = 1185.6633899211884 | accuracy = 0.5793103448275863\n"
     ]
    },
    {
     "name": "stdout",
     "output_type": "stream",
     "text": [
      "Epoch[1] Batch[440] Speed: 1.256480015469701 samples/sec                   batch loss = 1198.9922890663147 | accuracy = 0.5789772727272727\n"
     ]
    },
    {
     "name": "stdout",
     "output_type": "stream",
     "text": [
      "Epoch[1] Batch[445] Speed: 1.2571228614406487 samples/sec                   batch loss = 1212.3944664001465 | accuracy = 0.5786516853932584\n"
     ]
    },
    {
     "name": "stdout",
     "output_type": "stream",
     "text": [
      "Epoch[1] Batch[450] Speed: 1.2574385937615 samples/sec                   batch loss = 1224.6655385494232 | accuracy = 0.5805555555555556\n"
     ]
    },
    {
     "name": "stdout",
     "output_type": "stream",
     "text": [
      "Epoch[1] Batch[455] Speed: 1.247561979839087 samples/sec                   batch loss = 1239.6057612895966 | accuracy = 0.5796703296703297\n"
     ]
    },
    {
     "name": "stdout",
     "output_type": "stream",
     "text": [
      "Epoch[1] Batch[460] Speed: 1.2562855401351742 samples/sec                   batch loss = 1252.8275201320648 | accuracy = 0.5788043478260869\n"
     ]
    },
    {
     "name": "stdout",
     "output_type": "stream",
     "text": [
      "Epoch[1] Batch[465] Speed: 1.254506917159044 samples/sec                   batch loss = 1266.5273053646088 | accuracy = 0.5795698924731183\n"
     ]
    },
    {
     "name": "stdout",
     "output_type": "stream",
     "text": [
      "Epoch[1] Batch[470] Speed: 1.2567240650908318 samples/sec                   batch loss = 1278.854680776596 | accuracy = 0.5803191489361702\n"
     ]
    },
    {
     "name": "stdout",
     "output_type": "stream",
     "text": [
      "Epoch[1] Batch[475] Speed: 1.252274397203755 samples/sec                   batch loss = 1292.3850283622742 | accuracy = 0.5805263157894737\n"
     ]
    },
    {
     "name": "stdout",
     "output_type": "stream",
     "text": [
      "Epoch[1] Batch[480] Speed: 1.2597909811630745 samples/sec                   batch loss = 1305.9220552444458 | accuracy = 0.5807291666666666\n"
     ]
    },
    {
     "name": "stdout",
     "output_type": "stream",
     "text": [
      "Epoch[1] Batch[485] Speed: 1.2546783224036806 samples/sec                   batch loss = 1319.6422879695892 | accuracy = 0.5814432989690722\n"
     ]
    },
    {
     "name": "stdout",
     "output_type": "stream",
     "text": [
      "Epoch[1] Batch[490] Speed: 1.254196124234761 samples/sec                   batch loss = 1333.3125622272491 | accuracy = 0.5806122448979592\n"
     ]
    },
    {
     "name": "stdout",
     "output_type": "stream",
     "text": [
      "Epoch[1] Batch[495] Speed: 1.259488438222163 samples/sec                   batch loss = 1347.0833084583282 | accuracy = 0.5808080808080808\n"
     ]
    },
    {
     "name": "stdout",
     "output_type": "stream",
     "text": [
      "Epoch[1] Batch[500] Speed: 1.2604717846756943 samples/sec                   batch loss = 1360.009164094925 | accuracy = 0.5815\n"
     ]
    },
    {
     "name": "stdout",
     "output_type": "stream",
     "text": [
      "Epoch[1] Batch[505] Speed: 1.259146727243826 samples/sec                   batch loss = 1372.412724018097 | accuracy = 0.5811881188118811\n"
     ]
    },
    {
     "name": "stdout",
     "output_type": "stream",
     "text": [
      "Epoch[1] Batch[510] Speed: 1.2588886055877817 samples/sec                   batch loss = 1384.151501774788 | accuracy = 0.582843137254902\n"
     ]
    },
    {
     "name": "stdout",
     "output_type": "stream",
     "text": [
      "Epoch[1] Batch[515] Speed: 1.2590797301580048 samples/sec                   batch loss = 1396.5200744867325 | accuracy = 0.5849514563106796\n"
     ]
    },
    {
     "name": "stdout",
     "output_type": "stream",
     "text": [
      "Epoch[1] Batch[520] Speed: 1.2609140904452396 samples/sec                   batch loss = 1408.604501247406 | accuracy = 0.5865384615384616\n"
     ]
    },
    {
     "name": "stdout",
     "output_type": "stream",
     "text": [
      "Epoch[1] Batch[525] Speed: 1.2585687458726835 samples/sec                   batch loss = 1421.926923274994 | accuracy = 0.5876190476190476\n"
     ]
    },
    {
     "name": "stdout",
     "output_type": "stream",
     "text": [
      "Epoch[1] Batch[530] Speed: 1.2595736348963698 samples/sec                   batch loss = 1435.8620719909668 | accuracy = 0.5872641509433962\n"
     ]
    },
    {
     "name": "stdout",
     "output_type": "stream",
     "text": [
      "Epoch[1] Batch[535] Speed: 1.2586321005044216 samples/sec                   batch loss = 1448.1640751361847 | accuracy = 0.5878504672897197\n"
     ]
    },
    {
     "name": "stdout",
     "output_type": "stream",
     "text": [
      "Epoch[1] Batch[540] Speed: 1.2581740325432194 samples/sec                   batch loss = 1462.0967645645142 | accuracy = 0.5861111111111111\n"
     ]
    },
    {
     "name": "stdout",
     "output_type": "stream",
     "text": [
      "Epoch[1] Batch[545] Speed: 1.2571450922480247 samples/sec                   batch loss = 1474.8773210048676 | accuracy = 0.5862385321100917\n"
     ]
    },
    {
     "name": "stdout",
     "output_type": "stream",
     "text": [
      "Epoch[1] Batch[550] Speed: 1.258313409231673 samples/sec                   batch loss = 1488.0275938510895 | accuracy = 0.5868181818181818\n"
     ]
    },
    {
     "name": "stdout",
     "output_type": "stream",
     "text": [
      "Epoch[1] Batch[555] Speed: 1.2625099717588801 samples/sec                   batch loss = 1500.6737689971924 | accuracy = 0.5878378378378378\n"
     ]
    },
    {
     "name": "stdout",
     "output_type": "stream",
     "text": [
      "Epoch[1] Batch[560] Speed: 1.2613611638686817 samples/sec                   batch loss = 1513.5854852199554 | accuracy = 0.5879464285714285\n"
     ]
    },
    {
     "name": "stdout",
     "output_type": "stream",
     "text": [
      "Epoch[1] Batch[565] Speed: 1.2552020223029103 samples/sec                   batch loss = 1527.3646051883698 | accuracy = 0.588495575221239\n"
     ]
    },
    {
     "name": "stdout",
     "output_type": "stream",
     "text": [
      "Epoch[1] Batch[570] Speed: 1.2649626446117486 samples/sec                   batch loss = 1540.075608253479 | accuracy = 0.5899122807017544\n"
     ]
    },
    {
     "name": "stdout",
     "output_type": "stream",
     "text": [
      "Epoch[1] Batch[575] Speed: 1.2581598795625706 samples/sec                   batch loss = 1552.5067200660706 | accuracy = 0.59\n"
     ]
    },
    {
     "name": "stdout",
     "output_type": "stream",
     "text": [
      "Epoch[1] Batch[580] Speed: 1.2582434811159786 samples/sec                   batch loss = 1565.5216419696808 | accuracy = 0.5896551724137931\n"
     ]
    },
    {
     "name": "stdout",
     "output_type": "stream",
     "text": [
      "Epoch[1] Batch[585] Speed: 1.2633945242564182 samples/sec                   batch loss = 1578.6524453163147 | accuracy = 0.5897435897435898\n"
     ]
    },
    {
     "name": "stdout",
     "output_type": "stream",
     "text": [
      "Epoch[1] Batch[590] Speed: 1.2629316529189025 samples/sec                   batch loss = 1590.542468070984 | accuracy = 0.5906779661016949\n"
     ]
    },
    {
     "name": "stdout",
     "output_type": "stream",
     "text": [
      "Epoch[1] Batch[595] Speed: 1.2578261502266075 samples/sec                   batch loss = 1602.1265089511871 | accuracy = 0.5915966386554622\n"
     ]
    },
    {
     "name": "stdout",
     "output_type": "stream",
     "text": [
      "Epoch[1] Batch[600] Speed: 1.2629635969751896 samples/sec                   batch loss = 1613.939488530159 | accuracy = 0.5941666666666666\n"
     ]
    },
    {
     "name": "stdout",
     "output_type": "stream",
     "text": [
      "Epoch[1] Batch[605] Speed: 1.2574273788264307 samples/sec                   batch loss = 1627.0204128026962 | accuracy = 0.5950413223140496\n"
     ]
    },
    {
     "name": "stdout",
     "output_type": "stream",
     "text": [
      "Epoch[1] Batch[610] Speed: 1.2539729247882299 samples/sec                   batch loss = 1640.4888435602188 | accuracy = 0.5959016393442623\n"
     ]
    },
    {
     "name": "stdout",
     "output_type": "stream",
     "text": [
      "Epoch[1] Batch[615] Speed: 1.2584688643419235 samples/sec                   batch loss = 1651.9617000818253 | accuracy = 0.5975609756097561\n"
     ]
    },
    {
     "name": "stdout",
     "output_type": "stream",
     "text": [
      "Epoch[1] Batch[620] Speed: 1.2574346355262795 samples/sec                   batch loss = 1665.604721903801 | accuracy = 0.597983870967742\n"
     ]
    },
    {
     "name": "stdout",
     "output_type": "stream",
     "text": [
      "Epoch[1] Batch[625] Speed: 1.2556031420134206 samples/sec                   batch loss = 1677.6531244516373 | accuracy = 0.598\n"
     ]
    },
    {
     "name": "stdout",
     "output_type": "stream",
     "text": [
      "Epoch[1] Batch[630] Speed: 1.2552740546640608 samples/sec                   batch loss = 1690.0256286859512 | accuracy = 0.5988095238095238\n"
     ]
    },
    {
     "name": "stdout",
     "output_type": "stream",
     "text": [
      "Epoch[1] Batch[635] Speed: 1.25749080710128 samples/sec                   batch loss = 1703.250852227211 | accuracy = 0.5996062992125984\n"
     ]
    },
    {
     "name": "stdout",
     "output_type": "stream",
     "text": [
      "Epoch[1] Batch[640] Speed: 1.2583317182813287 samples/sec                   batch loss = 1715.0109292268753 | accuracy = 0.60078125\n"
     ]
    },
    {
     "name": "stdout",
     "output_type": "stream",
     "text": [
      "Epoch[1] Batch[645] Speed: 1.2600181493750797 samples/sec                   batch loss = 1729.0323218107224 | accuracy = 0.6\n"
     ]
    },
    {
     "name": "stdout",
     "output_type": "stream",
     "text": [
      "Epoch[1] Batch[650] Speed: 1.2589441513841153 samples/sec                   batch loss = 1741.8272590637207 | accuracy = 0.6011538461538461\n"
     ]
    },
    {
     "name": "stdout",
     "output_type": "stream",
     "text": [
      "Epoch[1] Batch[655] Speed: 1.2509710801757974 samples/sec                   batch loss = 1753.4560554027557 | accuracy = 0.601526717557252\n"
     ]
    },
    {
     "name": "stdout",
     "output_type": "stream",
     "text": [
      "Epoch[1] Batch[660] Speed: 1.2557274753930507 samples/sec                   batch loss = 1765.673808336258 | accuracy = 0.6026515151515152\n"
     ]
    },
    {
     "name": "stdout",
     "output_type": "stream",
     "text": [
      "Epoch[1] Batch[665] Speed: 1.2571791935738041 samples/sec                   batch loss = 1779.0815317630768 | accuracy = 0.6033834586466166\n"
     ]
    },
    {
     "name": "stdout",
     "output_type": "stream",
     "text": [
      "Epoch[1] Batch[670] Speed: 1.2575149360299887 samples/sec                   batch loss = 1790.8535408973694 | accuracy = 0.6041044776119403\n"
     ]
    },
    {
     "name": "stdout",
     "output_type": "stream",
     "text": [
      "Epoch[1] Batch[675] Speed: 1.2574943886806125 samples/sec                   batch loss = 1805.0498526096344 | accuracy = 0.6029629629629629\n"
     ]
    },
    {
     "name": "stdout",
     "output_type": "stream",
     "text": [
      "Epoch[1] Batch[680] Speed: 1.2599669560515485 samples/sec                   batch loss = 1817.8761541843414 | accuracy = 0.6033088235294117\n"
     ]
    },
    {
     "name": "stdout",
     "output_type": "stream",
     "text": [
      "Epoch[1] Batch[685] Speed: 1.255741949661541 samples/sec                   batch loss = 1830.4377450942993 | accuracy = 0.6043795620437956\n"
     ]
    },
    {
     "name": "stdout",
     "output_type": "stream",
     "text": [
      "Epoch[1] Batch[690] Speed: 1.2564379540178237 samples/sec                   batch loss = 1842.915904045105 | accuracy = 0.6047101449275363\n"
     ]
    },
    {
     "name": "stdout",
     "output_type": "stream",
     "text": [
      "Epoch[1] Batch[695] Speed: 1.2563974007878573 samples/sec                   batch loss = 1854.397255897522 | accuracy = 0.6057553956834533\n"
     ]
    },
    {
     "name": "stdout",
     "output_type": "stream",
     "text": [
      "Epoch[1] Batch[700] Speed: 1.2604012377120537 samples/sec                   batch loss = 1867.4645247459412 | accuracy = 0.6064285714285714\n"
     ]
    },
    {
     "name": "stdout",
     "output_type": "stream",
     "text": [
      "Epoch[1] Batch[705] Speed: 1.2577672141785732 samples/sec                   batch loss = 1880.2930188179016 | accuracy = 0.6074468085106383\n"
     ]
    },
    {
     "name": "stdout",
     "output_type": "stream",
     "text": [
      "Epoch[1] Batch[710] Speed: 1.259432371671972 samples/sec                   batch loss = 1894.1747541427612 | accuracy = 0.6070422535211267\n"
     ]
    },
    {
     "name": "stdout",
     "output_type": "stream",
     "text": [
      "Epoch[1] Batch[715] Speed: 1.261939815038726 samples/sec                   batch loss = 1907.6635291576385 | accuracy = 0.6062937062937063\n"
     ]
    },
    {
     "name": "stdout",
     "output_type": "stream",
     "text": [
      "Epoch[1] Batch[720] Speed: 1.273419551615143 samples/sec                   batch loss = 1922.2227736711502 | accuracy = 0.6059027777777778\n"
     ]
    },
    {
     "name": "stdout",
     "output_type": "stream",
     "text": [
      "Epoch[1] Batch[725] Speed: 1.258147519553267 samples/sec                   batch loss = 1935.0270417928696 | accuracy = 0.6058620689655172\n"
     ]
    },
    {
     "name": "stdout",
     "output_type": "stream",
     "text": [
      "Epoch[1] Batch[730] Speed: 1.258719731132464 samples/sec                   batch loss = 1948.8306795358658 | accuracy = 0.6054794520547945\n"
     ]
    },
    {
     "name": "stdout",
     "output_type": "stream",
     "text": [
      "Epoch[1] Batch[735] Speed: 1.260157272392891 samples/sec                   batch loss = 1961.7099258899689 | accuracy = 0.6051020408163266\n"
     ]
    },
    {
     "name": "stdout",
     "output_type": "stream",
     "text": [
      "Epoch[1] Batch[740] Speed: 1.261769361878721 samples/sec                   batch loss = 1975.1405515670776 | accuracy = 0.6054054054054054\n"
     ]
    },
    {
     "name": "stdout",
     "output_type": "stream",
     "text": [
      "Epoch[1] Batch[745] Speed: 1.2610608995802706 samples/sec                   batch loss = 1987.966795682907 | accuracy = 0.6060402684563758\n"
     ]
    },
    {
     "name": "stdout",
     "output_type": "stream",
     "text": [
      "Epoch[1] Batch[750] Speed: 1.2596112726136992 samples/sec                   batch loss = 2002.46826338768 | accuracy = 0.607\n"
     ]
    },
    {
     "name": "stdout",
     "output_type": "stream",
     "text": [
      "Epoch[1] Batch[755] Speed: 1.2574670560914376 samples/sec                   batch loss = 2012.831723690033 | accuracy = 0.6082781456953642\n"
     ]
    },
    {
     "name": "stdout",
     "output_type": "stream",
     "text": [
      "Epoch[1] Batch[760] Speed: 1.2549818442512555 samples/sec                   batch loss = 2024.8274285793304 | accuracy = 0.6085526315789473\n"
     ]
    },
    {
     "name": "stdout",
     "output_type": "stream",
     "text": [
      "Epoch[1] Batch[765] Speed: 1.2556859342158373 samples/sec                   batch loss = 2038.8355567455292 | accuracy = 0.607516339869281\n"
     ]
    },
    {
     "name": "stdout",
     "output_type": "stream",
     "text": [
      "Epoch[1] Batch[770] Speed: 1.2585394783755965 samples/sec                   batch loss = 2050.6790940761566 | accuracy = 0.6077922077922078\n"
     ]
    },
    {
     "name": "stdout",
     "output_type": "stream",
     "text": [
      "Epoch[1] Batch[775] Speed: 1.260364499601845 samples/sec                   batch loss = 2063.020164847374 | accuracy = 0.607741935483871\n"
     ]
    },
    {
     "name": "stdout",
     "output_type": "stream",
     "text": [
      "Epoch[1] Batch[780] Speed: 1.256039686060752 samples/sec                   batch loss = 2075.499864220619 | accuracy = 0.6083333333333333\n"
     ]
    },
    {
     "name": "stdout",
     "output_type": "stream",
     "text": [
      "Epoch[1] Batch[785] Speed: 1.2545257722577128 samples/sec                   batch loss = 2089.1262975931168 | accuracy = 0.6079617834394905\n"
     ]
    },
    {
     "name": "stdout",
     "output_type": "stream",
     "text": [
      "[Epoch 1] training: accuracy=0.6078680203045685\n",
      "[Epoch 1] time cost: 644.685052394867\n",
      "[Epoch 1] validation: validation accuracy=0.6922222222222222\n"
     ]
    },
    {
     "name": "stdout",
     "output_type": "stream",
     "text": [
      "Epoch[2] Batch[5] Speed: 1.2569521060737943 samples/sec                   batch loss = 11.449068427085876 | accuracy = 0.7\n"
     ]
    },
    {
     "name": "stdout",
     "output_type": "stream",
     "text": [
      "Epoch[2] Batch[10] Speed: 1.2571930418779196 samples/sec                   batch loss = 25.015748620033264 | accuracy = 0.625\n"
     ]
    },
    {
     "name": "stdout",
     "output_type": "stream",
     "text": [
      "Epoch[2] Batch[15] Speed: 1.2606026725755013 samples/sec                   batch loss = 35.68412232398987 | accuracy = 0.7\n"
     ]
    },
    {
     "name": "stdout",
     "output_type": "stream",
     "text": [
      "Epoch[2] Batch[20] Speed: 1.2573224016564637 samples/sec                   batch loss = 49.17046880722046 | accuracy = 0.7\n"
     ]
    },
    {
     "name": "stdout",
     "output_type": "stream",
     "text": [
      "Epoch[2] Batch[25] Speed: 1.2571490486605656 samples/sec                   batch loss = 60.99750065803528 | accuracy = 0.68\n"
     ]
    },
    {
     "name": "stdout",
     "output_type": "stream",
     "text": [
      "Epoch[2] Batch[30] Speed: 1.2562109460785675 samples/sec                   batch loss = 71.49170863628387 | accuracy = 0.6916666666666667\n"
     ]
    },
    {
     "name": "stdout",
     "output_type": "stream",
     "text": [
      "Epoch[2] Batch[35] Speed: 1.2626563925474956 samples/sec                   batch loss = 84.74616754055023 | accuracy = 0.6928571428571428\n"
     ]
    },
    {
     "name": "stdout",
     "output_type": "stream",
     "text": [
      "Epoch[2] Batch[40] Speed: 1.263481201732356 samples/sec                   batch loss = 96.64543104171753 | accuracy = 0.68125\n"
     ]
    },
    {
     "name": "stdout",
     "output_type": "stream",
     "text": [
      "Epoch[2] Batch[45] Speed: 1.2545481927395519 samples/sec                   batch loss = 111.46894550323486 | accuracy = 0.6611111111111111\n"
     ]
    },
    {
     "name": "stdout",
     "output_type": "stream",
     "text": [
      "Epoch[2] Batch[50] Speed: 1.2581445947011025 samples/sec                   batch loss = 124.24889993667603 | accuracy = 0.655\n"
     ]
    },
    {
     "name": "stdout",
     "output_type": "stream",
     "text": [
      "Epoch[2] Batch[55] Speed: 1.2596184599712716 samples/sec                   batch loss = 136.1501098871231 | accuracy = 0.6636363636363637\n"
     ]
    },
    {
     "name": "stdout",
     "output_type": "stream",
     "text": [
      "Epoch[2] Batch[60] Speed: 1.2626021340312763 samples/sec                   batch loss = 147.04627060890198 | accuracy = 0.6666666666666666\n"
     ]
    },
    {
     "name": "stdout",
     "output_type": "stream",
     "text": [
      "Epoch[2] Batch[65] Speed: 1.2589685250664857 samples/sec                   batch loss = 159.21461272239685 | accuracy = 0.6692307692307692\n"
     ]
    },
    {
     "name": "stdout",
     "output_type": "stream",
     "text": [
      "Epoch[2] Batch[70] Speed: 1.2629342197922888 samples/sec                   batch loss = 170.02249455451965 | accuracy = 0.6821428571428572\n"
     ]
    },
    {
     "name": "stdout",
     "output_type": "stream",
     "text": [
      "Epoch[2] Batch[75] Speed: 1.2570751055428977 samples/sec                   batch loss = 179.53430378437042 | accuracy = 0.69\n"
     ]
    },
    {
     "name": "stdout",
     "output_type": "stream",
     "text": [
      "Epoch[2] Batch[80] Speed: 1.2577713630956326 samples/sec                   batch loss = 192.4808897972107 | accuracy = 0.69375\n"
     ]
    },
    {
     "name": "stdout",
     "output_type": "stream",
     "text": [
      "Epoch[2] Batch[85] Speed: 1.2605477380195222 samples/sec                   batch loss = 205.029843211174 | accuracy = 0.6941176470588235\n"
     ]
    },
    {
     "name": "stdout",
     "output_type": "stream",
     "text": [
      "Epoch[2] Batch[90] Speed: 1.2567397861524894 samples/sec                   batch loss = 218.45237624645233 | accuracy = 0.6861111111111111\n"
     ]
    },
    {
     "name": "stdout",
     "output_type": "stream",
     "text": [
      "Epoch[2] Batch[95] Speed: 1.261675138890017 samples/sec                   batch loss = 228.5103394985199 | accuracy = 0.6947368421052632\n"
     ]
    },
    {
     "name": "stdout",
     "output_type": "stream",
     "text": [
      "Epoch[2] Batch[100] Speed: 1.2551949791650192 samples/sec                   batch loss = 239.40087270736694 | accuracy = 0.695\n"
     ]
    },
    {
     "name": "stdout",
     "output_type": "stream",
     "text": [
      "Epoch[2] Batch[105] Speed: 1.2515958817005342 samples/sec                   batch loss = 254.94262385368347 | accuracy = 0.680952380952381\n"
     ]
    },
    {
     "name": "stdout",
     "output_type": "stream",
     "text": [
      "Epoch[2] Batch[110] Speed: 1.2588232416430805 samples/sec                   batch loss = 265.8109951019287 | accuracy = 0.6818181818181818\n"
     ]
    },
    {
     "name": "stdout",
     "output_type": "stream",
     "text": [
      "Epoch[2] Batch[115] Speed: 1.2547317143361854 samples/sec                   batch loss = 277.74667847156525 | accuracy = 0.6804347826086956\n"
     ]
    },
    {
     "name": "stdout",
     "output_type": "stream",
     "text": [
      "Epoch[2] Batch[120] Speed: 1.251816554417243 samples/sec                   batch loss = 288.3549611568451 | accuracy = 0.6833333333333333\n"
     ]
    },
    {
     "name": "stdout",
     "output_type": "stream",
     "text": [
      "Epoch[2] Batch[125] Speed: 1.2567963664018016 samples/sec                   batch loss = 300.1991163492203 | accuracy = 0.682\n"
     ]
    },
    {
     "name": "stdout",
     "output_type": "stream",
     "text": [
      "Epoch[2] Batch[130] Speed: 1.2567844097515386 samples/sec                   batch loss = 311.32648849487305 | accuracy = 0.6826923076923077\n"
     ]
    },
    {
     "name": "stdout",
     "output_type": "stream",
     "text": [
      "Epoch[2] Batch[135] Speed: 1.256690082583033 samples/sec                   batch loss = 321.9777625799179 | accuracy = 0.6851851851851852\n"
     ]
    },
    {
     "name": "stdout",
     "output_type": "stream",
     "text": [
      "Epoch[2] Batch[140] Speed: 1.2550030606061353 samples/sec                   batch loss = 334.8541452884674 | accuracy = 0.6839285714285714\n"
     ]
    },
    {
     "name": "stdout",
     "output_type": "stream",
     "text": [
      "Epoch[2] Batch[145] Speed: 1.2549883217348583 samples/sec                   batch loss = 351.1648997068405 | accuracy = 0.6793103448275862\n"
     ]
    },
    {
     "name": "stdout",
     "output_type": "stream",
     "text": [
      "Epoch[2] Batch[150] Speed: 1.254198093167994 samples/sec                   batch loss = 361.4800548553467 | accuracy = 0.6833333333333333\n"
     ]
    },
    {
     "name": "stdout",
     "output_type": "stream",
     "text": [
      "Epoch[2] Batch[155] Speed: 1.258713120638038 samples/sec                   batch loss = 373.73617482185364 | accuracy = 0.6806451612903226\n"
     ]
    },
    {
     "name": "stdout",
     "output_type": "stream",
     "text": [
      "Epoch[2] Batch[160] Speed: 1.2575474549964287 samples/sec                   batch loss = 389.358238697052 | accuracy = 0.675\n"
     ]
    },
    {
     "name": "stdout",
     "output_type": "stream",
     "text": [
      "Epoch[2] Batch[165] Speed: 1.259080202608965 samples/sec                   batch loss = 403.0684139728546 | accuracy = 0.6712121212121213\n"
     ]
    },
    {
     "name": "stdout",
     "output_type": "stream",
     "text": [
      "Epoch[2] Batch[170] Speed: 1.2560609381981354 samples/sec                   batch loss = 418.5331485271454 | accuracy = 0.6647058823529411\n"
     ]
    },
    {
     "name": "stdout",
     "output_type": "stream",
     "text": [
      "Epoch[2] Batch[175] Speed: 1.2590733048601466 samples/sec                   batch loss = 429.21470975875854 | accuracy = 0.6657142857142857\n"
     ]
    },
    {
     "name": "stdout",
     "output_type": "stream",
     "text": [
      "Epoch[2] Batch[180] Speed: 1.2565838167390058 samples/sec                   batch loss = 441.1649262905121 | accuracy = 0.6652777777777777\n"
     ]
    },
    {
     "name": "stdout",
     "output_type": "stream",
     "text": [
      "Epoch[2] Batch[185] Speed: 1.2583998628281552 samples/sec                   batch loss = 452.37197411060333 | accuracy = 0.6675675675675675\n"
     ]
    },
    {
     "name": "stdout",
     "output_type": "stream",
     "text": [
      "Epoch[2] Batch[190] Speed: 1.2571308682086435 samples/sec                   batch loss = 461.3084980249405 | accuracy = 0.6723684210526316\n"
     ]
    },
    {
     "name": "stdout",
     "output_type": "stream",
     "text": [
      "Epoch[2] Batch[195] Speed: 1.2546571170269594 samples/sec                   batch loss = 472.6395859718323 | accuracy = 0.6756410256410257\n"
     ]
    },
    {
     "name": "stdout",
     "output_type": "stream",
     "text": [
      "Epoch[2] Batch[200] Speed: 1.2603117633267595 samples/sec                   batch loss = 488.10126876831055 | accuracy = 0.67\n"
     ]
    },
    {
     "name": "stdout",
     "output_type": "stream",
     "text": [
      "Epoch[2] Batch[205] Speed: 1.261118817556785 samples/sec                   batch loss = 500.2591954469681 | accuracy = 0.6670731707317074\n"
     ]
    },
    {
     "name": "stdout",
     "output_type": "stream",
     "text": [
      "Epoch[2] Batch[210] Speed: 1.2636216616173668 samples/sec                   batch loss = 512.0205334424973 | accuracy = 0.6654761904761904\n"
     ]
    },
    {
     "name": "stdout",
     "output_type": "stream",
     "text": [
      "Epoch[2] Batch[215] Speed: 1.260907835941145 samples/sec                   batch loss = 528.4128214120865 | accuracy = 0.6627906976744186\n"
     ]
    },
    {
     "name": "stdout",
     "output_type": "stream",
     "text": [
      "Epoch[2] Batch[220] Speed: 1.2629688260668832 samples/sec                   batch loss = 540.1234549283981 | accuracy = 0.6636363636363637\n"
     ]
    },
    {
     "name": "stdout",
     "output_type": "stream",
     "text": [
      "Epoch[2] Batch[225] Speed: 1.2583277544212659 samples/sec                   batch loss = 551.2910360097885 | accuracy = 0.6655555555555556\n"
     ]
    },
    {
     "name": "stdout",
     "output_type": "stream",
     "text": [
      "Epoch[2] Batch[230] Speed: 1.2605100443182624 samples/sec                   batch loss = 562.3191289901733 | accuracy = 0.6684782608695652\n"
     ]
    },
    {
     "name": "stdout",
     "output_type": "stream",
     "text": [
      "Epoch[2] Batch[235] Speed: 1.2616272262523371 samples/sec                   batch loss = 573.7636870145798 | accuracy = 0.6712765957446809\n"
     ]
    },
    {
     "name": "stdout",
     "output_type": "stream",
     "text": [
      "Epoch[2] Batch[240] Speed: 1.258022989498639 samples/sec                   batch loss = 587.0365513563156 | accuracy = 0.6708333333333333\n"
     ]
    },
    {
     "name": "stdout",
     "output_type": "stream",
     "text": [
      "Epoch[2] Batch[245] Speed: 1.263605672738403 samples/sec                   batch loss = 599.6677680015564 | accuracy = 0.6714285714285714\n"
     ]
    },
    {
     "name": "stdout",
     "output_type": "stream",
     "text": [
      "Epoch[2] Batch[250] Speed: 1.2617982104010335 samples/sec                   batch loss = 609.6442357301712 | accuracy = 0.675\n"
     ]
    },
    {
     "name": "stdout",
     "output_type": "stream",
     "text": [
      "Epoch[2] Batch[255] Speed: 1.26597108700219 samples/sec                   batch loss = 621.7635762691498 | accuracy = 0.6745098039215687\n"
     ]
    },
    {
     "name": "stdout",
     "output_type": "stream",
     "text": [
      "Epoch[2] Batch[260] Speed: 1.2579000874153203 samples/sec                   batch loss = 634.8912315368652 | accuracy = 0.6740384615384616\n"
     ]
    },
    {
     "name": "stdout",
     "output_type": "stream",
     "text": [
      "Epoch[2] Batch[265] Speed: 1.2568549290298512 samples/sec                   batch loss = 648.0761978626251 | accuracy = 0.6716981132075471\n"
     ]
    },
    {
     "name": "stdout",
     "output_type": "stream",
     "text": [
      "Epoch[2] Batch[270] Speed: 1.25847131870749 samples/sec                   batch loss = 659.0589896440506 | accuracy = 0.674074074074074\n"
     ]
    },
    {
     "name": "stdout",
     "output_type": "stream",
     "text": [
      "Epoch[2] Batch[275] Speed: 1.2574324679318376 samples/sec                   batch loss = 669.9532725811005 | accuracy = 0.6745454545454546\n"
     ]
    },
    {
     "name": "stdout",
     "output_type": "stream",
     "text": [
      "Epoch[2] Batch[280] Speed: 1.2599010070141872 samples/sec                   batch loss = 681.4965928792953 | accuracy = 0.6758928571428572\n"
     ]
    },
    {
     "name": "stdout",
     "output_type": "stream",
     "text": [
      "Epoch[2] Batch[285] Speed: 1.260490914206655 samples/sec                   batch loss = 693.7407371997833 | accuracy = 0.6754385964912281\n"
     ]
    },
    {
     "name": "stdout",
     "output_type": "stream",
     "text": [
      "Epoch[2] Batch[290] Speed: 1.2577955027923495 samples/sec                   batch loss = 703.6105554103851 | accuracy = 0.6793103448275862\n"
     ]
    },
    {
     "name": "stdout",
     "output_type": "stream",
     "text": [
      "Epoch[2] Batch[295] Speed: 1.2557029450895814 samples/sec                   batch loss = 714.9494210481644 | accuracy = 0.6796610169491526\n"
     ]
    },
    {
     "name": "stdout",
     "output_type": "stream",
     "text": [
      "Epoch[2] Batch[300] Speed: 1.258294156991269 samples/sec                   batch loss = 727.622260928154 | accuracy = 0.6783333333333333\n"
     ]
    },
    {
     "name": "stdout",
     "output_type": "stream",
     "text": [
      "Epoch[2] Batch[305] Speed: 1.254150652972976 samples/sec                   batch loss = 738.9136583805084 | accuracy = 0.6778688524590164\n"
     ]
    },
    {
     "name": "stdout",
     "output_type": "stream",
     "text": [
      "Epoch[2] Batch[310] Speed: 1.2599333656504546 samples/sec                   batch loss = 749.9955002069473 | accuracy = 0.6790322580645162\n"
     ]
    },
    {
     "name": "stdout",
     "output_type": "stream",
     "text": [
      "Epoch[2] Batch[315] Speed: 1.2591796141767824 samples/sec                   batch loss = 763.4961079359055 | accuracy = 0.6777777777777778\n"
     ]
    },
    {
     "name": "stdout",
     "output_type": "stream",
     "text": [
      "Epoch[2] Batch[320] Speed: 1.2596773804814163 samples/sec                   batch loss = 776.9511001110077 | accuracy = 0.67578125\n"
     ]
    },
    {
     "name": "stdout",
     "output_type": "stream",
     "text": [
      "Epoch[2] Batch[325] Speed: 1.262631685814741 samples/sec                   batch loss = 788.2451812028885 | accuracy = 0.6753846153846154\n"
     ]
    },
    {
     "name": "stdout",
     "output_type": "stream",
     "text": [
      "Epoch[2] Batch[330] Speed: 1.253317565904404 samples/sec                   batch loss = 799.7510637044907 | accuracy = 0.6765151515151515\n"
     ]
    },
    {
     "name": "stdout",
     "output_type": "stream",
     "text": [
      "Epoch[2] Batch[335] Speed: 1.2604693225010148 samples/sec                   batch loss = 810.5803227424622 | accuracy = 0.6776119402985075\n"
     ]
    },
    {
     "name": "stdout",
     "output_type": "stream",
     "text": [
      "Epoch[2] Batch[340] Speed: 1.2646750583765496 samples/sec                   batch loss = 822.3215544223785 | accuracy = 0.6779411764705883\n"
     ]
    },
    {
     "name": "stdout",
     "output_type": "stream",
     "text": [
      "Epoch[2] Batch[345] Speed: 1.2615981009421897 samples/sec                   batch loss = 835.0062981843948 | accuracy = 0.6768115942028986\n"
     ]
    },
    {
     "name": "stdout",
     "output_type": "stream",
     "text": [
      "Epoch[2] Batch[350] Speed: 1.2597870081040723 samples/sec                   batch loss = 845.2289496660233 | accuracy = 0.6771428571428572\n"
     ]
    },
    {
     "name": "stdout",
     "output_type": "stream",
     "text": [
      "Epoch[2] Batch[355] Speed: 1.263963425466294 samples/sec                   batch loss = 856.6350232362747 | accuracy = 0.6767605633802817\n"
     ]
    },
    {
     "name": "stdout",
     "output_type": "stream",
     "text": [
      "Epoch[2] Batch[360] Speed: 1.2570402563888545 samples/sec                   batch loss = 867.988538146019 | accuracy = 0.6777777777777778\n"
     ]
    },
    {
     "name": "stdout",
     "output_type": "stream",
     "text": [
      "Epoch[2] Batch[365] Speed: 1.2624872658009794 samples/sec                   batch loss = 880.2870922088623 | accuracy = 0.6767123287671233\n"
     ]
    },
    {
     "name": "stdout",
     "output_type": "stream",
     "text": [
      "Epoch[2] Batch[370] Speed: 1.2569812997874914 samples/sec                   batch loss = 890.3551579713821 | accuracy = 0.6763513513513514\n"
     ]
    },
    {
     "name": "stdout",
     "output_type": "stream",
     "text": [
      "Epoch[2] Batch[375] Speed: 1.2548754916554883 samples/sec                   batch loss = 901.5323145389557 | accuracy = 0.678\n"
     ]
    },
    {
     "name": "stdout",
     "output_type": "stream",
     "text": [
      "Epoch[2] Batch[380] Speed: 1.2516115680931115 samples/sec                   batch loss = 911.564263343811 | accuracy = 0.6796052631578947\n"
     ]
    },
    {
     "name": "stdout",
     "output_type": "stream",
     "text": [
      "Epoch[2] Batch[385] Speed: 1.258898996435479 samples/sec                   batch loss = 926.5303218364716 | accuracy = 0.6766233766233766\n"
     ]
    },
    {
     "name": "stdout",
     "output_type": "stream",
     "text": [
      "Epoch[2] Batch[390] Speed: 1.252497179360707 samples/sec                   batch loss = 937.3604439496994 | accuracy = 0.676923076923077\n"
     ]
    },
    {
     "name": "stdout",
     "output_type": "stream",
     "text": [
      "Epoch[2] Batch[395] Speed: 1.2562642803967938 samples/sec                   batch loss = 949.2625737190247 | accuracy = 0.6759493670886076\n"
     ]
    },
    {
     "name": "stdout",
     "output_type": "stream",
     "text": [
      "Epoch[2] Batch[400] Speed: 1.258314447359415 samples/sec                   batch loss = 959.1107107400894 | accuracy = 0.6775\n"
     ]
    },
    {
     "name": "stdout",
     "output_type": "stream",
     "text": [
      "Epoch[2] Batch[405] Speed: 1.2575294515347328 samples/sec                   batch loss = 967.569477379322 | accuracy = 0.6796296296296296\n"
     ]
    },
    {
     "name": "stdout",
     "output_type": "stream",
     "text": [
      "Epoch[2] Batch[410] Speed: 1.2668232865051947 samples/sec                   batch loss = 978.807530939579 | accuracy = 0.6792682926829269\n"
     ]
    },
    {
     "name": "stdout",
     "output_type": "stream",
     "text": [
      "Epoch[2] Batch[415] Speed: 1.2666365935260204 samples/sec                   batch loss = 987.2109896540642 | accuracy = 0.6813253012048193\n"
     ]
    },
    {
     "name": "stdout",
     "output_type": "stream",
     "text": [
      "Epoch[2] Batch[420] Speed: 1.2615253409785332 samples/sec                   batch loss = 996.6513137817383 | accuracy = 0.6815476190476191\n"
     ]
    },
    {
     "name": "stdout",
     "output_type": "stream",
     "text": [
      "Epoch[2] Batch[425] Speed: 1.266816112346424 samples/sec                   batch loss = 1008.0260610580444 | accuracy = 0.6811764705882353\n"
     ]
    },
    {
     "name": "stdout",
     "output_type": "stream",
     "text": [
      "Epoch[2] Batch[430] Speed: 1.26061849082684 samples/sec                   batch loss = 1020.7256200313568 | accuracy = 0.6813953488372093\n"
     ]
    },
    {
     "name": "stdout",
     "output_type": "stream",
     "text": [
      "Epoch[2] Batch[435] Speed: 1.261195038516432 samples/sec                   batch loss = 1034.345435142517 | accuracy = 0.6804597701149425\n"
     ]
    },
    {
     "name": "stdout",
     "output_type": "stream",
     "text": [
      "Epoch[2] Batch[440] Speed: 1.2542612898323011 samples/sec                   batch loss = 1047.3327726125717 | accuracy = 0.6806818181818182\n"
     ]
    },
    {
     "name": "stdout",
     "output_type": "stream",
     "text": [
      "Epoch[2] Batch[445] Speed: 1.2621892189649293 samples/sec                   batch loss = 1059.0070395469666 | accuracy = 0.6814606741573034\n"
     ]
    },
    {
     "name": "stdout",
     "output_type": "stream",
     "text": [
      "Epoch[2] Batch[450] Speed: 1.2598584323934365 samples/sec                   batch loss = 1069.9411293268204 | accuracy = 0.6816666666666666\n"
     ]
    },
    {
     "name": "stdout",
     "output_type": "stream",
     "text": [
      "Epoch[2] Batch[455] Speed: 1.2562063371525447 samples/sec                   batch loss = 1081.180758357048 | accuracy = 0.6818681318681319\n"
     ]
    },
    {
     "name": "stdout",
     "output_type": "stream",
     "text": [
      "Epoch[2] Batch[460] Speed: 1.261285396935921 samples/sec                   batch loss = 1094.6798013448715 | accuracy = 0.6804347826086956\n"
     ]
    },
    {
     "name": "stdout",
     "output_type": "stream",
     "text": [
      "Epoch[2] Batch[465] Speed: 1.2601914426764118 samples/sec                   batch loss = 1103.7873122692108 | accuracy = 0.682258064516129\n"
     ]
    },
    {
     "name": "stdout",
     "output_type": "stream",
     "text": [
      "Epoch[2] Batch[470] Speed: 1.2581845059538952 samples/sec                   batch loss = 1118.582913160324 | accuracy = 0.6803191489361702\n"
     ]
    },
    {
     "name": "stdout",
     "output_type": "stream",
     "text": [
      "Epoch[2] Batch[475] Speed: 1.2615112073567782 samples/sec                   batch loss = 1128.5345426797867 | accuracy = 0.6810526315789474\n"
     ]
    },
    {
     "name": "stdout",
     "output_type": "stream",
     "text": [
      "Epoch[2] Batch[480] Speed: 1.266763026096855 samples/sec                   batch loss = 1140.2238582372665 | accuracy = 0.6802083333333333\n"
     ]
    },
    {
     "name": "stdout",
     "output_type": "stream",
     "text": [
      "Epoch[2] Batch[485] Speed: 1.2644852811497118 samples/sec                   batch loss = 1149.380452632904 | accuracy = 0.6804123711340206\n"
     ]
    },
    {
     "name": "stdout",
     "output_type": "stream",
     "text": [
      "Epoch[2] Batch[490] Speed: 1.2597614676088462 samples/sec                   batch loss = 1161.0440336465836 | accuracy = 0.6816326530612244\n"
     ]
    },
    {
     "name": "stdout",
     "output_type": "stream",
     "text": [
      "Epoch[2] Batch[495] Speed: 1.259880097785322 samples/sec                   batch loss = 1175.6835976839066 | accuracy = 0.6797979797979798\n"
     ]
    },
    {
     "name": "stdout",
     "output_type": "stream",
     "text": [
      "Epoch[2] Batch[500] Speed: 1.2617149897963114 samples/sec                   batch loss = 1188.3457225561142 | accuracy = 0.678\n"
     ]
    },
    {
     "name": "stdout",
     "output_type": "stream",
     "text": [
      "Epoch[2] Batch[505] Speed: 1.258278491387237 samples/sec                   batch loss = 1200.6216690540314 | accuracy = 0.6787128712871288\n"
     ]
    },
    {
     "name": "stdout",
     "output_type": "stream",
     "text": [
      "Epoch[2] Batch[510] Speed: 1.2624051891506636 samples/sec                   batch loss = 1213.4436568021774 | accuracy = 0.6784313725490196\n"
     ]
    },
    {
     "name": "stdout",
     "output_type": "stream",
     "text": [
      "Epoch[2] Batch[515] Speed: 1.262878036171276 samples/sec                   batch loss = 1225.5790619850159 | accuracy = 0.6786407766990291\n"
     ]
    },
    {
     "name": "stdout",
     "output_type": "stream",
     "text": [
      "Epoch[2] Batch[520] Speed: 1.262503511403209 samples/sec                   batch loss = 1235.9509419202805 | accuracy = 0.6802884615384616\n"
     ]
    },
    {
     "name": "stdout",
     "output_type": "stream",
     "text": [
      "Epoch[2] Batch[525] Speed: 1.2626753033538924 samples/sec                   batch loss = 1248.449971318245 | accuracy = 0.6804761904761905\n"
     ]
    },
    {
     "name": "stdout",
     "output_type": "stream",
     "text": [
      "Epoch[2] Batch[530] Speed: 1.2615490558204772 samples/sec                   batch loss = 1257.959887623787 | accuracy = 0.6811320754716981\n"
     ]
    },
    {
     "name": "stdout",
     "output_type": "stream",
     "text": [
      "Epoch[2] Batch[535] Speed: 1.272817773790943 samples/sec                   batch loss = 1272.4049941301346 | accuracy = 0.680373831775701\n"
     ]
    },
    {
     "name": "stdout",
     "output_type": "stream",
     "text": [
      "Epoch[2] Batch[540] Speed: 1.2672337836838556 samples/sec                   batch loss = 1284.7282725572586 | accuracy = 0.6796296296296296\n"
     ]
    },
    {
     "name": "stdout",
     "output_type": "stream",
     "text": [
      "Epoch[2] Batch[545] Speed: 1.259770264773614 samples/sec                   batch loss = 1298.6307030916214 | accuracy = 0.6784403669724771\n"
     ]
    },
    {
     "name": "stdout",
     "output_type": "stream",
     "text": [
      "Epoch[2] Batch[550] Speed: 1.2609463116010227 samples/sec                   batch loss = 1310.252740263939 | accuracy = 0.6781818181818182\n"
     ]
    },
    {
     "name": "stdout",
     "output_type": "stream",
     "text": [
      "Epoch[2] Batch[555] Speed: 1.2555123744616041 samples/sec                   batch loss = 1322.8675223588943 | accuracy = 0.6774774774774774\n"
     ]
    },
    {
     "name": "stdout",
     "output_type": "stream",
     "text": [
      "Epoch[2] Batch[560] Speed: 1.259400133302376 samples/sec                   batch loss = 1333.2901023626328 | accuracy = 0.6776785714285715\n"
     ]
    },
    {
     "name": "stdout",
     "output_type": "stream",
     "text": [
      "Epoch[2] Batch[565] Speed: 1.2636184257401566 samples/sec                   batch loss = 1343.3827729225159 | accuracy = 0.679646017699115\n"
     ]
    },
    {
     "name": "stdout",
     "output_type": "stream",
     "text": [
      "Epoch[2] Batch[570] Speed: 1.2623289168316005 samples/sec                   batch loss = 1354.9099779129028 | accuracy = 0.6798245614035088\n"
     ]
    },
    {
     "name": "stdout",
     "output_type": "stream",
     "text": [
      "Epoch[2] Batch[575] Speed: 1.2603288997651403 samples/sec                   batch loss = 1367.8614438772202 | accuracy = 0.68\n"
     ]
    },
    {
     "name": "stdout",
     "output_type": "stream",
     "text": [
      "Epoch[2] Batch[580] Speed: 1.2690595510081697 samples/sec                   batch loss = 1375.2477132081985 | accuracy = 0.6814655172413793\n"
     ]
    },
    {
     "name": "stdout",
     "output_type": "stream",
     "text": [
      "Epoch[2] Batch[585] Speed: 1.264432580655056 samples/sec                   batch loss = 1386.0290882587433 | accuracy = 0.6824786324786325\n"
     ]
    },
    {
     "name": "stdout",
     "output_type": "stream",
     "text": [
      "Epoch[2] Batch[590] Speed: 1.2637975659950405 samples/sec                   batch loss = 1397.2541933059692 | accuracy = 0.6817796610169492\n"
     ]
    },
    {
     "name": "stdout",
     "output_type": "stream",
     "text": [
      "Epoch[2] Batch[595] Speed: 1.2619331706789085 samples/sec                   batch loss = 1410.0321830511093 | accuracy = 0.6810924369747899\n"
     ]
    },
    {
     "name": "stdout",
     "output_type": "stream",
     "text": [
      "Epoch[2] Batch[600] Speed: 1.2632416545579646 samples/sec                   batch loss = 1420.9121800661087 | accuracy = 0.68125\n"
     ]
    },
    {
     "name": "stdout",
     "output_type": "stream",
     "text": [
      "Epoch[2] Batch[605] Speed: 1.2608448205361524 samples/sec                   batch loss = 1432.0431320667267 | accuracy = 0.6805785123966942\n"
     ]
    },
    {
     "name": "stdout",
     "output_type": "stream",
     "text": [
      "Epoch[2] Batch[610] Speed: 1.2586137827125092 samples/sec                   batch loss = 1443.8212497234344 | accuracy = 0.6799180327868852\n"
     ]
    },
    {
     "name": "stdout",
     "output_type": "stream",
     "text": [
      "Epoch[2] Batch[615] Speed: 1.2636280382474352 samples/sec                   batch loss = 1455.4836583137512 | accuracy = 0.6804878048780488\n"
     ]
    },
    {
     "name": "stdout",
     "output_type": "stream",
     "text": [
      "Epoch[2] Batch[620] Speed: 1.2585178590664179 samples/sec                   batch loss = 1465.197989821434 | accuracy = 0.6818548387096774\n"
     ]
    },
    {
     "name": "stdout",
     "output_type": "stream",
     "text": [
      "Epoch[2] Batch[625] Speed: 1.261436560527762 samples/sec                   batch loss = 1477.2186810970306 | accuracy = 0.6816\n"
     ]
    },
    {
     "name": "stdout",
     "output_type": "stream",
     "text": [
      "Epoch[2] Batch[630] Speed: 1.264107230958919 samples/sec                   batch loss = 1487.8008351325989 | accuracy = 0.682936507936508\n"
     ]
    },
    {
     "name": "stdout",
     "output_type": "stream",
     "text": [
      "Epoch[2] Batch[635] Speed: 1.2523376805917927 samples/sec                   batch loss = 1499.3882225751877 | accuracy = 0.6834645669291338\n"
     ]
    },
    {
     "name": "stdout",
     "output_type": "stream",
     "text": [
      "Epoch[2] Batch[640] Speed: 1.2548840329899282 samples/sec                   batch loss = 1509.9412469863892 | accuracy = 0.683984375\n"
     ]
    },
    {
     "name": "stdout",
     "output_type": "stream",
     "text": [
      "Epoch[2] Batch[645] Speed: 1.2518158071925543 samples/sec                   batch loss = 1524.15571475029 | accuracy = 0.6829457364341085\n"
     ]
    },
    {
     "name": "stdout",
     "output_type": "stream",
     "text": [
      "Epoch[2] Batch[650] Speed: 1.2613121371669251 samples/sec                   batch loss = 1533.5227884054184 | accuracy = 0.6842307692307692\n"
     ]
    },
    {
     "name": "stdout",
     "output_type": "stream",
     "text": [
      "Epoch[2] Batch[655] Speed: 1.2580620439986856 samples/sec                   batch loss = 1544.2604225873947 | accuracy = 0.684732824427481\n"
     ]
    },
    {
     "name": "stdout",
     "output_type": "stream",
     "text": [
      "Epoch[2] Batch[660] Speed: 1.2574797797351314 samples/sec                   batch loss = 1556.266304910183 | accuracy = 0.684469696969697\n"
     ]
    },
    {
     "name": "stdout",
     "output_type": "stream",
     "text": [
      "Epoch[2] Batch[665] Speed: 1.2611963658286864 samples/sec                   batch loss = 1569.148115992546 | accuracy = 0.6838345864661655\n"
     ]
    },
    {
     "name": "stdout",
     "output_type": "stream",
     "text": [
      "Epoch[2] Batch[670] Speed: 1.2648775756460862 samples/sec                   batch loss = 1581.690850019455 | accuracy = 0.683955223880597\n"
     ]
    },
    {
     "name": "stdout",
     "output_type": "stream",
     "text": [
      "Epoch[2] Batch[675] Speed: 1.2572474017758606 samples/sec                   batch loss = 1591.7128514051437 | accuracy = 0.6844444444444444\n"
     ]
    },
    {
     "name": "stdout",
     "output_type": "stream",
     "text": [
      "Epoch[2] Batch[680] Speed: 1.2604161039993298 samples/sec                   batch loss = 1605.2175277471542 | accuracy = 0.6838235294117647\n"
     ]
    },
    {
     "name": "stdout",
     "output_type": "stream",
     "text": [
      "Epoch[2] Batch[685] Speed: 1.2637345470010248 samples/sec                   batch loss = 1617.852651000023 | accuracy = 0.6839416058394161\n"
     ]
    },
    {
     "name": "stdout",
     "output_type": "stream",
     "text": [
      "Epoch[2] Batch[690] Speed: 1.2640847532410544 samples/sec                   batch loss = 1629.7821688652039 | accuracy = 0.6840579710144927\n"
     ]
    },
    {
     "name": "stdout",
     "output_type": "stream",
     "text": [
      "Epoch[2] Batch[695] Speed: 1.2556452415647128 samples/sec                   batch loss = 1639.3034924268723 | accuracy = 0.6845323741007194\n"
     ]
    },
    {
     "name": "stdout",
     "output_type": "stream",
     "text": [
      "Epoch[2] Batch[700] Speed: 1.2559742415179598 samples/sec                   batch loss = 1651.1994713544846 | accuracy = 0.6853571428571429\n"
     ]
    },
    {
     "name": "stdout",
     "output_type": "stream",
     "text": [
      "Epoch[2] Batch[705] Speed: 1.2507437121434417 samples/sec                   batch loss = 1663.0886850357056 | accuracy = 0.6858156028368795\n"
     ]
    },
    {
     "name": "stdout",
     "output_type": "stream",
     "text": [
      "Epoch[2] Batch[710] Speed: 1.2581178942600657 samples/sec                   batch loss = 1671.8440697789192 | accuracy = 0.6862676056338028\n"
     ]
    },
    {
     "name": "stdout",
     "output_type": "stream",
     "text": [
      "Epoch[2] Batch[715] Speed: 1.2569976865306756 samples/sec                   batch loss = 1681.2856213450432 | accuracy = 0.6867132867132867\n"
     ]
    },
    {
     "name": "stdout",
     "output_type": "stream",
     "text": [
      "Epoch[2] Batch[720] Speed: 1.2526437184276549 samples/sec                   batch loss = 1693.5263504385948 | accuracy = 0.6875\n"
     ]
    },
    {
     "name": "stdout",
     "output_type": "stream",
     "text": [
      "Epoch[2] Batch[725] Speed: 1.2556665743346613 samples/sec                   batch loss = 1704.8493770360947 | accuracy = 0.6879310344827586\n"
     ]
    },
    {
     "name": "stdout",
     "output_type": "stream",
     "text": [
      "Epoch[2] Batch[730] Speed: 1.2549889788746118 samples/sec                   batch loss = 1716.0344908237457 | accuracy = 0.6886986301369863\n"
     ]
    },
    {
     "name": "stdout",
     "output_type": "stream",
     "text": [
      "Epoch[2] Batch[735] Speed: 1.2536566819780635 samples/sec                   batch loss = 1731.8051147460938 | accuracy = 0.6874149659863945\n"
     ]
    },
    {
     "name": "stdout",
     "output_type": "stream",
     "text": [
      "Epoch[2] Batch[740] Speed: 1.2527974950645178 samples/sec                   batch loss = 1745.2593712806702 | accuracy = 0.6864864864864865\n"
     ]
    },
    {
     "name": "stdout",
     "output_type": "stream",
     "text": [
      "Epoch[2] Batch[745] Speed: 1.2559776264132654 samples/sec                   batch loss = 1754.9089258909225 | accuracy = 0.687248322147651\n"
     ]
    },
    {
     "name": "stdout",
     "output_type": "stream",
     "text": [
      "Epoch[2] Batch[750] Speed: 1.2567315960892533 samples/sec                   batch loss = 1767.1627221107483 | accuracy = 0.688\n"
     ]
    },
    {
     "name": "stdout",
     "output_type": "stream",
     "text": [
      "Epoch[2] Batch[755] Speed: 1.2570137911600783 samples/sec                   batch loss = 1777.8179486989975 | accuracy = 0.68841059602649\n"
     ]
    },
    {
     "name": "stdout",
     "output_type": "stream",
     "text": [
      "Epoch[2] Batch[760] Speed: 1.2628983795785405 samples/sec                   batch loss = 1786.8711208701134 | accuracy = 0.6894736842105263\n"
     ]
    },
    {
     "name": "stdout",
     "output_type": "stream",
     "text": [
      "Epoch[2] Batch[765] Speed: 1.2617964073297416 samples/sec                   batch loss = 1793.657429754734 | accuracy = 0.6908496732026144\n"
     ]
    },
    {
     "name": "stdout",
     "output_type": "stream",
     "text": [
      "Epoch[2] Batch[770] Speed: 1.2609163648257489 samples/sec                   batch loss = 1803.9612491726875 | accuracy = 0.6912337662337662\n"
     ]
    },
    {
     "name": "stdout",
     "output_type": "stream",
     "text": [
      "Epoch[2] Batch[775] Speed: 1.2635938716825157 samples/sec                   batch loss = 1813.4408681988716 | accuracy = 0.6912903225806452\n"
     ]
    },
    {
     "name": "stdout",
     "output_type": "stream",
     "text": [
      "Epoch[2] Batch[780] Speed: 1.264704135258656 samples/sec                   batch loss = 1825.3346977829933 | accuracy = 0.6913461538461538\n"
     ]
    },
    {
     "name": "stdout",
     "output_type": "stream",
     "text": [
      "Epoch[2] Batch[785] Speed: 1.254709474965028 samples/sec                   batch loss = 1839.5849311947823 | accuracy = 0.6907643312101911\n"
     ]
    },
    {
     "name": "stdout",
     "output_type": "stream",
     "text": [
      "[Epoch 2] training: accuracy=0.6913071065989848\n",
      "[Epoch 2] time cost: 641.6141455173492\n",
      "[Epoch 2] validation: validation accuracy=0.7322222222222222\n"
     ]
    }
   ],
   "source": [
    "# Diff 1: Use two GPUs for training.\n",
    "available_gpus = [npx.gpu(i) for i in range(npx.num_gpus())]\n",
    "num_gpus = 2\n",
    "devices = available_gpus[:num_gpus]\n",
    "print('Using {} GPUs'.format(len(devices)))\n",
    "\n",
    "# Diff 2: reinitialize the parameters and place them on multiple GPUs\n",
    "net.initialize(force_reinit=True, ctx=devices)\n",
    "\n",
    "# Loss and trainer are the same as before\n",
    "loss_fn = gluon.loss.SoftmaxCrossEntropyLoss()\n",
    "optimizer = 'sgd'\n",
    "optimizer_params = {'learning_rate': 0.001}\n",
    "trainer = gluon.Trainer(net.collect_params(), optimizer, optimizer_params)\n",
    "\n",
    "epochs = 2\n",
    "accuracy = gluon.metric.Accuracy()\n",
    "log_interval = 5\n",
    "\n",
    "for epoch in range(epochs):\n",
    "    train_loss = 0.\n",
    "    tic = time.time()\n",
    "    btic = time.time()\n",
    "    accuracy.reset()\n",
    "    for idx, batch in enumerate(train_loader):\n",
    "        data, label = batch[0], batch[1]\n",
    "\n",
    "        # Diff 3: split batch and load into corresponding devices\n",
    "        data_list = gluon.utils.split_and_load(data, devices)\n",
    "        label_list = gluon.utils.split_and_load(label, devices)\n",
    "\n",
    "        # Diff 4: run forward and backward on each devices.\n",
    "        # MXNet will automatically run them in parallel\n",
    "        with autograd.record():\n",
    "            outputs = [net(X)\n",
    "                      for X in data_list]\n",
    "            losses = [loss_fn(output, label)\n",
    "                      for output, label in zip(outputs, label_list)]\n",
    "        for l in losses:\n",
    "            l.backward()\n",
    "        trainer.step(batch_size)\n",
    "\n",
    "        # Diff 5: sum losses over all devices. Here, the float\n",
    "        # function will copy data into CPU.\n",
    "        train_loss += sum([float(l.sum()) for l in losses])\n",
    "        accuracy.update(label_list, outputs)\n",
    "        if log_interval and (idx + 1) % log_interval == 0:\n",
    "            _, acc = accuracy.get()\n",
    "\n",
    "            print(f\"\"\"Epoch[{epoch + 1}] Batch[{idx + 1}] Speed: {batch_size / (time.time() - btic)} samples/sec \\\n",
    "                  batch loss = {train_loss} | accuracy = {acc}\"\"\")\n",
    "            btic = time.time()\n",
    "\n",
    "    _, acc = accuracy.get()\n",
    "\n",
    "    acc_val = test(validation_loader, devices)\n",
    "    print(f\"[Epoch {epoch + 1}] training: accuracy={acc}\")\n",
    "    print(f\"[Epoch {epoch + 1}] time cost: {time.time() - tic}\")\n",
    "    print(f\"[Epoch {epoch + 1}] validation: validation accuracy={acc_val}\")"
   ]
  },
  {
   "cell_type": "markdown",
   "id": "d80d6317",
   "metadata": {},
   "source": [
    "## Next steps\n",
    "\n",
    "Now that you have completed training and predicting with a neural network on GPUs, you reached the conclusion of the crash course. Congratulations.\n",
    "If you are keen on studying more, checkout [D2L.ai](https://d2l.ai),\n",
    "[GluonCV](https://cv.gluon.ai/tutorials/index.html), [GluonNLP](https://nlp.gluon.ai),\n",
    "[GluonTS](https://ts.gluon.ai/), [AutoGluon](https://auto.gluon.ai)."
   ]
  }
 ],
 "metadata": {
  "language_info": {
   "name": "python"
  }
 },
 "nbformat": 4,
 "nbformat_minor": 5
}