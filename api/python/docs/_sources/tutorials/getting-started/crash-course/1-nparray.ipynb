{
 "cells": [
  {
   "cell_type": "markdown",
   "id": "63651cd7",
   "metadata": {},
   "source": [
    "<!--- Licensed to the Apache Software Foundation (ASF) under one -->\n",
    "<!--- or more contributor license agreements.  See the NOTICE file -->\n",
    "<!--- distributed with this work for additional information -->\n",
    "<!--- regarding copyright ownership.  The ASF licenses this file -->\n",
    "<!--- to you under the Apache License, Version 2.0 (the -->\n",
    "<!--- \"License\"); you may not use this file except in compliance -->\n",
    "<!--- with the License.  You may obtain a copy of the License at -->\n",
    "\n",
    "<!---   http://www.apache.org/licenses/LICENSE-2.0 -->\n",
    "\n",
    "<!--- Unless required by applicable law or agreed to in writing, -->\n",
    "<!--- software distributed under the License is distributed on an -->\n",
    "<!--- \"AS IS\" BASIS, WITHOUT WARRANTIES OR CONDITIONS OF ANY -->\n",
    "<!--- KIND, either express or implied.  See the License for the -->\n",
    "<!--- specific language governing permissions and limitations -->\n",
    "<!--- under the License. -->\n",
    "\n",
    "# Step 1: Manipulate data with NP on MXNet\n",
    "\n",
    "This getting started exercise introduces the MXNet `np` package for ndarrays.\n",
    "These ndarrays extend the functionality of the common NumPy ndarrays, by adding\n",
    "support for gpu's and by adding auto-differentiation with autograd. Now, many\n",
    "NumPy methods are available within MXNet; therefore, we will only briefly cover\n",
    "some of what is available.\n",
    "\n",
    "## Import packages and create an array\n",
    "To get started, run the following commands to import the `np` package together\n",
    "with the NumPy extensions package `npx`. Together, `np` with `npx` make up the\n",
    "NP on MXNet front end."
   ]
  },
  {
   "cell_type": "code",
   "execution_count": 1,
   "id": "f6da01e7",
   "metadata": {},
   "outputs": [],
   "source": [
    "import mxnet as mx\n",
    "from mxnet import np, npx\n",
    "npx.set_np()  # Activate NumPy-like mode."
   ]
  },
  {
   "cell_type": "markdown",
   "id": "b7cc1492",
   "metadata": {},
   "source": [
    "In this step, create a 2D array (also called a matrix). The following code\n",
    "example creates a matrix with values from two sets of numbers: 1, 2, 3 and 4, 5,\n",
    "6. This might also be referred to as a tuple of a tuple of integers."
   ]
  },
  {
   "cell_type": "code",
   "execution_count": 2,
   "id": "ad3799b8",
   "metadata": {},
   "outputs": [
    {
     "name": "stderr",
     "output_type": "stream",
     "text": [
      "[08:53:23] /work/mxnet/src/storage/storage.cc:199: Using Pooled (Naive) StorageManager for CPU\n"
     ]
    },
    {
     "data": {
      "text/plain": [
       "array([[1., 2., 3.],\n",
       "       [5., 6., 7.]])"
      ]
     },
     "execution_count": 2,
     "metadata": {},
     "output_type": "execute_result"
    }
   ],
   "source": [
    "np.array(((1, 2, 3), (5, 6, 7)))"
   ]
  },
  {
   "cell_type": "markdown",
   "id": "2479493f",
   "metadata": {},
   "source": [
    "You can also create a very simple matrix with the same shape (2 rows by 3\n",
    "columns), but fill it with 1's."
   ]
  },
  {
   "cell_type": "code",
   "execution_count": 3,
   "id": "bd0123b5",
   "metadata": {},
   "outputs": [
    {
     "data": {
      "text/plain": [
       "array([[1., 1., 1.],\n",
       "       [1., 1., 1.]])"
      ]
     },
     "execution_count": 3,
     "metadata": {},
     "output_type": "execute_result"
    }
   ],
   "source": [
    "x = np.full((2, 3), 1) \n",
    "x"
   ]
  },
  {
   "cell_type": "markdown",
   "id": "7530d2ae",
   "metadata": {},
   "source": [
    "Alternatively, you could use the following array creation routine."
   ]
  },
  {
   "cell_type": "code",
   "execution_count": 4,
   "id": "cb2727ba",
   "metadata": {},
   "outputs": [
    {
     "data": {
      "text/plain": [
       "array([[1., 1., 1.],\n",
       "       [1., 1., 1.]])"
      ]
     },
     "execution_count": 4,
     "metadata": {},
     "output_type": "execute_result"
    }
   ],
   "source": [
    "x = np.ones((2, 3)) \n",
    "x"
   ]
  },
  {
   "cell_type": "markdown",
   "id": "0592f5a0",
   "metadata": {},
   "source": [
    "You can create arrays whose values are sampled randomly. For example, sampling\n",
    "values uniformly between -1 and 1. The following code example creates the same\n",
    "shape, but with random sampling."
   ]
  },
  {
   "cell_type": "code",
   "execution_count": 5,
   "id": "79da0c89",
   "metadata": {},
   "outputs": [
    {
     "data": {
      "text/plain": [
       "array([[0.09762704, 0.18568921, 0.43037868],\n",
       "       [0.6885315 , 0.20552671, 0.71589124]])"
      ]
     },
     "execution_count": 5,
     "metadata": {},
     "output_type": "execute_result"
    }
   ],
   "source": [
    "y = np.random.uniform(-1, 1, (2, 3))\n",
    "y"
   ]
  },
  {
   "cell_type": "markdown",
   "id": "4ba44506",
   "metadata": {},
   "source": [
    "As with NumPy, the dimensions of each ndarray are shown by accessing the\n",
    "`.shape` attribute. As the following code example shows, you can also query for\n",
    "`size`, which is equal to the product of the components of the shape. In\n",
    "addition, `.dtype` tells the data type of the stored values. As you notice when\n",
    "we generate random uniform values we generate `float32` not `float64` as normal\n",
    "NumPy arrays."
   ]
  },
  {
   "cell_type": "code",
   "execution_count": 6,
   "id": "2c149620",
   "metadata": {},
   "outputs": [
    {
     "data": {
      "text/plain": [
       "((2, 3), 6, dtype('float32'))"
      ]
     },
     "execution_count": 6,
     "metadata": {},
     "output_type": "execute_result"
    }
   ],
   "source": [
    "(x.shape, x.size, x.dtype)"
   ]
  },
  {
   "cell_type": "markdown",
   "id": "53999bfe",
   "metadata": {},
   "source": [
    "You could also specifiy the datatype when you create your ndarray."
   ]
  },
  {
   "cell_type": "code",
   "execution_count": 7,
   "id": "472b7045",
   "metadata": {},
   "outputs": [
    {
     "data": {
      "text/plain": [
       "dtype('int8')"
      ]
     },
     "execution_count": 7,
     "metadata": {},
     "output_type": "execute_result"
    }
   ],
   "source": [
    "x = np.full((2, 3), 1, dtype=\"int8\") \n",
    "x.dtype"
   ]
  },
  {
   "cell_type": "markdown",
   "id": "c89a42ce",
   "metadata": {},
   "source": [
    "Versus the default of `float32`."
   ]
  },
  {
   "cell_type": "code",
   "execution_count": 8,
   "id": "e0c9e77b",
   "metadata": {},
   "outputs": [
    {
     "data": {
      "text/plain": [
       "dtype('float32')"
      ]
     },
     "execution_count": 8,
     "metadata": {},
     "output_type": "execute_result"
    }
   ],
   "source": [
    "x = np.full((2, 3), 1) \n",
    "x.dtype"
   ]
  },
  {
   "cell_type": "markdown",
   "id": "16d31942",
   "metadata": {},
   "source": [
    "When we multiply, by default we use the datatype with the most precision."
   ]
  },
  {
   "cell_type": "code",
   "execution_count": 9,
   "id": "3719b632",
   "metadata": {},
   "outputs": [
    {
     "data": {
      "text/plain": [
       "dtype('float32')"
      ]
     },
     "execution_count": 9,
     "metadata": {},
     "output_type": "execute_result"
    }
   ],
   "source": [
    "x = x.astype(\"int8\") + x.astype(int) + x.astype(\"float32\")\n",
    "x.dtype"
   ]
  },
  {
   "cell_type": "markdown",
   "id": "71c70ee8",
   "metadata": {},
   "source": [
    "## Performing operations on an array\n",
    "\n",
    "A ndarray supports a large number of standard mathematical operations. Here are\n",
    "some examples. You can perform element-wise multiplication by using the\n",
    "following code example."
   ]
  },
  {
   "cell_type": "code",
   "execution_count": 10,
   "id": "b9035964",
   "metadata": {},
   "outputs": [
    {
     "data": {
      "text/plain": [
       "array([[0.29288113, 0.55706763, 1.291136  ],\n",
       "       [2.0655947 , 0.6165801 , 2.1476736 ]])"
      ]
     },
     "execution_count": 10,
     "metadata": {},
     "output_type": "execute_result"
    }
   ],
   "source": [
    "x * y"
   ]
  },
  {
   "cell_type": "markdown",
   "id": "b0cf3892",
   "metadata": {},
   "source": [
    "You can perform exponentiation by using the following code example."
   ]
  },
  {
   "cell_type": "code",
   "execution_count": 11,
   "id": "b65aed79",
   "metadata": {},
   "outputs": [
    {
     "data": {
      "text/plain": [
       "array([[1.1025515, 1.204048 , 1.5378398],\n",
       "       [1.9907899, 1.2281718, 2.0460093]])"
      ]
     },
     "execution_count": 11,
     "metadata": {},
     "output_type": "execute_result"
    }
   ],
   "source": [
    "np.exp(y)"
   ]
  },
  {
   "cell_type": "markdown",
   "id": "b8a58ca0",
   "metadata": {},
   "source": [
    "You can also find a matrix’s transpose to compute a proper matrix-matrix product\n",
    "by using the following code example."
   ]
  },
  {
   "cell_type": "code",
   "execution_count": 12,
   "id": "661b7a52",
   "metadata": {},
   "outputs": [
    {
     "data": {
      "text/plain": [
       "array([[2.1410847, 4.8298483],\n",
       "       [2.1410847, 4.8298483]])"
      ]
     },
     "execution_count": 12,
     "metadata": {},
     "output_type": "execute_result"
    }
   ],
   "source": [
    "np.dot(x, y.T)"
   ]
  },
  {
   "cell_type": "markdown",
   "id": "e70663fb",
   "metadata": {},
   "source": [
    "Alternatively, you could use the matrix multiplication function."
   ]
  },
  {
   "cell_type": "code",
   "execution_count": 13,
   "id": "5d603a25",
   "metadata": {},
   "outputs": [
    {
     "data": {
      "text/plain": [
       "array([[2.1410847, 4.8298483],\n",
       "       [2.1410847, 4.8298483]])"
      ]
     },
     "execution_count": 13,
     "metadata": {},
     "output_type": "execute_result"
    }
   ],
   "source": [
    "np.matmul(x, y.T)"
   ]
  },
  {
   "cell_type": "markdown",
   "id": "45d1cf13",
   "metadata": {},
   "source": [
    "You can leverage built in operators, like summation."
   ]
  },
  {
   "cell_type": "code",
   "execution_count": 14,
   "id": "51144ab2",
   "metadata": {},
   "outputs": [
    {
     "data": {
      "text/plain": [
       "array(18.)"
      ]
     },
     "execution_count": 14,
     "metadata": {},
     "output_type": "execute_result"
    }
   ],
   "source": [
    "x.sum()"
   ]
  },
  {
   "cell_type": "markdown",
   "id": "2d52b4de",
   "metadata": {},
   "source": [
    "You can also gather a mean value."
   ]
  },
  {
   "cell_type": "code",
   "execution_count": 15,
   "id": "2381d3a0",
   "metadata": {},
   "outputs": [
    {
     "data": {
      "text/plain": [
       "array(3.)"
      ]
     },
     "execution_count": 15,
     "metadata": {},
     "output_type": "execute_result"
    }
   ],
   "source": [
    "x.mean()"
   ]
  },
  {
   "cell_type": "markdown",
   "id": "6b2c0cbe",
   "metadata": {},
   "source": [
    "You can perform flatten and reshape just like you normally would in NumPy!"
   ]
  },
  {
   "cell_type": "code",
   "execution_count": 16,
   "id": "4d52c28e",
   "metadata": {},
   "outputs": [
    {
     "data": {
      "text/plain": [
       "array([3., 3., 3., 3., 3., 3.])"
      ]
     },
     "execution_count": 16,
     "metadata": {},
     "output_type": "execute_result"
    }
   ],
   "source": [
    "x.flatten()"
   ]
  },
  {
   "cell_type": "code",
   "execution_count": 17,
   "id": "197e6740",
   "metadata": {},
   "outputs": [
    {
     "data": {
      "text/plain": [
       "array([[3.],\n",
       "       [3.],\n",
       "       [3.],\n",
       "       [3.],\n",
       "       [3.],\n",
       "       [3.]])"
      ]
     },
     "execution_count": 17,
     "metadata": {},
     "output_type": "execute_result"
    }
   ],
   "source": [
    "x.reshape(6, 1)"
   ]
  },
  {
   "cell_type": "markdown",
   "id": "28e0d1c8",
   "metadata": {},
   "source": [
    "## Indexing an array\n",
    "\n",
    "The ndarrays support slicing in many ways you might want to access your data.\n",
    "The following code example shows how to read a particular element, which returns\n",
    "a 1D array with shape `(1,)`."
   ]
  },
  {
   "cell_type": "code",
   "execution_count": 18,
   "id": "8315203a",
   "metadata": {},
   "outputs": [
    {
     "data": {
      "text/plain": [
       "array(0.71589124)"
      ]
     },
     "execution_count": 18,
     "metadata": {},
     "output_type": "execute_result"
    }
   ],
   "source": [
    "y[1, 2]"
   ]
  },
  {
   "cell_type": "markdown",
   "id": "98d2bead",
   "metadata": {},
   "source": [
    "This example shows how to read the second and third columns from `y`."
   ]
  },
  {
   "cell_type": "code",
   "execution_count": 19,
   "id": "39271b25",
   "metadata": {},
   "outputs": [
    {
     "data": {
      "text/plain": [
       "array([[0.18568921, 0.43037868],\n",
       "       [0.20552671, 0.71589124]])"
      ]
     },
     "execution_count": 19,
     "metadata": {},
     "output_type": "execute_result"
    }
   ],
   "source": [
    "y[:, 1:3]"
   ]
  },
  {
   "cell_type": "markdown",
   "id": "e88b679f",
   "metadata": {},
   "source": [
    "This example shows how to write to a specific element."
   ]
  },
  {
   "cell_type": "code",
   "execution_count": 20,
   "id": "73c69dd5",
   "metadata": {},
   "outputs": [
    {
     "data": {
      "text/plain": [
       "array([[0.09762704, 2.        , 2.        ],\n",
       "       [0.6885315 , 2.        , 2.        ]])"
      ]
     },
     "execution_count": 20,
     "metadata": {},
     "output_type": "execute_result"
    }
   ],
   "source": [
    "y[:, 1:3] = 2\n",
    "y"
   ]
  },
  {
   "cell_type": "markdown",
   "id": "3726151c",
   "metadata": {},
   "source": [
    "You can perform multi-dimensional slicing, which is shown in the following code\n",
    "example."
   ]
  },
  {
   "cell_type": "code",
   "execution_count": 21,
   "id": "d66a012f",
   "metadata": {},
   "outputs": [
    {
     "data": {
      "text/plain": [
       "array([[0.09762704, 2.        , 2.        ],\n",
       "       [4.        , 4.        , 2.        ]])"
      ]
     },
     "execution_count": 21,
     "metadata": {},
     "output_type": "execute_result"
    }
   ],
   "source": [
    "y[1:2, 0:2] = 4\n",
    "y"
   ]
  },
  {
   "cell_type": "markdown",
   "id": "d988b364",
   "metadata": {},
   "source": [
    "## Converting between MXNet ndarrays and NumPy arrays\n",
    "\n",
    "You can convert MXNet ndarrays to and from NumPy ndarrays, as shown in the\n",
    "following example. The converted arrays do not share memory."
   ]
  },
  {
   "cell_type": "code",
   "execution_count": 22,
   "id": "f4312718",
   "metadata": {},
   "outputs": [
    {
     "data": {
      "text/plain": [
       "(numpy.ndarray,\n",
       " array([[3., 3., 3.],\n",
       "        [3., 3., 3.]], dtype=float32))"
      ]
     },
     "execution_count": 22,
     "metadata": {},
     "output_type": "execute_result"
    }
   ],
   "source": [
    "a = x.asnumpy()\n",
    "(type(a), a)"
   ]
  },
  {
   "cell_type": "code",
   "execution_count": 23,
   "id": "7f0e9e4c",
   "metadata": {},
   "outputs": [
    {
     "data": {
      "text/plain": [
       "(mxnet.numpy.ndarray,\n",
       " array([[3., 3., 3.],\n",
       "        [3., 3., 3.]]))"
      ]
     },
     "execution_count": 23,
     "metadata": {},
     "output_type": "execute_result"
    }
   ],
   "source": [
    "a = np.array(a)\n",
    "(type(a), a)"
   ]
  },
  {
   "cell_type": "markdown",
   "id": "9e550094",
   "metadata": {},
   "source": [
    "Additionally, you can move them to different GPU contexts. You will dive more\n",
    "into this later, but here is an example for now."
   ]
  },
  {
   "cell_type": "code",
   "execution_count": 24,
   "id": "6b8a7259",
   "metadata": {},
   "outputs": [
    {
     "name": "stderr",
     "output_type": "stream",
     "text": [
      "[08:53:26] /work/mxnet/src/storage/storage.cc:199: Using Pooled (Naive) StorageManager for GPU\n"
     ]
    },
    {
     "data": {
      "text/plain": [
       "array([[3., 3., 3.],\n",
       "       [3., 3., 3.]], ctx=gpu(0))"
      ]
     },
     "execution_count": 24,
     "metadata": {},
     "output_type": "execute_result"
    }
   ],
   "source": [
    "a.copyto(mx.gpu(0))"
   ]
  },
  {
   "cell_type": "markdown",
   "id": "9d20dbe5",
   "metadata": {},
   "source": [
    "## Next Steps\n",
    "\n",
    "Ndarrays also have some additional features which make Deep Learning possible\n",
    "and efficient. Namely, differentiation, and being able to leverage GPU's.\n",
    "Another important feature of ndarrays that we will discuss later is \n",
    "autograd. But first, we will abstract an additional level and talk about building\n",
    "Neural Network Layers [Step 2: Create a neural network](./2-create-nn.ipynb)"
   ]
  }
 ],
 "metadata": {
  "language_info": {
   "name": "python"
  }
 },
 "nbformat": 4,
 "nbformat_minor": 5
}