{
 "cells": [
  {
   "cell_type": "markdown",
   "id": "22cf2428",
   "metadata": {},
   "source": [
    "<!--- Licensed to the Apache Software Foundation (ASF) under one -->\n",
    "<!--- or more contributor license agreements.  See the NOTICE file -->\n",
    "<!--- distributed with this work for additional information -->\n",
    "<!--- regarding copyright ownership.  The ASF licenses this file -->\n",
    "<!--- to you under the Apache License, Version 2.0 (the -->\n",
    "<!--- \"License\"); you may not use this file except in compliance -->\n",
    "<!--- with the License.  You may obtain a copy of the License at -->\n",
    "\n",
    "<!---   http://www.apache.org/licenses/LICENSE-2.0 -->\n",
    "\n",
    "<!--- Unless required by applicable law or agreed to in writing, -->\n",
    "<!--- software distributed under the License is distributed on an -->\n",
    "<!--- \"AS IS\" BASIS, WITHOUT WARRANTIES OR CONDITIONS OF ANY -->\n",
    "<!--- KIND, either express or implied.  See the License for the -->\n",
    "<!--- specific language governing permissions and limitations -->\n",
    "<!--- under the License. -->\n",
    "\n",
    "# Step 1: Manipulate data with NP on MXNet\n",
    "\n",
    "This getting started exercise introduces the MXNet `np` package for ndarrays.\n",
    "These ndarrays extend the functionality of the common NumPy ndarrays, by adding\n",
    "support for gpu's and by adding auto-differentiation with autograd. Now, many\n",
    "NumPy methods are available within MXNet; therefore, we will only briefly cover\n",
    "some of what is available.\n",
    "\n",
    "## Import packages and create an array\n",
    "To get started, run the following commands to import the `np` package together\n",
    "with the NumPy extensions package `npx`. Together, `np` with `npx` make up the\n",
    "NP on MXNet front end."
   ]
  },
  {
   "cell_type": "code",
   "execution_count": 1,
   "id": "2c4ff83a",
   "metadata": {},
   "outputs": [],
   "source": [
    "import mxnet as mx\n",
    "from mxnet import np, npx\n",
    "npx.set_np()  # Activate NumPy-like mode."
   ]
  },
  {
   "cell_type": "markdown",
   "id": "d250f5e6",
   "metadata": {},
   "source": [
    "In this step, create a 2D array (also called a matrix). The following code\n",
    "example creates a matrix with values from two sets of numbers: 1, 2, 3 and 4, 5,\n",
    "6. This might also be referred to as a tuple of a tuple of integers."
   ]
  },
  {
   "cell_type": "code",
   "execution_count": 2,
   "id": "46ab8ccb",
   "metadata": {},
   "outputs": [
    {
     "name": "stderr",
     "output_type": "stream",
     "text": [
      "[09:03:15] /work/mxnet/src/storage/storage.cc:202: Using Pooled (Naive) StorageManager for CPU\n"
     ]
    },
    {
     "data": {
      "text/plain": [
       "array([[1., 2., 3.],\n",
       "       [5., 6., 7.]])"
      ]
     },
     "execution_count": 2,
     "metadata": {},
     "output_type": "execute_result"
    }
   ],
   "source": [
    "np.array(((1, 2, 3), (5, 6, 7)))"
   ]
  },
  {
   "cell_type": "markdown",
   "id": "2f33a555",
   "metadata": {},
   "source": [
    "You can also create a very simple matrix with the same shape (2 rows by 3\n",
    "columns), but fill it with 1's."
   ]
  },
  {
   "cell_type": "code",
   "execution_count": 3,
   "id": "1ded6810",
   "metadata": {},
   "outputs": [
    {
     "data": {
      "text/plain": [
       "array([[1., 1., 1.],\n",
       "       [1., 1., 1.]])"
      ]
     },
     "execution_count": 3,
     "metadata": {},
     "output_type": "execute_result"
    }
   ],
   "source": [
    "x = np.full((2, 3), 1) \n",
    "x"
   ]
  },
  {
   "cell_type": "markdown",
   "id": "9c524a2a",
   "metadata": {},
   "source": [
    "Alternatively, you could use the following array creation routine."
   ]
  },
  {
   "cell_type": "code",
   "execution_count": 4,
   "id": "1e10c4cd",
   "metadata": {},
   "outputs": [
    {
     "data": {
      "text/plain": [
       "array([[1., 1., 1.],\n",
       "       [1., 1., 1.]])"
      ]
     },
     "execution_count": 4,
     "metadata": {},
     "output_type": "execute_result"
    }
   ],
   "source": [
    "x = np.ones((2, 3)) \n",
    "x"
   ]
  },
  {
   "cell_type": "markdown",
   "id": "794dc2d4",
   "metadata": {},
   "source": [
    "You can create arrays whose values are sampled randomly. For example, sampling\n",
    "values uniformly between -1 and 1. The following code example creates the same\n",
    "shape, but with random sampling."
   ]
  },
  {
   "cell_type": "code",
   "execution_count": 5,
   "id": "b7b75dc4",
   "metadata": {},
   "outputs": [
    {
     "data": {
      "text/plain": [
       "array([[0.09762704, 0.18568921, 0.43037868],\n",
       "       [0.6885315 , 0.20552671, 0.71589124]])"
      ]
     },
     "execution_count": 5,
     "metadata": {},
     "output_type": "execute_result"
    }
   ],
   "source": [
    "y = np.random.uniform(-1, 1, (2, 3))\n",
    "y"
   ]
  },
  {
   "cell_type": "markdown",
   "id": "8e69edf0",
   "metadata": {},
   "source": [
    "As with NumPy, the dimensions of each ndarray are shown by accessing the\n",
    "`.shape` attribute. As the following code example shows, you can also query for\n",
    "`size`, which is equal to the product of the components of the shape. In\n",
    "addition, `.dtype` tells the data type of the stored values. As you notice when\n",
    "we generate random uniform values we generate `float32` not `float64` as normal\n",
    "NumPy arrays."
   ]
  },
  {
   "cell_type": "code",
   "execution_count": 6,
   "id": "7516ee2f",
   "metadata": {},
   "outputs": [
    {
     "data": {
      "text/plain": [
       "((2, 3), 6, dtype('float32'))"
      ]
     },
     "execution_count": 6,
     "metadata": {},
     "output_type": "execute_result"
    }
   ],
   "source": [
    "(x.shape, x.size, x.dtype)"
   ]
  },
  {
   "cell_type": "markdown",
   "id": "78c8b9bd",
   "metadata": {},
   "source": [
    "You could also specifiy the datatype when you create your ndarray."
   ]
  },
  {
   "cell_type": "code",
   "execution_count": 7,
   "id": "ab88e57d",
   "metadata": {},
   "outputs": [
    {
     "data": {
      "text/plain": [
       "dtype('int8')"
      ]
     },
     "execution_count": 7,
     "metadata": {},
     "output_type": "execute_result"
    }
   ],
   "source": [
    "x = np.full((2, 3), 1, dtype=\"int8\") \n",
    "x.dtype"
   ]
  },
  {
   "cell_type": "markdown",
   "id": "8d7ca664",
   "metadata": {},
   "source": [
    "Versus the default of `float32`."
   ]
  },
  {
   "cell_type": "code",
   "execution_count": 8,
   "id": "31331b60",
   "metadata": {},
   "outputs": [
    {
     "data": {
      "text/plain": [
       "dtype('float32')"
      ]
     },
     "execution_count": 8,
     "metadata": {},
     "output_type": "execute_result"
    }
   ],
   "source": [
    "x = np.full((2, 3), 1) \n",
    "x.dtype"
   ]
  },
  {
   "cell_type": "markdown",
   "id": "4b329d61",
   "metadata": {},
   "source": [
    "When we multiply, by default we use the datatype with the most precision."
   ]
  },
  {
   "cell_type": "code",
   "execution_count": 9,
   "id": "1c015150",
   "metadata": {},
   "outputs": [
    {
     "data": {
      "text/plain": [
       "dtype('float32')"
      ]
     },
     "execution_count": 9,
     "metadata": {},
     "output_type": "execute_result"
    }
   ],
   "source": [
    "x = x.astype(\"int8\") + x.astype(int) + x.astype(\"float32\")\n",
    "x.dtype"
   ]
  },
  {
   "cell_type": "markdown",
   "id": "723e922e",
   "metadata": {},
   "source": [
    "## Performing operations on an array\n",
    "\n",
    "A ndarray supports a large number of standard mathematical operations. Here are\n",
    "some examples. You can perform element-wise multiplication by using the\n",
    "following code example."
   ]
  },
  {
   "cell_type": "code",
   "execution_count": 10,
   "id": "8932d7d6",
   "metadata": {},
   "outputs": [
    {
     "data": {
      "text/plain": [
       "array([[0.29288113, 0.55706763, 1.291136  ],\n",
       "       [2.0655947 , 0.6165801 , 2.1476736 ]])"
      ]
     },
     "execution_count": 10,
     "metadata": {},
     "output_type": "execute_result"
    }
   ],
   "source": [
    "x * y"
   ]
  },
  {
   "cell_type": "markdown",
   "id": "c5c25ea0",
   "metadata": {},
   "source": [
    "You can perform exponentiation by using the following code example."
   ]
  },
  {
   "cell_type": "code",
   "execution_count": 11,
   "id": "10eafd4c",
   "metadata": {},
   "outputs": [
    {
     "data": {
      "text/plain": [
       "array([[1.1025515, 1.204048 , 1.5378398],\n",
       "       [1.9907899, 1.2281718, 2.0460093]])"
      ]
     },
     "execution_count": 11,
     "metadata": {},
     "output_type": "execute_result"
    }
   ],
   "source": [
    "np.exp(y)"
   ]
  },
  {
   "cell_type": "markdown",
   "id": "a14c16df",
   "metadata": {},
   "source": [
    "You can also find a matrix’s transpose to compute a proper matrix-matrix product\n",
    "by using the following code example."
   ]
  },
  {
   "cell_type": "code",
   "execution_count": 12,
   "id": "f9810fff",
   "metadata": {},
   "outputs": [
    {
     "data": {
      "text/plain": [
       "array([[2.1410847, 4.8298483],\n",
       "       [2.1410847, 4.8298483]])"
      ]
     },
     "execution_count": 12,
     "metadata": {},
     "output_type": "execute_result"
    }
   ],
   "source": [
    "np.dot(x, y.T)"
   ]
  },
  {
   "cell_type": "markdown",
   "id": "c068b4b6",
   "metadata": {},
   "source": [
    "Alternatively, you could use the matrix multiplication function."
   ]
  },
  {
   "cell_type": "code",
   "execution_count": 13,
   "id": "57730424",
   "metadata": {},
   "outputs": [
    {
     "data": {
      "text/plain": [
       "array([[2.1410847, 4.8298483],\n",
       "       [2.1410847, 4.8298483]])"
      ]
     },
     "execution_count": 13,
     "metadata": {},
     "output_type": "execute_result"
    }
   ],
   "source": [
    "np.matmul(x, y.T)"
   ]
  },
  {
   "cell_type": "markdown",
   "id": "c050f69b",
   "metadata": {},
   "source": [
    "You can leverage built in operators, like summation."
   ]
  },
  {
   "cell_type": "code",
   "execution_count": 14,
   "id": "d44777d3",
   "metadata": {},
   "outputs": [
    {
     "data": {
      "text/plain": [
       "array(18.)"
      ]
     },
     "execution_count": 14,
     "metadata": {},
     "output_type": "execute_result"
    }
   ],
   "source": [
    "x.sum()"
   ]
  },
  {
   "cell_type": "markdown",
   "id": "a6729b3e",
   "metadata": {},
   "source": [
    "You can also gather a mean value."
   ]
  },
  {
   "cell_type": "code",
   "execution_count": 15,
   "id": "c29d93b8",
   "metadata": {},
   "outputs": [
    {
     "data": {
      "text/plain": [
       "array(3.)"
      ]
     },
     "execution_count": 15,
     "metadata": {},
     "output_type": "execute_result"
    }
   ],
   "source": [
    "x.mean()"
   ]
  },
  {
   "cell_type": "markdown",
   "id": "5dd656f9",
   "metadata": {},
   "source": [
    "You can perform flatten and reshape just like you normally would in NumPy!"
   ]
  },
  {
   "cell_type": "code",
   "execution_count": 16,
   "id": "db0dcaaa",
   "metadata": {},
   "outputs": [
    {
     "data": {
      "text/plain": [
       "array([3., 3., 3., 3., 3., 3.])"
      ]
     },
     "execution_count": 16,
     "metadata": {},
     "output_type": "execute_result"
    }
   ],
   "source": [
    "x.flatten()"
   ]
  },
  {
   "cell_type": "code",
   "execution_count": 17,
   "id": "841eb217",
   "metadata": {},
   "outputs": [
    {
     "data": {
      "text/plain": [
       "array([[3.],\n",
       "       [3.],\n",
       "       [3.],\n",
       "       [3.],\n",
       "       [3.],\n",
       "       [3.]])"
      ]
     },
     "execution_count": 17,
     "metadata": {},
     "output_type": "execute_result"
    }
   ],
   "source": [
    "x.reshape(6, 1)"
   ]
  },
  {
   "cell_type": "markdown",
   "id": "b5ae41bf",
   "metadata": {},
   "source": [
    "## Indexing an array\n",
    "\n",
    "The ndarrays support slicing in many ways you might want to access your data.\n",
    "The following code example shows how to read a particular element, which returns\n",
    "a 1D array with shape `(1,)`."
   ]
  },
  {
   "cell_type": "code",
   "execution_count": 18,
   "id": "fe9613e8",
   "metadata": {},
   "outputs": [
    {
     "data": {
      "text/plain": [
       "array(0.71589124)"
      ]
     },
     "execution_count": 18,
     "metadata": {},
     "output_type": "execute_result"
    }
   ],
   "source": [
    "y[1, 2]"
   ]
  },
  {
   "cell_type": "markdown",
   "id": "cdf5b14f",
   "metadata": {},
   "source": [
    "This example shows how to read the second and third columns from `y`."
   ]
  },
  {
   "cell_type": "code",
   "execution_count": 19,
   "id": "d83b6f47",
   "metadata": {},
   "outputs": [
    {
     "data": {
      "text/plain": [
       "array([[0.18568921, 0.43037868],\n",
       "       [0.20552671, 0.71589124]])"
      ]
     },
     "execution_count": 19,
     "metadata": {},
     "output_type": "execute_result"
    }
   ],
   "source": [
    "y[:, 1:3]"
   ]
  },
  {
   "cell_type": "markdown",
   "id": "9fb2a05d",
   "metadata": {},
   "source": [
    "This example shows how to write to a specific element."
   ]
  },
  {
   "cell_type": "code",
   "execution_count": 20,
   "id": "a8270488",
   "metadata": {},
   "outputs": [
    {
     "data": {
      "text/plain": [
       "array([[0.09762704, 2.        , 2.        ],\n",
       "       [0.6885315 , 2.        , 2.        ]])"
      ]
     },
     "execution_count": 20,
     "metadata": {},
     "output_type": "execute_result"
    }
   ],
   "source": [
    "y[:, 1:3] = 2\n",
    "y"
   ]
  },
  {
   "cell_type": "markdown",
   "id": "d0c919e3",
   "metadata": {},
   "source": [
    "You can perform multi-dimensional slicing, which is shown in the following code\n",
    "example."
   ]
  },
  {
   "cell_type": "code",
   "execution_count": 21,
   "id": "22ad1bbe",
   "metadata": {},
   "outputs": [
    {
     "data": {
      "text/plain": [
       "array([[0.09762704, 2.        , 2.        ],\n",
       "       [4.        , 4.        , 2.        ]])"
      ]
     },
     "execution_count": 21,
     "metadata": {},
     "output_type": "execute_result"
    }
   ],
   "source": [
    "y[1:2, 0:2] = 4\n",
    "y"
   ]
  },
  {
   "cell_type": "markdown",
   "id": "84d97d71",
   "metadata": {},
   "source": [
    "## Converting between MXNet ndarrays and NumPy arrays\n",
    "\n",
    "You can convert MXNet ndarrays to and from NumPy ndarrays, as shown in the\n",
    "following example. The converted arrays do not share memory."
   ]
  },
  {
   "cell_type": "code",
   "execution_count": 22,
   "id": "4298e407",
   "metadata": {},
   "outputs": [
    {
     "data": {
      "text/plain": [
       "(numpy.ndarray,\n",
       " array([[3., 3., 3.],\n",
       "        [3., 3., 3.]], dtype=float32))"
      ]
     },
     "execution_count": 22,
     "metadata": {},
     "output_type": "execute_result"
    }
   ],
   "source": [
    "a = x.asnumpy()\n",
    "(type(a), a)"
   ]
  },
  {
   "cell_type": "code",
   "execution_count": 23,
   "id": "2e1953bc",
   "metadata": {},
   "outputs": [
    {
     "data": {
      "text/plain": [
       "(mxnet.numpy.ndarray,\n",
       " array([[3., 3., 3.],\n",
       "        [3., 3., 3.]]))"
      ]
     },
     "execution_count": 23,
     "metadata": {},
     "output_type": "execute_result"
    }
   ],
   "source": [
    "a = np.array(a)\n",
    "(type(a), a)"
   ]
  },
  {
   "cell_type": "markdown",
   "id": "73a1cc9d",
   "metadata": {},
   "source": [
    "Additionally, you can move them to different GPU contexts. You will dive more\n",
    "into this later, but here is an example for now."
   ]
  },
  {
   "cell_type": "code",
   "execution_count": 24,
   "id": "cd5acf98",
   "metadata": {},
   "outputs": [
    {
     "name": "stderr",
     "output_type": "stream",
     "text": [
      "[09:03:18] /work/mxnet/src/storage/storage.cc:202: Using Pooled (Naive) StorageManager for GPU\n"
     ]
    },
    {
     "data": {
      "text/plain": [
       "array([[3., 3., 3.],\n",
       "       [3., 3., 3.]], ctx=gpu(0))"
      ]
     },
     "execution_count": 24,
     "metadata": {},
     "output_type": "execute_result"
    }
   ],
   "source": [
    "a.copyto(mx.gpu(0))"
   ]
  },
  {
   "cell_type": "markdown",
   "id": "bf5b9c60",
   "metadata": {},
   "source": [
    "## Next Steps\n",
    "\n",
    "Ndarrays also have some additional features which make Deep Learning possible\n",
    "and efficient. Namely, differentiation, and being able to leverage GPU's.\n",
    "Another important feature of ndarrays that we will discuss later is \n",
    "autograd. But first, we will abstract an additional level and talk about building\n",
    "Neural Network Layers [Step 2: Create a neural network](./2-create-nn.ipynb)"
   ]
  }
 ],
 "metadata": {
  "language_info": {
   "name": "python"
  }
 },
 "nbformat": 4,
 "nbformat_minor": 5
}