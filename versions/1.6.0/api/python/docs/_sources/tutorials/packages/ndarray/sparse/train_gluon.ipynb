{
 "cells": [
  {
   "cell_type": "markdown",
   "metadata": {},
   "source": [
    "<!--- Licensed to the Apache Software Foundation (ASF) under one -->\n",
    "<!--- or more contributor license agreements.  See the NOTICE file -->\n",
    "<!--- distributed with this work for additional information -->\n",
    "<!--- regarding copyright ownership.  The ASF licenses this file -->\n",
    "<!--- to you under the Apache License, Version 2.0 (the -->\n",
    "<!--- \"License\"); you may not use this file except in compliance -->\n",
    "<!--- with the License.  You may obtain a copy of the License at -->\n",
    "\n",
    "<!---   http://www.apache.org/licenses/LICENSE-2.0 -->\n",
    "\n",
    "<!--- Unless required by applicable law or agreed to in writing, -->\n",
    "<!--- software distributed under the License is distributed on an -->\n",
    "<!--- \"AS IS\" BASIS, WITHOUT WARRANTIES OR CONDITIONS OF ANY -->\n",
    "<!--- KIND, either express or implied.  See the License for the -->\n",
    "<!--- specific language governing permissions and limitations -->\n",
    "<!--- under the License. -->\n",
    "\n",
    "\n",
    "# Sparse NDArrays with Gluon\n",
    "\n",
    "When working on machine learning problems, you may encounter situations where the input data is sparse (i.e. the majority of values are zero). One example of this is in recommendation systems. You could have millions of user and product features, but only a few of these features are present for each sample. Without special treatment, the sheer magnitude of the feature space can lead to out-of-memory situations and cause significant slowdowns when training and making predictions.\n",
    "\n",
    "MXNet supports a number of sparse storage types (often called 'stype' for short) for these situations. In this tutorial, we'll start by generating some sparse data, write it to disk in the LibSVM format and then read back using the [`LibSVMIter`](/api/python/docs/api/mxnet/io/index.html#mxnet.io.LibSVMIter) for training. We use the Gluon API to train the model and leverage sparse storage types such as [`CSRNDArray`](/api/python/docs/api/ndarray/sparse/index.html#mxnet.ndarray.sparse.CSRNDArray) and [`RowSparseNDArray`](/api/python/docs/api/ndarray/sparse/index.html#mxnet.ndarray.sparse.RowSparseNDArray) to maximise performance and memory efficiency."
   ]
  },
  {
   "cell_type": "markdown",
   "metadata": {},
   "source": [
    "```python\n",
    "import mxnet as mx\n",
    "import numpy as np\n",
    "import time\n",
    "```\n"
   ]
  },
  {
   "cell_type": "markdown",
   "metadata": {},
   "source": [
    "### Generating Sparse Data\n",
    "\n",
    "You will most likely have a sparse dataset in mind already if you're reading this tutorial, but let's create a dummy dataset to use in the examples that follow. Using `rand_ndarray` we will generate 1000 samples, each with 1,000,000 features of which 99.999% of values will be zero (i.e. 10 non-zero features for each sample). We take this as our input data for training and calculate a label based on an arbitrary rule: whether the feature sum is higher than average."
   ]
  },
  {
   "cell_type": "markdown",
   "metadata": {},
   "source": [
    "```python\n",
    "num_samples = 1000\n",
    "num_features = 1000000\n",
    "data = mx.test_utils.rand_ndarray((num_samples, num_features), stype='csr', density=0.00001)\n",
    "# generate label: 1 if row sum above average, 0 otherwise.\n",
    "label = data.sum(axis=1) > data.sum(axis=1).mean()\n",
    "```\n"
   ]
  },
  {
   "cell_type": "markdown",
   "metadata": {},
   "source": [
    "```python\n",
    "print(type(data))\n",
    "print(data[:10].asnumpy())\n",
    "print('{:,.0f} elements'.format(np.product(data.shape)))\n",
    "print('{:,.0f} non-zero elements'.format(data.data.size))\n",
    "```\n"
   ]
  },
  {
   "cell_type": "markdown",
   "metadata": {},
   "source": [
    "```\n",
    "<class 'mxnet.ndarray.sparse.CSRNDArray'>\n",
    "[[0. 0. 0. ... 0. 0. 0.]\n",
    " [0. 0. 0. ... 0. 0. 0.]\n",
    " [0. 0. 0. ... 0. 0. 0.]\n",
    " ...\n",
    " [0. 0. 0. ... 0. 0. 0.]\n",
    " [0. 0. 0. ... 0. 0. 0.]\n",
    " [0. 0. 0. ... 0. 0. 0.]]\n",
    "1,000,000,000 elements\n",
    "10,000 non-zero elements\n",
    "```\n"
   ]
  },
  {
   "cell_type": "markdown",
   "metadata": {},
   "source": [
    "Our storage type is CSR (Compressed Sparse Row) which is the ideal type for sparse data along multiple axes. See [this in-depth tutorial](https://mxnet.apache.org/versions/master/tutorials/sparse/csr.html) for more information. Just to confirm the generation process ran correctly, we can see that the vast majority of values are indeed zero. One of the first questions to ask would be how much memory is saved by storing this data in a [`CSRNDArray`](/api/python/docs/api/ndarray/sparse/index.html#mxnet.ndarray.sparse.CSRNDArray) versus a standard [`NDArray`](/api/python/docs/api/ndarray/ndarray.html#module-mxnet.ndarray). Since sparse arrays are constructed from many components (e.g. `data`, `indices` and `indptr`) we define a function called `get_nbytes` to calculate the number of bytes taken in memory to store an array. We compare the same data stored in a standard [`NDArray`](/api/python/docs/api/ndarray/ndarray.html#module-mxnet.ndarray) (with `data.tostype('default')`) to the [`CSRNDArray`](/api/python/docs/api/ndarray/sparse/index.html#mxnet.ndarray.sparse.CSRNDArray)."
   ]
  },
  {
   "cell_type": "markdown",
   "metadata": {},
   "source": [
    "```python\n",
    "def get_nbytes(array):\n",
    "    fn = lambda a: a.size * np.dtype(a).itemsize\n",
    "    if isinstance(array, mx.ndarray.sparse.CSRNDArray):\n",
    "        return fn(array.data) + fn(array.indices) + fn(array.indptr)\n",
    "    elif isinstance(array, mx.ndarray.sparse.RowSparseNDArray):\n",
    "        return fn(array.data) + fn(array.indices)\n",
    "    elif isinstance(array, mx.ndarray.NDArray):\n",
    "        return fn(array)\n",
    "    else:\n",
    "        TypeError('{} not supported'.format(type(array)))\n",
    "```\n"
   ]
  },
  {
   "cell_type": "markdown",
   "metadata": {},
   "source": [
    "```python\n",
    "print('NDarray:', get_nbytes(data.tostype('default'))/1000000, 'MBs')\n",
    "print('CSRNDArray', get_nbytes(data)/1000000, 'MBs')\n",
    "```\n"
   ]
  },
  {
   "cell_type": "markdown",
   "metadata": {},
   "source": [
    "```\n",
    "NDarray: 4000.0 MBs\n",
    "CSRNDArray 0.128008 MBs\n",
    "```\n"
   ]
  },
  {
   "cell_type": "markdown",
   "metadata": {},
   "source": [
    "Given the extremely high sparsity of the data, we observe a huge memory saving here! 0.13 MBs versus 4 GBs: ~30,000 times smaller. You can experiment with the amount of sparsity and see how these two storage types compare. When the number of non-zero values increases, this difference will reduce. And when the number of non-zero values exceeds ~1/3 you will find that this sparse storage type take more memory than dense! So use wisely.\n",
    "\n",
    "### Writing Sparse Data\n",
    "\n",
    "Since there is such a large size difference between dense and sparse storage formats here, we ideally want to store the data on disk in a sparse storage format too. MXNet supports a format called LibSVM and has a data iterator called [`LibSVMIter`](/api/python/docs/api/mxnet/io/index.html#mxnet.io.LibSVMIter) specifically for data formatted this way.\n",
    "\n",
    "A LibSVM file has a row for each sample, and each row starts with the label: in this case `0.0` or `1.0` since we have a classification task. After this we have a variable number of `key:value` pairs separated by spaces, where the key is column/feature index and the value is the value of that feature. When working with your own sparse data in a custom format you should try to convert your data into this format. We define a `save_as_libsvm` function to save the `data` ([`CSRNDArray`](/api/python/docs/api/ndarray/sparse/index.html#mxnet.ndarray.sparse.CSRNDArray)) and `label` (`NDArray`) to disk in LibSVM format."
   ]
  },
  {
   "cell_type": "markdown",
   "metadata": {},
   "source": [
    "```python\n",
    "def save_as_libsvm(filepath, data, label):\n",
    "    with open(filepath, 'w') as openfile:\n",
    "        for row_idx in range(data.shape[0]):\n",
    "            data_sample = data[row_idx]\n",
    "            label_sample = label[row_idx]\n",
    "            col_idxs = data_sample.indices.asnumpy().tolist()\n",
    "            values = data_sample.data.asnumpy().tolist()\n",
    "            label_str = str(label_sample.asscalar())\n",
    "            value_strs = ['{}:{}'.format(idx, value) for idx, value in zip(col_idxs, values)]\n",
    "            value_str = \" \".join(value_strs)\n",
    "            sample_str = '{} {}\\n'.format(label_str, value_str)\n",
    "            openfile.write(sample_str)\n",
    "```\n"
   ]
  },
  {
   "cell_type": "markdown",
   "metadata": {},
   "source": [
    "```python\n",
    "filepath = 'dataset.libsvm'\n",
    "save_as_libsvm(filepath, data, label)\n",
    "```\n"
   ]
  },
  {
   "cell_type": "markdown",
   "metadata": {},
   "source": [
    "We have now written the `data` and `label` to disk, and can inspect the first 10 lines of the file:"
   ]
  },
  {
   "cell_type": "markdown",
   "metadata": {},
   "source": [
    "```python\n",
    "with open(filepath, 'r') as openfile:\n",
    "    lines = [openfile.readline() for _ in range(10)]\n",
    "for line in lines:\n",
    "    print(line[:80] + '...' if len(line) > 80 else line)\n",
    "```\n"
   ]
  },
  {
   "cell_type": "markdown",
   "metadata": {},
   "source": [
    "```\n",
    "0.0 35454:0.22486156225204468 80954:0.39130592346191406 81941:0.1988530308008194...\n",
    "1.0 37029:0.5980494618415833 52916:0.15797750651836395 71623:0.32251599431037903...\n",
    "1.0 89962:0.47770974040031433 216426:0.21326342225074768 271027:0.18589609861373...\n",
    "1.0 7071:0.9432336688041687 81664:0.7788773775100708 117459:0.8166475296020508 4...\n",
    "0.0 380966:0.16906292736530304 394363:0.7987179756164551 458442:0.56873309612274...\n",
    "0.0 89361:0.9099966287612915 141813:0.5927085280418396 282489:0.293381005525589 ...\n",
    "0.0 150427:0.4747847020626068 169376:0.2603490948677063 179377:0.237988427281379...\n",
    "0.0 49774:0.2822582423686981 91245:0.5794865489006042 102970:0.7004560232162476 ...\n",
    "1.0 97133:0.0024336236529052258 109855:0.9895315766334534 116765:0.2465638816356...\n",
    "0.0 803440:0.4020800292491913\n",
    "```\n"
   ]
  },
  {
   "cell_type": "markdown",
   "metadata": {},
   "source": [
    "Some storage overhead is introduced by serializing the data as characters (with spaces and colons). `dataset.libsvm` is 250 KBs but the original `data` and `label` were 132 KBs combined. Compared with the 4GB dense `NDArray` though, this isn't a huge issue.\n",
    "\n",
    "### Reading Sparse Data\n",
    "\n",
    "Using [`LibSVMIter`](/api/python/docs/api/mxnet/io/index.html#mxnet.io.LibSVMIter), we can quickly and easily load data into batches ready for training. Although Gluon [`Dataset`](/api/python/docs/api/gluon/data/index.html#mxnet.gluon.data.Dataset)s can be written to return sparse arrays, Gluon [`DataLoader`](/api/python/docs/api/gluon/data/index.html#mxnet.gluon.data.DataLoader)s currently convert each sample to dense before stacking up to create the batch. As a result, [`LibSVMIter`](/api/python/docs/api/mxnet/io/index.html#mxnet.io.LibSVMIter) is the recommended method of loading sparse data in batches.\n",
    "\n",
    "Similar to using a [`DataLoader`](/api/python/docs/api/gluon/data/index.html#mxnet.gluon.data.DataLoader), you must specify the required `batch_size`. Since we're dealing with sparse data and the column shape isn't explicitly stored in the LibSVM file, we additionally need to provide the shape of the data and label. Our [`LibSVMIter`](/api/python/docs/api/mxnet/io/index.html#mxnet.io.LibSVMIter) returns batches in a slightly different form to a [`DataLoader`](/api/python/docs/api/gluon/data/index.html#mxnet.gluon.data.DataLoader). We get `DataBatch` objects instead of `tuple`."
   ]
  },
  {
   "cell_type": "markdown",
   "metadata": {},
   "source": [
    "```python\n",
    "data_iter = mx.io.LibSVMIter(data_libsvm=filepath, data_shape=(num_features,), label_shape=(1,), batch_size=10)\n",
    "for batch in data_iter:\n",
    "    data = batch.data[0]\n",
    "    print('data.stype: {}'.format(data.stype))\n",
    "    label = batch.label[0]\n",
    "    print('label.stype: {}'.format(label.stype))\n",
    "    break\n",
    "```\n"
   ]
  },
  {
   "cell_type": "markdown",
   "metadata": {},
   "source": [
    "```\n",
    "data.stype: csr\n",
    "label.stype: default\n",
    "```\n"
   ]
  },
  {
   "cell_type": "markdown",
   "metadata": {},
   "source": [
    "We can see that `data` and `label` are in the appropriate storage formats, given their sparse and dense values respectively. We can avoid out-of-memory issues that might have occurred if `data` was in dense storage format. Another benefit of storing the data efficiently is the reduced data transfer time when using GPUs. Although the transfer time for a single batch is small, we transfer `data` and `label` to the GPU every iteration so this time can become significant. We will time the transfer of the sparse `data` to GPU (if available) and compare to the time for its dense counterpart."
   ]
  },
  {
   "cell_type": "markdown",
   "metadata": {},
   "source": [
    "```python\n",
    "ctx = mx.gpu() if mx.test_utils.list_gpus() else mx.cpu()\n",
    "```\n"
   ]
  },
  {
   "cell_type": "markdown",
   "metadata": {},
   "source": [
    "```python\n",
    "%%timeit\n",
    "data_on_ctx = data.as_in_context(ctx)\n",
    "data_on_ctx.wait_to_read()\n",
    "```\n"
   ]
  },
  {
   "cell_type": "markdown",
   "metadata": {},
   "source": [
    "```\n",
    "192 microseconds +- 51.1 microseconds per loop (mean +- std. dev. of 7 runs, 1 loop each)\n",
    "```\n"
   ]
  },
  {
   "cell_type": "markdown",
   "metadata": {},
   "source": [
    "```python\n",
    "print('sparse batch: {} MBs'.format(get_nbytes(data)/1000000))\n",
    "data = data.tostype('default')  # avoid timing this sparse to dense conversion\n",
    "print('dense batch: {} MBs'.format(get_nbytes(data)/1000000))\n",
    "```\n"
   ]
  },
  {
   "cell_type": "markdown",
   "metadata": {},
   "source": [
    "```\n",
    "sparse batch: 0.001348 MBs\n",
    "dense batch: 40.0 MBs\n",
    "```\n"
   ]
  },
  {
   "cell_type": "markdown",
   "metadata": {},
   "source": [
    "```python\n",
    "%%timeit\n",
    "data_on_ctx = data.as_in_context(ctx)\n",
    "data_on_ctx.wait_to_read()\n",
    "```\n"
   ]
  },
  {
   "cell_type": "markdown",
   "metadata": {},
   "source": [
    "```\n",
    "4 ms +- 36.8 microseconds per loop (mean +- std. dev. of 7 runs, 100 loops each)\n",
    "```\n"
   ]
  },
  {
   "cell_type": "markdown",
   "metadata": {},
   "source": [
    "Although results will change depending on system specifications and degree of sparsity, the sparse array can be transferred from CPU to GPU significantly faster than the dense array. We see a ~25x speed up for sparse vs dense for this specific batch of data.\n",
    "\n",
    "## Gluon Models for Sparse Data\n",
    "\n",
    "Our next step is to define a network. We have an input of 1,000,000 features and we want to make a binary prediction. We don't have any spatial or temporal relationships between features, so we'll use a 3 layer fully-connected network where the last layer has 1 output unit (with sigmoid activation). Since we're working with sparse data, we'd ideally like to use network operators that can exploit this sparsity for improved performance and memory efficiency.\n",
    "\n",
    "Gluon's [`nn.Dense`](/api/python/docs/api/gluon/nn/index.html#mxnet.gluon.nn.Dense) block can used with [`CSRNDArray`](/api/python/docs/api/ndarray/sparse/index.html#mxnet.ndarray.sparse.CSRNDArray) input arrays but it doesn't exploit the sparsity. Under the hood, [`Dense`](/api/python/docs/api/gluon/nn/index.html#mxnet.gluon.nn.Dense) uses the [`FullyConnected`](/api/python/docs/api/ndarray/ndarray.html#mxnet.ndarray.FullyConnected) operator which isn't optimized for [`CSRNDArray`](/api/python/docs/api/ndarray/sparse/index.html#mxnet.ndarray.sparse.CSRNDArray) arrays. We'll implement a `Block` that does exploit this sparsity, *but first*, let's just remind ourselves of the [`Dense`](/api/python/docs/api/gluon/nn/index.html#mxnet.gluon.nn.Dense) implementation by creating an equivalent `Block` called `FullyConnected`."
   ]
  },
  {
   "cell_type": "markdown",
   "metadata": {},
   "source": [
    "```python\n",
    "class FullyConnected(mx.gluon.HybridBlock):\n",
    "    def __init__(self, in_units, units):\n",
    "        super(FullyConnected, self).__init__()\n",
    "        with self.name_scope():\n",
    "            self._units = units\n",
    "            self.weight = self.params.get('weight', shape=(units, in_units),\n",
    "                                          init=None, allow_deferred_init=True,\n",
    "                                          dtype='float32', stype='default', grad_stype='default')\n",
    "            self.bias = self.params.get('bias', shape=(units),\n",
    "                                          init='zeros', allow_deferred_init=True,\n",
    "                                          dtype='float32', stype='default', grad_stype='default')\n",
    "\n",
    "    def hybrid_forward(self, F, x, weight, bias):\n",
    "        return F.FullyConnected(x, weight, bias, num_hidden=self._units)\n",
    "```\n"
   ]
  },
  {
   "cell_type": "markdown",
   "metadata": {},
   "source": [
    "Our `weight` and `bias` parameters are dense (see `stype='default'`) and so are their gradients (see `grad_stype='default'`). Our `weight` parameter has shape `(units, in_units)` because the [`FullyConnected`](/api/python/docs/api/ndarray/ndarray.html#mxnet.ndarray.FullyConnected) operator performs the following calculation:\n",
    "\n",
    "$$Y = XW^T + b$$\n",
    "\n",
    "We could instead have created our parameter with shape `(in_units, units)` and avoid the transpose of the weight matrix. We'll see why this is so important later on. And instead of [`FullyConnected`](/api/python/docs/api/ndarray/ndarray.html#mxnet.ndarray.FullyConnected) we could have used [`mx.sparse.dot`](/api/python/docs/api/ndarray/sparse/index.html?#mxnet.ndarray.sparse.dot) to fully exploit the sparsity of the [`CSRNDArray`](/api/python/docs/api/ndarray/sparse/index.html#mxnet.ndarray.sparse.CSRNDArray) input arrays. We'll now implement an alternative `Block` called `FullyConnectedSparse` using these ideas. We take `grad_stype` of the `weight` as an argument (called `weight_grad_stype`), since we're going to change this later on."
   ]
  },
  {
   "cell_type": "markdown",
   "metadata": {},
   "source": [
    "```python\n",
    "class FullyConnectedSparse(mx.gluon.HybridBlock):\n",
    "    def __init__(self, in_units, units, weight_grad_stype='default'):\n",
    "        super(FullyConnectedSparse, self).__init__()\n",
    "        with self.name_scope():\n",
    "            self._units = units\n",
    "            self.weight = self.params.get('weight', shape=(in_units, units),\n",
    "                                          init=None, allow_deferred_init=True,\n",
    "                                          dtype='float32', stype='default', grad_stype=weight_grad_stype)\n",
    "            self.bias = self.params.get('bias', shape=(units),\n",
    "                                          init='zeros', allow_deferred_init=True,\n",
    "                                          dtype='float32', stype='default', grad_stype='default')\n",
    "\n",
    "    def hybrid_forward(self, F, x, weight, bias):\n",
    "        return F.sparse.dot(x, weight) + bias\n",
    "```\n"
   ]
  },
  {
   "cell_type": "markdown",
   "metadata": {},
   "source": [
    "Once again, we're using a dense `weight`, so both `FullyConnected` and `FullyConnectedSparse` will return dense array outputs. When constructing a multi-layer network therefore, only the first layer needs to be optimized for sparse inputs. Our first layer is often responsible for reducing the feature dimension dramatically (e.g. 1,000,000 features down to 128 features). We'll set the number of units in our 3 layers to be 128, 8 and 1.\n",
    "\n",
    "We will use [`timeit`](https://docs.python.org/2/library/timeit.html) to check the performance of these two variants, and analyse some [MXNet Profiler](/api/python/docs/tutorials/performance/backend/profiler.html) traces that have been created from these benchmarks. Additionally, we will inspect the memory usage of the weights (and gradients) using the `print_memory_allocation` function defined below:"
   ]
  },
  {
   "cell_type": "markdown",
   "metadata": {},
   "source": [
    "```python\n",
    "def print_memory_allocation(net, block_idxs):\n",
    "    blocks = [net[block_idx] for block_idx in block_idxs]\n",
    "    weight_nbytes = [get_nbytes(b.weight.data()) for b in blocks]\n",
    "    weight_nbytes_pct = [b/sum(weight_nbytes) for b in weight_nbytes]\n",
    "    weight_grad_nbytes = [get_nbytes(b.weight.grad()) for b in blocks]\n",
    "    weight_grad_nbytes_pct = [b/sum(weight_grad_nbytes) for b in weight_grad_nbytes]\n",
    "    print(\"Memory Allocation for Weight:\")\n",
    "    for i in range(len(block_idxs)):\n",
    "        print('{:7.3f} MBs ({:7.3f}%) for {:<40}'.format(weight_nbytes[i]/1000000,\n",
    "                                                              weight_nbytes_pct[i]*100,\n",
    "                                                              blocks[i].name))\n",
    "    print(\"Memory Allocation for Weight Gradient:\")\n",
    "    for i in range(len(block_idxs)):\n",
    "        print('{:7.3f} MBs ({:7.3f}%) for {:<40}'.format(weight_grad_nbytes[i]/1000000,\n",
    "                                                              weight_grad_nbytes_pct[i]*100,\n",
    "                                                              blocks[i].name))\n",
    "```\n"
   ]
  },
  {
   "cell_type": "markdown",
   "metadata": {},
   "source": [
    "### Benchmark: `FullyConnected`\n",
    "\n",
    "We'll create a network using `nn.Dense` and benchmark the training."
   ]
  },
  {
   "cell_type": "markdown",
   "metadata": {},
   "source": [
    "```python\n",
    "net = mx.gluon.nn.Sequential()\n",
    "net.add(\n",
    "    mx.gluon.nn.Dense(in_units=num_features, units=128),\n",
    "    mx.gluon.nn.Activation('sigmoid'),\n",
    "    mx.gluon.nn.Dense(in_units=128, units=8),\n",
    "    mx.gluon.nn.Activation('sigmoid'),\n",
    "    mx.gluon.nn.Dense(in_units=8, units=1),\n",
    "    mx.gluon.nn.Activation('sigmoid'),\n",
    ")\n",
    "net.initialize(ctx=ctx)\n",
    "trainer = mx.gluon.Trainer(net.collect_params(), 'sgd')\n",
    "loss_fn = mx.gluon.loss.SigmoidBinaryCrossEntropyLoss()\n",
    "```\n"
   ]
  },
  {
   "cell_type": "markdown",
   "metadata": {},
   "source": [
    "```python\n",
    "%%timeit\n",
    "data_iter.reset()\n",
    "for batch in data_iter:\n",
    "    data = batch.data[0]\n",
    "    data = data.as_in_context(ctx)\n",
    "    label = batch.label[0].as_in_context(ctx)\n",
    "    with mx.autograd.record():\n",
    "        pred = net(data)\n",
    "        loss = loss_fn(pred, label)\n",
    "    loss.backward()\n",
    "    trainer.step(data.shape[0])\n",
    "    loss.wait_to_read()\n",
    "```\n"
   ]
  },
  {
   "cell_type": "markdown",
   "metadata": {},
   "source": [
    "```\n",
    "532 ms +- 3.47 ms per loop (mean +- std. dev. of 7 runs, 1 loop each)\n",
    "```\n"
   ]
  },
  {
   "cell_type": "markdown",
   "metadata": {},
   "source": [
    "![fully connected](https://raw.githubusercontent.com/dmlc/web-data/master/mxnet/doc/tutorials/ndarray/sparse/fully_connected.png)\n",
    "\n",
    "We can see the first [`FullyConnected`](/api/python/docs/api/ndarray/ndarray.html#mxnet.ndarray.FullyConnected) operator takes a significant proportion of time to execute (~25% of the iteration) because there are 1,000,000 input features (to 128). After this, the other [`FullyConnected`](/api/python/docs/api/ndarray/ndarray.html#mxnet.ndarray.FullyConnected) operators are much faster because they have input features of 128 (to 8) and 8 (to 1). On the backward pass, we see the same pattern (but in reverse). And finally, the parameter update step takes a large amount of time on the weight matrix of the first `FullyConnected` `Block`. When checking the memory allocations below, we can see the weight matrix of the first `FullyConnected` `Block` is responsible for 99.999% of the memory compared to other [`FullyConnected`](/api/python/docs/api/ndarray/ndarray.html#mxnet.ndarray.FullyConnected) weight matrices."
   ]
  },
  {
   "cell_type": "markdown",
   "metadata": {},
   "source": [
    "```python\n",
    "print_memory_allocation(net, block_idxs=[0, 2, 4])\n",
    "```\n"
   ]
  },
  {
   "cell_type": "markdown",
   "metadata": {},
   "source": [
    "```\n",
    "Memory Allocation for Weight:\n",
    "512.000 MBs ( 99.999%) for dense0                                  \n",
    "  0.004 MBs (  0.001%) for dense1                                  \n",
    "  0.000 MBs (  0.000%) for dense2                                  \n",
    "Memory Allocation for Weight Gradient:\n",
    "512.000 MBs ( 99.999%) for dense0                                  \n",
    "  0.004 MBs (  0.001%) for dense1                                  \n",
    "  0.000 MBs (  0.000%) for dense2                                  \n",
    "```\n"
   ]
  },
  {
   "cell_type": "markdown",
   "metadata": {},
   "source": [
    "### Benchmark: `FullyConnectedSparse`\n",
    "\n",
    "We will now switch the first layer from `FullyConnected` to `FullyConnectedSparse`."
   ]
  },
  {
   "cell_type": "markdown",
   "metadata": {},
   "source": [
    "```python\n",
    "net = mx.gluon.nn.Sequential()\n",
    "net.add(\n",
    "    FullyConnectedSparse(in_units=num_features, units=128),\n",
    "    mx.gluon.nn.Activation('sigmoid'),\n",
    "    FullyConnected(in_units=128, units=8),\n",
    "    mx.gluon.nn.Activation('sigmoid'),\n",
    "    FullyConnected(in_units=8, units=1),\n",
    "    mx.gluon.nn.Activation('sigmoid'),\n",
    ")\n",
    "net.initialize(ctx=ctx)\n",
    "trainer = mx.gluon.Trainer(net.collect_params(), 'sgd')\n",
    "loss_fn = mx.gluon.loss.SigmoidBinaryCrossEntropyLoss()\n",
    "```\n"
   ]
  },
  {
   "cell_type": "markdown",
   "metadata": {},
   "source": [
    "```python\n",
    "%%timeit\n",
    "data_iter.reset()\n",
    "for batch in data_iter:\n",
    "    data = batch.data[0]\n",
    "    data = data.as_in_context(ctx)\n",
    "    label = batch.label[0].as_in_context(ctx)\n",
    "    with mx.autograd.record():\n",
    "        pred = net(data)\n",
    "        loss = loss_fn(pred, label)\n",
    "    loss.backward()\n",
    "    trainer.step(data.shape[0])\n",
    "    loss.wait_to_read()\n",
    "```\n"
   ]
  },
  {
   "cell_type": "markdown",
   "metadata": {},
   "source": [
    "```\n",
    "528 ms +- 22.7 ms per loop (mean +- std. dev. of 7 runs, 1 loop each)\n",
    "```\n"
   ]
  },
  {
   "cell_type": "markdown",
   "metadata": {},
   "source": [
    "![fully connected sparse](https://raw.githubusercontent.com/dmlc/web-data/master/mxnet/doc/tutorials/ndarray/sparse/fully_connected_sparse.png)\n",
    "\n",
    "We see the forward pass of `dot` and `add` (equivalent to [`FullyConnected`](/api/python/docs/api/ndarray/ndarray.html#mxnet.ndarray.FullyConnected) operator) is much faster now: 1.54ms vs 0.26ms. And this explains the reduction in overall time for the epoch. We didn't gain any benefit on the backward pass or parameter updates though.\n",
    "\n",
    "![fully connected sparse backward](https://raw.githubusercontent.com/dmlc/web-data/master/mxnet/doc/tutorials/ndarray/sparse/fully_connected_sparse_backward.png)\n",
    "\n",
    "Our first weight matrix and its gradients still take up the same amount of memory as before."
   ]
  },
  {
   "cell_type": "markdown",
   "metadata": {},
   "source": [
    "```python\n",
    "print_memory_allocation(net, block_idxs=[0, 2, 4])\n",
    "```\n"
   ]
  },
  {
   "cell_type": "markdown",
   "metadata": {},
   "source": [
    "```\n",
    "Memory Allocation for Weight:\n",
    "512.000 MBs ( 99.999%) for fullyconnectedsparse0                   \n",
    "  0.004 MBs (  0.001%) for fullyconnected0                         \n",
    "  0.000 MBs (  0.000%) for fullyconnected1                         \n",
    "Memory Allocation for Weight Gradient:\n",
    "512.000 MBs ( 99.999%) for fullyconnectedsparse0                   \n",
    "  0.004 MBs (  0.001%) for fullyconnected0                         \n",
    "  0.000 MBs (  0.000%) for fullyconnected1                         \n",
    "```\n"
   ]
  },
  {
   "cell_type": "markdown",
   "metadata": {},
   "source": [
    "### Benchmark: `FullyConnectedSparse` with `grad_stype=row_sparse` \n",
    "\n",
    "One useful outcome of sparsity in our [`CSRNDArray`](/api/python/docs/api/ndarray/sparse/index.html#mxnet.ndarray.sparse.CSRNDArray) input is that our gradients will be row sparse. We can exploit this fact to give us potentially huge memory savings and speed improvements. Creating our `weight` parameter with shape `(units, in_units)` and not transposing in the forward pass are important pre-requisite for obtaining row sparse gradients. Using [`nn.Dense`](/api/python/docs/api/gluon/nn/index.html#mxnet.gluon.nn.Dense) would have led to column sparse gradients which are not supported in MXNet. We previously had `grad_stype` of the `weight` parameter in the first layer set to `'default'` so we were handling the gradient as a dense array. Switching this to `'row_sparse'` can give us these potential improvements."
   ]
  },
  {
   "cell_type": "markdown",
   "metadata": {},
   "source": [
    "```python\n",
    "net = mx.gluon.nn.Sequential()\n",
    "net.add(\n",
    "    FullyConnectedSparse(in_units=num_features, units=128, weight_grad_stype='row_sparse'),\n",
    "    mx.gluon.nn.Activation('sigmoid'),\n",
    "    FullyConnected(in_units=128, units=8),\n",
    "    mx.gluon.nn.Activation('sigmoid'),\n",
    "    FullyConnected(in_units=8, units=1),\n",
    "    mx.gluon.nn.Activation('sigmoid'),\n",
    ")\n",
    "net.initialize(ctx=ctx)\n",
    "trainer = mx.gluon.Trainer(net.collect_params(), 'sgd')\n",
    "loss_fn = mx.gluon.loss.SigmoidBinaryCrossEntropyLoss()\n",
    "```\n"
   ]
  },
  {
   "cell_type": "markdown",
   "metadata": {},
   "source": [
    "```python\n",
    "%%timeit\n",
    "data_iter.reset()\n",
    "for batch in data_iter:\n",
    "    data = batch.data[0]\n",
    "    data = data.as_in_context(ctx)\n",
    "    label = batch.label[0].as_in_context(ctx)\n",
    "    with mx.autograd.record():\n",
    "        pred = net(data)\n",
    "        loss = loss_fn(pred, label)\n",
    "    loss.backward()\n",
    "    trainer.step(data.shape[0])\n",
    "    loss.wait_to_read()\n",
    "```\n"
   ]
  },
  {
   "cell_type": "markdown",
   "metadata": {},
   "source": [
    "```\n",
    "334 ms +- 16.9 ms per loop (mean +- std. dev. of 7 runs, 1 loop each)\n",
    "```\n"
   ]
  },
  {
   "cell_type": "markdown",
   "metadata": {},
   "source": [
    "![fully connected sparse grad backward](https://raw.githubusercontent.com/dmlc/web-data/master/mxnet/doc/tutorials/ndarray/sparse/fully_connected_sparse_grad_backward.png)\n",
    "\n",
    "We can see a huge reduction in the time taken for the backward pass and parameter update step: 3.99ms vs 0.18ms. And this reduces the overall time of the epoch significantly. Our gradient consumes a much smaller amount of memory and means only a subset of parameters need updating as part of the `sgd_update` step. Some optimizers don't support sparse gradients however, so reference the specific optimizer's documentation for more details."
   ]
  },
  {
   "cell_type": "markdown",
   "metadata": {},
   "source": [
    "```python\n",
    "print_memory_allocation(net, block_idxs=[0, 2, 4])\n",
    "```\n"
   ]
  },
  {
   "cell_type": "markdown",
   "metadata": {},
   "source": [
    "```\n",
    "Memory Allocation for Weight:\n",
    "512.000 MBs ( 99.999%) for fullyconnectedsparse1                   \n",
    "  0.004 MBs (  0.001%) for fullyconnected2                         \n",
    "  0.000 MBs (  0.000%) for fullyconnected3                         \n",
    "Memory Allocation for Weight Gradient:\n",
    "  0.059 MBs ( 93.490%) for fullyconnectedsparse1                   \n",
    "  0.004 MBs (  6.460%) for fullyconnected2                         \n",
    "  0.000 MBs (  0.050%) for fullyconnected3                         \n",
    "```\n"
   ]
  },
  {
   "cell_type": "markdown",
   "metadata": {},
   "source": [
    "### Advanced: Sparse `weight`\n",
    "\n",
    "You can optimize this example further by setting the weight's `stype` to `'row_sparse'`, but whether `'row_sparse'` weights make sense or not will depends on your specific task. See [`contrib.SparseEmbedding `](https://github.com/apache/incubator-mxnet/blob/master/python/mxnet/gluon/contrib/nn/basic_layers.py#L118) for an example of this.\n",
    "\n",
    "## Conclusion\n",
    "\n",
    "As part of this tutorial, we learned how to write sparse data to disk in LibSVM format and load it back in sparse batches with the [`LibSVMIter`](/api/python/docs/api/mxnet/io/index.html#mxnet.io.LibSVMIter). We learned how to improve the performance of Gluon's [`nn.Dense`](/api/python/docs/api/gluon/nn/index.html#mxnet.gluon.nn.Dense) on sparse arrays using `mx.nd.sparse`. And lastly, we set `grad_stype` to `'row_sparse'` to reduce the size of the gradient and speed up the parameter update step.\n",
    "\n",
    "## Recommended Next Steps\n",
    "\n",
    "* More detail on the [`CSRNDArray`](/api/python/docs/api/ndarray/sparse/index.html#mxnet.ndarray.sparse.CSRNDArray) sparse array format can be found in [this tutorial](/api/python/docs/tutorials/packages/ndarray/sparse/csr.html).\n",
    "* More detail on the [`RowSparseNDArray`](/api/python/docs/api/ndarray/sparse/index.html#mxnet.ndarray.sparse.RowSparseNDArray) sparse array format can be found in [this tutorial](/api/python/docs/tutorials/packages/ndarray/sparse/row_sparse.html).\n",
    "* Users of the Module API can see a symbolic only example in [this tutorial](/api/python/docs/tutorials/packages/ndarray/sparse/train.html).\n",
    "\n",
    "<!-- INSERT SOURCE DOWNLOAD BUTTONS -->"
   ]
  }
 ],
 "metadata": {
  "language_info": {
   "name": "python"
  }
 },
 "nbformat": 4,
 "nbformat_minor": 4
}