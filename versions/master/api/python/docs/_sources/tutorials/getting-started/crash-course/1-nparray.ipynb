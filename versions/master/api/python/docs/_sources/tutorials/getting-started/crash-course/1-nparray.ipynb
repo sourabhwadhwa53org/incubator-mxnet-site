{
 "cells": [
  {
   "cell_type": "markdown",
   "id": "654c3c04",
   "metadata": {},
   "source": [
    "<!--- Licensed to the Apache Software Foundation (ASF) under one -->\n",
    "<!--- or more contributor license agreements.  See the NOTICE file -->\n",
    "<!--- distributed with this work for additional information -->\n",
    "<!--- regarding copyright ownership.  The ASF licenses this file -->\n",
    "<!--- to you under the Apache License, Version 2.0 (the -->\n",
    "<!--- \"License\"); you may not use this file except in compliance -->\n",
    "<!--- with the License.  You may obtain a copy of the License at -->\n",
    "\n",
    "<!---   http://www.apache.org/licenses/LICENSE-2.0 -->\n",
    "\n",
    "<!--- Unless required by applicable law or agreed to in writing, -->\n",
    "<!--- software distributed under the License is distributed on an -->\n",
    "<!--- \"AS IS\" BASIS, WITHOUT WARRANTIES OR CONDITIONS OF ANY -->\n",
    "<!--- KIND, either express or implied.  See the License for the -->\n",
    "<!--- specific language governing permissions and limitations -->\n",
    "<!--- under the License. -->\n",
    "\n",
    "# Step 1: Manipulate data with NP on MXNet\n",
    "\n",
    "This getting started exercise introduces the MXNet `np` package for ndarrays.\n",
    "These ndarrays extend the functionality of the common NumPy ndarrays, by adding\n",
    "support for gpu's and by adding auto-differentiation with autograd. Now, many\n",
    "NumPy methods are available within MXNet; therefore, we will only briefly cover\n",
    "some of what is available.\n",
    "\n",
    "## Import packages and create an array\n",
    "To get started, run the following commands to import the `np` package together\n",
    "with the NumPy extensions package `npx`. Together, `np` with `npx` make up the\n",
    "NP on MXNet front end."
   ]
  },
  {
   "cell_type": "code",
   "execution_count": null,
   "id": "1d6d7cfd",
   "metadata": {},
   "outputs": [],
   "source": [
    "import mxnet as mx\n",
    "from mxnet import np, npx\n",
    "npx.set_np()  # Activate NumPy-like mode."
   ]
  },
  {
   "cell_type": "markdown",
   "id": "539ace11",
   "metadata": {},
   "source": [
    "In this step, create a 2D array (also called a matrix). The following code\n",
    "example creates a matrix with values from two sets of numbers: 1, 2, 3 and 4, 5,\n",
    "6. This might also be referred to as a tuple of a tuple of integers."
   ]
  },
  {
   "cell_type": "code",
   "execution_count": null,
   "id": "fc82f993",
   "metadata": {},
   "outputs": [],
   "source": [
    "np.array(((1, 2, 3), (5, 6, 7)))"
   ]
  },
  {
   "cell_type": "markdown",
   "id": "9043b5b7",
   "metadata": {},
   "source": [
    "You can also create a very simple matrix with the same shape (2 rows by 3\n",
    "columns), but fill it with 1's."
   ]
  },
  {
   "cell_type": "code",
   "execution_count": null,
   "id": "c3568adc",
   "metadata": {},
   "outputs": [],
   "source": [
    "x = np.full((2, 3), 1) \n",
    "x"
   ]
  },
  {
   "cell_type": "markdown",
   "id": "f362e1c2",
   "metadata": {},
   "source": [
    "Alternatively, you could use the following array creation routine."
   ]
  },
  {
   "cell_type": "code",
   "execution_count": null,
   "id": "2834f0d5",
   "metadata": {},
   "outputs": [],
   "source": [
    "x = np.ones((2, 3)) \n",
    "x"
   ]
  },
  {
   "cell_type": "markdown",
   "id": "38edb139",
   "metadata": {},
   "source": [
    "You can create arrays whose values are sampled randomly. For example, sampling\n",
    "values uniformly between -1 and 1. The following code example creates the same\n",
    "shape, but with random sampling."
   ]
  },
  {
   "cell_type": "code",
   "execution_count": null,
   "id": "a6d9b6ef",
   "metadata": {},
   "outputs": [],
   "source": [
    "y = np.random.uniform(-1, 1, (2, 3))\n",
    "y"
   ]
  },
  {
   "cell_type": "markdown",
   "id": "8da30275",
   "metadata": {},
   "source": [
    "As with NumPy, the dimensions of each ndarray are shown by accessing the\n",
    "`.shape` attribute. As the following code example shows, you can also query for\n",
    "`size`, which is equal to the product of the components of the shape. In\n",
    "addition, `.dtype` tells the data type of the stored values. As you notice when\n",
    "we generate random uniform values we generate `float32` not `float64` as normal\n",
    "NumPy arrays."
   ]
  },
  {
   "cell_type": "code",
   "execution_count": null,
   "id": "5d869af5",
   "metadata": {},
   "outputs": [],
   "source": [
    "(x.shape, x.size, x.dtype)"
   ]
  },
  {
   "cell_type": "markdown",
   "id": "01164a80",
   "metadata": {},
   "source": [
    "You could also specifiy the datatype when you create your ndarray."
   ]
  },
  {
   "cell_type": "code",
   "execution_count": null,
   "id": "f7f68f9d",
   "metadata": {},
   "outputs": [],
   "source": [
    "x = np.full((2, 3), 1, dtype=\"int8\") \n",
    "x.dtype"
   ]
  },
  {
   "cell_type": "markdown",
   "id": "df2325df",
   "metadata": {},
   "source": [
    "Versus the default of `float32`."
   ]
  },
  {
   "cell_type": "code",
   "execution_count": null,
   "id": "8bfadf17",
   "metadata": {},
   "outputs": [],
   "source": [
    "x = np.full((2, 3), 1) \n",
    "x.dtype"
   ]
  },
  {
   "cell_type": "markdown",
   "id": "580b0a57",
   "metadata": {},
   "source": [
    "When we multiply, by default we use the datatype with the most precision."
   ]
  },
  {
   "cell_type": "code",
   "execution_count": null,
   "id": "7708a0cb",
   "metadata": {},
   "outputs": [],
   "source": [
    "x = x.astype(\"int8\") + x.astype(int) + x.astype(\"float32\")\n",
    "x.dtype"
   ]
  },
  {
   "cell_type": "markdown",
   "id": "56e3998d",
   "metadata": {},
   "source": [
    "## Performing operations on an array\n",
    "\n",
    "A ndarray supports a large number of standard mathematical operations. Here are\n",
    "some examples. You can perform element-wise multiplication by using the\n",
    "following code example."
   ]
  },
  {
   "cell_type": "code",
   "execution_count": null,
   "id": "d4704dd6",
   "metadata": {},
   "outputs": [],
   "source": [
    "x * y"
   ]
  },
  {
   "cell_type": "markdown",
   "id": "8964e8a3",
   "metadata": {},
   "source": [
    "You can perform exponentiation by using the following code example."
   ]
  },
  {
   "cell_type": "code",
   "execution_count": null,
   "id": "9c23636f",
   "metadata": {},
   "outputs": [],
   "source": [
    "np.exp(y)"
   ]
  },
  {
   "cell_type": "markdown",
   "id": "ccb82b7e",
   "metadata": {},
   "source": [
    "You can also find a matrix’s transpose to compute a proper matrix-matrix product\n",
    "by using the following code example."
   ]
  },
  {
   "cell_type": "code",
   "execution_count": null,
   "id": "c64514fa",
   "metadata": {},
   "outputs": [],
   "source": [
    "np.dot(x, y.T)"
   ]
  },
  {
   "cell_type": "markdown",
   "id": "ab1059f2",
   "metadata": {},
   "source": [
    "Alternatively, you could use the matrix multiplication function."
   ]
  },
  {
   "cell_type": "code",
   "execution_count": null,
   "id": "661b3e9b",
   "metadata": {},
   "outputs": [],
   "source": [
    "np.matmul(x, y.T)"
   ]
  },
  {
   "cell_type": "markdown",
   "id": "5881d494",
   "metadata": {},
   "source": [
    "You can leverage built in operators, like summation."
   ]
  },
  {
   "cell_type": "code",
   "execution_count": null,
   "id": "eccbbeb1",
   "metadata": {},
   "outputs": [],
   "source": [
    "x.sum()"
   ]
  },
  {
   "cell_type": "markdown",
   "id": "fd8d4ad5",
   "metadata": {},
   "source": [
    "You can also gather a mean value."
   ]
  },
  {
   "cell_type": "code",
   "execution_count": null,
   "id": "4ddf1e42",
   "metadata": {},
   "outputs": [],
   "source": [
    "x.mean()"
   ]
  },
  {
   "cell_type": "markdown",
   "id": "0dd5db42",
   "metadata": {},
   "source": [
    "You can perform flatten and reshape just like you normally would in NumPy!"
   ]
  },
  {
   "cell_type": "code",
   "execution_count": null,
   "id": "c3fe99cc",
   "metadata": {},
   "outputs": [],
   "source": [
    "x.flatten()"
   ]
  },
  {
   "cell_type": "code",
   "execution_count": null,
   "id": "e9a11e5c",
   "metadata": {},
   "outputs": [],
   "source": [
    "x.reshape(6, 1)"
   ]
  },
  {
   "cell_type": "markdown",
   "id": "ff271a9a",
   "metadata": {},
   "source": [
    "## Indexing an array\n",
    "\n",
    "The ndarrays support slicing in many ways you might want to access your data.\n",
    "The following code example shows how to read a particular element, which returns\n",
    "a 1D array with shape `(1,)`."
   ]
  },
  {
   "cell_type": "code",
   "execution_count": null,
   "id": "9666748c",
   "metadata": {},
   "outputs": [],
   "source": [
    "y[1, 2]"
   ]
  },
  {
   "cell_type": "markdown",
   "id": "d57083fe",
   "metadata": {},
   "source": [
    "This example shows how to read the second and third columns from `y`."
   ]
  },
  {
   "cell_type": "code",
   "execution_count": null,
   "id": "afdf4a4b",
   "metadata": {},
   "outputs": [],
   "source": [
    "y[:, 1:3]"
   ]
  },
  {
   "cell_type": "markdown",
   "id": "98028b69",
   "metadata": {},
   "source": [
    "This example shows how to write to a specific element."
   ]
  },
  {
   "cell_type": "code",
   "execution_count": null,
   "id": "90672257",
   "metadata": {},
   "outputs": [],
   "source": [
    "y[:, 1:3] = 2\n",
    "y"
   ]
  },
  {
   "cell_type": "markdown",
   "id": "1d4809b7",
   "metadata": {},
   "source": [
    "You can perform multi-dimensional slicing, which is shown in the following code\n",
    "example."
   ]
  },
  {
   "cell_type": "code",
   "execution_count": null,
   "id": "8742c0c5",
   "metadata": {},
   "outputs": [],
   "source": [
    "y[1:2, 0:2] = 4\n",
    "y"
   ]
  },
  {
   "cell_type": "markdown",
   "id": "7b84cfd6",
   "metadata": {},
   "source": [
    "## Converting between MXNet ndarrays and NumPy arrays\n",
    "\n",
    "You can convert MXNet ndarrays to and from NumPy ndarrays, as shown in the\n",
    "following example. The converted arrays do not share memory."
   ]
  },
  {
   "cell_type": "code",
   "execution_count": null,
   "id": "a585497b",
   "metadata": {},
   "outputs": [],
   "source": [
    "a = x.asnumpy()\n",
    "(type(a), a)"
   ]
  },
  {
   "cell_type": "code",
   "execution_count": null,
   "id": "37d9f143",
   "metadata": {},
   "outputs": [],
   "source": [
    "a = np.array(a)\n",
    "(type(a), a)"
   ]
  },
  {
   "cell_type": "markdown",
   "id": "efbe97d5",
   "metadata": {},
   "source": [
    "Additionally, you can move them to different GPU contexts. You will dive more\n",
    "into this later, but here is an example for now."
   ]
  },
  {
   "cell_type": "code",
   "execution_count": null,
   "id": "1599dfcc",
   "metadata": {},
   "outputs": [],
   "source": [
    "a.copyto(mx.gpu(0))"
   ]
  },
  {
   "cell_type": "markdown",
   "id": "2ba6b2bc",
   "metadata": {},
   "source": [
    "## Next Steps\n",
    "\n",
    "Ndarrays also have some additional features which make Deep Learning possible\n",
    "and efficient. Namely, differentiation, and being able to leverage GPU's.\n",
    "Another important feature of ndarrays that we will discuss later is \n",
    "autograd. But first, we will abstract an additional level and talk about building\n",
    "Neural Network Layers [Step 2: Create a neural network](./2-create-nn.ipynb)"
   ]
  }
 ],
 "metadata": {
  "language_info": {
   "name": "python"
  }
 },
 "nbformat": 4,
 "nbformat_minor": 5
}