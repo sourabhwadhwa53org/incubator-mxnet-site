{
 "cells": [
  {
   "cell_type": "markdown",
   "id": "50c36c34",
   "metadata": {},
   "source": [
    "<!--- Licensed to the Apache Software Foundation (ASF) under one -->\n",
    "<!--- or more contributor license agreements.  See the NOTICE file -->\n",
    "<!--- distributed with this work for additional information -->\n",
    "<!--- regarding copyright ownership.  The ASF licenses this file -->\n",
    "<!--- to you under the Apache License, Version 2.0 (the -->\n",
    "<!--- \"License\"); you may not use this file except in compliance -->\n",
    "<!--- with the License.  You may obtain a copy of the License at -->\n",
    "\n",
    "<!---   http://www.apache.org/licenses/LICENSE-2.0 -->\n",
    "\n",
    "<!--- Unless required by applicable law or agreed to in writing, -->\n",
    "<!--- software distributed under the License is distributed on an -->\n",
    "<!--- \"AS IS\" BASIS, WITHOUT WARRANTIES OR CONDITIONS OF ANY -->\n",
    "<!--- KIND, either express or implied.  See the License for the -->\n",
    "<!--- specific language governing permissions and limitations -->\n",
    "<!--- under the License. -->\n",
    "\n",
    "# Step 1: Manipulate data with NP on MXNet\n",
    "\n",
    "This getting started exercise introduces the MXNet `np` package for ndarrays.\n",
    "These ndarrays extend the functionality of the common NumPy ndarrays, by adding\n",
    "support for gpu's and by adding auto-differentiation with autograd. Now, many\n",
    "NumPy methods are available within MXNet; therefore, we will only briefly cover\n",
    "some of what is available.\n",
    "\n",
    "## Import packages and create an array\n",
    "To get started, run the following commands to import the `np` package together\n",
    "with the NumPy extensions package `npx`. Together, `np` with `npx` make up the\n",
    "NP on MXNet front end."
   ]
  },
  {
   "cell_type": "code",
   "execution_count": null,
   "id": "955bb627",
   "metadata": {},
   "outputs": [],
   "source": [
    "import mxnet as mx\n",
    "from mxnet import np, npx\n",
    "npx.set_np()  # Activate NumPy-like mode."
   ]
  },
  {
   "cell_type": "markdown",
   "id": "2ce371c2",
   "metadata": {},
   "source": [
    "In this step, create a 2D array (also called a matrix). The following code\n",
    "example creates a matrix with values from two sets of numbers: 1, 2, 3 and 4, 5,\n",
    "6. This might also be referred to as a tuple of a tuple of integers."
   ]
  },
  {
   "cell_type": "code",
   "execution_count": null,
   "id": "79e36efe",
   "metadata": {},
   "outputs": [],
   "source": [
    "np.array(((1, 2, 3), (5, 6, 7)))"
   ]
  },
  {
   "cell_type": "markdown",
   "id": "6145b83f",
   "metadata": {},
   "source": [
    "You can also create a very simple matrix with the same shape (2 rows by 3\n",
    "columns), but fill it with 1's."
   ]
  },
  {
   "cell_type": "code",
   "execution_count": null,
   "id": "214e04bb",
   "metadata": {},
   "outputs": [],
   "source": [
    "x = np.full((2, 3), 1) \n",
    "x"
   ]
  },
  {
   "cell_type": "markdown",
   "id": "5640a69d",
   "metadata": {},
   "source": [
    "Alternatively, you could use the following array creation routine."
   ]
  },
  {
   "cell_type": "code",
   "execution_count": null,
   "id": "9c671a8b",
   "metadata": {},
   "outputs": [],
   "source": [
    "x = np.ones((2, 3)) \n",
    "x"
   ]
  },
  {
   "cell_type": "markdown",
   "id": "f623a709",
   "metadata": {},
   "source": [
    "You can create arrays whose values are sampled randomly. For example, sampling\n",
    "values uniformly between -1 and 1. The following code example creates the same\n",
    "shape, but with random sampling."
   ]
  },
  {
   "cell_type": "code",
   "execution_count": null,
   "id": "dec53824",
   "metadata": {},
   "outputs": [],
   "source": [
    "y = np.random.uniform(-1, 1, (2, 3))\n",
    "y"
   ]
  },
  {
   "cell_type": "markdown",
   "id": "64f1883b",
   "metadata": {},
   "source": [
    "As with NumPy, the dimensions of each ndarray are shown by accessing the\n",
    "`.shape` attribute. As the following code example shows, you can also query for\n",
    "`size`, which is equal to the product of the components of the shape. In\n",
    "addition, `.dtype` tells the data type of the stored values. As you notice when\n",
    "we generate random uniform values we generate `float32` not `float64` as normal\n",
    "NumPy arrays."
   ]
  },
  {
   "cell_type": "code",
   "execution_count": null,
   "id": "f14e8005",
   "metadata": {},
   "outputs": [],
   "source": [
    "(x.shape, x.size, x.dtype)"
   ]
  },
  {
   "cell_type": "markdown",
   "id": "b4b6086d",
   "metadata": {},
   "source": [
    "You could also specifiy the datatype when you create your ndarray."
   ]
  },
  {
   "cell_type": "code",
   "execution_count": null,
   "id": "1be1bd57",
   "metadata": {},
   "outputs": [],
   "source": [
    "x = np.full((2, 3), 1, dtype=\"int8\") \n",
    "x.dtype"
   ]
  },
  {
   "cell_type": "markdown",
   "id": "3c64e3ae",
   "metadata": {},
   "source": [
    "Versus the default of `float32`."
   ]
  },
  {
   "cell_type": "code",
   "execution_count": null,
   "id": "199f12b4",
   "metadata": {},
   "outputs": [],
   "source": [
    "x = np.full((2, 3), 1) \n",
    "x.dtype"
   ]
  },
  {
   "cell_type": "markdown",
   "id": "8e5f65cb",
   "metadata": {},
   "source": [
    "When we multiply, by default we use the datatype with the most precision."
   ]
  },
  {
   "cell_type": "code",
   "execution_count": null,
   "id": "4094d56b",
   "metadata": {},
   "outputs": [],
   "source": [
    "x = x.astype(\"int8\") + x.astype(int) + x.astype(\"float32\")\n",
    "x.dtype"
   ]
  },
  {
   "cell_type": "markdown",
   "id": "d267cd8a",
   "metadata": {},
   "source": [
    "## Performing operations on an array\n",
    "\n",
    "A ndarray supports a large number of standard mathematical operations. Here are\n",
    "some examples. You can perform element-wise multiplication by using the\n",
    "following code example."
   ]
  },
  {
   "cell_type": "code",
   "execution_count": null,
   "id": "36e93456",
   "metadata": {},
   "outputs": [],
   "source": [
    "x * y"
   ]
  },
  {
   "cell_type": "markdown",
   "id": "4a943f18",
   "metadata": {},
   "source": [
    "You can perform exponentiation by using the following code example."
   ]
  },
  {
   "cell_type": "code",
   "execution_count": null,
   "id": "a6c22878",
   "metadata": {},
   "outputs": [],
   "source": [
    "np.exp(y)"
   ]
  },
  {
   "cell_type": "markdown",
   "id": "18be95d0",
   "metadata": {},
   "source": [
    "You can also find a matrix’s transpose to compute a proper matrix-matrix product\n",
    "by using the following code example."
   ]
  },
  {
   "cell_type": "code",
   "execution_count": null,
   "id": "0041b4f6",
   "metadata": {},
   "outputs": [],
   "source": [
    "np.dot(x, y.T)"
   ]
  },
  {
   "cell_type": "markdown",
   "id": "1a999fd4",
   "metadata": {},
   "source": [
    "Alternatively, you could use the matrix multiplication function."
   ]
  },
  {
   "cell_type": "code",
   "execution_count": null,
   "id": "adfc5d53",
   "metadata": {},
   "outputs": [],
   "source": [
    "np.matmul(x, y.T)"
   ]
  },
  {
   "cell_type": "markdown",
   "id": "46ad3c1f",
   "metadata": {},
   "source": [
    "You can leverage built in operators, like summation."
   ]
  },
  {
   "cell_type": "code",
   "execution_count": null,
   "id": "b8b7d8ec",
   "metadata": {},
   "outputs": [],
   "source": [
    "x.sum()"
   ]
  },
  {
   "cell_type": "markdown",
   "id": "608fe683",
   "metadata": {},
   "source": [
    "You can also gather a mean value."
   ]
  },
  {
   "cell_type": "code",
   "execution_count": null,
   "id": "0afe13f8",
   "metadata": {},
   "outputs": [],
   "source": [
    "x.mean()"
   ]
  },
  {
   "cell_type": "markdown",
   "id": "f3390fc7",
   "metadata": {},
   "source": [
    "You can perform flatten and reshape just like you normally would in NumPy!"
   ]
  },
  {
   "cell_type": "code",
   "execution_count": null,
   "id": "bf2d141e",
   "metadata": {},
   "outputs": [],
   "source": [
    "x.flatten()"
   ]
  },
  {
   "cell_type": "code",
   "execution_count": null,
   "id": "352c4e07",
   "metadata": {},
   "outputs": [],
   "source": [
    "x.reshape(6, 1)"
   ]
  },
  {
   "cell_type": "markdown",
   "id": "c7d1da79",
   "metadata": {},
   "source": [
    "## Indexing an array\n",
    "\n",
    "The ndarrays support slicing in many ways you might want to access your data.\n",
    "The following code example shows how to read a particular element, which returns\n",
    "a 1D array with shape `(1,)`."
   ]
  },
  {
   "cell_type": "code",
   "execution_count": null,
   "id": "4e020e71",
   "metadata": {},
   "outputs": [],
   "source": [
    "y[1, 2]"
   ]
  },
  {
   "cell_type": "markdown",
   "id": "c521bc83",
   "metadata": {},
   "source": [
    "This example shows how to read the second and third columns from `y`."
   ]
  },
  {
   "cell_type": "code",
   "execution_count": null,
   "id": "b2e98505",
   "metadata": {},
   "outputs": [],
   "source": [
    "y[:, 1:3]"
   ]
  },
  {
   "cell_type": "markdown",
   "id": "2dbdb9e2",
   "metadata": {},
   "source": [
    "This example shows how to write to a specific element."
   ]
  },
  {
   "cell_type": "code",
   "execution_count": null,
   "id": "6346aa32",
   "metadata": {},
   "outputs": [],
   "source": [
    "y[:, 1:3] = 2\n",
    "y"
   ]
  },
  {
   "cell_type": "markdown",
   "id": "0f9fc8fc",
   "metadata": {},
   "source": [
    "You can perform multi-dimensional slicing, which is shown in the following code\n",
    "example."
   ]
  },
  {
   "cell_type": "code",
   "execution_count": null,
   "id": "081d863f",
   "metadata": {},
   "outputs": [],
   "source": [
    "y[1:2, 0:2] = 4\n",
    "y"
   ]
  },
  {
   "cell_type": "markdown",
   "id": "63e81b39",
   "metadata": {},
   "source": [
    "## Converting between MXNet ndarrays and NumPy arrays\n",
    "\n",
    "You can convert MXNet ndarrays to and from NumPy ndarrays, as shown in the\n",
    "following example. The converted arrays do not share memory."
   ]
  },
  {
   "cell_type": "code",
   "execution_count": null,
   "id": "14e6e835",
   "metadata": {},
   "outputs": [],
   "source": [
    "a = x.asnumpy()\n",
    "(type(a), a)"
   ]
  },
  {
   "cell_type": "code",
   "execution_count": null,
   "id": "bf8a37d7",
   "metadata": {},
   "outputs": [],
   "source": [
    "a = np.array(a)\n",
    "(type(a), a)"
   ]
  },
  {
   "cell_type": "markdown",
   "id": "d9b359cb",
   "metadata": {},
   "source": [
    "Additionally, you can move them to different GPU contexts. You will dive more\n",
    "into this later, but here is an example for now."
   ]
  },
  {
   "cell_type": "code",
   "execution_count": null,
   "id": "b2220d45",
   "metadata": {},
   "outputs": [],
   "source": [
    "a.copyto(mx.gpu(0))"
   ]
  },
  {
   "cell_type": "markdown",
   "id": "a6ddda93",
   "metadata": {},
   "source": [
    "## Next Steps\n",
    "\n",
    "Ndarrays also have some additional features which make Deep Learning possible\n",
    "and efficient. Namely, differentiation, and being able to leverage GPU's.\n",
    "Another important feature of ndarrays that we will discuss later is \n",
    "autograd. But first, we will abstract an additional level and talk about building\n",
    "Neural Network Layers [Step 2: Create a neural network](./2-create-nn.ipynb)"
   ]
  }
 ],
 "metadata": {
  "language_info": {
   "name": "python"
  }
 },
 "nbformat": 4,
 "nbformat_minor": 5
}