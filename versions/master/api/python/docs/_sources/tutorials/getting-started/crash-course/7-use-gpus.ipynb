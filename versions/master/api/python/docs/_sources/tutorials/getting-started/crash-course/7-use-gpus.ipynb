{
 "cells": [
  {
   "cell_type": "markdown",
   "id": "48754e47",
   "metadata": {},
   "source": [
    "<!--- Licensed to the Apache Software Foundation (ASF) under one -->\n",
    "<!--- or more contributor license agreements.  See the NOTICE file -->\n",
    "<!--- distributed with this work for additional information -->\n",
    "<!--- regarding copyright ownership.  The ASF licenses this file -->\n",
    "<!--- to you under the Apache License, Version 2.0 (the -->\n",
    "<!--- \"License\"); you may not use this file except in compliance -->\n",
    "<!--- with the License.  You may obtain a copy of the License at -->\n",
    "\n",
    "<!---   http://www.apache.org/licenses/LICENSE-2.0 -->\n",
    "\n",
    "<!--- Unless required by applicable law or agreed to in writing, -->\n",
    "<!--- software distributed under the License is distributed on an -->\n",
    "<!--- \"AS IS\" BASIS, WITHOUT WARRANTIES OR CONDITIONS OF ANY -->\n",
    "<!--- KIND, either express or implied.  See the License for the -->\n",
    "<!--- specific language governing permissions and limitations -->\n",
    "<!--- under the License. -->\n",
    "\n",
    "# Step 7: Load and Run a NN using GPU\n",
    "\n",
    "In this step, you will learn how to use graphics processing units (GPUs) with MXNet. If you use GPUs to train and deploy neural networks, you may be able to train or perform inference quicker than with central processing units (CPUs).\n",
    "\n",
    "## Prerequisites\n",
    "\n",
    "Before you start the steps, make sure you have at least one Nvidia GPU on your machine and make sure that you have CUDA properly installed. GPUs from AMD and Intel are not supported. Additionally, you will need to install the GPU-enabled version of MXNet. You can find information about how to install the GPU version of MXNet for your system [here](https://mxnet.apache.org/versions/1.4.1/install/ubuntu_setup.html).\n",
    "\n",
    "You can use the following command to view the number GPUs that are available to MXNet."
   ]
  },
  {
   "cell_type": "code",
   "execution_count": 1,
   "id": "52a6ccf1",
   "metadata": {},
   "outputs": [
    {
     "data": {
      "text/plain": [
       "1"
      ]
     },
     "execution_count": 1,
     "metadata": {},
     "output_type": "execute_result"
    }
   ],
   "source": [
    "from mxnet import np, npx, gluon, autograd\n",
    "from mxnet.gluon import nn\n",
    "import time\n",
    "npx.set_np()\n",
    "\n",
    "npx.num_gpus() #This command provides the number of GPUs MXNet can access"
   ]
  },
  {
   "cell_type": "markdown",
   "id": "b6618e8f",
   "metadata": {},
   "source": [
    "## Allocate data to a GPU\n",
    "\n",
    "MXNet's ndarray is very similar to NumPy's. One major difference is that MXNet's ndarray has a `context` attribute specifieing which device an array is on. By default, arrays are stored on `npx.cpu()`. To change it to the first GPU, you can use the following code, `npx.gpu()` or `npx.gpu(0)` to indicate the first GPU."
   ]
  },
  {
   "cell_type": "code",
   "execution_count": 2,
   "id": "9b293d15",
   "metadata": {},
   "outputs": [
    {
     "name": "stderr",
     "output_type": "stream",
     "text": [
      "[15:36:33] /work/mxnet/src/storage/storage.cc:202: Using Pooled (Naive) StorageManager for GPU\n"
     ]
    },
    {
     "data": {
      "text/plain": [
       "array([[1., 1., 1., 1.],\n",
       "       [1., 1., 1., 1.],\n",
       "       [1., 1., 1., 1.]], ctx=gpu(0))"
      ]
     },
     "execution_count": 2,
     "metadata": {},
     "output_type": "execute_result"
    }
   ],
   "source": [
    "gpu = npx.gpu() if npx.num_gpus() > 0 else npx.cpu()\n",
    "x = np.ones((3,4), ctx=gpu)\n",
    "x"
   ]
  },
  {
   "cell_type": "markdown",
   "id": "5650d11f",
   "metadata": {},
   "source": [
    "If you're using a CPU, MXNet allocates data on the main memory and tries to use as many CPU cores as possible.  If there are multiple GPUs, MXNet will tell you which GPUs the ndarray is allocated on.\n",
    "\n",
    "Assuming there is at least two GPUs. You can create another ndarray and assign it to a different GPU. If you only have one GPU, then you will get an error trying to run this code. In the example code here, you will copy `x` to the second GPU, `npx.gpu(1)`:"
   ]
  },
  {
   "cell_type": "code",
   "execution_count": 3,
   "id": "bdbeb5f0",
   "metadata": {},
   "outputs": [
    {
     "name": "stderr",
     "output_type": "stream",
     "text": [
      "[15:36:33] /work/mxnet/src/storage/storage.cc:202: Using Pooled (Naive) StorageManager for CPU\n"
     ]
    },
    {
     "data": {
      "text/plain": [
       "array([[1., 1., 1., 1.],\n",
       "       [1., 1., 1., 1.],\n",
       "       [1., 1., 1., 1.]])"
      ]
     },
     "execution_count": 3,
     "metadata": {},
     "output_type": "execute_result"
    }
   ],
   "source": [
    "gpu_1 = npx.gpu(1) if npx.num_gpus() > 1 else npx.cpu()\n",
    "x.copyto(gpu_1)"
   ]
  },
  {
   "cell_type": "markdown",
   "id": "f9a5f5a3",
   "metadata": {},
   "source": [
    "MXNet requries that users explicitly move data between devices. But several operators such as `print`, and `asnumpy`, will implicitly move data to main memory.\n",
    "\n",
    "## Choosing GPU Ids\n",
    "If you have multiple GPUs on your machine, MXNet can access each of them through 0-indexing with `npx`. As you saw before, the first GPU was accessed using `npx.gpu(0)`, and the second using `npx.gpu(1)`. This extends to however many GPUs your machine has. So if your machine has eight GPUs, the last GPU is accessed using `npx.gpu(7)`. This allows you to select which GPUs to use for operations and training. You might find it particularly useful when you want to leverage multiple GPUs while training neural networks.\n",
    "\n",
    "## Run an operation on a GPU\n",
    "\n",
    "To perform an operation on a particular GPU, you only need to guarantee that the input of an operation is already on that GPU. The output is allocated on the same GPU as well. Almost all operators in the `np` and `npx` module support running on a GPU."
   ]
  },
  {
   "cell_type": "code",
   "execution_count": 4,
   "id": "49cbc650",
   "metadata": {},
   "outputs": [
    {
     "data": {
      "text/plain": [
       "array([[1.7402194, 1.9209938, 1.0390205, 1.9689629],\n",
       "       [1.9251406, 1.4463501, 1.6673192, 1.1099306],\n",
       "       [1.4702187, 1.5131936, 1.7761751, 1.2947657]], ctx=gpu(0))"
      ]
     },
     "execution_count": 4,
     "metadata": {},
     "output_type": "execute_result"
    }
   ],
   "source": [
    "y = np.random.uniform(size=(3,4), ctx=gpu)\n",
    "x + y"
   ]
  },
  {
   "cell_type": "markdown",
   "id": "96bd4660",
   "metadata": {},
   "source": [
    "Remember that if the inputs are not on the same GPU, you will get an error.\n",
    "\n",
    "## Run a neural network on a GPU\n",
    "\n",
    "To run a neural network on a GPU, you only need to copy and move the input data and parameters to the GPU. To demonstrate this you can reuse the previously defined LeafNetwork in [Training Neural Networks](6-train-nn.md). The following code example shows this."
   ]
  },
  {
   "cell_type": "code",
   "execution_count": 5,
   "id": "094af0eb",
   "metadata": {},
   "outputs": [],
   "source": [
    "# The convolutional block has a convolution layer, a max pool layer and a batch normalization layer\n",
    "def conv_block(filters, kernel_size=2, stride=2, batch_norm=True):\n",
    "    conv_block = nn.HybridSequential()\n",
    "    conv_block.add(nn.Conv2D(channels=filters, kernel_size=kernel_size, activation='relu'),\n",
    "              nn.MaxPool2D(pool_size=4, strides=stride))\n",
    "    if batch_norm:\n",
    "        conv_block.add(nn.BatchNorm())\n",
    "    return conv_block\n",
    "\n",
    "# The dense block consists of a dense layer and a dropout layer\n",
    "def dense_block(neurons, activation='relu', dropout=0.2):\n",
    "    dense_block = nn.HybridSequential()\n",
    "    dense_block.add(nn.Dense(neurons, activation=activation))\n",
    "    if dropout:\n",
    "        dense_block.add(nn.Dropout(dropout))\n",
    "    return dense_block\n",
    "\n",
    "# Create neural network blueprint using the blocks\n",
    "class LeafNetwork(nn.HybridBlock):\n",
    "    def __init__(self):\n",
    "        super(LeafNetwork, self).__init__()\n",
    "        self.conv1 = conv_block(32)\n",
    "        self.conv2 = conv_block(64)\n",
    "        self.conv3 = conv_block(128)\n",
    "        self.flatten = nn.Flatten()\n",
    "        self.dense1 = dense_block(100)\n",
    "        self.dense2 = dense_block(10)\n",
    "        self.dense3 = nn.Dense(2)\n",
    "\n",
    "    def forward(self, batch):\n",
    "        batch = self.conv1(batch)\n",
    "        batch = self.conv2(batch)\n",
    "        batch = self.conv3(batch)\n",
    "        batch = self.flatten(batch)\n",
    "        batch = self.dense1(batch)\n",
    "        batch = self.dense2(batch)\n",
    "        batch = self.dense3(batch)\n",
    "\n",
    "        return batch"
   ]
  },
  {
   "cell_type": "markdown",
   "id": "7951093a",
   "metadata": {},
   "source": [
    "Load the saved parameters onto GPU 0 directly as shown below; additionally, you could use `net.collect_params().reset_ctx(gpu)` to change the device."
   ]
  },
  {
   "cell_type": "code",
   "execution_count": 6,
   "id": "420f3251",
   "metadata": {},
   "outputs": [],
   "source": [
    "net = LeafNetwork()\n",
    "net.load_parameters('leaf_models.params', ctx=gpu)"
   ]
  },
  {
   "cell_type": "markdown",
   "id": "8c78e813",
   "metadata": {},
   "source": [
    "Use the following command to create input data on GPU 0. The forward function will then run on GPU 0."
   ]
  },
  {
   "cell_type": "code",
   "execution_count": 7,
   "id": "2eea7ce5",
   "metadata": {},
   "outputs": [
    {
     "name": "stderr",
     "output_type": "stream",
     "text": [
      "[15:36:33] /work/mxnet/src/operator/nn/./cudnn/./cudnn_algoreg-inl.h:106: Running performance tests to find the best convolution algorithm, this can take a while... (set the environment variable MXNET_CUDNN_AUTOTUNE_DEFAULT to 0 to disable)\n"
     ]
    },
    {
     "data": {
      "text/plain": [
       "array([[ 5.175762 , -4.5131917]], ctx=gpu(0))"
      ]
     },
     "execution_count": 7,
     "metadata": {},
     "output_type": "execute_result"
    }
   ],
   "source": [
    "x = np.random.uniform(size=(1, 3, 128, 128), ctx=gpu)\n",
    "net(x)"
   ]
  },
  {
   "cell_type": "markdown",
   "id": "a1c13c37",
   "metadata": {},
   "source": [
    "## Training with multiple GPUs\n",
    "\n",
    "Finally, you will see how you can use multiple GPUs to jointly train a neural network through data parallelism. To elaborate on what data parallelism is, assume there are *n* GPUs, then you can split each data batch into *n* parts, and use a GPU on each of these parts to run the forward and backward passes on the seperate chunks of the data.\n",
    "\n",
    "First copy the data definitions with the following commands, and the transform functions from the tutorial [Training Neural Networks](6-train-nn.md)."
   ]
  },
  {
   "cell_type": "code",
   "execution_count": 8,
   "id": "7de4da0e",
   "metadata": {},
   "outputs": [],
   "source": [
    "# Import transforms as compose a series of transformations to the images\n",
    "from mxnet.gluon.data.vision import transforms\n",
    "\n",
    "jitter_param = 0.05\n",
    "\n",
    "# mean and std for normalizing image value in range (0,1)\n",
    "mean = [0.485, 0.456, 0.406]\n",
    "std = [0.229, 0.224, 0.225]\n",
    "\n",
    "training_transformer = transforms.Compose([\n",
    "    transforms.Resize(size=224, keep_ratio=True),\n",
    "    transforms.CenterCrop(128),\n",
    "    transforms.RandomFlipLeftRight(),\n",
    "    transforms.RandomColorJitter(contrast=jitter_param),\n",
    "    transforms.ToTensor(),\n",
    "    transforms.Normalize(mean, std)\n",
    "])\n",
    "\n",
    "validation_transformer = transforms.Compose([\n",
    "    transforms.Resize(size=224, keep_ratio=True),\n",
    "    transforms.CenterCrop(128),\n",
    "    transforms.ToTensor(),\n",
    "    transforms.Normalize(mean, std)\n",
    "])\n",
    "\n",
    "# Use ImageFolderDataset to create a Dataset object from directory structure\n",
    "train_dataset = gluon.data.vision.ImageFolderDataset('./datasets/train')\n",
    "val_dataset = gluon.data.vision.ImageFolderDataset('./datasets/validation')\n",
    "test_dataset = gluon.data.vision.ImageFolderDataset('./datasets/test')\n",
    "\n",
    "# Create data loaders\n",
    "batch_size = 4\n",
    "train_loader = gluon.data.DataLoader(train_dataset.transform_first(training_transformer),batch_size=batch_size, shuffle=True, try_nopython=True)\n",
    "validation_loader = gluon.data.DataLoader(val_dataset.transform_first(validation_transformer), batch_size=batch_size, try_nopython=True)\n",
    "test_loader = gluon.data.DataLoader(test_dataset.transform_first(validation_transformer), batch_size=batch_size, try_nopython=True)"
   ]
  },
  {
   "cell_type": "markdown",
   "id": "e8647ccd",
   "metadata": {},
   "source": [
    "### Define a helper function\n",
    "This is the same test function defined previously in the **Step 6**."
   ]
  },
  {
   "cell_type": "code",
   "execution_count": 9,
   "id": "9a280a60",
   "metadata": {},
   "outputs": [],
   "source": [
    "# Function to return the accuracy for the validation and test set\n",
    "def test(val_data, devices):\n",
    "    acc = gluon.metric.Accuracy()\n",
    "    for batch in val_data:\n",
    "        data, label = batch[0], batch[1]\n",
    "        data_list = gluon.utils.split_and_load(data, devices)\n",
    "        label_list = gluon.utils.split_and_load(label, devices)\n",
    "        outputs = [net(X) for X in data_list]\n",
    "        acc.update(label_list, outputs)\n",
    "\n",
    "    _, accuracy = acc.get()\n",
    "    return accuracy"
   ]
  },
  {
   "cell_type": "markdown",
   "id": "5bbcd0f1",
   "metadata": {},
   "source": [
    "The training loop is quite similar to that shown earlier. The major differences are highlighted in the following code."
   ]
  },
  {
   "cell_type": "code",
   "execution_count": 10,
   "id": "4dc00211",
   "metadata": {},
   "outputs": [
    {
     "name": "stdout",
     "output_type": "stream",
     "text": [
      "Using 1 GPUs\n"
     ]
    },
    {
     "name": "stdout",
     "output_type": "stream",
     "text": [
      "Epoch[1] Batch[5] Speed: 0.795061385085538 samples/sec                   batch loss = 15.153449296951294 | accuracy = 0.4\n"
     ]
    },
    {
     "name": "stdout",
     "output_type": "stream",
     "text": [
      "Epoch[1] Batch[10] Speed: 1.2903788905745561 samples/sec                   batch loss = 29.38239884376526 | accuracy = 0.425\n"
     ]
    },
    {
     "name": "stdout",
     "output_type": "stream",
     "text": [
      "Epoch[1] Batch[15] Speed: 1.2862472370420328 samples/sec                   batch loss = 42.132405042648315 | accuracy = 0.5\n"
     ]
    },
    {
     "name": "stdout",
     "output_type": "stream",
     "text": [
      "Epoch[1] Batch[20] Speed: 1.2954526852750692 samples/sec                   batch loss = 56.41759443283081 | accuracy = 0.5125\n"
     ]
    },
    {
     "name": "stdout",
     "output_type": "stream",
     "text": [
      "Epoch[1] Batch[25] Speed: 1.2914811682654286 samples/sec                   batch loss = 69.94894862174988 | accuracy = 0.52\n"
     ]
    },
    {
     "name": "stdout",
     "output_type": "stream",
     "text": [
      "Epoch[1] Batch[30] Speed: 1.288114001803966 samples/sec                   batch loss = 84.86760973930359 | accuracy = 0.5166666666666667\n"
     ]
    },
    {
     "name": "stdout",
     "output_type": "stream",
     "text": [
      "Epoch[1] Batch[35] Speed: 1.2925712892772279 samples/sec                   batch loss = 99.3341155052185 | accuracy = 0.5\n"
     ]
    },
    {
     "name": "stdout",
     "output_type": "stream",
     "text": [
      "Epoch[1] Batch[40] Speed: 1.293393977211211 samples/sec                   batch loss = 113.32393550872803 | accuracy = 0.49375\n"
     ]
    },
    {
     "name": "stdout",
     "output_type": "stream",
     "text": [
      "Epoch[1] Batch[45] Speed: 1.2857563375583083 samples/sec                   batch loss = 127.58016777038574 | accuracy = 0.4888888888888889\n"
     ]
    },
    {
     "name": "stdout",
     "output_type": "stream",
     "text": [
      "Epoch[1] Batch[50] Speed: 1.2861579009302426 samples/sec                   batch loss = 141.847558259964 | accuracy = 0.5\n"
     ]
    },
    {
     "name": "stdout",
     "output_type": "stream",
     "text": [
      "Epoch[1] Batch[55] Speed: 1.2886893521310416 samples/sec                   batch loss = 156.10318446159363 | accuracy = 0.4863636363636364\n"
     ]
    },
    {
     "name": "stdout",
     "output_type": "stream",
     "text": [
      "Epoch[1] Batch[60] Speed: 1.2945456633008552 samples/sec                   batch loss = 170.2702305316925 | accuracy = 0.48333333333333334\n"
     ]
    },
    {
     "name": "stdout",
     "output_type": "stream",
     "text": [
      "Epoch[1] Batch[65] Speed: 1.2855578170211273 samples/sec                   batch loss = 184.18440914154053 | accuracy = 0.4846153846153846\n"
     ]
    },
    {
     "name": "stdout",
     "output_type": "stream",
     "text": [
      "Epoch[1] Batch[70] Speed: 1.2867156165015605 samples/sec                   batch loss = 197.78811502456665 | accuracy = 0.48928571428571427\n"
     ]
    },
    {
     "name": "stdout",
     "output_type": "stream",
     "text": [
      "Epoch[1] Batch[75] Speed: 1.2888439878164828 samples/sec                   batch loss = 211.114351272583 | accuracy = 0.5\n"
     ]
    },
    {
     "name": "stdout",
     "output_type": "stream",
     "text": [
      "Epoch[1] Batch[80] Speed: 1.292882763159365 samples/sec                   batch loss = 224.92629861831665 | accuracy = 0.503125\n"
     ]
    },
    {
     "name": "stdout",
     "output_type": "stream",
     "text": [
      "Epoch[1] Batch[85] Speed: 1.2945161969074448 samples/sec                   batch loss = 238.94327807426453 | accuracy = 0.5058823529411764\n"
     ]
    },
    {
     "name": "stdout",
     "output_type": "stream",
     "text": [
      "Epoch[1] Batch[90] Speed: 1.2867611112772879 samples/sec                   batch loss = 252.91561269760132 | accuracy = 0.5055555555555555\n"
     ]
    },
    {
     "name": "stdout",
     "output_type": "stream",
     "text": [
      "Epoch[1] Batch[95] Speed: 1.2859932631285251 samples/sec                   batch loss = 266.7609655857086 | accuracy = 0.5052631578947369\n"
     ]
    },
    {
     "name": "stdout",
     "output_type": "stream",
     "text": [
      "Epoch[1] Batch[100] Speed: 1.2857607717193598 samples/sec                   batch loss = 280.86255860328674 | accuracy = 0.5075\n"
     ]
    },
    {
     "name": "stdout",
     "output_type": "stream",
     "text": [
      "Epoch[1] Batch[105] Speed: 1.2863512809369748 samples/sec                   batch loss = 294.59452652931213 | accuracy = 0.5119047619047619\n"
     ]
    },
    {
     "name": "stdout",
     "output_type": "stream",
     "text": [
      "Epoch[1] Batch[110] Speed: 1.2883814782629797 samples/sec                   batch loss = 308.3941569328308 | accuracy = 0.5113636363636364\n"
     ]
    },
    {
     "name": "stdout",
     "output_type": "stream",
     "text": [
      "Epoch[1] Batch[115] Speed: 1.284486864554874 samples/sec                   batch loss = 321.91414070129395 | accuracy = 0.5173913043478261\n"
     ]
    },
    {
     "name": "stdout",
     "output_type": "stream",
     "text": [
      "Epoch[1] Batch[120] Speed: 1.2872816187881617 samples/sec                   batch loss = 335.7812662124634 | accuracy = 0.5208333333333334\n"
     ]
    },
    {
     "name": "stdout",
     "output_type": "stream",
     "text": [
      "Epoch[1] Batch[125] Speed: 1.2923987334239497 samples/sec                   batch loss = 349.57699275016785 | accuracy = 0.516\n"
     ]
    },
    {
     "name": "stdout",
     "output_type": "stream",
     "text": [
      "Epoch[1] Batch[130] Speed: 1.2851629287089614 samples/sec                   batch loss = 362.8636734485626 | accuracy = 0.5288461538461539\n"
     ]
    },
    {
     "name": "stdout",
     "output_type": "stream",
     "text": [
      "Epoch[1] Batch[135] Speed: 1.2941565154044452 samples/sec                   batch loss = 376.18919229507446 | accuracy = 0.5351851851851852\n"
     ]
    },
    {
     "name": "stdout",
     "output_type": "stream",
     "text": [
      "Epoch[1] Batch[140] Speed: 1.2785225082068017 samples/sec                   batch loss = 389.9083950519562 | accuracy = 0.5357142857142857\n"
     ]
    },
    {
     "name": "stdout",
     "output_type": "stream",
     "text": [
      "Epoch[1] Batch[145] Speed: 1.2849604579323517 samples/sec                   batch loss = 403.279265165329 | accuracy = 0.5396551724137931\n"
     ]
    },
    {
     "name": "stdout",
     "output_type": "stream",
     "text": [
      "Epoch[1] Batch[150] Speed: 1.2908944828724969 samples/sec                   batch loss = 417.72225737571716 | accuracy = 0.5316666666666666\n"
     ]
    },
    {
     "name": "stdout",
     "output_type": "stream",
     "text": [
      "Epoch[1] Batch[155] Speed: 1.2846126564072533 samples/sec                   batch loss = 431.32434940338135 | accuracy = 0.5370967741935484\n"
     ]
    },
    {
     "name": "stdout",
     "output_type": "stream",
     "text": [
      "Epoch[1] Batch[160] Speed: 1.2876333378308205 samples/sec                   batch loss = 445.1680517196655 | accuracy = 0.5359375\n"
     ]
    },
    {
     "name": "stdout",
     "output_type": "stream",
     "text": [
      "Epoch[1] Batch[165] Speed: 1.2850740384454091 samples/sec                   batch loss = 459.1138138771057 | accuracy = 0.5348484848484848\n"
     ]
    },
    {
     "name": "stdout",
     "output_type": "stream",
     "text": [
      "Epoch[1] Batch[170] Speed: 1.2845428236425114 samples/sec                   batch loss = 472.95610332489014 | accuracy = 0.5352941176470588\n"
     ]
    },
    {
     "name": "stdout",
     "output_type": "stream",
     "text": [
      "Epoch[1] Batch[175] Speed: 1.283924397517222 samples/sec                   batch loss = 486.6578907966614 | accuracy = 0.5357142857142857\n"
     ]
    },
    {
     "name": "stdout",
     "output_type": "stream",
     "text": [
      "Epoch[1] Batch[180] Speed: 1.2798156515540975 samples/sec                   batch loss = 500.32160687446594 | accuracy = 0.5361111111111111\n"
     ]
    },
    {
     "name": "stdout",
     "output_type": "stream",
     "text": [
      "Epoch[1] Batch[185] Speed: 1.2796973372081493 samples/sec                   batch loss = 514.2026801109314 | accuracy = 0.5391891891891892\n"
     ]
    },
    {
     "name": "stdout",
     "output_type": "stream",
     "text": [
      "Epoch[1] Batch[190] Speed: 1.2766868208152746 samples/sec                   batch loss = 527.5284879207611 | accuracy = 0.5421052631578948\n"
     ]
    },
    {
     "name": "stdout",
     "output_type": "stream",
     "text": [
      "Epoch[1] Batch[195] Speed: 1.2820922816394247 samples/sec                   batch loss = 541.3801319599152 | accuracy = 0.5448717948717948\n"
     ]
    },
    {
     "name": "stdout",
     "output_type": "stream",
     "text": [
      "Epoch[1] Batch[200] Speed: 1.2802825819022707 samples/sec                   batch loss = 555.4353673458099 | accuracy = 0.545\n"
     ]
    },
    {
     "name": "stdout",
     "output_type": "stream",
     "text": [
      "Epoch[1] Batch[205] Speed: 1.2805357710394578 samples/sec                   batch loss = 569.0056312084198 | accuracy = 0.5475609756097561\n"
     ]
    },
    {
     "name": "stdout",
     "output_type": "stream",
     "text": [
      "Epoch[1] Batch[210] Speed: 1.2823343274729542 samples/sec                   batch loss = 582.5691528320312 | accuracy = 0.5488095238095239\n"
     ]
    },
    {
     "name": "stdout",
     "output_type": "stream",
     "text": [
      "Epoch[1] Batch[215] Speed: 1.2790426111558495 samples/sec                   batch loss = 596.6846568584442 | accuracy = 0.5453488372093023\n"
     ]
    },
    {
     "name": "stdout",
     "output_type": "stream",
     "text": [
      "Epoch[1] Batch[220] Speed: 1.2817446599180295 samples/sec                   batch loss = 610.6935262680054 | accuracy = 0.5443181818181818\n"
     ]
    },
    {
     "name": "stdout",
     "output_type": "stream",
     "text": [
      "Epoch[1] Batch[225] Speed: 1.2796523405468225 samples/sec                   batch loss = 624.7338306903839 | accuracy = 0.5422222222222223\n"
     ]
    },
    {
     "name": "stdout",
     "output_type": "stream",
     "text": [
      "Epoch[1] Batch[230] Speed: 1.2826332380525785 samples/sec                   batch loss = 638.6840071678162 | accuracy = 0.5413043478260869\n"
     ]
    },
    {
     "name": "stdout",
     "output_type": "stream",
     "text": [
      "Epoch[1] Batch[235] Speed: 1.2764877887258446 samples/sec                   batch loss = 652.4260461330414 | accuracy = 0.5414893617021277\n"
     ]
    },
    {
     "name": "stdout",
     "output_type": "stream",
     "text": [
      "Epoch[1] Batch[240] Speed: 1.2801980775223705 samples/sec                   batch loss = 665.7022941112518 | accuracy = 0.5458333333333333\n"
     ]
    },
    {
     "name": "stdout",
     "output_type": "stream",
     "text": [
      "Epoch[1] Batch[245] Speed: 1.2816749427867886 samples/sec                   batch loss = 679.0494434833527 | accuracy = 0.5479591836734694\n"
     ]
    },
    {
     "name": "stdout",
     "output_type": "stream",
     "text": [
      "Epoch[1] Batch[250] Speed: 1.2839535802076094 samples/sec                   batch loss = 692.855414390564 | accuracy = 0.548\n"
     ]
    },
    {
     "name": "stdout",
     "output_type": "stream",
     "text": [
      "Epoch[1] Batch[255] Speed: 1.2840704225147297 samples/sec                   batch loss = 706.2282950878143 | accuracy = 0.5490196078431373\n"
     ]
    },
    {
     "name": "stdout",
     "output_type": "stream",
     "text": [
      "Epoch[1] Batch[260] Speed: 1.2828646977874405 samples/sec                   batch loss = 719.5901582241058 | accuracy = 0.5528846153846154\n"
     ]
    },
    {
     "name": "stdout",
     "output_type": "stream",
     "text": [
      "Epoch[1] Batch[265] Speed: 1.2873031511167174 samples/sec                   batch loss = 734.2089302539825 | accuracy = 0.5481132075471699\n"
     ]
    },
    {
     "name": "stdout",
     "output_type": "stream",
     "text": [
      "Epoch[1] Batch[270] Speed: 1.2852984041881634 samples/sec                   batch loss = 747.8591287136078 | accuracy = 0.5481481481481482\n"
     ]
    },
    {
     "name": "stdout",
     "output_type": "stream",
     "text": [
      "Epoch[1] Batch[275] Speed: 1.286427327453073 samples/sec                   batch loss = 761.1112785339355 | accuracy = 0.5509090909090909\n"
     ]
    },
    {
     "name": "stdout",
     "output_type": "stream",
     "text": [
      "Epoch[1] Batch[280] Speed: 1.281686692333684 samples/sec                   batch loss = 775.6136815547943 | accuracy = 0.55\n"
     ]
    },
    {
     "name": "stdout",
     "output_type": "stream",
     "text": [
      "Epoch[1] Batch[285] Speed: 1.2842986653708255 samples/sec                   batch loss = 789.6108882427216 | accuracy = 0.5491228070175439\n"
     ]
    },
    {
     "name": "stdout",
     "output_type": "stream",
     "text": [
      "Epoch[1] Batch[290] Speed: 1.2871950028905315 samples/sec                   batch loss = 802.7530891895294 | accuracy = 0.5491379310344827\n"
     ]
    },
    {
     "name": "stdout",
     "output_type": "stream",
     "text": [
      "Epoch[1] Batch[295] Speed: 1.2927764646667481 samples/sec                   batch loss = 816.2784693241119 | accuracy = 0.5508474576271186\n"
     ]
    },
    {
     "name": "stdout",
     "output_type": "stream",
     "text": [
      "Epoch[1] Batch[300] Speed: 1.282907860536857 samples/sec                   batch loss = 829.8849205970764 | accuracy = 0.55\n"
     ]
    },
    {
     "name": "stdout",
     "output_type": "stream",
     "text": [
      "Epoch[1] Batch[305] Speed: 1.2851410741487055 samples/sec                   batch loss = 843.1866989135742 | accuracy = 0.5516393442622951\n"
     ]
    },
    {
     "name": "stdout",
     "output_type": "stream",
     "text": [
      "Epoch[1] Batch[310] Speed: 1.2898337621960643 samples/sec                   batch loss = 857.0102424621582 | accuracy = 0.5508064516129032\n"
     ]
    },
    {
     "name": "stdout",
     "output_type": "stream",
     "text": [
      "Epoch[1] Batch[315] Speed: 1.2838467799827777 samples/sec                   batch loss = 869.8601129055023 | accuracy = 0.553968253968254\n"
     ]
    },
    {
     "name": "stdout",
     "output_type": "stream",
     "text": [
      "Epoch[1] Batch[320] Speed: 1.286996334059965 samples/sec                   batch loss = 883.3784258365631 | accuracy = 0.553125\n"
     ]
    },
    {
     "name": "stdout",
     "output_type": "stream",
     "text": [
      "Epoch[1] Batch[325] Speed: 1.2845503966879745 samples/sec                   batch loss = 897.5762085914612 | accuracy = 0.5515384615384615\n"
     ]
    },
    {
     "name": "stdout",
     "output_type": "stream",
     "text": [
      "Epoch[1] Batch[330] Speed: 1.2827409152842992 samples/sec                   batch loss = 910.6382303237915 | accuracy = 0.5537878787878788\n"
     ]
    },
    {
     "name": "stdout",
     "output_type": "stream",
     "text": [
      "Epoch[1] Batch[335] Speed: 1.282386864467281 samples/sec                   batch loss = 924.1167063713074 | accuracy = 0.5552238805970149\n"
     ]
    },
    {
     "name": "stdout",
     "output_type": "stream",
     "text": [
      "Epoch[1] Batch[340] Speed: 1.2867540055905624 samples/sec                   batch loss = 937.595371723175 | accuracy = 0.5558823529411765\n"
     ]
    },
    {
     "name": "stdout",
     "output_type": "stream",
     "text": [
      "Epoch[1] Batch[345] Speed: 1.2861496187405463 samples/sec                   batch loss = 951.3391451835632 | accuracy = 0.5557971014492754\n"
     ]
    },
    {
     "name": "stdout",
     "output_type": "stream",
     "text": [
      "Epoch[1] Batch[350] Speed: 1.2805384099714168 samples/sec                   batch loss = 964.5009253025055 | accuracy = 0.5571428571428572\n"
     ]
    },
    {
     "name": "stdout",
     "output_type": "stream",
     "text": [
      "Epoch[1] Batch[355] Speed: 1.2794030129373837 samples/sec                   batch loss = 978.2742545604706 | accuracy = 0.5563380281690141\n"
     ]
    },
    {
     "name": "stdout",
     "output_type": "stream",
     "text": [
      "Epoch[1] Batch[360] Speed: 1.2828192819393573 samples/sec                   batch loss = 991.9484474658966 | accuracy = 0.5555555555555556\n"
     ]
    },
    {
     "name": "stdout",
     "output_type": "stream",
     "text": [
      "Epoch[1] Batch[365] Speed: 1.2789055264823492 samples/sec                   batch loss = 1004.9427771568298 | accuracy = 0.5547945205479452\n"
     ]
    },
    {
     "name": "stdout",
     "output_type": "stream",
     "text": [
      "Epoch[1] Batch[370] Speed: 1.2822439660716056 samples/sec                   batch loss = 1018.6152541637421 | accuracy = 0.5540540540540541\n"
     ]
    },
    {
     "name": "stdout",
     "output_type": "stream",
     "text": [
      "Epoch[1] Batch[375] Speed: 1.2782376836257323 samples/sec                   batch loss = 1032.6962261199951 | accuracy = 0.5533333333333333\n"
     ]
    },
    {
     "name": "stdout",
     "output_type": "stream",
     "text": [
      "Epoch[1] Batch[380] Speed: 1.2820687678864133 samples/sec                   batch loss = 1045.652417421341 | accuracy = 0.5546052631578947\n"
     ]
    },
    {
     "name": "stdout",
     "output_type": "stream",
     "text": [
      "Epoch[1] Batch[385] Speed: 1.278685628397263 samples/sec                   batch loss = 1058.4421718120575 | accuracy = 0.5564935064935065\n"
     ]
    },
    {
     "name": "stdout",
     "output_type": "stream",
     "text": [
      "Epoch[1] Batch[390] Speed: 1.2826201964095354 samples/sec                   batch loss = 1071.4450612068176 | accuracy = 0.5576923076923077\n"
     ]
    },
    {
     "name": "stdout",
     "output_type": "stream",
     "text": [
      "Epoch[1] Batch[395] Speed: 1.2762486243628823 samples/sec                   batch loss = 1084.0160520076752 | accuracy = 0.5588607594936709\n"
     ]
    },
    {
     "name": "stdout",
     "output_type": "stream",
     "text": [
      "Epoch[1] Batch[400] Speed: 1.2831357883891052 samples/sec                   batch loss = 1097.585506439209 | accuracy = 0.56\n"
     ]
    },
    {
     "name": "stdout",
     "output_type": "stream",
     "text": [
      "Epoch[1] Batch[405] Speed: 1.28229884783374 samples/sec                   batch loss = 1109.7248713970184 | accuracy = 0.5623456790123457\n"
     ]
    },
    {
     "name": "stdout",
     "output_type": "stream",
     "text": [
      "Epoch[1] Batch[410] Speed: 1.283742649678969 samples/sec                   batch loss = 1123.327772140503 | accuracy = 0.5621951219512196\n"
     ]
    },
    {
     "name": "stdout",
     "output_type": "stream",
     "text": [
      "Epoch[1] Batch[415] Speed: 1.2869569433029777 samples/sec                   batch loss = 1136.3599088191986 | accuracy = 0.5632530120481928\n"
     ]
    },
    {
     "name": "stdout",
     "output_type": "stream",
     "text": [
      "Epoch[1] Batch[420] Speed: 1.2888681468063146 samples/sec                   batch loss = 1149.9138944149017 | accuracy = 0.5625\n"
     ]
    },
    {
     "name": "stdout",
     "output_type": "stream",
     "text": [
      "Epoch[1] Batch[425] Speed: 1.280578777212235 samples/sec                   batch loss = 1163.794766664505 | accuracy = 0.5629411764705883\n"
     ]
    },
    {
     "name": "stdout",
     "output_type": "stream",
     "text": [
      "Epoch[1] Batch[430] Speed: 1.2775262743497469 samples/sec                   batch loss = 1177.9959166049957 | accuracy = 0.5598837209302325\n"
     ]
    },
    {
     "name": "stdout",
     "output_type": "stream",
     "text": [
      "Epoch[1] Batch[435] Speed: 1.2800125001220715 samples/sec                   batch loss = 1191.4082338809967 | accuracy = 0.5597701149425287\n"
     ]
    },
    {
     "name": "stdout",
     "output_type": "stream",
     "text": [
      "Epoch[1] Batch[440] Speed: 1.2845277761678107 samples/sec                   batch loss = 1205.2673704624176 | accuracy = 0.5602272727272727\n"
     ]
    },
    {
     "name": "stdout",
     "output_type": "stream",
     "text": [
      "Epoch[1] Batch[445] Speed: 1.2858305398793939 samples/sec                   batch loss = 1218.2884283065796 | accuracy = 0.5612359550561797\n"
     ]
    },
    {
     "name": "stdout",
     "output_type": "stream",
     "text": [
      "Epoch[1] Batch[450] Speed: 1.2837001182914007 samples/sec                   batch loss = 1231.7726757526398 | accuracy = 0.5605555555555556\n"
     ]
    },
    {
     "name": "stdout",
     "output_type": "stream",
     "text": [
      "Epoch[1] Batch[455] Speed: 1.2884515311310212 samples/sec                   batch loss = 1245.1089720726013 | accuracy = 0.5626373626373626\n"
     ]
    },
    {
     "name": "stdout",
     "output_type": "stream",
     "text": [
      "Epoch[1] Batch[460] Speed: 1.2817587609340972 samples/sec                   batch loss = 1258.497864484787 | accuracy = 0.5614130434782608\n"
     ]
    },
    {
     "name": "stdout",
     "output_type": "stream",
     "text": [
      "Epoch[1] Batch[465] Speed: 1.2788705287749407 samples/sec                   batch loss = 1272.3075885772705 | accuracy = 0.560752688172043\n"
     ]
    },
    {
     "name": "stdout",
     "output_type": "stream",
     "text": [
      "Epoch[1] Batch[470] Speed: 1.2850287613108764 samples/sec                   batch loss = 1285.2955737113953 | accuracy = 0.5627659574468085\n"
     ]
    },
    {
     "name": "stdout",
     "output_type": "stream",
     "text": [
      "Epoch[1] Batch[475] Speed: 1.2860939139265688 samples/sec                   batch loss = 1298.0845606327057 | accuracy = 0.5631578947368421\n"
     ]
    },
    {
     "name": "stdout",
     "output_type": "stream",
     "text": [
      "Epoch[1] Batch[480] Speed: 1.286206215829478 samples/sec                   batch loss = 1310.4292433261871 | accuracy = 0.5651041666666666\n"
     ]
    },
    {
     "name": "stdout",
     "output_type": "stream",
     "text": [
      "Epoch[1] Batch[485] Speed: 1.2914490576977093 samples/sec                   batch loss = 1324.1474967002869 | accuracy = 0.5644329896907216\n"
     ]
    },
    {
     "name": "stdout",
     "output_type": "stream",
     "text": [
      "Epoch[1] Batch[490] Speed: 1.2891751636613578 samples/sec                   batch loss = 1336.60564494133 | accuracy = 0.5663265306122449\n"
     ]
    },
    {
     "name": "stdout",
     "output_type": "stream",
     "text": [
      "Epoch[1] Batch[495] Speed: 1.2892633342362747 samples/sec                   batch loss = 1349.662222146988 | accuracy = 0.5681818181818182\n"
     ]
    },
    {
     "name": "stdout",
     "output_type": "stream",
     "text": [
      "Epoch[1] Batch[500] Speed: 1.2953572652338987 samples/sec                   batch loss = 1362.85342502594 | accuracy = 0.568\n"
     ]
    },
    {
     "name": "stdout",
     "output_type": "stream",
     "text": [
      "Epoch[1] Batch[505] Speed: 1.284124772734196 samples/sec                   batch loss = 1376.8902916908264 | accuracy = 0.5678217821782178\n"
     ]
    },
    {
     "name": "stdout",
     "output_type": "stream",
     "text": [
      "Epoch[1] Batch[510] Speed: 1.2869433199933356 samples/sec                   batch loss = 1389.6032235622406 | accuracy = 0.5681372549019608\n"
     ]
    },
    {
     "name": "stdout",
     "output_type": "stream",
     "text": [
      "Epoch[1] Batch[515] Speed: 1.2802769153636975 samples/sec                   batch loss = 1402.1713235378265 | accuracy = 0.5689320388349515\n"
     ]
    },
    {
     "name": "stdout",
     "output_type": "stream",
     "text": [
      "Epoch[1] Batch[520] Speed: 1.284330224707816 samples/sec                   batch loss = 1415.3082296848297 | accuracy = 0.5697115384615384\n"
     ]
    },
    {
     "name": "stdout",
     "output_type": "stream",
     "text": [
      "Epoch[1] Batch[525] Speed: 1.2777953078546804 samples/sec                   batch loss = 1428.2915344238281 | accuracy = 0.5704761904761905\n"
     ]
    },
    {
     "name": "stdout",
     "output_type": "stream",
     "text": [
      "Epoch[1] Batch[530] Speed: 1.28508880341826 samples/sec                   batch loss = 1441.0426273345947 | accuracy = 0.5702830188679245\n"
     ]
    },
    {
     "name": "stdout",
     "output_type": "stream",
     "text": [
      "Epoch[1] Batch[535] Speed: 1.2812804788965657 samples/sec                   batch loss = 1455.5432505607605 | accuracy = 0.569626168224299\n"
     ]
    },
    {
     "name": "stdout",
     "output_type": "stream",
     "text": [
      "Epoch[1] Batch[540] Speed: 1.2801985659549397 samples/sec                   batch loss = 1469.009220123291 | accuracy = 0.5703703703703704\n"
     ]
    },
    {
     "name": "stdout",
     "output_type": "stream",
     "text": [
      "Epoch[1] Batch[545] Speed: 1.2815150724458788 samples/sec                   batch loss = 1481.141377210617 | accuracy = 0.5715596330275229\n"
     ]
    },
    {
     "name": "stdout",
     "output_type": "stream",
     "text": [
      "Epoch[1] Batch[550] Speed: 1.2789715301568716 samples/sec                   batch loss = 1493.5530667304993 | accuracy = 0.5722727272727273\n"
     ]
    },
    {
     "name": "stdout",
     "output_type": "stream",
     "text": [
      "Epoch[1] Batch[555] Speed: 1.2839922959923455 samples/sec                   batch loss = 1506.6299481391907 | accuracy = 0.5725225225225226\n"
     ]
    },
    {
     "name": "stdout",
     "output_type": "stream",
     "text": [
      "Epoch[1] Batch[560] Speed: 1.2750207149250132 samples/sec                   batch loss = 1519.0201716423035 | accuracy = 0.5745535714285714\n"
     ]
    },
    {
     "name": "stdout",
     "output_type": "stream",
     "text": [
      "Epoch[1] Batch[565] Speed: 1.2846971543677341 samples/sec                   batch loss = 1531.4233891963959 | accuracy = 0.5752212389380531\n"
     ]
    },
    {
     "name": "stdout",
     "output_type": "stream",
     "text": [
      "Epoch[1] Batch[570] Speed: 1.2784545050329401 samples/sec                   batch loss = 1544.5475976467133 | accuracy = 0.5754385964912281\n"
     ]
    },
    {
     "name": "stdout",
     "output_type": "stream",
     "text": [
      "Epoch[1] Batch[575] Speed: 1.2792641927529018 samples/sec                   batch loss = 1557.529410123825 | accuracy = 0.5756521739130435\n"
     ]
    },
    {
     "name": "stdout",
     "output_type": "stream",
     "text": [
      "Epoch[1] Batch[580] Speed: 1.2822271104734069 samples/sec                   batch loss = 1570.8691403865814 | accuracy = 0.5762931034482759\n"
     ]
    },
    {
     "name": "stdout",
     "output_type": "stream",
     "text": [
      "Epoch[1] Batch[585] Speed: 1.281618450056865 samples/sec                   batch loss = 1584.1264345645905 | accuracy = 0.5756410256410256\n"
     ]
    },
    {
     "name": "stdout",
     "output_type": "stream",
     "text": [
      "Epoch[1] Batch[590] Speed: 1.2832177366141737 samples/sec                   batch loss = 1596.1171100139618 | accuracy = 0.5779661016949152\n"
     ]
    },
    {
     "name": "stdout",
     "output_type": "stream",
     "text": [
      "Epoch[1] Batch[595] Speed: 1.2811997563025557 samples/sec                   batch loss = 1608.7592704296112 | accuracy = 0.5785714285714286\n"
     ]
    },
    {
     "name": "stdout",
     "output_type": "stream",
     "text": [
      "Epoch[1] Batch[600] Speed: 1.2833947216032398 samples/sec                   batch loss = 1620.9385483264923 | accuracy = 0.5804166666666667\n"
     ]
    },
    {
     "name": "stdout",
     "output_type": "stream",
     "text": [
      "Epoch[1] Batch[605] Speed: 1.288684600789823 samples/sec                   batch loss = 1634.973125219345 | accuracy = 0.5797520661157025\n"
     ]
    },
    {
     "name": "stdout",
     "output_type": "stream",
     "text": [
      "Epoch[1] Batch[610] Speed: 1.283000670284085 samples/sec                   batch loss = 1647.6587283611298 | accuracy = 0.580327868852459\n"
     ]
    },
    {
     "name": "stdout",
     "output_type": "stream",
     "text": [
      "Epoch[1] Batch[615] Speed: 1.2778505880801847 samples/sec                   batch loss = 1658.99895465374 | accuracy = 0.5813008130081301\n"
     ]
    },
    {
     "name": "stdout",
     "output_type": "stream",
     "text": [
      "Epoch[1] Batch[620] Speed: 1.2777104503366807 samples/sec                   batch loss = 1670.960787653923 | accuracy = 0.5826612903225806\n"
     ]
    },
    {
     "name": "stdout",
     "output_type": "stream",
     "text": [
      "Epoch[1] Batch[625] Speed: 1.2860190897444574 samples/sec                   batch loss = 1683.2986010313034 | accuracy = 0.584\n"
     ]
    },
    {
     "name": "stdout",
     "output_type": "stream",
     "text": [
      "Epoch[1] Batch[630] Speed: 1.2816322545795973 samples/sec                   batch loss = 1696.3661514520645 | accuracy = 0.582936507936508\n"
     ]
    },
    {
     "name": "stdout",
     "output_type": "stream",
     "text": [
      "Epoch[1] Batch[635] Speed: 1.2821034509742546 samples/sec                   batch loss = 1709.1740931272507 | accuracy = 0.5838582677165355\n"
     ]
    },
    {
     "name": "stdout",
     "output_type": "stream",
     "text": [
      "Epoch[1] Batch[640] Speed: 1.2783192995842183 samples/sec                   batch loss = 1724.4077144861221 | accuracy = 0.583203125\n"
     ]
    },
    {
     "name": "stdout",
     "output_type": "stream",
     "text": [
      "Epoch[1] Batch[645] Speed: 1.290062074739438 samples/sec                   batch loss = 1736.2743858098984 | accuracy = 0.5852713178294574\n"
     ]
    },
    {
     "name": "stdout",
     "output_type": "stream",
     "text": [
      "Epoch[1] Batch[650] Speed: 1.291667500718311 samples/sec                   batch loss = 1748.7348215579987 | accuracy = 0.5853846153846154\n"
     ]
    },
    {
     "name": "stdout",
     "output_type": "stream",
     "text": [
      "Epoch[1] Batch[655] Speed: 1.2894280176488813 samples/sec                   batch loss = 1761.4870346784592 | accuracy = 0.5858778625954199\n"
     ]
    },
    {
     "name": "stdout",
     "output_type": "stream",
     "text": [
      "Epoch[1] Batch[660] Speed: 1.2882864045646385 samples/sec                   batch loss = 1774.274824500084 | accuracy = 0.5867424242424243\n"
     ]
    },
    {
     "name": "stdout",
     "output_type": "stream",
     "text": [
      "Epoch[1] Batch[665] Speed: 1.2867783823708185 samples/sec                   batch loss = 1786.9453092813492 | accuracy = 0.58796992481203\n"
     ]
    },
    {
     "name": "stdout",
     "output_type": "stream",
     "text": [
      "Epoch[1] Batch[670] Speed: 1.2842617006431176 samples/sec                   batch loss = 1799.3822330236435 | accuracy = 0.5895522388059702\n"
     ]
    },
    {
     "name": "stdout",
     "output_type": "stream",
     "text": [
      "Epoch[1] Batch[675] Speed: 1.2876837402874268 samples/sec                   batch loss = 1814.0917090177536 | accuracy = 0.5892592592592593\n"
     ]
    },
    {
     "name": "stdout",
     "output_type": "stream",
     "text": [
      "Epoch[1] Batch[680] Speed: 1.2864105589660635 samples/sec                   batch loss = 1827.5453366041183 | accuracy = 0.5893382352941177\n"
     ]
    },
    {
     "name": "stdout",
     "output_type": "stream",
     "text": [
      "Epoch[1] Batch[685] Speed: 1.2876200954869639 samples/sec                   batch loss = 1839.5769070386887 | accuracy = 0.5897810218978102\n"
     ]
    },
    {
     "name": "stdout",
     "output_type": "stream",
     "text": [
      "Epoch[1] Batch[690] Speed: 1.2874396709869302 samples/sec                   batch loss = 1853.1430088281631 | accuracy = 0.5894927536231884\n"
     ]
    },
    {
     "name": "stdout",
     "output_type": "stream",
     "text": [
      "Epoch[1] Batch[695] Speed: 1.2797214473503653 samples/sec                   batch loss = 1865.0115122795105 | accuracy = 0.5902877697841726\n"
     ]
    },
    {
     "name": "stdout",
     "output_type": "stream",
     "text": [
      "Epoch[1] Batch[700] Speed: 1.2872396426956632 samples/sec                   batch loss = 1876.7061276435852 | accuracy = 0.5914285714285714\n"
     ]
    },
    {
     "name": "stdout",
     "output_type": "stream",
     "text": [
      "Epoch[1] Batch[705] Speed: 1.283906023911246 samples/sec                   batch loss = 1890.1103427410126 | accuracy = 0.5921985815602837\n"
     ]
    },
    {
     "name": "stdout",
     "output_type": "stream",
     "text": [
      "Epoch[1] Batch[710] Speed: 1.2829541656244439 samples/sec                   batch loss = 1905.1849460601807 | accuracy = 0.5908450704225352\n"
     ]
    },
    {
     "name": "stdout",
     "output_type": "stream",
     "text": [
      "Epoch[1] Batch[715] Speed: 1.2812449597020543 samples/sec                   batch loss = 1918.4888322353363 | accuracy = 0.5905594405594405\n"
     ]
    },
    {
     "name": "stdout",
     "output_type": "stream",
     "text": [
      "Epoch[1] Batch[720] Speed: 1.2848251520756355 samples/sec                   batch loss = 1931.774834394455 | accuracy = 0.5899305555555555\n"
     ]
    },
    {
     "name": "stdout",
     "output_type": "stream",
     "text": [
      "Epoch[1] Batch[725] Speed: 1.2828274232047243 samples/sec                   batch loss = 1945.1395840644836 | accuracy = 0.5889655172413794\n"
     ]
    },
    {
     "name": "stdout",
     "output_type": "stream",
     "text": [
      "Epoch[1] Batch[730] Speed: 1.2788516171620181 samples/sec                   batch loss = 1958.5842561721802 | accuracy = 0.5886986301369863\n"
     ]
    },
    {
     "name": "stdout",
     "output_type": "stream",
     "text": [
      "Epoch[1] Batch[735] Speed: 1.2825165590960228 samples/sec                   batch loss = 1969.4329242706299 | accuracy = 0.5891156462585034\n"
     ]
    },
    {
     "name": "stdout",
     "output_type": "stream",
     "text": [
      "Epoch[1] Batch[740] Speed: 1.2830381511763045 samples/sec                   batch loss = 1981.9581825733185 | accuracy = 0.5898648648648649\n"
     ]
    },
    {
     "name": "stdout",
     "output_type": "stream",
     "text": [
      "Epoch[1] Batch[745] Speed: 1.2814417588514544 samples/sec                   batch loss = 1994.7685282230377 | accuracy = 0.5902684563758389\n"
     ]
    },
    {
     "name": "stdout",
     "output_type": "stream",
     "text": [
      "Epoch[1] Batch[750] Speed: 1.2838548360498614 samples/sec                   batch loss = 2008.7364482879639 | accuracy = 0.59\n"
     ]
    },
    {
     "name": "stdout",
     "output_type": "stream",
     "text": [
      "Epoch[1] Batch[755] Speed: 1.2808269988167562 samples/sec                   batch loss = 2019.1753256320953 | accuracy = 0.5920529801324503\n"
     ]
    },
    {
     "name": "stdout",
     "output_type": "stream",
     "text": [
      "Epoch[1] Batch[760] Speed: 1.278821983594519 samples/sec                   batch loss = 2030.6886867284775 | accuracy = 0.5930921052631579\n"
     ]
    },
    {
     "name": "stdout",
     "output_type": "stream",
     "text": [
      "Epoch[1] Batch[765] Speed: 1.2765871513085174 samples/sec                   batch loss = 2042.1205452680588 | accuracy = 0.5941176470588235\n"
     ]
    },
    {
     "name": "stdout",
     "output_type": "stream",
     "text": [
      "Epoch[1] Batch[770] Speed: 1.27581800500739 samples/sec                   batch loss = 2055.3228627443314 | accuracy = 0.5951298701298702\n"
     ]
    },
    {
     "name": "stdout",
     "output_type": "stream",
     "text": [
      "Epoch[1] Batch[775] Speed: 1.2780979478019847 samples/sec                   batch loss = 2068.337238430977 | accuracy = 0.5954838709677419\n"
     ]
    },
    {
     "name": "stdout",
     "output_type": "stream",
     "text": [
      "Epoch[1] Batch[780] Speed: 1.2786368049078536 samples/sec                   batch loss = 2081.0378111600876 | accuracy = 0.5958333333333333\n"
     ]
    },
    {
     "name": "stdout",
     "output_type": "stream",
     "text": [
      "Epoch[1] Batch[785] Speed: 1.279483997161179 samples/sec                   batch loss = 2093.739437222481 | accuracy = 0.5952229299363058\n"
     ]
    },
    {
     "name": "stdout",
     "output_type": "stream",
     "text": [
      "[Epoch 1] training: accuracy=0.5951776649746193\n",
      "[Epoch 1] time cost: 631.6003680229187\n",
      "[Epoch 1] validation: validation accuracy=0.6744444444444444\n"
     ]
    },
    {
     "name": "stdout",
     "output_type": "stream",
     "text": [
      "Epoch[2] Batch[5] Speed: 1.2519297692634417 samples/sec                   batch loss = 13.620616912841797 | accuracy = 0.6\n"
     ]
    },
    {
     "name": "stdout",
     "output_type": "stream",
     "text": [
      "Epoch[2] Batch[10] Speed: 1.2533141017050142 samples/sec                   batch loss = 26.803459405899048 | accuracy = 0.575\n"
     ]
    },
    {
     "name": "stdout",
     "output_type": "stream",
     "text": [
      "Epoch[2] Batch[15] Speed: 1.2502022042084409 samples/sec                   batch loss = 40.281113147735596 | accuracy = 0.5666666666666667\n"
     ]
    },
    {
     "name": "stdout",
     "output_type": "stream",
     "text": [
      "Epoch[2] Batch[20] Speed: 1.2559428380813555 samples/sec                   batch loss = 53.360251784324646 | accuracy = 0.575\n"
     ]
    },
    {
     "name": "stdout",
     "output_type": "stream",
     "text": [
      "Epoch[2] Batch[25] Speed: 1.258298781250157 samples/sec                   batch loss = 66.3230584859848 | accuracy = 0.58\n"
     ]
    },
    {
     "name": "stdout",
     "output_type": "stream",
     "text": [
      "Epoch[2] Batch[30] Speed: 1.2561598735425603 samples/sec                   batch loss = 82.48526179790497 | accuracy = 0.5416666666666666\n"
     ]
    },
    {
     "name": "stdout",
     "output_type": "stream",
     "text": [
      "Epoch[2] Batch[35] Speed: 1.2579071609437638 samples/sec                   batch loss = 94.90552508831024 | accuracy = 0.5571428571428572\n"
     ]
    },
    {
     "name": "stdout",
     "output_type": "stream",
     "text": [
      "Epoch[2] Batch[40] Speed: 1.2586414484490671 samples/sec                   batch loss = 107.54324328899384 | accuracy = 0.5875\n"
     ]
    },
    {
     "name": "stdout",
     "output_type": "stream",
     "text": [
      "Epoch[2] Batch[45] Speed: 1.25163285739768 samples/sec                   batch loss = 119.57057678699493 | accuracy = 0.6166666666666667\n"
     ]
    },
    {
     "name": "stdout",
     "output_type": "stream",
     "text": [
      "Epoch[2] Batch[50] Speed: 1.258139688528009 samples/sec                   batch loss = 133.27187383174896 | accuracy = 0.615\n"
     ]
    },
    {
     "name": "stdout",
     "output_type": "stream",
     "text": [
      "Epoch[2] Batch[55] Speed: 1.2526087404489534 samples/sec                   batch loss = 145.15711426734924 | accuracy = 0.6136363636363636\n"
     ]
    },
    {
     "name": "stdout",
     "output_type": "stream",
     "text": [
      "Epoch[2] Batch[60] Speed: 1.2609441318826713 samples/sec                   batch loss = 157.88181328773499 | accuracy = 0.6166666666666667\n"
     ]
    },
    {
     "name": "stdout",
     "output_type": "stream",
     "text": [
      "Epoch[2] Batch[65] Speed: 1.2577548618830214 samples/sec                   batch loss = 169.0896453857422 | accuracy = 0.6230769230769231\n"
     ]
    },
    {
     "name": "stdout",
     "output_type": "stream",
     "text": [
      "Epoch[2] Batch[70] Speed: 1.2591709197630925 samples/sec                   batch loss = 181.23332059383392 | accuracy = 0.6357142857142857\n"
     ]
    },
    {
     "name": "stdout",
     "output_type": "stream",
     "text": [
      "Epoch[2] Batch[75] Speed: 1.2613054994151398 samples/sec                   batch loss = 192.5942267179489 | accuracy = 0.6366666666666667\n"
     ]
    },
    {
     "name": "stdout",
     "output_type": "stream",
     "text": [
      "Epoch[2] Batch[80] Speed: 1.2607935600182463 samples/sec                   batch loss = 205.28095149993896 | accuracy = 0.6375\n"
     ]
    },
    {
     "name": "stdout",
     "output_type": "stream",
     "text": [
      "Epoch[2] Batch[85] Speed: 1.266150512770394 samples/sec                   batch loss = 216.35580492019653 | accuracy = 0.6441176470588236\n"
     ]
    },
    {
     "name": "stdout",
     "output_type": "stream",
     "text": [
      "Epoch[2] Batch[90] Speed: 1.255221461773623 samples/sec                   batch loss = 230.15662336349487 | accuracy = 0.6333333333333333\n"
     ]
    },
    {
     "name": "stdout",
     "output_type": "stream",
     "text": [
      "Epoch[2] Batch[95] Speed: 1.2648613642489206 samples/sec                   batch loss = 242.99826323986053 | accuracy = 0.6368421052631579\n"
     ]
    },
    {
     "name": "stdout",
     "output_type": "stream",
     "text": [
      "Epoch[2] Batch[100] Speed: 1.2616599582545354 samples/sec                   batch loss = 255.43578028678894 | accuracy = 0.6425\n"
     ]
    },
    {
     "name": "stdout",
     "output_type": "stream",
     "text": [
      "Epoch[2] Batch[105] Speed: 1.2589933720784425 samples/sec                   batch loss = 268.6475615501404 | accuracy = 0.6404761904761904\n"
     ]
    },
    {
     "name": "stdout",
     "output_type": "stream",
     "text": [
      "Epoch[2] Batch[110] Speed: 1.2595994514802937 samples/sec                   batch loss = 281.0049538612366 | accuracy = 0.6409090909090909\n"
     ]
    },
    {
     "name": "stdout",
     "output_type": "stream",
     "text": [
      "Epoch[2] Batch[115] Speed: 1.2591740383976715 samples/sec                   batch loss = 292.96754705905914 | accuracy = 0.6391304347826087\n"
     ]
    },
    {
     "name": "stdout",
     "output_type": "stream",
     "text": [
      "Epoch[2] Batch[120] Speed: 1.2592361307925468 samples/sec                   batch loss = 304.4745330810547 | accuracy = 0.6416666666666667\n"
     ]
    },
    {
     "name": "stdout",
     "output_type": "stream",
     "text": [
      "Epoch[2] Batch[125] Speed: 1.2618023859543355 samples/sec                   batch loss = 316.642551779747 | accuracy = 0.648\n"
     ]
    },
    {
     "name": "stdout",
     "output_type": "stream",
     "text": [
      "Epoch[2] Batch[130] Speed: 1.2601511200456315 samples/sec                   batch loss = 328.2105405330658 | accuracy = 0.6519230769230769\n"
     ]
    },
    {
     "name": "stdout",
     "output_type": "stream",
     "text": [
      "Epoch[2] Batch[135] Speed: 1.263014558695883 samples/sec                   batch loss = 339.9441007375717 | accuracy = 0.6555555555555556\n"
     ]
    },
    {
     "name": "stdout",
     "output_type": "stream",
     "text": [
      "Epoch[2] Batch[140] Speed: 1.2526619563838532 samples/sec                   batch loss = 351.99719166755676 | accuracy = 0.6607142857142857\n"
     ]
    },
    {
     "name": "stdout",
     "output_type": "stream",
     "text": [
      "Epoch[2] Batch[145] Speed: 1.2558820101428927 samples/sec                   batch loss = 362.46041882038116 | accuracy = 0.6655172413793103\n"
     ]
    },
    {
     "name": "stdout",
     "output_type": "stream",
     "text": [
      "Epoch[2] Batch[150] Speed: 1.2639672344614343 samples/sec                   batch loss = 375.9666281938553 | accuracy = 0.6666666666666666\n"
     ]
    },
    {
     "name": "stdout",
     "output_type": "stream",
     "text": [
      "Epoch[2] Batch[155] Speed: 1.2635834983557508 samples/sec                   batch loss = 386.9832720756531 | accuracy = 0.6693548387096774\n"
     ]
    },
    {
     "name": "stdout",
     "output_type": "stream",
     "text": [
      "Epoch[2] Batch[160] Speed: 1.262618857700239 samples/sec                   batch loss = 400.07328152656555 | accuracy = 0.6703125\n"
     ]
    },
    {
     "name": "stdout",
     "output_type": "stream",
     "text": [
      "Epoch[2] Batch[165] Speed: 1.256153666114057 samples/sec                   batch loss = 414.28958427906036 | accuracy = 0.6666666666666666\n"
     ]
    },
    {
     "name": "stdout",
     "output_type": "stream",
     "text": [
      "Epoch[2] Batch[170] Speed: 1.2582340447185187 samples/sec                   batch loss = 427.14501106739044 | accuracy = 0.663235294117647\n"
     ]
    },
    {
     "name": "stdout",
     "output_type": "stream",
     "text": [
      "Epoch[2] Batch[175] Speed: 1.2592674155822448 samples/sec                   batch loss = 437.7192689180374 | accuracy = 0.6628571428571428\n"
     ]
    },
    {
     "name": "stdout",
     "output_type": "stream",
     "text": [
      "Epoch[2] Batch[180] Speed: 1.2598110360338712 samples/sec                   batch loss = 450.045019030571 | accuracy = 0.6597222222222222\n"
     ]
    },
    {
     "name": "stdout",
     "output_type": "stream",
     "text": [
      "Epoch[2] Batch[185] Speed: 1.2536559325549712 samples/sec                   batch loss = 461.31187975406647 | accuracy = 0.6608108108108108\n"
     ]
    },
    {
     "name": "stdout",
     "output_type": "stream",
     "text": [
      "Epoch[2] Batch[190] Speed: 1.2599858810099585 samples/sec                   batch loss = 471.8718059062958 | accuracy = 0.6657894736842105\n"
     ]
    },
    {
     "name": "stdout",
     "output_type": "stream",
     "text": [
      "Epoch[2] Batch[195] Speed: 1.2656882937372962 samples/sec                   batch loss = 484.53110003471375 | accuracy = 0.6653846153846154\n"
     ]
    },
    {
     "name": "stdout",
     "output_type": "stream",
     "text": [
      "Epoch[2] Batch[200] Speed: 1.261975600865507 samples/sec                   batch loss = 497.3353170156479 | accuracy = 0.66375\n"
     ]
    },
    {
     "name": "stdout",
     "output_type": "stream",
     "text": [
      "Epoch[2] Batch[205] Speed: 1.260481822872015 samples/sec                   batch loss = 508.69457733631134 | accuracy = 0.6621951219512195\n"
     ]
    },
    {
     "name": "stdout",
     "output_type": "stream",
     "text": [
      "Epoch[2] Batch[210] Speed: 1.260996447203096 samples/sec                   batch loss = 518.9185190200806 | accuracy = 0.6654761904761904\n"
     ]
    },
    {
     "name": "stdout",
     "output_type": "stream",
     "text": [
      "Epoch[2] Batch[215] Speed: 1.2526443731143286 samples/sec                   batch loss = 530.7362936735153 | accuracy = 0.6674418604651163\n"
     ]
    },
    {
     "name": "stdout",
     "output_type": "stream",
     "text": [
      "Epoch[2] Batch[220] Speed: 1.2615252461209556 samples/sec                   batch loss = 542.5370587110519 | accuracy = 0.6681818181818182\n"
     ]
    },
    {
     "name": "stdout",
     "output_type": "stream",
     "text": [
      "Epoch[2] Batch[225] Speed: 1.2640708479344684 samples/sec                   batch loss = 554.0021183490753 | accuracy = 0.6677777777777778\n"
     ]
    },
    {
     "name": "stdout",
     "output_type": "stream",
     "text": [
      "Epoch[2] Batch[230] Speed: 1.259388316131598 samples/sec                   batch loss = 567.5026519298553 | accuracy = 0.6663043478260869\n"
     ]
    },
    {
     "name": "stdout",
     "output_type": "stream",
     "text": [
      "Epoch[2] Batch[235] Speed: 1.262991264115498 samples/sec                   batch loss = 579.5941770076752 | accuracy = 0.6659574468085107\n"
     ]
    },
    {
     "name": "stdout",
     "output_type": "stream",
     "text": [
      "Epoch[2] Batch[240] Speed: 1.2647381712092851 samples/sec                   batch loss = 591.0332815647125 | accuracy = 0.6677083333333333\n"
     ]
    },
    {
     "name": "stdout",
     "output_type": "stream",
     "text": [
      "Epoch[2] Batch[245] Speed: 1.2598566348616473 samples/sec                   batch loss = 601.936952829361 | accuracy = 0.6704081632653062\n"
     ]
    },
    {
     "name": "stdout",
     "output_type": "stream",
     "text": [
      "Epoch[2] Batch[250] Speed: 1.2582409332747158 samples/sec                   batch loss = 613.2254726886749 | accuracy = 0.671\n"
     ]
    },
    {
     "name": "stdout",
     "output_type": "stream",
     "text": [
      "Epoch[2] Batch[255] Speed: 1.2624816606902045 samples/sec                   batch loss = 623.1424903869629 | accuracy = 0.6735294117647059\n"
     ]
    },
    {
     "name": "stdout",
     "output_type": "stream",
     "text": [
      "Epoch[2] Batch[260] Speed: 1.2565623586788117 samples/sec                   batch loss = 634.2424492835999 | accuracy = 0.6730769230769231\n"
     ]
    },
    {
     "name": "stdout",
     "output_type": "stream",
     "text": [
      "Epoch[2] Batch[265] Speed: 1.2596421977481398 samples/sec                   batch loss = 647.1359987258911 | accuracy = 0.6735849056603773\n"
     ]
    },
    {
     "name": "stdout",
     "output_type": "stream",
     "text": [
      "Epoch[2] Batch[270] Speed: 1.2628632068107775 samples/sec                   batch loss = 657.7819386720657 | accuracy = 0.6768518518518518\n"
     ]
    },
    {
     "name": "stdout",
     "output_type": "stream",
     "text": [
      "Epoch[2] Batch[275] Speed: 1.2577654226092139 samples/sec                   batch loss = 668.5600142478943 | accuracy = 0.6790909090909091\n"
     ]
    },
    {
     "name": "stdout",
     "output_type": "stream",
     "text": [
      "Epoch[2] Batch[280] Speed: 1.2638547835462794 samples/sec                   batch loss = 680.6751415729523 | accuracy = 0.6794642857142857\n"
     ]
    },
    {
     "name": "stdout",
     "output_type": "stream",
     "text": [
      "Epoch[2] Batch[285] Speed: 1.2613332836134188 samples/sec                   batch loss = 692.8344116210938 | accuracy = 0.6780701754385965\n"
     ]
    },
    {
     "name": "stdout",
     "output_type": "stream",
     "text": [
      "Epoch[2] Batch[290] Speed: 1.2619301332805812 samples/sec                   batch loss = 704.5476605892181 | accuracy = 0.6793103448275862\n"
     ]
    },
    {
     "name": "stdout",
     "output_type": "stream",
     "text": [
      "Epoch[2] Batch[295] Speed: 1.2601418443125574 samples/sec                   batch loss = 717.8663802146912 | accuracy = 0.6788135593220339\n"
     ]
    },
    {
     "name": "stdout",
     "output_type": "stream",
     "text": [
      "Epoch[2] Batch[300] Speed: 1.267125727283191 samples/sec                   batch loss = 732.1082758903503 | accuracy = 0.6775\n"
     ]
    },
    {
     "name": "stdout",
     "output_type": "stream",
     "text": [
      "Epoch[2] Batch[305] Speed: 1.260750451349163 samples/sec                   batch loss = 745.160010099411 | accuracy = 0.6778688524590164\n"
     ]
    },
    {
     "name": "stdout",
     "output_type": "stream",
     "text": [
      "Epoch[2] Batch[310] Speed: 1.2565954872197713 samples/sec                   batch loss = 755.4273233413696 | accuracy = 0.6806451612903226\n"
     ]
    },
    {
     "name": "stdout",
     "output_type": "stream",
     "text": [
      "Epoch[2] Batch[315] Speed: 1.2644675549957545 samples/sec                   batch loss = 767.5619130134583 | accuracy = 0.6785714285714286\n"
     ]
    },
    {
     "name": "stdout",
     "output_type": "stream",
     "text": [
      "Epoch[2] Batch[320] Speed: 1.2631571973133504 samples/sec                   batch loss = 780.7050625085831 | accuracy = 0.678125\n"
     ]
    },
    {
     "name": "stdout",
     "output_type": "stream",
     "text": [
      "Epoch[2] Batch[325] Speed: 1.25936534418619 samples/sec                   batch loss = 791.567992568016 | accuracy = 0.6784615384615384\n"
     ]
    },
    {
     "name": "stdout",
     "output_type": "stream",
     "text": [
      "Epoch[2] Batch[330] Speed: 1.2579820509109887 samples/sec                   batch loss = 804.6088391542435 | accuracy = 0.6795454545454546\n"
     ]
    },
    {
     "name": "stdout",
     "output_type": "stream",
     "text": [
      "Epoch[2] Batch[335] Speed: 1.2587099098515122 samples/sec                   batch loss = 816.954916715622 | accuracy = 0.6761194029850747\n"
     ]
    },
    {
     "name": "stdout",
     "output_type": "stream",
     "text": [
      "Epoch[2] Batch[340] Speed: 1.2544385370041893 samples/sec                   batch loss = 829.7079811096191 | accuracy = 0.6757352941176471\n"
     ]
    },
    {
     "name": "stdout",
     "output_type": "stream",
     "text": [
      "Epoch[2] Batch[345] Speed: 1.2605478327301536 samples/sec                   batch loss = 843.3853019475937 | accuracy = 0.6746376811594202\n"
     ]
    },
    {
     "name": "stdout",
     "output_type": "stream",
     "text": [
      "Epoch[2] Batch[350] Speed: 1.261155978863788 samples/sec                   batch loss = 855.1853709220886 | accuracy = 0.6757142857142857\n"
     ]
    },
    {
     "name": "stdout",
     "output_type": "stream",
     "text": [
      "Epoch[2] Batch[355] Speed: 1.2563694572781474 samples/sec                   batch loss = 866.5791487693787 | accuracy = 0.6746478873239437\n"
     ]
    },
    {
     "name": "stdout",
     "output_type": "stream",
     "text": [
      "Epoch[2] Batch[360] Speed: 1.2527686824555653 samples/sec                   batch loss = 878.89293217659 | accuracy = 0.6736111111111112\n"
     ]
    },
    {
     "name": "stdout",
     "output_type": "stream",
     "text": [
      "Epoch[2] Batch[365] Speed: 1.2595084834615535 samples/sec                   batch loss = 893.154571056366 | accuracy = 0.6732876712328767\n"
     ]
    },
    {
     "name": "stdout",
     "output_type": "stream",
     "text": [
      "Epoch[2] Batch[370] Speed: 1.2569834658267405 samples/sec                   batch loss = 906.6167125701904 | accuracy = 0.6716216216216216\n"
     ]
    },
    {
     "name": "stdout",
     "output_type": "stream",
     "text": [
      "Epoch[2] Batch[375] Speed: 1.2522828096932324 samples/sec                   batch loss = 918.1198171377182 | accuracy = 0.672\n"
     ]
    },
    {
     "name": "stdout",
     "output_type": "stream",
     "text": [
      "Epoch[2] Batch[380] Speed: 1.255610847523791 samples/sec                   batch loss = 930.5579528808594 | accuracy = 0.6710526315789473\n"
     ]
    },
    {
     "name": "stdout",
     "output_type": "stream",
     "text": [
      "Epoch[2] Batch[385] Speed: 1.2670093647378244 samples/sec                   batch loss = 940.464165866375 | accuracy = 0.6727272727272727\n"
     ]
    },
    {
     "name": "stdout",
     "output_type": "stream",
     "text": [
      "Epoch[2] Batch[390] Speed: 1.2538219516533318 samples/sec                   batch loss = 951.6825028061867 | accuracy = 0.6737179487179488\n"
     ]
    },
    {
     "name": "stdout",
     "output_type": "stream",
     "text": [
      "Epoch[2] Batch[395] Speed: 1.2570707728401882 samples/sec                   batch loss = 961.8322667479515 | accuracy = 0.6753164556962026\n"
     ]
    },
    {
     "name": "stdout",
     "output_type": "stream",
     "text": [
      "Epoch[2] Batch[400] Speed: 1.255513595883986 samples/sec                   batch loss = 975.0188928246498 | accuracy = 0.67375\n"
     ]
    },
    {
     "name": "stdout",
     "output_type": "stream",
     "text": [
      "Epoch[2] Batch[405] Speed: 1.2583530480523117 samples/sec                   batch loss = 984.7139257788658 | accuracy = 0.6753086419753086\n"
     ]
    },
    {
     "name": "stdout",
     "output_type": "stream",
     "text": [
      "Epoch[2] Batch[410] Speed: 1.2648937874588115 samples/sec                   batch loss = 997.9925646185875 | accuracy = 0.6731707317073171\n"
     ]
    },
    {
     "name": "stdout",
     "output_type": "stream",
     "text": [
      "Epoch[2] Batch[415] Speed: 1.2650106201616436 samples/sec                   batch loss = 1010.691546022892 | accuracy = 0.6728915662650602\n"
     ]
    },
    {
     "name": "stdout",
     "output_type": "stream",
     "text": [
      "Epoch[2] Batch[420] Speed: 1.2641736210893122 samples/sec                   batch loss = 1021.6625217795372 | accuracy = 0.6738095238095239\n"
     ]
    },
    {
     "name": "stdout",
     "output_type": "stream",
     "text": [
      "Epoch[2] Batch[425] Speed: 1.2597824674958982 samples/sec                   batch loss = 1031.7977681159973 | accuracy = 0.6747058823529412\n"
     ]
    },
    {
     "name": "stdout",
     "output_type": "stream",
     "text": [
      "Epoch[2] Batch[430] Speed: 1.266379406974923 samples/sec                   batch loss = 1045.2813413143158 | accuracy = 0.6738372093023256\n"
     ]
    },
    {
     "name": "stdout",
     "output_type": "stream",
     "text": [
      "Epoch[2] Batch[435] Speed: 1.266249514888599 samples/sec                   batch loss = 1059.7567340135574 | accuracy = 0.6729885057471264\n"
     ]
    },
    {
     "name": "stdout",
     "output_type": "stream",
     "text": [
      "Epoch[2] Batch[440] Speed: 1.2561768032048457 samples/sec                   batch loss = 1068.57313901186 | accuracy = 0.6744318181818182\n"
     ]
    },
    {
     "name": "stdout",
     "output_type": "stream",
     "text": [
      "Epoch[2] Batch[445] Speed: 1.263369503223633 samples/sec                   batch loss = 1079.2557191252708 | accuracy = 0.6752808988764045\n"
     ]
    },
    {
     "name": "stdout",
     "output_type": "stream",
     "text": [
      "Epoch[2] Batch[450] Speed: 1.2643120435984223 samples/sec                   batch loss = 1091.5821900963783 | accuracy = 0.6755555555555556\n"
     ]
    },
    {
     "name": "stdout",
     "output_type": "stream",
     "text": [
      "Epoch[2] Batch[455] Speed: 1.261826870436635 samples/sec                   batch loss = 1102.2838968634605 | accuracy = 0.676923076923077\n"
     ]
    },
    {
     "name": "stdout",
     "output_type": "stream",
     "text": [
      "Epoch[2] Batch[460] Speed: 1.2682808457888772 samples/sec                   batch loss = 1114.2067322134972 | accuracy = 0.6777173913043478\n"
     ]
    },
    {
     "name": "stdout",
     "output_type": "stream",
     "text": [
      "Epoch[2] Batch[465] Speed: 1.2713590226340217 samples/sec                   batch loss = 1123.0397096276283 | accuracy = 0.6801075268817204\n"
     ]
    },
    {
     "name": "stdout",
     "output_type": "stream",
     "text": [
      "Epoch[2] Batch[470] Speed: 1.2629110232413436 samples/sec                   batch loss = 1134.2694007754326 | accuracy = 0.6808510638297872\n"
     ]
    },
    {
     "name": "stdout",
     "output_type": "stream",
     "text": [
      "Epoch[2] Batch[475] Speed: 1.2599327979407569 samples/sec                   batch loss = 1149.0900581479073 | accuracy = 0.68\n"
     ]
    },
    {
     "name": "stdout",
     "output_type": "stream",
     "text": [
      "Epoch[2] Batch[480] Speed: 1.2656388346133771 samples/sec                   batch loss = 1161.645575106144 | accuracy = 0.6786458333333333\n"
     ]
    },
    {
     "name": "stdout",
     "output_type": "stream",
     "text": [
      "Epoch[2] Batch[485] Speed: 1.27029706336268 samples/sec                   batch loss = 1175.2532241940498 | accuracy = 0.6788659793814433\n"
     ]
    },
    {
     "name": "stdout",
     "output_type": "stream",
     "text": [
      "Epoch[2] Batch[490] Speed: 1.2651943534311914 samples/sec                   batch loss = 1187.5963236689568 | accuracy = 0.6790816326530612\n"
     ]
    },
    {
     "name": "stdout",
     "output_type": "stream",
     "text": [
      "Epoch[2] Batch[495] Speed: 1.2612828367605122 samples/sec                   batch loss = 1198.3300920128822 | accuracy = 0.6797979797979798\n"
     ]
    },
    {
     "name": "stdout",
     "output_type": "stream",
     "text": [
      "Epoch[2] Batch[500] Speed: 1.264575349125561 samples/sec                   batch loss = 1208.6170578598976 | accuracy = 0.681\n"
     ]
    },
    {
     "name": "stdout",
     "output_type": "stream",
     "text": [
      "Epoch[2] Batch[505] Speed: 1.2603308880008683 samples/sec                   batch loss = 1220.5180541872978 | accuracy = 0.6811881188118812\n"
     ]
    },
    {
     "name": "stdout",
     "output_type": "stream",
     "text": [
      "Epoch[2] Batch[510] Speed: 1.2576070303353217 samples/sec                   batch loss = 1230.3474863171577 | accuracy = 0.6823529411764706\n"
     ]
    },
    {
     "name": "stdout",
     "output_type": "stream",
     "text": [
      "Epoch[2] Batch[515] Speed: 1.255040144010954 samples/sec                   batch loss = 1240.3400915265083 | accuracy = 0.6839805825242719\n"
     ]
    },
    {
     "name": "stdout",
     "output_type": "stream",
     "text": [
      "Epoch[2] Batch[520] Speed: 1.2598275912432109 samples/sec                   batch loss = 1250.8028371930122 | accuracy = 0.6855769230769231\n"
     ]
    },
    {
     "name": "stdout",
     "output_type": "stream",
     "text": [
      "Epoch[2] Batch[525] Speed: 1.25796497823202 samples/sec                   batch loss = 1266.8913212418556 | accuracy = 0.6833333333333333\n"
     ]
    },
    {
     "name": "stdout",
     "output_type": "stream",
     "text": [
      "Epoch[2] Batch[530] Speed: 1.259714078544568 samples/sec                   batch loss = 1280.3115721344948 | accuracy = 0.6825471698113208\n"
     ]
    },
    {
     "name": "stdout",
     "output_type": "stream",
     "text": [
      "Epoch[2] Batch[535] Speed: 1.257589590767311 samples/sec                   batch loss = 1290.1564349532127 | accuracy = 0.6836448598130841\n"
     ]
    },
    {
     "name": "stdout",
     "output_type": "stream",
     "text": [
      "Epoch[2] Batch[540] Speed: 1.2550610806731983 samples/sec                   batch loss = 1300.6954231858253 | accuracy = 0.6842592592592592\n"
     ]
    },
    {
     "name": "stdout",
     "output_type": "stream",
     "text": [
      "Epoch[2] Batch[545] Speed: 1.2605434760558427 samples/sec                   batch loss = 1311.7694362998009 | accuracy = 0.6839449541284404\n"
     ]
    },
    {
     "name": "stdout",
     "output_type": "stream",
     "text": [
      "Epoch[2] Batch[550] Speed: 1.259003764655701 samples/sec                   batch loss = 1324.6652997136116 | accuracy = 0.6831818181818182\n"
     ]
    },
    {
     "name": "stdout",
     "output_type": "stream",
     "text": [
      "Epoch[2] Batch[555] Speed: 1.2616249493066716 samples/sec                   batch loss = 1336.531946361065 | accuracy = 0.6842342342342342\n"
     ]
    },
    {
     "name": "stdout",
     "output_type": "stream",
     "text": [
      "Epoch[2] Batch[560] Speed: 1.259818698676678 samples/sec                   batch loss = 1347.27910643816 | accuracy = 0.684375\n"
     ]
    },
    {
     "name": "stdout",
     "output_type": "stream",
     "text": [
      "Epoch[2] Batch[565] Speed: 1.2575697950870484 samples/sec                   batch loss = 1357.0186198353767 | accuracy = 0.6853982300884955\n"
     ]
    },
    {
     "name": "stdout",
     "output_type": "stream",
     "text": [
      "Epoch[2] Batch[570] Speed: 1.256981770664954 samples/sec                   batch loss = 1369.8913159966469 | accuracy = 0.6837719298245614\n"
     ]
    },
    {
     "name": "stdout",
     "output_type": "stream",
     "text": [
      "Epoch[2] Batch[575] Speed: 1.2572476844219298 samples/sec                   batch loss = 1382.9806001782417 | accuracy = 0.6834782608695652\n"
     ]
    },
    {
     "name": "stdout",
     "output_type": "stream",
     "text": [
      "Epoch[2] Batch[580] Speed: 1.258683374272339 samples/sec                   batch loss = 1397.5162850022316 | accuracy = 0.6831896551724138\n"
     ]
    },
    {
     "name": "stdout",
     "output_type": "stream",
     "text": [
      "Epoch[2] Batch[585] Speed: 1.2576293725426995 samples/sec                   batch loss = 1408.588960826397 | accuracy = 0.6829059829059829\n"
     ]
    },
    {
     "name": "stdout",
     "output_type": "stream",
     "text": [
      "Epoch[2] Batch[590] Speed: 1.2522023348417735 samples/sec                   batch loss = 1424.8797506690025 | accuracy = 0.6817796610169492\n"
     ]
    },
    {
     "name": "stdout",
     "output_type": "stream",
     "text": [
      "Epoch[2] Batch[595] Speed: 1.2603732105064356 samples/sec                   batch loss = 1437.0666009783745 | accuracy = 0.6815126050420168\n"
     ]
    },
    {
     "name": "stdout",
     "output_type": "stream",
     "text": [
      "Epoch[2] Batch[600] Speed: 1.2535359427396158 samples/sec                   batch loss = 1448.4729155898094 | accuracy = 0.6829166666666666\n"
     ]
    },
    {
     "name": "stdout",
     "output_type": "stream",
     "text": [
      "Epoch[2] Batch[605] Speed: 1.2624937259903906 samples/sec                   batch loss = 1462.23860424757 | accuracy = 0.6826446280991736\n"
     ]
    },
    {
     "name": "stdout",
     "output_type": "stream",
     "text": [
      "Epoch[2] Batch[610] Speed: 1.257003996482502 samples/sec                   batch loss = 1471.5826060175896 | accuracy = 0.6836065573770492\n"
     ]
    },
    {
     "name": "stdout",
     "output_type": "stream",
     "text": [
      "Epoch[2] Batch[615] Speed: 1.2562497940846125 samples/sec                   batch loss = 1483.507111608982 | accuracy = 0.683739837398374\n"
     ]
    },
    {
     "name": "stdout",
     "output_type": "stream",
     "text": [
      "Epoch[2] Batch[620] Speed: 1.2521941103524303 samples/sec                   batch loss = 1496.7269522547722 | accuracy = 0.6834677419354839\n"
     ]
    },
    {
     "name": "stdout",
     "output_type": "stream",
     "text": [
      "Epoch[2] Batch[625] Speed: 1.2566474423130825 samples/sec                   batch loss = 1510.4355607628822 | accuracy = 0.6836\n"
     ]
    },
    {
     "name": "stdout",
     "output_type": "stream",
     "text": [
      "Epoch[2] Batch[630] Speed: 1.2574380282978 samples/sec                   batch loss = 1522.296520292759 | accuracy = 0.6833333333333333\n"
     ]
    },
    {
     "name": "stdout",
     "output_type": "stream",
     "text": [
      "Epoch[2] Batch[635] Speed: 1.2549175424248222 samples/sec                   batch loss = 1532.1675079464912 | accuracy = 0.6838582677165355\n"
     ]
    },
    {
     "name": "stdout",
     "output_type": "stream",
     "text": [
      "Epoch[2] Batch[640] Speed: 1.253180791391744 samples/sec                   batch loss = 1544.6962980628014 | accuracy = 0.683984375\n"
     ]
    },
    {
     "name": "stdout",
     "output_type": "stream",
     "text": [
      "Epoch[2] Batch[645] Speed: 1.2552648505900912 samples/sec                   batch loss = 1557.1344589591026 | accuracy = 0.6837209302325581\n"
     ]
    },
    {
     "name": "stdout",
     "output_type": "stream",
     "text": [
      "Epoch[2] Batch[650] Speed: 1.254015008819924 samples/sec                   batch loss = 1568.7446050047874 | accuracy = 0.6842307692307692\n"
     ]
    },
    {
     "name": "stdout",
     "output_type": "stream",
     "text": [
      "Epoch[2] Batch[655] Speed: 1.257742132671982 samples/sec                   batch loss = 1581.2587496638298 | accuracy = 0.683969465648855\n"
     ]
    },
    {
     "name": "stdout",
     "output_type": "stream",
     "text": [
      "Epoch[2] Batch[660] Speed: 1.258406658810946 samples/sec                   batch loss = 1592.8273127675056 | accuracy = 0.684469696969697\n"
     ]
    },
    {
     "name": "stdout",
     "output_type": "stream",
     "text": [
      "Epoch[2] Batch[665] Speed: 1.2610222273633565 samples/sec                   batch loss = 1602.893546640873 | accuracy = 0.6845864661654135\n"
     ]
    },
    {
     "name": "stdout",
     "output_type": "stream",
     "text": [
      "Epoch[2] Batch[670] Speed: 1.254271604432485 samples/sec                   batch loss = 1616.261585533619 | accuracy = 0.6847014925373134\n"
     ]
    },
    {
     "name": "stdout",
     "output_type": "stream",
     "text": [
      "Epoch[2] Batch[675] Speed: 1.2572259210464494 samples/sec                   batch loss = 1630.0434888005257 | accuracy = 0.6844444444444444\n"
     ]
    },
    {
     "name": "stdout",
     "output_type": "stream",
     "text": [
      "Epoch[2] Batch[680] Speed: 1.2570921540761384 samples/sec                   batch loss = 1643.7556373476982 | accuracy = 0.6834558823529412\n"
     ]
    },
    {
     "name": "stdout",
     "output_type": "stream",
     "text": [
      "Epoch[2] Batch[685] Speed: 1.2583649401854948 samples/sec                   batch loss = 1656.500235259533 | accuracy = 0.6832116788321168\n"
     ]
    },
    {
     "name": "stdout",
     "output_type": "stream",
     "text": [
      "Epoch[2] Batch[690] Speed: 1.250435712765266 samples/sec                   batch loss = 1666.3809462189674 | accuracy = 0.6844202898550724\n"
     ]
    },
    {
     "name": "stdout",
     "output_type": "stream",
     "text": [
      "Epoch[2] Batch[695] Speed: 1.2613622070314041 samples/sec                   batch loss = 1678.0415632128716 | accuracy = 0.6841726618705036\n"
     ]
    },
    {
     "name": "stdout",
     "output_type": "stream",
     "text": [
      "Epoch[2] Batch[700] Speed: 1.2554202109051862 samples/sec                   batch loss = 1689.4670254588127 | accuracy = 0.6842857142857143\n"
     ]
    },
    {
     "name": "stdout",
     "output_type": "stream",
     "text": [
      "Epoch[2] Batch[705] Speed: 1.2617379526521575 samples/sec                   batch loss = 1701.7778275609016 | accuracy = 0.6847517730496454\n"
     ]
    },
    {
     "name": "stdout",
     "output_type": "stream",
     "text": [
      "Epoch[2] Batch[710] Speed: 1.2616470550015988 samples/sec                   batch loss = 1714.4648411870003 | accuracy = 0.6845070422535211\n"
     ]
    },
    {
     "name": "stdout",
     "output_type": "stream",
     "text": [
      "Epoch[2] Batch[715] Speed: 1.2583242624699964 samples/sec                   batch loss = 1724.6453356146812 | accuracy = 0.6849650349650349\n"
     ]
    },
    {
     "name": "stdout",
     "output_type": "stream",
     "text": [
      "Epoch[2] Batch[720] Speed: 1.2621132575779233 samples/sec                   batch loss = 1735.2867714762688 | accuracy = 0.6861111111111111\n"
     ]
    },
    {
     "name": "stdout",
     "output_type": "stream",
     "text": [
      "Epoch[2] Batch[725] Speed: 1.2545918164755538 samples/sec                   batch loss = 1747.353932082653 | accuracy = 0.6858620689655173\n"
     ]
    },
    {
     "name": "stdout",
     "output_type": "stream",
     "text": [
      "Epoch[2] Batch[730] Speed: 1.2570886689792544 samples/sec                   batch loss = 1755.1568647027016 | accuracy = 0.6876712328767123\n"
     ]
    },
    {
     "name": "stdout",
     "output_type": "stream",
     "text": [
      "Epoch[2] Batch[735] Speed: 1.2555756096819894 samples/sec                   batch loss = 1763.8728385567665 | accuracy = 0.6887755102040817\n"
     ]
    },
    {
     "name": "stdout",
     "output_type": "stream",
     "text": [
      "Epoch[2] Batch[740] Speed: 1.2595925480410086 samples/sec                   batch loss = 1778.4013733267784 | accuracy = 0.6885135135135135\n"
     ]
    },
    {
     "name": "stdout",
     "output_type": "stream",
     "text": [
      "Epoch[2] Batch[745] Speed: 1.261528091854485 samples/sec                   batch loss = 1790.896189391613 | accuracy = 0.6879194630872483\n"
     ]
    },
    {
     "name": "stdout",
     "output_type": "stream",
     "text": [
      "Epoch[2] Batch[750] Speed: 1.2554068713279523 samples/sec                   batch loss = 1802.1364832520485 | accuracy = 0.688\n"
     ]
    },
    {
     "name": "stdout",
     "output_type": "stream",
     "text": [
      "Epoch[2] Batch[755] Speed: 1.2495251872867197 samples/sec                   batch loss = 1815.088743031025 | accuracy = 0.687748344370861\n"
     ]
    },
    {
     "name": "stdout",
     "output_type": "stream",
     "text": [
      "Epoch[2] Batch[760] Speed: 1.2532407962462273 samples/sec                   batch loss = 1826.1447479128838 | accuracy = 0.687828947368421\n"
     ]
    },
    {
     "name": "stdout",
     "output_type": "stream",
     "text": [
      "Epoch[2] Batch[765] Speed: 1.2518896933502957 samples/sec                   batch loss = 1837.2691509127617 | accuracy = 0.6882352941176471\n"
     ]
    },
    {
     "name": "stdout",
     "output_type": "stream",
     "text": [
      "Epoch[2] Batch[770] Speed: 1.2584524392187748 samples/sec                   batch loss = 1847.9790583252907 | accuracy = 0.6883116883116883\n"
     ]
    },
    {
     "name": "stdout",
     "output_type": "stream",
     "text": [
      "Epoch[2] Batch[775] Speed: 1.257289328998188 samples/sec                   batch loss = 1858.7421191334724 | accuracy = 0.6887096774193548\n"
     ]
    },
    {
     "name": "stdout",
     "output_type": "stream",
     "text": [
      "Epoch[2] Batch[780] Speed: 1.2528659771026514 samples/sec                   batch loss = 1873.6914713978767 | accuracy = 0.6884615384615385\n"
     ]
    },
    {
     "name": "stdout",
     "output_type": "stream",
     "text": [
      "Epoch[2] Batch[785] Speed: 1.2510444002073589 samples/sec                   batch loss = 1884.4164325594902 | accuracy = 0.6888535031847134\n"
     ]
    },
    {
     "name": "stdout",
     "output_type": "stream",
     "text": [
      "[Epoch 2] training: accuracy=0.6884517766497462\n",
      "[Epoch 2] time cost: 642.2366943359375\n",
      "[Epoch 2] validation: validation accuracy=0.7277777777777777\n"
     ]
    }
   ],
   "source": [
    "# Diff 1: Use two GPUs for training.\n",
    "available_gpus = [npx.gpu(i) for i in range(npx.num_gpus())]\n",
    "num_gpus = 2\n",
    "devices = available_gpus[:num_gpus]\n",
    "print('Using {} GPUs'.format(len(devices)))\n",
    "\n",
    "# Diff 2: reinitialize the parameters and place them on multiple GPUs\n",
    "net.initialize(force_reinit=True, ctx=devices)\n",
    "\n",
    "# Loss and trainer are the same as before\n",
    "loss_fn = gluon.loss.SoftmaxCrossEntropyLoss()\n",
    "optimizer = 'sgd'\n",
    "optimizer_params = {'learning_rate': 0.001}\n",
    "trainer = gluon.Trainer(net.collect_params(), optimizer, optimizer_params)\n",
    "\n",
    "epochs = 2\n",
    "accuracy = gluon.metric.Accuracy()\n",
    "log_interval = 5\n",
    "\n",
    "for epoch in range(epochs):\n",
    "    train_loss = 0.\n",
    "    tic = time.time()\n",
    "    btic = time.time()\n",
    "    accuracy.reset()\n",
    "    for idx, batch in enumerate(train_loader):\n",
    "        data, label = batch[0], batch[1]\n",
    "\n",
    "        # Diff 3: split batch and load into corresponding devices\n",
    "        data_list = gluon.utils.split_and_load(data, devices)\n",
    "        label_list = gluon.utils.split_and_load(label, devices)\n",
    "\n",
    "        # Diff 4: run forward and backward on each devices.\n",
    "        # MXNet will automatically run them in parallel\n",
    "        with autograd.record():\n",
    "            outputs = [net(X)\n",
    "                      for X in data_list]\n",
    "            losses = [loss_fn(output, label)\n",
    "                      for output, label in zip(outputs, label_list)]\n",
    "        for l in losses:\n",
    "            l.backward()\n",
    "        trainer.step(batch_size)\n",
    "\n",
    "        # Diff 5: sum losses over all devices. Here, the float\n",
    "        # function will copy data into CPU.\n",
    "        train_loss += sum([float(l.sum()) for l in losses])\n",
    "        accuracy.update(label_list, outputs)\n",
    "        if log_interval and (idx + 1) % log_interval == 0:\n",
    "            _, acc = accuracy.get()\n",
    "\n",
    "            print(f\"\"\"Epoch[{epoch + 1}] Batch[{idx + 1}] Speed: {batch_size / (time.time() - btic)} samples/sec \\\n",
    "                  batch loss = {train_loss} | accuracy = {acc}\"\"\")\n",
    "            btic = time.time()\n",
    "\n",
    "    _, acc = accuracy.get()\n",
    "\n",
    "    acc_val = test(validation_loader, devices)\n",
    "    print(f\"[Epoch {epoch + 1}] training: accuracy={acc}\")\n",
    "    print(f\"[Epoch {epoch + 1}] time cost: {time.time() - tic}\")\n",
    "    print(f\"[Epoch {epoch + 1}] validation: validation accuracy={acc_val}\")"
   ]
  },
  {
   "cell_type": "markdown",
   "id": "fc92ff1a",
   "metadata": {},
   "source": [
    "## Next steps\n",
    "\n",
    "Now that you have completed training and predicting with a neural network on GPUs, you reached the conclusion of the crash course. Congratulations.\n",
    "If you are keen on studying more, checkout [D2L.ai](https://d2l.ai),\n",
    "[GluonCV](https://cv.gluon.ai/tutorials/index.html), [GluonNLP](https://nlp.gluon.ai),\n",
    "[GluonTS](https://ts.gluon.ai/), [AutoGluon](https://auto.gluon.ai)."
   ]
  }
 ],
 "metadata": {
  "language_info": {
   "name": "python"
  }
 },
 "nbformat": 4,
 "nbformat_minor": 5
}