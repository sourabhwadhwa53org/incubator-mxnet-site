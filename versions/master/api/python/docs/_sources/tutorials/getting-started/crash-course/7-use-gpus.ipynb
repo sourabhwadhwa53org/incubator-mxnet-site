{
 "cells": [
  {
   "cell_type": "markdown",
   "id": "1a221e55",
   "metadata": {},
   "source": [
    "<!--- Licensed to the Apache Software Foundation (ASF) under one -->\n",
    "<!--- or more contributor license agreements.  See the NOTICE file -->\n",
    "<!--- distributed with this work for additional information -->\n",
    "<!--- regarding copyright ownership.  The ASF licenses this file -->\n",
    "<!--- to you under the Apache License, Version 2.0 (the -->\n",
    "<!--- \"License\"); you may not use this file except in compliance -->\n",
    "<!--- with the License.  You may obtain a copy of the License at -->\n",
    "\n",
    "<!---   http://www.apache.org/licenses/LICENSE-2.0 -->\n",
    "\n",
    "<!--- Unless required by applicable law or agreed to in writing, -->\n",
    "<!--- software distributed under the License is distributed on an -->\n",
    "<!--- \"AS IS\" BASIS, WITHOUT WARRANTIES OR CONDITIONS OF ANY -->\n",
    "<!--- KIND, either express or implied.  See the License for the -->\n",
    "<!--- specific language governing permissions and limitations -->\n",
    "<!--- under the License. -->\n",
    "\n",
    "# Step 7: Load and Run a NN using GPU\n",
    "\n",
    "In this step, you will learn how to use graphics processing units (GPUs) with MXNet. If you use GPUs to train and deploy neural networks, you may be able to train or perform inference quicker than with central processing units (CPUs).\n",
    "\n",
    "## Prerequisites\n",
    "\n",
    "Before you start the steps, make sure you have at least one Nvidia GPU on your machine and make sure that you have CUDA properly installed. GPUs from AMD and Intel are not supported. Additionally, you will need to install the GPU-enabled version of MXNet. You can find information about how to install the GPU version of MXNet for your system [here](https://mxnet.apache.org/versions/1.4.1/install/ubuntu_setup.html).\n",
    "\n",
    "You can use the following command to view the number GPUs that are available to MXNet."
   ]
  },
  {
   "cell_type": "code",
   "execution_count": 1,
   "id": "b27e8ddb",
   "metadata": {},
   "outputs": [
    {
     "data": {
      "text/plain": [
       "1"
      ]
     },
     "execution_count": 1,
     "metadata": {},
     "output_type": "execute_result"
    }
   ],
   "source": [
    "from mxnet import np, npx, gluon, autograd\n",
    "from mxnet.gluon import nn\n",
    "import time\n",
    "npx.set_np()\n",
    "\n",
    "npx.num_gpus() #This command provides the number of GPUs MXNet can access"
   ]
  },
  {
   "cell_type": "markdown",
   "id": "d3fa9a74",
   "metadata": {},
   "source": [
    "## Allocate data to a GPU\n",
    "\n",
    "MXNet's ndarray is very similar to NumPy's. One major difference is that MXNet's ndarray has a `context` attribute specifieing which device an array is on. By default, arrays are stored on `npx.cpu()`. To change it to the first GPU, you can use the following code, `npx.gpu()` or `npx.gpu(0)` to indicate the first GPU."
   ]
  },
  {
   "cell_type": "code",
   "execution_count": 2,
   "id": "42685c07",
   "metadata": {},
   "outputs": [
    {
     "name": "stderr",
     "output_type": "stream",
     "text": [
      "[21:16:47] /work/mxnet/src/storage/storage.cc:199: Using Pooled (Naive) StorageManager for GPU\n"
     ]
    },
    {
     "data": {
      "text/plain": [
       "array([[1., 1., 1., 1.],\n",
       "       [1., 1., 1., 1.],\n",
       "       [1., 1., 1., 1.]], ctx=gpu(0))"
      ]
     },
     "execution_count": 2,
     "metadata": {},
     "output_type": "execute_result"
    }
   ],
   "source": [
    "gpu = npx.gpu() if npx.num_gpus() > 0 else npx.cpu()\n",
    "x = np.ones((3,4), ctx=gpu)\n",
    "x"
   ]
  },
  {
   "cell_type": "markdown",
   "id": "f11d1d58",
   "metadata": {},
   "source": [
    "If you're using a CPU, MXNet allocates data on the main memory and tries to use as many CPU cores as possible.  If there are multiple GPUs, MXNet will tell you which GPUs the ndarray is allocated on.\n",
    "\n",
    "Assuming there is at least two GPUs. You can create another ndarray and assign it to a different GPU. If you only have one GPU, then you will get an error trying to run this code. In the example code here, you will copy `x` to the second GPU, `npx.gpu(1)`:"
   ]
  },
  {
   "cell_type": "code",
   "execution_count": 3,
   "id": "582ae16c",
   "metadata": {},
   "outputs": [
    {
     "name": "stderr",
     "output_type": "stream",
     "text": [
      "[21:16:47] /work/mxnet/src/storage/storage.cc:199: Using Pooled (Naive) StorageManager for CPU\n"
     ]
    },
    {
     "data": {
      "text/plain": [
       "array([[1., 1., 1., 1.],\n",
       "       [1., 1., 1., 1.],\n",
       "       [1., 1., 1., 1.]])"
      ]
     },
     "execution_count": 3,
     "metadata": {},
     "output_type": "execute_result"
    }
   ],
   "source": [
    "gpu_1 = npx.gpu(1) if npx.num_gpus() > 1 else npx.cpu()\n",
    "x.copyto(gpu_1)"
   ]
  },
  {
   "cell_type": "markdown",
   "id": "8c4659a0",
   "metadata": {},
   "source": [
    "MXNet requries that users explicitly move data between devices. But several operators such as `print`, and `asnumpy`, will implicitly move data to main memory.\n",
    "\n",
    "## Choosing GPU Ids\n",
    "If you have multiple GPUs on your machine, MXNet can access each of them through 0-indexing with `npx`. As you saw before, the first GPU was accessed using `npx.gpu(0)`, and the second using `npx.gpu(1)`. This extends to however many GPUs your machine has. So if your machine has eight GPUs, the last GPU is accessed using `npx.gpu(7)`. This allows you to select which GPUs to use for operations and training. You might find it particularly useful when you want to leverage multiple GPUs while training neural networks.\n",
    "\n",
    "## Run an operation on a GPU\n",
    "\n",
    "To perform an operation on a particular GPU, you only need to guarantee that the input of an operation is already on that GPU. The output is allocated on the same GPU as well. Almost all operators in the `np` and `npx` module support running on a GPU."
   ]
  },
  {
   "cell_type": "code",
   "execution_count": 4,
   "id": "ab182509",
   "metadata": {},
   "outputs": [
    {
     "data": {
      "text/plain": [
       "array([[1.7402194, 1.9209938, 1.0390205, 1.9689629],\n",
       "       [1.9251406, 1.4463501, 1.6673192, 1.1099306],\n",
       "       [1.4702187, 1.5131936, 1.7761751, 1.2947657]], ctx=gpu(0))"
      ]
     },
     "execution_count": 4,
     "metadata": {},
     "output_type": "execute_result"
    }
   ],
   "source": [
    "y = np.random.uniform(size=(3,4), ctx=gpu)\n",
    "x + y"
   ]
  },
  {
   "cell_type": "markdown",
   "id": "9753b1ae",
   "metadata": {},
   "source": [
    "Remember that if the inputs are not on the same GPU, you will get an error.\n",
    "\n",
    "## Run a neural network on a GPU\n",
    "\n",
    "To run a neural network on a GPU, you only need to copy and move the input data and parameters to the GPU. To demonstrate this you can reuse the previously defined LeafNetwork in [Training Neural Networks](6-train-nn.md). The following code example shows this."
   ]
  },
  {
   "cell_type": "code",
   "execution_count": 5,
   "id": "4d46654e",
   "metadata": {},
   "outputs": [],
   "source": [
    "# The convolutional block has a convolution layer, a max pool layer and a batch normalization layer\n",
    "def conv_block(filters, kernel_size=2, stride=2, batch_norm=True):\n",
    "    conv_block = nn.HybridSequential()\n",
    "    conv_block.add(nn.Conv2D(channels=filters, kernel_size=kernel_size, activation='relu'),\n",
    "              nn.MaxPool2D(pool_size=4, strides=stride))\n",
    "    if batch_norm:\n",
    "        conv_block.add(nn.BatchNorm())\n",
    "    return conv_block\n",
    "\n",
    "# The dense block consists of a dense layer and a dropout layer\n",
    "def dense_block(neurons, activation='relu', dropout=0.2):\n",
    "    dense_block = nn.HybridSequential()\n",
    "    dense_block.add(nn.Dense(neurons, activation=activation))\n",
    "    if dropout:\n",
    "        dense_block.add(nn.Dropout(dropout))\n",
    "    return dense_block\n",
    "\n",
    "# Create neural network blueprint using the blocks\n",
    "class LeafNetwork(nn.HybridBlock):\n",
    "    def __init__(self):\n",
    "        super(LeafNetwork, self).__init__()\n",
    "        self.conv1 = conv_block(32)\n",
    "        self.conv2 = conv_block(64)\n",
    "        self.conv3 = conv_block(128)\n",
    "        self.flatten = nn.Flatten()\n",
    "        self.dense1 = dense_block(100)\n",
    "        self.dense2 = dense_block(10)\n",
    "        self.dense3 = nn.Dense(2)\n",
    "\n",
    "    def forward(self, batch):\n",
    "        batch = self.conv1(batch)\n",
    "        batch = self.conv2(batch)\n",
    "        batch = self.conv3(batch)\n",
    "        batch = self.flatten(batch)\n",
    "        batch = self.dense1(batch)\n",
    "        batch = self.dense2(batch)\n",
    "        batch = self.dense3(batch)\n",
    "\n",
    "        return batch"
   ]
  },
  {
   "cell_type": "markdown",
   "id": "3ce3ad1d",
   "metadata": {},
   "source": [
    "Load the saved parameters onto GPU 0 directly as shown below; additionally, you could use `net.collect_params().reset_ctx(gpu)` to change the device."
   ]
  },
  {
   "cell_type": "code",
   "execution_count": 6,
   "id": "c2c4bf22",
   "metadata": {},
   "outputs": [],
   "source": [
    "net = LeafNetwork()\n",
    "net.load_parameters('leaf_models.params', ctx=gpu)"
   ]
  },
  {
   "cell_type": "markdown",
   "id": "3d00d1fc",
   "metadata": {},
   "source": [
    "Use the following command to create input data on GPU 0. The forward function will then run on GPU 0."
   ]
  },
  {
   "cell_type": "code",
   "execution_count": 7,
   "id": "3090adf3",
   "metadata": {},
   "outputs": [
    {
     "name": "stderr",
     "output_type": "stream",
     "text": [
      "[21:16:48] /work/mxnet/src/operator/nn/./cudnn/./cudnn_algoreg-inl.h:97: Running performance tests to find the best convolution algorithm, this can take a while... (set the environment variable MXNET_CUDNN_AUTOTUNE_DEFAULT to 0 to disable)\n"
     ]
    },
    {
     "data": {
      "text/plain": [
       "array([[ 5.0992475, -7.3932414]], ctx=gpu(0))"
      ]
     },
     "execution_count": 7,
     "metadata": {},
     "output_type": "execute_result"
    }
   ],
   "source": [
    "x = np.random.uniform(size=(1, 3, 128, 128), ctx=gpu)\n",
    "net(x)"
   ]
  },
  {
   "cell_type": "markdown",
   "id": "acf884c5",
   "metadata": {},
   "source": [
    "## Training with multiple GPUs\n",
    "\n",
    "Finally, you will see how you can use multiple GPUs to jointly train a neural network through data parallelism. To elaborate on what data parallelism is, assume there are *n* GPUs, then you can split each data batch into *n* parts, and use a GPU on each of these parts to run the forward and backward passes on the seperate chunks of the data.\n",
    "\n",
    "First copy the data definitions with the following commands, and the transform functions from the tutorial [Training Neural Networks](6-train-nn.md)."
   ]
  },
  {
   "cell_type": "code",
   "execution_count": 8,
   "id": "937b53a4",
   "metadata": {},
   "outputs": [],
   "source": [
    "# Import transforms as compose a series of transformations to the images\n",
    "from mxnet.gluon.data.vision import transforms\n",
    "\n",
    "jitter_param = 0.05\n",
    "\n",
    "# mean and std for normalizing image value in range (0,1)\n",
    "mean = [0.485, 0.456, 0.406]\n",
    "std = [0.229, 0.224, 0.225]\n",
    "\n",
    "training_transformer = transforms.Compose([\n",
    "    transforms.Resize(size=224, keep_ratio=True),\n",
    "    transforms.CenterCrop(128),\n",
    "    transforms.RandomFlipLeftRight(),\n",
    "    transforms.RandomColorJitter(contrast=jitter_param),\n",
    "    transforms.ToTensor(),\n",
    "    transforms.Normalize(mean, std)\n",
    "])\n",
    "\n",
    "validation_transformer = transforms.Compose([\n",
    "    transforms.Resize(size=224, keep_ratio=True),\n",
    "    transforms.CenterCrop(128),\n",
    "    transforms.ToTensor(),\n",
    "    transforms.Normalize(mean, std)\n",
    "])\n",
    "\n",
    "# Use ImageFolderDataset to create a Dataset object from directory structure\n",
    "train_dataset = gluon.data.vision.ImageFolderDataset('./datasets/train')\n",
    "val_dataset = gluon.data.vision.ImageFolderDataset('./datasets/validation')\n",
    "test_dataset = gluon.data.vision.ImageFolderDataset('./datasets/test')\n",
    "\n",
    "# Create data loaders\n",
    "batch_size = 4\n",
    "train_loader = gluon.data.DataLoader(train_dataset.transform_first(training_transformer),batch_size=batch_size, shuffle=True, try_nopython=True)\n",
    "validation_loader = gluon.data.DataLoader(val_dataset.transform_first(validation_transformer), batch_size=batch_size, try_nopython=True)\n",
    "test_loader = gluon.data.DataLoader(test_dataset.transform_first(validation_transformer), batch_size=batch_size, try_nopython=True)"
   ]
  },
  {
   "cell_type": "markdown",
   "id": "91baa10a",
   "metadata": {},
   "source": [
    "### Define a helper function\n",
    "This is the same test function defined previously in the **Step 6**."
   ]
  },
  {
   "cell_type": "code",
   "execution_count": 9,
   "id": "ee4af785",
   "metadata": {},
   "outputs": [],
   "source": [
    "# Function to return the accuracy for the validation and test set\n",
    "def test(val_data, devices):\n",
    "    acc = gluon.metric.Accuracy()\n",
    "    for batch in val_data:\n",
    "        data, label = batch[0], batch[1]\n",
    "        data_list = gluon.utils.split_and_load(data, devices)\n",
    "        label_list = gluon.utils.split_and_load(label, devices)\n",
    "        outputs = [net(X) for X in data_list]\n",
    "        acc.update(label_list, outputs)\n",
    "\n",
    "    _, accuracy = acc.get()\n",
    "    return accuracy"
   ]
  },
  {
   "cell_type": "markdown",
   "id": "93c1e3be",
   "metadata": {},
   "source": [
    "The training loop is quite similar to that shown earlier. The major differences are highlighted in the following code."
   ]
  },
  {
   "cell_type": "code",
   "execution_count": 10,
   "id": "ad4dea2f",
   "metadata": {},
   "outputs": [
    {
     "name": "stdout",
     "output_type": "stream",
     "text": [
      "Using 1 GPUs\n"
     ]
    },
    {
     "name": "stdout",
     "output_type": "stream",
     "text": [
      "Epoch[1] Batch[5] Speed: 0.779846428428827 samples/sec                   batch loss = 14.056703567504883 | accuracy = 0.55\n"
     ]
    },
    {
     "name": "stdout",
     "output_type": "stream",
     "text": [
      "Epoch[1] Batch[10] Speed: 1.257713940744047 samples/sec                   batch loss = 27.09380269050598 | accuracy = 0.55\n"
     ]
    },
    {
     "name": "stdout",
     "output_type": "stream",
     "text": [
      "Epoch[1] Batch[15] Speed: 1.2604413869620186 samples/sec                   batch loss = 42.400124073028564 | accuracy = 0.5166666666666667\n"
     ]
    },
    {
     "name": "stdout",
     "output_type": "stream",
     "text": [
      "Epoch[1] Batch[20] Speed: 1.2561303417795537 samples/sec                   batch loss = 57.78096151351929 | accuracy = 0.5125\n"
     ]
    },
    {
     "name": "stdout",
     "output_type": "stream",
     "text": [
      "Epoch[1] Batch[25] Speed: 1.2527197601845732 samples/sec                   batch loss = 70.68878507614136 | accuracy = 0.54\n"
     ]
    },
    {
     "name": "stdout",
     "output_type": "stream",
     "text": [
      "Epoch[1] Batch[30] Speed: 1.2569037981649904 samples/sec                   batch loss = 84.79087114334106 | accuracy = 0.5333333333333333\n"
     ]
    },
    {
     "name": "stdout",
     "output_type": "stream",
     "text": [
      "Epoch[1] Batch[35] Speed: 1.2573709302161749 samples/sec                   batch loss = 97.9047486782074 | accuracy = 0.5357142857142857\n"
     ]
    },
    {
     "name": "stdout",
     "output_type": "stream",
     "text": [
      "Epoch[1] Batch[40] Speed: 1.2567748069373197 samples/sec                   batch loss = 113.76696467399597 | accuracy = 0.5125\n"
     ]
    },
    {
     "name": "stdout",
     "output_type": "stream",
     "text": [
      "Epoch[1] Batch[45] Speed: 1.2596000188896277 samples/sec                   batch loss = 127.29180097579956 | accuracy = 0.5277777777777778\n"
     ]
    },
    {
     "name": "stdout",
     "output_type": "stream",
     "text": [
      "Epoch[1] Batch[50] Speed: 1.2548025665344567 samples/sec                   batch loss = 140.344801902771 | accuracy = 0.535\n"
     ]
    },
    {
     "name": "stdout",
     "output_type": "stream",
     "text": [
      "Epoch[1] Batch[55] Speed: 1.2532455706702033 samples/sec                   batch loss = 153.33906054496765 | accuracy = 0.55\n"
     ]
    },
    {
     "name": "stdout",
     "output_type": "stream",
     "text": [
      "Epoch[1] Batch[60] Speed: 1.2644423961466544 samples/sec                   batch loss = 167.33846402168274 | accuracy = 0.55\n"
     ]
    },
    {
     "name": "stdout",
     "output_type": "stream",
     "text": [
      "Epoch[1] Batch[65] Speed: 1.251207302177626 samples/sec                   batch loss = 181.50539445877075 | accuracy = 0.5538461538461539\n"
     ]
    },
    {
     "name": "stdout",
     "output_type": "stream",
     "text": [
      "Epoch[1] Batch[70] Speed: 1.257353120270794 samples/sec                   batch loss = 194.28854775428772 | accuracy = 0.5607142857142857\n"
     ]
    },
    {
     "name": "stdout",
     "output_type": "stream",
     "text": [
      "Epoch[1] Batch[75] Speed: 1.252341232877009 samples/sec                   batch loss = 209.4419403076172 | accuracy = 0.5433333333333333\n"
     ]
    },
    {
     "name": "stdout",
     "output_type": "stream",
     "text": [
      "Epoch[1] Batch[80] Speed: 1.253564977980892 samples/sec                   batch loss = 224.78167915344238 | accuracy = 0.525\n"
     ]
    },
    {
     "name": "stdout",
     "output_type": "stream",
     "text": [
      "Epoch[1] Batch[85] Speed: 1.2523691844559226 samples/sec                   batch loss = 239.26674246788025 | accuracy = 0.5117647058823529\n"
     ]
    },
    {
     "name": "stdout",
     "output_type": "stream",
     "text": [
      "Epoch[1] Batch[90] Speed: 1.2508266107642767 samples/sec                   batch loss = 253.12867045402527 | accuracy = 0.5055555555555555\n"
     ]
    },
    {
     "name": "stdout",
     "output_type": "stream",
     "text": [
      "Epoch[1] Batch[95] Speed: 1.2575423649602253 samples/sec                   batch loss = 266.3594787120819 | accuracy = 0.5184210526315789\n"
     ]
    },
    {
     "name": "stdout",
     "output_type": "stream",
     "text": [
      "Epoch[1] Batch[100] Speed: 1.2552626904698378 samples/sec                   batch loss = 280.06641268730164 | accuracy = 0.5125\n"
     ]
    },
    {
     "name": "stdout",
     "output_type": "stream",
     "text": [
      "Epoch[1] Batch[105] Speed: 1.2518628840901969 samples/sec                   batch loss = 293.7808427810669 | accuracy = 0.5214285714285715\n"
     ]
    },
    {
     "name": "stdout",
     "output_type": "stream",
     "text": [
      "Epoch[1] Batch[110] Speed: 1.2568855306446653 samples/sec                   batch loss = 307.56788182258606 | accuracy = 0.5181818181818182\n"
     ]
    },
    {
     "name": "stdout",
     "output_type": "stream",
     "text": [
      "Epoch[1] Batch[115] Speed: 1.2570230208997897 samples/sec                   batch loss = 322.0462086200714 | accuracy = 0.5108695652173914\n"
     ]
    },
    {
     "name": "stdout",
     "output_type": "stream",
     "text": [
      "Epoch[1] Batch[120] Speed: 1.2576497357522796 samples/sec                   batch loss = 335.80045342445374 | accuracy = 0.5125\n"
     ]
    },
    {
     "name": "stdout",
     "output_type": "stream",
     "text": [
      "Epoch[1] Batch[125] Speed: 1.2557655415545483 samples/sec                   batch loss = 349.81480383872986 | accuracy = 0.508\n"
     ]
    },
    {
     "name": "stdout",
     "output_type": "stream",
     "text": [
      "Epoch[1] Batch[130] Speed: 1.2574548981835905 samples/sec                   batch loss = 363.67912578582764 | accuracy = 0.5076923076923077\n"
     ]
    },
    {
     "name": "stdout",
     "output_type": "stream",
     "text": [
      "Epoch[1] Batch[135] Speed: 1.2539147241340909 samples/sec                   batch loss = 377.75287556648254 | accuracy = 0.512962962962963\n"
     ]
    },
    {
     "name": "stdout",
     "output_type": "stream",
     "text": [
      "Epoch[1] Batch[140] Speed: 1.257432562174919 samples/sec                   batch loss = 391.1596393585205 | accuracy = 0.5178571428571429\n"
     ]
    },
    {
     "name": "stdout",
     "output_type": "stream",
     "text": [
      "Epoch[1] Batch[145] Speed: 1.252594618877404 samples/sec                   batch loss = 404.2864067554474 | accuracy = 0.5224137931034483\n"
     ]
    },
    {
     "name": "stdout",
     "output_type": "stream",
     "text": [
      "Epoch[1] Batch[150] Speed: 1.2534888335807852 samples/sec                   batch loss = 417.7130653858185 | accuracy = 0.53\n"
     ]
    },
    {
     "name": "stdout",
     "output_type": "stream",
     "text": [
      "Epoch[1] Batch[155] Speed: 1.2555015696748004 samples/sec                   batch loss = 431.22193145751953 | accuracy = 0.532258064516129\n"
     ]
    },
    {
     "name": "stdout",
     "output_type": "stream",
     "text": [
      "Epoch[1] Batch[160] Speed: 1.2635276375884579 samples/sec                   batch loss = 445.4254517555237 | accuracy = 0.5296875\n"
     ]
    },
    {
     "name": "stdout",
     "output_type": "stream",
     "text": [
      "Epoch[1] Batch[165] Speed: 1.2605279438098935 samples/sec                   batch loss = 458.5987572669983 | accuracy = 0.5303030303030303\n"
     ]
    },
    {
     "name": "stdout",
     "output_type": "stream",
     "text": [
      "Epoch[1] Batch[170] Speed: 1.262202892985652 samples/sec                   batch loss = 472.44854283332825 | accuracy = 0.5323529411764706\n"
     ]
    },
    {
     "name": "stdout",
     "output_type": "stream",
     "text": [
      "Epoch[1] Batch[175] Speed: 1.2614886321615082 samples/sec                   batch loss = 486.94899821281433 | accuracy = 0.5314285714285715\n"
     ]
    },
    {
     "name": "stdout",
     "output_type": "stream",
     "text": [
      "Epoch[1] Batch[180] Speed: 1.252883753718949 samples/sec                   batch loss = 500.0839891433716 | accuracy = 0.5375\n"
     ]
    },
    {
     "name": "stdout",
     "output_type": "stream",
     "text": [
      "Epoch[1] Batch[185] Speed: 1.2468021056170546 samples/sec                   batch loss = 513.7953794002533 | accuracy = 0.5391891891891892\n"
     ]
    },
    {
     "name": "stdout",
     "output_type": "stream",
     "text": [
      "Epoch[1] Batch[190] Speed: 1.2530664142790222 samples/sec                   batch loss = 527.4987382888794 | accuracy = 0.5381578947368421\n"
     ]
    },
    {
     "name": "stdout",
     "output_type": "stream",
     "text": [
      "Epoch[1] Batch[195] Speed: 1.2596439000932127 samples/sec                   batch loss = 541.382533788681 | accuracy = 0.5358974358974359\n"
     ]
    },
    {
     "name": "stdout",
     "output_type": "stream",
     "text": [
      "Epoch[1] Batch[200] Speed: 1.2537901872619934 samples/sec                   batch loss = 554.4260146617889 | accuracy = 0.54125\n"
     ]
    },
    {
     "name": "stdout",
     "output_type": "stream",
     "text": [
      "Epoch[1] Batch[205] Speed: 1.2519483601269619 samples/sec                   batch loss = 568.5999109745026 | accuracy = 0.5402439024390244\n"
     ]
    },
    {
     "name": "stdout",
     "output_type": "stream",
     "text": [
      "Epoch[1] Batch[210] Speed: 1.2530511593356113 samples/sec                   batch loss = 582.2259759902954 | accuracy = 0.5428571428571428\n"
     ]
    },
    {
     "name": "stdout",
     "output_type": "stream",
     "text": [
      "Epoch[1] Batch[215] Speed: 1.248698696612622 samples/sec                   batch loss = 595.3093633651733 | accuracy = 0.5488372093023256\n"
     ]
    },
    {
     "name": "stdout",
     "output_type": "stream",
     "text": [
      "Epoch[1] Batch[220] Speed: 1.2508988879318779 samples/sec                   batch loss = 608.8623178005219 | accuracy = 0.5511363636363636\n"
     ]
    },
    {
     "name": "stdout",
     "output_type": "stream",
     "text": [
      "Epoch[1] Batch[225] Speed: 1.2549595960124857 samples/sec                   batch loss = 622.3313417434692 | accuracy = 0.5511111111111111\n"
     ]
    },
    {
     "name": "stdout",
     "output_type": "stream",
     "text": [
      "Epoch[1] Batch[230] Speed: 1.2583774932365988 samples/sec                   batch loss = 635.6359701156616 | accuracy = 0.5543478260869565\n"
     ]
    },
    {
     "name": "stdout",
     "output_type": "stream",
     "text": [
      "Epoch[1] Batch[235] Speed: 1.2518846490115672 samples/sec                   batch loss = 649.51740193367 | accuracy = 0.5542553191489362\n"
     ]
    },
    {
     "name": "stdout",
     "output_type": "stream",
     "text": [
      "Epoch[1] Batch[240] Speed: 1.2554672774528253 samples/sec                   batch loss = 663.2923064231873 | accuracy = 0.5520833333333334\n"
     ]
    },
    {
     "name": "stdout",
     "output_type": "stream",
     "text": [
      "Epoch[1] Batch[245] Speed: 1.2503669370182997 samples/sec                   batch loss = 676.9895007610321 | accuracy = 0.5510204081632653\n"
     ]
    },
    {
     "name": "stdout",
     "output_type": "stream",
     "text": [
      "Epoch[1] Batch[250] Speed: 1.2519139814762097 samples/sec                   batch loss = 691.0365691184998 | accuracy = 0.549\n"
     ]
    },
    {
     "name": "stdout",
     "output_type": "stream",
     "text": [
      "Epoch[1] Batch[255] Speed: 1.2565019412356804 samples/sec                   batch loss = 704.4912269115448 | accuracy = 0.55\n"
     ]
    },
    {
     "name": "stdout",
     "output_type": "stream",
     "text": [
      "Epoch[1] Batch[260] Speed: 1.2567803614884367 samples/sec                   batch loss = 718.1524107456207 | accuracy = 0.5509615384615385\n"
     ]
    },
    {
     "name": "stdout",
     "output_type": "stream",
     "text": [
      "Epoch[1] Batch[265] Speed: 1.2547732862453504 samples/sec                   batch loss = 731.9135706424713 | accuracy = 0.5490566037735849\n"
     ]
    },
    {
     "name": "stdout",
     "output_type": "stream",
     "text": [
      "Epoch[1] Batch[270] Speed: 1.2546571170269594 samples/sec                   batch loss = 745.5634105205536 | accuracy = 0.5509259259259259\n"
     ]
    },
    {
     "name": "stdout",
     "output_type": "stream",
     "text": [
      "Epoch[1] Batch[275] Speed: 1.250821388479604 samples/sec                   batch loss = 759.3690321445465 | accuracy = 0.55\n"
     ]
    },
    {
     "name": "stdout",
     "output_type": "stream",
     "text": [
      "Epoch[1] Batch[280] Speed: 1.2504643249588259 samples/sec                   batch loss = 773.3725171089172 | accuracy = 0.5491071428571429\n"
     ]
    },
    {
     "name": "stdout",
     "output_type": "stream",
     "text": [
      "Epoch[1] Batch[285] Speed: 1.2532353665533662 samples/sec                   batch loss = 786.6399080753326 | accuracy = 0.5517543859649123\n"
     ]
    },
    {
     "name": "stdout",
     "output_type": "stream",
     "text": [
      "Epoch[1] Batch[290] Speed: 1.2596526956160565 samples/sec                   batch loss = 800.6654500961304 | accuracy = 0.55\n"
     ]
    },
    {
     "name": "stdout",
     "output_type": "stream",
     "text": [
      "Epoch[1] Batch[295] Speed: 1.2620624635018747 samples/sec                   batch loss = 814.0980696678162 | accuracy = 0.5516949152542373\n"
     ]
    },
    {
     "name": "stdout",
     "output_type": "stream",
     "text": [
      "Epoch[1] Batch[300] Speed: 1.2651325306728667 samples/sec                   batch loss = 828.2573881149292 | accuracy = 0.5516666666666666\n"
     ]
    },
    {
     "name": "stdout",
     "output_type": "stream",
     "text": [
      "Epoch[1] Batch[305] Speed: 1.262868149892247 samples/sec                   batch loss = 841.2976806163788 | accuracy = 0.5524590163934426\n"
     ]
    },
    {
     "name": "stdout",
     "output_type": "stream",
     "text": [
      "Epoch[1] Batch[310] Speed: 1.2609140904452396 samples/sec                   batch loss = 855.0646760463715 | accuracy = 0.5491935483870968\n"
     ]
    },
    {
     "name": "stdout",
     "output_type": "stream",
     "text": [
      "Epoch[1] Batch[315] Speed: 1.2563280617706771 samples/sec                   batch loss = 869.0972232818604 | accuracy = 0.5484126984126985\n"
     ]
    },
    {
     "name": "stdout",
     "output_type": "stream",
     "text": [
      "Epoch[1] Batch[320] Speed: 1.2538842670080668 samples/sec                   batch loss = 882.4874289035797 | accuracy = 0.55\n"
     ]
    },
    {
     "name": "stdout",
     "output_type": "stream",
     "text": [
      "Epoch[1] Batch[325] Speed: 1.2620120532371617 samples/sec                   batch loss = 896.4877223968506 | accuracy = 0.55\n"
     ]
    },
    {
     "name": "stdout",
     "output_type": "stream",
     "text": [
      "Epoch[1] Batch[330] Speed: 1.2575981690889693 samples/sec                   batch loss = 910.1631419658661 | accuracy = 0.5492424242424242\n"
     ]
    },
    {
     "name": "stdout",
     "output_type": "stream",
     "text": [
      "Epoch[1] Batch[335] Speed: 1.2619251975394843 samples/sec                   batch loss = 924.0101597309113 | accuracy = 0.5492537313432836\n"
     ]
    },
    {
     "name": "stdout",
     "output_type": "stream",
     "text": [
      "Epoch[1] Batch[340] Speed: 1.254927961689473 samples/sec                   batch loss = 937.3440897464752 | accuracy = 0.5507352941176471\n"
     ]
    },
    {
     "name": "stdout",
     "output_type": "stream",
     "text": [
      "Epoch[1] Batch[345] Speed: 1.2598032788854823 samples/sec                   batch loss = 951.0182988643646 | accuracy = 0.5507246376811594\n"
     ]
    },
    {
     "name": "stdout",
     "output_type": "stream",
     "text": [
      "Epoch[1] Batch[350] Speed: 1.262626649560931 samples/sec                   batch loss = 964.3301646709442 | accuracy = 0.5514285714285714\n"
     ]
    },
    {
     "name": "stdout",
     "output_type": "stream",
     "text": [
      "Epoch[1] Batch[355] Speed: 1.2558413987873505 samples/sec                   batch loss = 978.8140676021576 | accuracy = 0.5485915492957747\n"
     ]
    },
    {
     "name": "stdout",
     "output_type": "stream",
     "text": [
      "Epoch[1] Batch[360] Speed: 1.2602247628536463 samples/sec                   batch loss = 992.6170516014099 | accuracy = 0.5472222222222223\n"
     ]
    },
    {
     "name": "stdout",
     "output_type": "stream",
     "text": [
      "Epoch[1] Batch[365] Speed: 1.2586177483748158 samples/sec                   batch loss = 1005.8390448093414 | accuracy = 0.5493150684931507\n"
     ]
    },
    {
     "name": "stdout",
     "output_type": "stream",
     "text": [
      "Epoch[1] Batch[370] Speed: 1.252173549601727 samples/sec                   batch loss = 1019.1895163059235 | accuracy = 0.5506756756756757\n"
     ]
    },
    {
     "name": "stdout",
     "output_type": "stream",
     "text": [
      "Epoch[1] Batch[375] Speed: 1.2584373360356471 samples/sec                   batch loss = 1032.5385060310364 | accuracy = 0.5506666666666666\n"
     ]
    },
    {
     "name": "stdout",
     "output_type": "stream",
     "text": [
      "Epoch[1] Batch[380] Speed: 1.2564101027940966 samples/sec                   batch loss = 1046.283322095871 | accuracy = 0.5506578947368421\n"
     ]
    },
    {
     "name": "stdout",
     "output_type": "stream",
     "text": [
      "Epoch[1] Batch[385] Speed: 1.2588248473234016 samples/sec                   batch loss = 1059.425364971161 | accuracy = 0.5538961038961039\n"
     ]
    },
    {
     "name": "stdout",
     "output_type": "stream",
     "text": [
      "Epoch[1] Batch[390] Speed: 1.2582261182540333 samples/sec                   batch loss = 1073.2864944934845 | accuracy = 0.5538461538461539\n"
     ]
    },
    {
     "name": "stdout",
     "output_type": "stream",
     "text": [
      "Epoch[1] Batch[395] Speed: 1.2619825304511327 samples/sec                   batch loss = 1086.4698750972748 | accuracy = 0.5544303797468354\n"
     ]
    },
    {
     "name": "stdout",
     "output_type": "stream",
     "text": [
      "Epoch[1] Batch[400] Speed: 1.2595186008765542 samples/sec                   batch loss = 1100.7536203861237 | accuracy = 0.55375\n"
     ]
    },
    {
     "name": "stdout",
     "output_type": "stream",
     "text": [
      "Epoch[1] Batch[405] Speed: 1.2595812946515144 samples/sec                   batch loss = 1113.9516441822052 | accuracy = 0.554320987654321\n"
     ]
    },
    {
     "name": "stdout",
     "output_type": "stream",
     "text": [
      "Epoch[1] Batch[410] Speed: 1.2583104836081613 samples/sec                   batch loss = 1127.4818785190582 | accuracy = 0.5548780487804879\n"
     ]
    },
    {
     "name": "stdout",
     "output_type": "stream",
     "text": [
      "Epoch[1] Batch[415] Speed: 1.2604348530654799 samples/sec                   batch loss = 1141.3477036952972 | accuracy = 0.5542168674698795\n"
     ]
    },
    {
     "name": "stdout",
     "output_type": "stream",
     "text": [
      "Epoch[1] Batch[420] Speed: 1.2593955009450035 samples/sec                   batch loss = 1155.0786101818085 | accuracy = 0.5541666666666667\n"
     ]
    },
    {
     "name": "stdout",
     "output_type": "stream",
     "text": [
      "Epoch[1] Batch[425] Speed: 1.2537752894736094 samples/sec                   batch loss = 1169.2083485126495 | accuracy = 0.5535294117647059\n"
     ]
    },
    {
     "name": "stdout",
     "output_type": "stream",
     "text": [
      "Epoch[1] Batch[430] Speed: 1.2624364416169602 samples/sec                   batch loss = 1182.6684844493866 | accuracy = 0.5534883720930233\n"
     ]
    },
    {
     "name": "stdout",
     "output_type": "stream",
     "text": [
      "Epoch[1] Batch[435] Speed: 1.2538413484005602 samples/sec                   batch loss = 1196.805430650711 | accuracy = 0.5528735632183908\n"
     ]
    },
    {
     "name": "stdout",
     "output_type": "stream",
     "text": [
      "Epoch[1] Batch[440] Speed: 1.2609168386560545 samples/sec                   batch loss = 1210.4515142440796 | accuracy = 0.5528409090909091\n"
     ]
    },
    {
     "name": "stdout",
     "output_type": "stream",
     "text": [
      "Epoch[1] Batch[445] Speed: 1.2577997461941683 samples/sec                   batch loss = 1224.1843221187592 | accuracy = 0.5516853932584269\n"
     ]
    },
    {
     "name": "stdout",
     "output_type": "stream",
     "text": [
      "Epoch[1] Batch[450] Speed: 1.2580526103224523 samples/sec                   batch loss = 1237.6549310684204 | accuracy = 0.5511111111111111\n"
     ]
    },
    {
     "name": "stdout",
     "output_type": "stream",
     "text": [
      "Epoch[1] Batch[455] Speed: 1.257218666755391 samples/sec                   batch loss = 1251.0968585014343 | accuracy = 0.5510989010989011\n"
     ]
    },
    {
     "name": "stdout",
     "output_type": "stream",
     "text": [
      "Epoch[1] Batch[460] Speed: 1.2557786067691112 samples/sec                   batch loss = 1265.0912518501282 | accuracy = 0.5505434782608696\n"
     ]
    },
    {
     "name": "stdout",
     "output_type": "stream",
     "text": [
      "Epoch[1] Batch[465] Speed: 1.2584174192671524 samples/sec                   batch loss = 1277.7777969837189 | accuracy = 0.5526881720430108\n"
     ]
    },
    {
     "name": "stdout",
     "output_type": "stream",
     "text": [
      "Epoch[1] Batch[470] Speed: 1.2557472131146314 samples/sec                   batch loss = 1291.4616930484772 | accuracy = 0.5531914893617021\n"
     ]
    },
    {
     "name": "stdout",
     "output_type": "stream",
     "text": [
      "Epoch[1] Batch[475] Speed: 1.2601964595222401 samples/sec                   batch loss = 1304.9389407634735 | accuracy = 0.5526315789473685\n"
     ]
    },
    {
     "name": "stdout",
     "output_type": "stream",
     "text": [
      "Epoch[1] Batch[480] Speed: 1.2570327216906794 samples/sec                   batch loss = 1318.886813879013 | accuracy = 0.5520833333333334\n"
     ]
    },
    {
     "name": "stdout",
     "output_type": "stream",
     "text": [
      "Epoch[1] Batch[485] Speed: 1.2563412327726136 samples/sec                   batch loss = 1331.9902329444885 | accuracy = 0.5536082474226804\n"
     ]
    },
    {
     "name": "stdout",
     "output_type": "stream",
     "text": [
      "Epoch[1] Batch[490] Speed: 1.2604501936254062 samples/sec                   batch loss = 1345.9090640544891 | accuracy = 0.5535714285714286\n"
     ]
    },
    {
     "name": "stdout",
     "output_type": "stream",
     "text": [
      "Epoch[1] Batch[495] Speed: 1.2614254638500282 samples/sec                   batch loss = 1358.8943438529968 | accuracy = 0.555050505050505\n"
     ]
    },
    {
     "name": "stdout",
     "output_type": "stream",
     "text": [
      "Epoch[1] Batch[500] Speed: 1.2592213868384576 samples/sec                   batch loss = 1371.38352394104 | accuracy = 0.5585\n"
     ]
    },
    {
     "name": "stdout",
     "output_type": "stream",
     "text": [
      "Epoch[1] Batch[505] Speed: 1.258886527438826 samples/sec                   batch loss = 1384.8668384552002 | accuracy = 0.5584158415841585\n"
     ]
    },
    {
     "name": "stdout",
     "output_type": "stream",
     "text": [
      "Epoch[1] Batch[510] Speed: 1.2615594906333967 samples/sec                   batch loss = 1397.7732527256012 | accuracy = 0.5598039215686275\n"
     ]
    },
    {
     "name": "stdout",
     "output_type": "stream",
     "text": [
      "Epoch[1] Batch[515] Speed: 1.2554450119994214 samples/sec                   batch loss = 1410.0658676624298 | accuracy = 0.5611650485436893\n"
     ]
    },
    {
     "name": "stdout",
     "output_type": "stream",
     "text": [
      "Epoch[1] Batch[520] Speed: 1.256925267888254 samples/sec                   batch loss = 1422.3774399757385 | accuracy = 0.5639423076923077\n"
     ]
    },
    {
     "name": "stdout",
     "output_type": "stream",
     "text": [
      "Epoch[1] Batch[525] Speed: 1.2567049555874337 samples/sec                   batch loss = 1435.3264329433441 | accuracy = 0.5623809523809524\n"
     ]
    },
    {
     "name": "stdout",
     "output_type": "stream",
     "text": [
      "Epoch[1] Batch[530] Speed: 1.250273104808381 samples/sec                   batch loss = 1448.1034886837006 | accuracy = 0.5627358490566038\n"
     ]
    },
    {
     "name": "stdout",
     "output_type": "stream",
     "text": [
      "Epoch[1] Batch[535] Speed: 1.2532749669448033 samples/sec                   batch loss = 1462.6681797504425 | accuracy = 0.5626168224299065\n"
     ]
    },
    {
     "name": "stdout",
     "output_type": "stream",
     "text": [
      "Epoch[1] Batch[540] Speed: 1.2523041218391056 samples/sec                   batch loss = 1476.172575712204 | accuracy = 0.5611111111111111\n"
     ]
    },
    {
     "name": "stdout",
     "output_type": "stream",
     "text": [
      "Epoch[1] Batch[545] Speed: 1.2544871246055243 samples/sec                   batch loss = 1489.9209113121033 | accuracy = 0.5610091743119267\n"
     ]
    },
    {
     "name": "stdout",
     "output_type": "stream",
     "text": [
      "Epoch[1] Batch[550] Speed: 1.2600455929802463 samples/sec                   batch loss = 1503.422622203827 | accuracy = 0.5618181818181818\n"
     ]
    },
    {
     "name": "stdout",
     "output_type": "stream",
     "text": [
      "Epoch[1] Batch[555] Speed: 1.2575323735275041 samples/sec                   batch loss = 1517.24702501297 | accuracy = 0.5617117117117117\n"
     ]
    },
    {
     "name": "stdout",
     "output_type": "stream",
     "text": [
      "Epoch[1] Batch[560] Speed: 1.2588046349404765 samples/sec                   batch loss = 1529.5008614063263 | accuracy = 0.5629464285714286\n"
     ]
    },
    {
     "name": "stdout",
     "output_type": "stream",
     "text": [
      "Epoch[1] Batch[565] Speed: 1.2566742686354035 samples/sec                   batch loss = 1543.122677564621 | accuracy = 0.5619469026548672\n"
     ]
    },
    {
     "name": "stdout",
     "output_type": "stream",
     "text": [
      "Epoch[1] Batch[570] Speed: 1.258443754844181 samples/sec                   batch loss = 1556.535960674286 | accuracy = 0.5618421052631579\n"
     ]
    },
    {
     "name": "stdout",
     "output_type": "stream",
     "text": [
      "Epoch[1] Batch[575] Speed: 1.2591278274849724 samples/sec                   batch loss = 1570.139475107193 | accuracy = 0.561304347826087\n"
     ]
    },
    {
     "name": "stdout",
     "output_type": "stream",
     "text": [
      "Epoch[1] Batch[580] Speed: 1.2564345666408747 samples/sec                   batch loss = 1583.4082970619202 | accuracy = 0.5616379310344828\n"
     ]
    },
    {
     "name": "stdout",
     "output_type": "stream",
     "text": [
      "Epoch[1] Batch[585] Speed: 1.2573980701507719 samples/sec                   batch loss = 1597.2344622612 | accuracy = 0.5615384615384615\n"
     ]
    },
    {
     "name": "stdout",
     "output_type": "stream",
     "text": [
      "Epoch[1] Batch[590] Speed: 1.252562075011055 samples/sec                   batch loss = 1611.666306257248 | accuracy = 0.5610169491525424\n"
     ]
    },
    {
     "name": "stdout",
     "output_type": "stream",
     "text": [
      "Epoch[1] Batch[595] Speed: 1.2499644989917416 samples/sec                   batch loss = 1625.2663683891296 | accuracy = 0.5617647058823529\n"
     ]
    },
    {
     "name": "stdout",
     "output_type": "stream",
     "text": [
      "Epoch[1] Batch[600] Speed: 1.2510648306020968 samples/sec                   batch loss = 1638.7455933094025 | accuracy = 0.5616666666666666\n"
     ]
    },
    {
     "name": "stdout",
     "output_type": "stream",
     "text": [
      "Epoch[1] Batch[605] Speed: 1.252591439229715 samples/sec                   batch loss = 1650.793508052826 | accuracy = 0.5632231404958677\n"
     ]
    },
    {
     "name": "stdout",
     "output_type": "stream",
     "text": [
      "Epoch[1] Batch[610] Speed: 1.2500137650992336 samples/sec                   batch loss = 1663.4323987960815 | accuracy = 0.5647540983606557\n"
     ]
    },
    {
     "name": "stdout",
     "output_type": "stream",
     "text": [
      "Epoch[1] Batch[615] Speed: 1.2466912058388715 samples/sec                   batch loss = 1675.2869845628738 | accuracy = 0.566260162601626\n"
     ]
    },
    {
     "name": "stdout",
     "output_type": "stream",
     "text": [
      "Epoch[1] Batch[620] Speed: 1.248756135216137 samples/sec                   batch loss = 1689.4524508714676 | accuracy = 0.5653225806451613\n"
     ]
    },
    {
     "name": "stdout",
     "output_type": "stream",
     "text": [
      "Epoch[1] Batch[625] Speed: 1.2537542083025603 samples/sec                   batch loss = 1703.7428373098373 | accuracy = 0.5656\n"
     ]
    },
    {
     "name": "stdout",
     "output_type": "stream",
     "text": [
      "Epoch[1] Batch[630] Speed: 1.2574955197099036 samples/sec                   batch loss = 1717.3820244073868 | accuracy = 0.5662698412698413\n"
     ]
    },
    {
     "name": "stdout",
     "output_type": "stream",
     "text": [
      "Epoch[1] Batch[635] Speed: 1.2611728538537705 samples/sec                   batch loss = 1730.9070774316788 | accuracy = 0.5661417322834645\n"
     ]
    },
    {
     "name": "stdout",
     "output_type": "stream",
     "text": [
      "Epoch[1] Batch[640] Speed: 1.2480295268216146 samples/sec                   batch loss = 1744.2544029951096 | accuracy = 0.56640625\n"
     ]
    },
    {
     "name": "stdout",
     "output_type": "stream",
     "text": [
      "Epoch[1] Batch[645] Speed: 1.2543730716327746 samples/sec                   batch loss = 1756.9306749105453 | accuracy = 0.5670542635658915\n"
     ]
    },
    {
     "name": "stdout",
     "output_type": "stream",
     "text": [
      "Epoch[1] Batch[650] Speed: 1.2573989182926066 samples/sec                   batch loss = 1770.4887655973434 | accuracy = 0.568076923076923\n"
     ]
    },
    {
     "name": "stdout",
     "output_type": "stream",
     "text": [
      "Epoch[1] Batch[655] Speed: 1.2502275448923308 samples/sec                   batch loss = 1783.6343730688095 | accuracy = 0.5683206106870229\n"
     ]
    },
    {
     "name": "stdout",
     "output_type": "stream",
     "text": [
      "Epoch[1] Batch[660] Speed: 1.2529841542899012 samples/sec                   batch loss = 1797.5871914625168 | accuracy = 0.5674242424242424\n"
     ]
    },
    {
     "name": "stdout",
     "output_type": "stream",
     "text": [
      "Epoch[1] Batch[665] Speed: 1.2553014798479831 samples/sec                   batch loss = 1809.9360860586166 | accuracy = 0.5684210526315789\n"
     ]
    },
    {
     "name": "stdout",
     "output_type": "stream",
     "text": [
      "Epoch[1] Batch[670] Speed: 1.2489561892028507 samples/sec                   batch loss = 1825.1272860765457 | accuracy = 0.5675373134328359\n"
     ]
    },
    {
     "name": "stdout",
     "output_type": "stream",
     "text": [
      "Epoch[1] Batch[675] Speed: 1.2583834395061158 samples/sec                   batch loss = 1838.1348716020584 | accuracy = 0.5681481481481482\n"
     ]
    },
    {
     "name": "stdout",
     "output_type": "stream",
     "text": [
      "Epoch[1] Batch[680] Speed: 1.2516466771584696 samples/sec                   batch loss = 1850.7998322248459 | accuracy = 0.56875\n"
     ]
    },
    {
     "name": "stdout",
     "output_type": "stream",
     "text": [
      "Epoch[1] Batch[685] Speed: 1.248343586876437 samples/sec                   batch loss = 1864.2032777071 | accuracy = 0.5686131386861314\n"
     ]
    },
    {
     "name": "stdout",
     "output_type": "stream",
     "text": [
      "Epoch[1] Batch[690] Speed: 1.2526333370590053 samples/sec                   batch loss = 1878.7263787984848 | accuracy = 0.5681159420289855\n"
     ]
    },
    {
     "name": "stdout",
     "output_type": "stream",
     "text": [
      "Epoch[1] Batch[695] Speed: 1.2554916106447136 samples/sec                   batch loss = 1891.1773048639297 | accuracy = 0.568705035971223\n"
     ]
    },
    {
     "name": "stdout",
     "output_type": "stream",
     "text": [
      "Epoch[1] Batch[700] Speed: 1.2508559869281006 samples/sec                   batch loss = 1903.5214706659317 | accuracy = 0.5696428571428571\n"
     ]
    },
    {
     "name": "stdout",
     "output_type": "stream",
     "text": [
      "Epoch[1] Batch[705] Speed: 1.2540013241700803 samples/sec                   batch loss = 1915.3001017570496 | accuracy = 0.5709219858156028\n"
     ]
    },
    {
     "name": "stdout",
     "output_type": "stream",
     "text": [
      "Epoch[1] Batch[710] Speed: 1.2439664289836814 samples/sec                   batch loss = 1926.803591966629 | accuracy = 0.5725352112676056\n"
     ]
    },
    {
     "name": "stdout",
     "output_type": "stream",
     "text": [
      "Epoch[1] Batch[715] Speed: 1.2520060980874486 samples/sec                   batch loss = 1938.9005608558655 | accuracy = 0.5737762237762237\n"
     ]
    },
    {
     "name": "stdout",
     "output_type": "stream",
     "text": [
      "Epoch[1] Batch[720] Speed: 1.2475861003282187 samples/sec                   batch loss = 1951.8106091022491 | accuracy = 0.575\n"
     ]
    },
    {
     "name": "stdout",
     "output_type": "stream",
     "text": [
      "Epoch[1] Batch[725] Speed: 1.2497802278925574 samples/sec                   batch loss = 1965.6240034103394 | accuracy = 0.5748275862068966\n"
     ]
    },
    {
     "name": "stdout",
     "output_type": "stream",
     "text": [
      "Epoch[1] Batch[730] Speed: 1.2482169966471852 samples/sec                   batch loss = 1978.953328371048 | accuracy = 0.5753424657534246\n"
     ]
    },
    {
     "name": "stdout",
     "output_type": "stream",
     "text": [
      "Epoch[1] Batch[735] Speed: 1.2520428177160472 samples/sec                   batch loss = 1991.1181390285492 | accuracy = 0.5758503401360544\n"
     ]
    },
    {
     "name": "stdout",
     "output_type": "stream",
     "text": [
      "Epoch[1] Batch[740] Speed: 1.2534560559370258 samples/sec                   batch loss = 2004.161809206009 | accuracy = 0.5756756756756757\n"
     ]
    },
    {
     "name": "stdout",
     "output_type": "stream",
     "text": [
      "Epoch[1] Batch[745] Speed: 1.2479912783812637 samples/sec                   batch loss = 2018.148272037506 | accuracy = 0.5761744966442953\n"
     ]
    },
    {
     "name": "stdout",
     "output_type": "stream",
     "text": [
      "Epoch[1] Batch[750] Speed: 1.2497211124989274 samples/sec                   batch loss = 2032.1112689971924 | accuracy = 0.5753333333333334\n"
     ]
    },
    {
     "name": "stdout",
     "output_type": "stream",
     "text": [
      "Epoch[1] Batch[755] Speed: 1.2591310404039495 samples/sec                   batch loss = 2045.2451231479645 | accuracy = 0.5751655629139073\n"
     ]
    },
    {
     "name": "stdout",
     "output_type": "stream",
     "text": [
      "Epoch[1] Batch[760] Speed: 1.2623552264159235 samples/sec                   batch loss = 2058.514872074127 | accuracy = 0.5756578947368421\n"
     ]
    },
    {
     "name": "stdout",
     "output_type": "stream",
     "text": [
      "Epoch[1] Batch[765] Speed: 1.2594174340403905 samples/sec                   batch loss = 2071.20601439476 | accuracy = 0.5758169934640522\n"
     ]
    },
    {
     "name": "stdout",
     "output_type": "stream",
     "text": [
      "Epoch[1] Batch[770] Speed: 1.2563896856205554 samples/sec                   batch loss = 2083.7672085762024 | accuracy = 0.5766233766233766\n"
     ]
    },
    {
     "name": "stdout",
     "output_type": "stream",
     "text": [
      "Epoch[1] Batch[775] Speed: 1.2543061126917143 samples/sec                   batch loss = 2098.7235136032104 | accuracy = 0.5754838709677419\n"
     ]
    },
    {
     "name": "stdout",
     "output_type": "stream",
     "text": [
      "Epoch[1] Batch[780] Speed: 1.2573413414835761 samples/sec                   batch loss = 2113.139649629593 | accuracy = 0.575\n"
     ]
    },
    {
     "name": "stdout",
     "output_type": "stream",
     "text": [
      "Epoch[1] Batch[785] Speed: 1.2491185477681739 samples/sec                   batch loss = 2125.2853837013245 | accuracy = 0.5761146496815287\n"
     ]
    },
    {
     "name": "stdout",
     "output_type": "stream",
     "text": [
      "[Epoch 1] training: accuracy=0.5761421319796954\n",
      "[Epoch 1] time cost: 645.9484522342682\n",
      "[Epoch 1] validation: validation accuracy=0.6744444444444444\n"
     ]
    },
    {
     "name": "stdout",
     "output_type": "stream",
     "text": [
      "Epoch[2] Batch[5] Speed: 1.2585899892634511 samples/sec                   batch loss = 12.803154706954956 | accuracy = 0.65\n"
     ]
    },
    {
     "name": "stdout",
     "output_type": "stream",
     "text": [
      "Epoch[2] Batch[10] Speed: 1.2548740837543806 samples/sec                   batch loss = 25.86441397666931 | accuracy = 0.625\n"
     ]
    },
    {
     "name": "stdout",
     "output_type": "stream",
     "text": [
      "Epoch[2] Batch[15] Speed: 1.2576900870229073 samples/sec                   batch loss = 37.63940620422363 | accuracy = 0.6833333333333333\n"
     ]
    },
    {
     "name": "stdout",
     "output_type": "stream",
     "text": [
      "Epoch[2] Batch[20] Speed: 1.2543209293204451 samples/sec                   batch loss = 51.42766094207764 | accuracy = 0.6625\n"
     ]
    },
    {
     "name": "stdout",
     "output_type": "stream",
     "text": [
      "Epoch[2] Batch[25] Speed: 1.255229350426239 samples/sec                   batch loss = 63.217512011528015 | accuracy = 0.68\n"
     ]
    },
    {
     "name": "stdout",
     "output_type": "stream",
     "text": [
      "Epoch[2] Batch[30] Speed: 1.2574725225142172 samples/sec                   batch loss = 74.69641935825348 | accuracy = 0.6916666666666667\n"
     ]
    },
    {
     "name": "stdout",
     "output_type": "stream",
     "text": [
      "Epoch[2] Batch[35] Speed: 1.256062442801493 samples/sec                   batch loss = 87.8172003030777 | accuracy = 0.6714285714285714\n"
     ]
    },
    {
     "name": "stdout",
     "output_type": "stream",
     "text": [
      "Epoch[2] Batch[40] Speed: 1.2521624283861426 samples/sec                   batch loss = 99.8741649389267 | accuracy = 0.66875\n"
     ]
    },
    {
     "name": "stdout",
     "output_type": "stream",
     "text": [
      "Epoch[2] Batch[45] Speed: 1.2475727411728506 samples/sec                   batch loss = 112.99763858318329 | accuracy = 0.6666666666666666\n"
     ]
    },
    {
     "name": "stdout",
     "output_type": "stream",
     "text": [
      "Epoch[2] Batch[50] Speed: 1.2473765615333412 samples/sec                   batch loss = 126.28719127178192 | accuracy = 0.66\n"
     ]
    },
    {
     "name": "stdout",
     "output_type": "stream",
     "text": [
      "Epoch[2] Batch[55] Speed: 1.2570410098636402 samples/sec                   batch loss = 140.08728659152985 | accuracy = 0.6409090909090909\n"
     ]
    },
    {
     "name": "stdout",
     "output_type": "stream",
     "text": [
      "Epoch[2] Batch[60] Speed: 1.2515833702169068 samples/sec                   batch loss = 152.146857380867 | accuracy = 0.6458333333333334\n"
     ]
    },
    {
     "name": "stdout",
     "output_type": "stream",
     "text": [
      "Epoch[2] Batch[65] Speed: 1.2484916640794739 samples/sec                   batch loss = 163.82478415966034 | accuracy = 0.6538461538461539\n"
     ]
    },
    {
     "name": "stdout",
     "output_type": "stream",
     "text": [
      "Epoch[2] Batch[70] Speed: 1.2566141227917222 samples/sec                   batch loss = 176.74097502231598 | accuracy = 0.6571428571428571\n"
     ]
    },
    {
     "name": "stdout",
     "output_type": "stream",
     "text": [
      "Epoch[2] Batch[75] Speed: 1.2620509760627887 samples/sec                   batch loss = 189.16226065158844 | accuracy = 0.6633333333333333\n"
     ]
    },
    {
     "name": "stdout",
     "output_type": "stream",
     "text": [
      "Epoch[2] Batch[80] Speed: 1.2590112285215915 samples/sec                   batch loss = 202.21996402740479 | accuracy = 0.6625\n"
     ]
    },
    {
     "name": "stdout",
     "output_type": "stream",
     "text": [
      "Epoch[2] Batch[85] Speed: 1.25478201388088 samples/sec                   batch loss = 213.25096213817596 | accuracy = 0.6676470588235294\n"
     ]
    },
    {
     "name": "stdout",
     "output_type": "stream",
     "text": [
      "Epoch[2] Batch[90] Speed: 1.2604482997089144 samples/sec                   batch loss = 226.45775544643402 | accuracy = 0.6666666666666666\n"
     ]
    },
    {
     "name": "stdout",
     "output_type": "stream",
     "text": [
      "Epoch[2] Batch[95] Speed: 1.2597312933212426 samples/sec                   batch loss = 238.12235248088837 | accuracy = 0.6684210526315789\n"
     ]
    },
    {
     "name": "stdout",
     "output_type": "stream",
     "text": [
      "Epoch[2] Batch[100] Speed: 1.2630533532102763 samples/sec                   batch loss = 250.1106299161911 | accuracy = 0.6725\n"
     ]
    },
    {
     "name": "stdout",
     "output_type": "stream",
     "text": [
      "Epoch[2] Batch[105] Speed: 1.269135678819989 samples/sec                   batch loss = 259.3827314376831 | accuracy = 0.6857142857142857\n"
     ]
    },
    {
     "name": "stdout",
     "output_type": "stream",
     "text": [
      "Epoch[2] Batch[110] Speed: 1.258284625462832 samples/sec                   batch loss = 271.3375792503357 | accuracy = 0.6818181818181818\n"
     ]
    },
    {
     "name": "stdout",
     "output_type": "stream",
     "text": [
      "Epoch[2] Batch[115] Speed: 1.2587405074241251 samples/sec                   batch loss = 283.02438402175903 | accuracy = 0.6826086956521739\n"
     ]
    },
    {
     "name": "stdout",
     "output_type": "stream",
     "text": [
      "Epoch[2] Batch[120] Speed: 1.2508582251685807 samples/sec                   batch loss = 293.3856348991394 | accuracy = 0.6854166666666667\n"
     ]
    },
    {
     "name": "stdout",
     "output_type": "stream",
     "text": [
      "Epoch[2] Batch[125] Speed: 1.2525073714600716 samples/sec                   batch loss = 307.15620493888855 | accuracy = 0.676\n"
     ]
    },
    {
     "name": "stdout",
     "output_type": "stream",
     "text": [
      "Epoch[2] Batch[130] Speed: 1.249163840876579 samples/sec                   batch loss = 318.3901846408844 | accuracy = 0.676923076923077\n"
     ]
    },
    {
     "name": "stdout",
     "output_type": "stream",
     "text": [
      "Epoch[2] Batch[135] Speed: 1.249744851079514 samples/sec                   batch loss = 327.88901007175446 | accuracy = 0.6796296296296296\n"
     ]
    },
    {
     "name": "stdout",
     "output_type": "stream",
     "text": [
      "Epoch[2] Batch[140] Speed: 1.2576358773851914 samples/sec                   batch loss = 340.5419946908951 | accuracy = 0.6767857142857143\n"
     ]
    },
    {
     "name": "stdout",
     "output_type": "stream",
     "text": [
      "Epoch[2] Batch[145] Speed: 1.2589882703305753 samples/sec                   batch loss = 355.86809837818146 | accuracy = 0.6758620689655173\n"
     ]
    },
    {
     "name": "stdout",
     "output_type": "stream",
     "text": [
      "Epoch[2] Batch[150] Speed: 1.2598297671030747 samples/sec                   batch loss = 369.35428762435913 | accuracy = 0.6716666666666666\n"
     ]
    },
    {
     "name": "stdout",
     "output_type": "stream",
     "text": [
      "Epoch[2] Batch[155] Speed: 1.2544037400892762 samples/sec                   batch loss = 382.6115256547928 | accuracy = 0.6725806451612903\n"
     ]
    },
    {
     "name": "stdout",
     "output_type": "stream",
     "text": [
      "Epoch[2] Batch[160] Speed: 1.2574166352947367 samples/sec                   batch loss = 395.7040745019913 | accuracy = 0.671875\n"
     ]
    },
    {
     "name": "stdout",
     "output_type": "stream",
     "text": [
      "Epoch[2] Batch[165] Speed: 1.2565519122568518 samples/sec                   batch loss = 408.2120546102524 | accuracy = 0.6696969696969697\n"
     ]
    },
    {
     "name": "stdout",
     "output_type": "stream",
     "text": [
      "Epoch[2] Batch[170] Speed: 1.2530134447201664 samples/sec                   batch loss = 422.8262439966202 | accuracy = 0.6617647058823529\n"
     ]
    },
    {
     "name": "stdout",
     "output_type": "stream",
     "text": [
      "Epoch[2] Batch[175] Speed: 1.2497685905619513 samples/sec                   batch loss = 435.71504509449005 | accuracy = 0.66\n"
     ]
    },
    {
     "name": "stdout",
     "output_type": "stream",
     "text": [
      "Epoch[2] Batch[180] Speed: 1.2541732475589649 samples/sec                   batch loss = 449.14080917835236 | accuracy = 0.6597222222222222\n"
     ]
    },
    {
     "name": "stdout",
     "output_type": "stream",
     "text": [
      "Epoch[2] Batch[185] Speed: 1.2530287923294146 samples/sec                   batch loss = 463.7461711168289 | accuracy = 0.6567567567567567\n"
     ]
    },
    {
     "name": "stdout",
     "output_type": "stream",
     "text": [
      "Epoch[2] Batch[190] Speed: 1.2541508404765638 samples/sec                   batch loss = 477.81759440898895 | accuracy = 0.6539473684210526\n"
     ]
    },
    {
     "name": "stdout",
     "output_type": "stream",
     "text": [
      "Epoch[2] Batch[195] Speed: 1.25300549031452 samples/sec                   batch loss = 490.22008061408997 | accuracy = 0.6525641025641026\n"
     ]
    },
    {
     "name": "stdout",
     "output_type": "stream",
     "text": [
      "Epoch[2] Batch[200] Speed: 1.2650239738447955 samples/sec                   batch loss = 501.0566258430481 | accuracy = 0.65625\n"
     ]
    },
    {
     "name": "stdout",
     "output_type": "stream",
     "text": [
      "Epoch[2] Batch[205] Speed: 1.2571547007216801 samples/sec                   batch loss = 514.9766408205032 | accuracy = 0.6548780487804878\n"
     ]
    },
    {
     "name": "stdout",
     "output_type": "stream",
     "text": [
      "Epoch[2] Batch[210] Speed: 1.2513492462054816 samples/sec                   batch loss = 528.7429095506668 | accuracy = 0.6571428571428571\n"
     ]
    },
    {
     "name": "stdout",
     "output_type": "stream",
     "text": [
      "Epoch[2] Batch[215] Speed: 1.2519273403471802 samples/sec                   batch loss = 540.5998442173004 | accuracy = 0.6558139534883721\n"
     ]
    },
    {
     "name": "stdout",
     "output_type": "stream",
     "text": [
      "Epoch[2] Batch[220] Speed: 1.2525357980081526 samples/sec                   batch loss = 553.3176093101501 | accuracy = 0.6545454545454545\n"
     ]
    },
    {
     "name": "stdout",
     "output_type": "stream",
     "text": [
      "Epoch[2] Batch[225] Speed: 1.2539021662474839 samples/sec                   batch loss = 564.1243188381195 | accuracy = 0.6555555555555556\n"
     ]
    },
    {
     "name": "stdout",
     "output_type": "stream",
     "text": [
      "Epoch[2] Batch[230] Speed: 1.2535147759598133 samples/sec                   batch loss = 576.118081331253 | accuracy = 0.6532608695652173\n"
     ]
    },
    {
     "name": "stdout",
     "output_type": "stream",
     "text": [
      "Epoch[2] Batch[235] Speed: 1.2536933111237862 samples/sec                   batch loss = 587.4054391384125 | accuracy = 0.6563829787234042\n"
     ]
    },
    {
     "name": "stdout",
     "output_type": "stream",
     "text": [
      "Epoch[2] Batch[240] Speed: 1.2545403126462347 samples/sec                   batch loss = 602.8864431381226 | accuracy = 0.6489583333333333\n"
     ]
    },
    {
     "name": "stdout",
     "output_type": "stream",
     "text": [
      "Epoch[2] Batch[245] Speed: 1.2506228807444275 samples/sec                   batch loss = 613.3029458522797 | accuracy = 0.6520408163265307\n"
     ]
    },
    {
     "name": "stdout",
     "output_type": "stream",
     "text": [
      "Epoch[2] Batch[250] Speed: 1.2575705491967828 samples/sec                   batch loss = 628.5647621154785 | accuracy = 0.652\n"
     ]
    },
    {
     "name": "stdout",
     "output_type": "stream",
     "text": [
      "Epoch[2] Batch[255] Speed: 1.2514660172086483 samples/sec                   batch loss = 640.3576560020447 | accuracy = 0.6529411764705882\n"
     ]
    },
    {
     "name": "stdout",
     "output_type": "stream",
     "text": [
      "Epoch[2] Batch[260] Speed: 1.2538494071290103 samples/sec                   batch loss = 653.6715331077576 | accuracy = 0.65\n"
     ]
    },
    {
     "name": "stdout",
     "output_type": "stream",
     "text": [
      "Epoch[2] Batch[265] Speed: 1.2548862856689373 samples/sec                   batch loss = 665.5671371221542 | accuracy = 0.6528301886792452\n"
     ]
    },
    {
     "name": "stdout",
     "output_type": "stream",
     "text": [
      "Epoch[2] Batch[270] Speed: 1.2633799681738074 samples/sec                   batch loss = 676.5705726146698 | accuracy = 0.6537037037037037\n"
     ]
    },
    {
     "name": "stdout",
     "output_type": "stream",
     "text": [
      "Epoch[2] Batch[275] Speed: 1.2572327043553857 samples/sec                   batch loss = 688.9545900821686 | accuracy = 0.6527272727272727\n"
     ]
    },
    {
     "name": "stdout",
     "output_type": "stream",
     "text": [
      "Epoch[2] Batch[280] Speed: 1.2565027881690294 samples/sec                   batch loss = 700.6552760601044 | accuracy = 0.6526785714285714\n"
     ]
    },
    {
     "name": "stdout",
     "output_type": "stream",
     "text": [
      "Epoch[2] Batch[285] Speed: 1.2546822633048864 samples/sec                   batch loss = 711.9209141731262 | accuracy = 0.6535087719298246\n"
     ]
    },
    {
     "name": "stdout",
     "output_type": "stream",
     "text": [
      "Epoch[2] Batch[290] Speed: 1.2550435238732731 samples/sec                   batch loss = 722.691285610199 | accuracy = 0.6551724137931034\n"
     ]
    },
    {
     "name": "stdout",
     "output_type": "stream",
     "text": [
      "Epoch[2] Batch[295] Speed: 1.257432562174919 samples/sec                   batch loss = 736.0801488161087 | accuracy = 0.6542372881355932\n"
     ]
    },
    {
     "name": "stdout",
     "output_type": "stream",
     "text": [
      "Epoch[2] Batch[300] Speed: 1.2536354174458044 samples/sec                   batch loss = 746.1311873197556 | accuracy = 0.6558333333333334\n"
     ]
    },
    {
     "name": "stdout",
     "output_type": "stream",
     "text": [
      "Epoch[2] Batch[305] Speed: 1.2562210105856055 samples/sec                   batch loss = 759.7296541929245 | accuracy = 0.6565573770491804\n"
     ]
    },
    {
     "name": "stdout",
     "output_type": "stream",
     "text": [
      "Epoch[2] Batch[310] Speed: 1.248831798657886 samples/sec                   batch loss = 770.1678158044815 | accuracy = 0.6588709677419354\n"
     ]
    },
    {
     "name": "stdout",
     "output_type": "stream",
     "text": [
      "Epoch[2] Batch[315] Speed: 1.2479741044802044 samples/sec                   batch loss = 781.1198412179947 | accuracy = 0.6595238095238095\n"
     ]
    },
    {
     "name": "stdout",
     "output_type": "stream",
     "text": [
      "Epoch[2] Batch[320] Speed: 1.2536314831180373 samples/sec                   batch loss = 791.6728446483612 | accuracy = 0.66015625\n"
     ]
    },
    {
     "name": "stdout",
     "output_type": "stream",
     "text": [
      "Epoch[2] Batch[325] Speed: 1.2535132774538251 samples/sec                   batch loss = 805.3992083072662 | accuracy = 0.6569230769230769\n"
     ]
    },
    {
     "name": "stdout",
     "output_type": "stream",
     "text": [
      "Epoch[2] Batch[330] Speed: 1.2558064300024365 samples/sec                   batch loss = 816.2361285686493 | accuracy = 0.6583333333333333\n"
     ]
    },
    {
     "name": "stdout",
     "output_type": "stream",
     "text": [
      "Epoch[2] Batch[335] Speed: 1.246768935528526 samples/sec                   batch loss = 828.2680503129959 | accuracy = 0.6597014925373135\n"
     ]
    },
    {
     "name": "stdout",
     "output_type": "stream",
     "text": [
      "Epoch[2] Batch[340] Speed: 1.2498034101009812 samples/sec                   batch loss = 837.8423124551773 | accuracy = 0.663235294117647\n"
     ]
    },
    {
     "name": "stdout",
     "output_type": "stream",
     "text": [
      "Epoch[2] Batch[345] Speed: 1.2569093538563703 samples/sec                   batch loss = 850.2430832386017 | accuracy = 0.6623188405797101\n"
     ]
    },
    {
     "name": "stdout",
     "output_type": "stream",
     "text": [
      "Epoch[2] Batch[350] Speed: 1.252822192641353 samples/sec                   batch loss = 863.0586310625076 | accuracy = 0.6614285714285715\n"
     ]
    },
    {
     "name": "stdout",
     "output_type": "stream",
     "text": [
      "Epoch[2] Batch[355] Speed: 1.2508374284926764 samples/sec                   batch loss = 875.3962067365646 | accuracy = 0.6612676056338028\n"
     ]
    },
    {
     "name": "stdout",
     "output_type": "stream",
     "text": [
      "Epoch[2] Batch[360] Speed: 1.2536295159634143 samples/sec                   batch loss = 886.5723736286163 | accuracy = 0.6625\n"
     ]
    },
    {
     "name": "stdout",
     "output_type": "stream",
     "text": [
      "Epoch[2] Batch[365] Speed: 1.2457703977518355 samples/sec                   batch loss = 900.2278922796249 | accuracy = 0.660958904109589\n"
     ]
    },
    {
     "name": "stdout",
     "output_type": "stream",
     "text": [
      "Epoch[2] Batch[370] Speed: 1.2559407696466447 samples/sec                   batch loss = 914.1476348638535 | accuracy = 0.6601351351351351\n"
     ]
    },
    {
     "name": "stdout",
     "output_type": "stream",
     "text": [
      "Epoch[2] Batch[375] Speed: 1.2537570190844067 samples/sec                   batch loss = 925.2692873477936 | accuracy = 0.6613333333333333\n"
     ]
    },
    {
     "name": "stdout",
     "output_type": "stream",
     "text": [
      "Epoch[2] Batch[380] Speed: 1.2520228225366878 samples/sec                   batch loss = 938.1243690252304 | accuracy = 0.6611842105263158\n"
     ]
    },
    {
     "name": "stdout",
     "output_type": "stream",
     "text": [
      "Epoch[2] Batch[385] Speed: 1.2583981638439268 samples/sec                   batch loss = 950.6547070741653 | accuracy = 0.6603896103896104\n"
     ]
    },
    {
     "name": "stdout",
     "output_type": "stream",
     "text": [
      "Epoch[2] Batch[390] Speed: 1.252196446844098 samples/sec                   batch loss = 962.6580733060837 | accuracy = 0.6602564102564102\n"
     ]
    },
    {
     "name": "stdout",
     "output_type": "stream",
     "text": [
      "Epoch[2] Batch[395] Speed: 1.2486587343584752 samples/sec                   batch loss = 975.1847457885742 | accuracy = 0.660759493670886\n"
     ]
    },
    {
     "name": "stdout",
     "output_type": "stream",
     "text": [
      "Epoch[2] Batch[400] Speed: 1.255252453479306 samples/sec                   batch loss = 986.0982398986816 | accuracy = 0.661875\n"
     ]
    },
    {
     "name": "stdout",
     "output_type": "stream",
     "text": [
      "Epoch[2] Batch[405] Speed: 1.2548585970506976 samples/sec                   batch loss = 997.5209926366806 | accuracy = 0.6617283950617284\n"
     ]
    },
    {
     "name": "stdout",
     "output_type": "stream",
     "text": [
      "Epoch[2] Batch[410] Speed: 1.2537685434217418 samples/sec                   batch loss = 1011.9253478050232 | accuracy = 0.6585365853658537\n"
     ]
    },
    {
     "name": "stdout",
     "output_type": "stream",
     "text": [
      "Epoch[2] Batch[415] Speed: 1.253553551048008 samples/sec                   batch loss = 1025.3458696603775 | accuracy = 0.6578313253012048\n"
     ]
    },
    {
     "name": "stdout",
     "output_type": "stream",
     "text": [
      "Epoch[2] Batch[420] Speed: 1.2529323145208706 samples/sec                   batch loss = 1038.800365447998 | accuracy = 0.6571428571428571\n"
     ]
    },
    {
     "name": "stdout",
     "output_type": "stream",
     "text": [
      "Epoch[2] Batch[425] Speed: 1.25255861498679 samples/sec                   batch loss = 1050.1446108818054 | accuracy = 0.6570588235294118\n"
     ]
    },
    {
     "name": "stdout",
     "output_type": "stream",
     "text": [
      "Epoch[2] Batch[430] Speed: 1.2509980378142973 samples/sec                   batch loss = 1060.0750803947449 | accuracy = 0.6587209302325582\n"
     ]
    },
    {
     "name": "stdout",
     "output_type": "stream",
     "text": [
      "Epoch[2] Batch[435] Speed: 1.2497527641401183 samples/sec                   batch loss = 1070.456092596054 | accuracy = 0.6586206896551724\n"
     ]
    },
    {
     "name": "stdout",
     "output_type": "stream",
     "text": [
      "Epoch[2] Batch[440] Speed: 1.249378167388306 samples/sec                   batch loss = 1086.7314932346344 | accuracy = 0.6573863636363636\n"
     ]
    },
    {
     "name": "stdout",
     "output_type": "stream",
     "text": [
      "Epoch[2] Batch[445] Speed: 1.2564466107307861 samples/sec                   batch loss = 1095.70026409626 | accuracy = 0.6595505617977528\n"
     ]
    },
    {
     "name": "stdout",
     "output_type": "stream",
     "text": [
      "Epoch[2] Batch[450] Speed: 1.2551170403827978 samples/sec                   batch loss = 1106.0991516113281 | accuracy = 0.6611111111111111\n"
     ]
    },
    {
     "name": "stdout",
     "output_type": "stream",
     "text": [
      "Epoch[2] Batch[455] Speed: 1.2507669301093678 samples/sec                   batch loss = 1118.1744108200073 | accuracy = 0.6620879120879121\n"
     ]
    },
    {
     "name": "stdout",
     "output_type": "stream",
     "text": [
      "Epoch[2] Batch[460] Speed: 1.2542485374702395 samples/sec                   batch loss = 1130.848389863968 | accuracy = 0.6619565217391304\n"
     ]
    },
    {
     "name": "stdout",
     "output_type": "stream",
     "text": [
      "Epoch[2] Batch[465] Speed: 1.2593314077427955 samples/sec                   batch loss = 1145.361255645752 | accuracy = 0.6623655913978495\n"
     ]
    },
    {
     "name": "stdout",
     "output_type": "stream",
     "text": [
      "Epoch[2] Batch[470] Speed: 1.250624279122447 samples/sec                   batch loss = 1155.9465370178223 | accuracy = 0.6622340425531915\n"
     ]
    },
    {
     "name": "stdout",
     "output_type": "stream",
     "text": [
      "Epoch[2] Batch[475] Speed: 1.2531568285001107 samples/sec                   batch loss = 1170.3008279800415 | accuracy = 0.6605263157894737\n"
     ]
    },
    {
     "name": "stdout",
     "output_type": "stream",
     "text": [
      "Epoch[2] Batch[480] Speed: 1.2539449015766453 samples/sec                   batch loss = 1181.5333369970322 | accuracy = 0.6604166666666667\n"
     ]
    },
    {
     "name": "stdout",
     "output_type": "stream",
     "text": [
      "Epoch[2] Batch[485] Speed: 1.256457525886721 samples/sec                   batch loss = 1192.7282365560532 | accuracy = 0.6597938144329897\n"
     ]
    },
    {
     "name": "stdout",
     "output_type": "stream",
     "text": [
      "Epoch[2] Batch[490] Speed: 1.25182608161022 samples/sec                   batch loss = 1202.7194110155106 | accuracy = 0.6607142857142857\n"
     ]
    },
    {
     "name": "stdout",
     "output_type": "stream",
     "text": [
      "Epoch[2] Batch[495] Speed: 1.2503862270131672 samples/sec                   batch loss = 1215.798014998436 | accuracy = 0.6601010101010101\n"
     ]
    },
    {
     "name": "stdout",
     "output_type": "stream",
     "text": [
      "Epoch[2] Batch[500] Speed: 1.251889226280187 samples/sec                   batch loss = 1228.101093173027 | accuracy = 0.6605\n"
     ]
    },
    {
     "name": "stdout",
     "output_type": "stream",
     "text": [
      "Epoch[2] Batch[505] Speed: 1.2508032973306127 samples/sec                   batch loss = 1241.5934633016586 | accuracy = 0.6603960396039604\n"
     ]
    },
    {
     "name": "stdout",
     "output_type": "stream",
     "text": [
      "Epoch[2] Batch[510] Speed: 1.2492025332789392 samples/sec                   batch loss = 1252.8903288841248 | accuracy = 0.6617647058823529\n"
     ]
    },
    {
     "name": "stdout",
     "output_type": "stream",
     "text": [
      "Epoch[2] Batch[515] Speed: 1.2524663235573736 samples/sec                   batch loss = 1263.2861189842224 | accuracy = 0.6635922330097087\n"
     ]
    },
    {
     "name": "stdout",
     "output_type": "stream",
     "text": [
      "Epoch[2] Batch[520] Speed: 1.2478317185560979 samples/sec                   batch loss = 1274.907254934311 | accuracy = 0.6634615384615384\n"
     ]
    },
    {
     "name": "stdout",
     "output_type": "stream",
     "text": [
      "Epoch[2] Batch[525] Speed: 1.2568493738195885 samples/sec                   batch loss = 1285.4769524335861 | accuracy = 0.6642857142857143\n"
     ]
    },
    {
     "name": "stdout",
     "output_type": "stream",
     "text": [
      "Epoch[2] Batch[530] Speed: 1.2603386516480686 samples/sec                   batch loss = 1296.779109120369 | accuracy = 0.6650943396226415\n"
     ]
    },
    {
     "name": "stdout",
     "output_type": "stream",
     "text": [
      "Epoch[2] Batch[535] Speed: 1.25433687165369 samples/sec                   batch loss = 1307.822793841362 | accuracy = 0.6649532710280374\n"
     ]
    },
    {
     "name": "stdout",
     "output_type": "stream",
     "text": [
      "Epoch[2] Batch[540] Speed: 1.251776765943515 samples/sec                   batch loss = 1320.0111128091812 | accuracy = 0.6652777777777777\n"
     ]
    },
    {
     "name": "stdout",
     "output_type": "stream",
     "text": [
      "Epoch[2] Batch[545] Speed: 1.2557026631376416 samples/sec                   batch loss = 1330.650690317154 | accuracy = 0.6665137614678899\n"
     ]
    },
    {
     "name": "stdout",
     "output_type": "stream",
     "text": [
      "Epoch[2] Batch[550] Speed: 1.2521205620521227 samples/sec                   batch loss = 1339.2138826847076 | accuracy = 0.6677272727272727\n"
     ]
    },
    {
     "name": "stdout",
     "output_type": "stream",
     "text": [
      "Epoch[2] Batch[555] Speed: 1.248247922044026 samples/sec                   batch loss = 1350.9756244421005 | accuracy = 0.668018018018018\n"
     ]
    },
    {
     "name": "stdout",
     "output_type": "stream",
     "text": [
      "Epoch[2] Batch[560] Speed: 1.2541792479177767 samples/sec                   batch loss = 1362.3171583414078 | accuracy = 0.6683035714285714\n"
     ]
    },
    {
     "name": "stdout",
     "output_type": "stream",
     "text": [
      "Epoch[2] Batch[565] Speed: 1.248443261079038 samples/sec                   batch loss = 1373.9977527856827 | accuracy = 0.668141592920354\n"
     ]
    },
    {
     "name": "stdout",
     "output_type": "stream",
     "text": [
      "Epoch[2] Batch[570] Speed: 1.2532223542050644 samples/sec                   batch loss = 1383.4986643791199 | accuracy = 0.668859649122807\n"
     ]
    },
    {
     "name": "stdout",
     "output_type": "stream",
     "text": [
      "Epoch[2] Batch[575] Speed: 1.2517779801083497 samples/sec                   batch loss = 1393.6866619586945 | accuracy = 0.6691304347826087\n"
     ]
    },
    {
     "name": "stdout",
     "output_type": "stream",
     "text": [
      "Epoch[2] Batch[580] Speed: 1.2538763015422696 samples/sec                   batch loss = 1409.2505791187286 | accuracy = 0.6685344827586207\n"
     ]
    },
    {
     "name": "stdout",
     "output_type": "stream",
     "text": [
      "Epoch[2] Batch[585] Speed: 1.2465903291930949 samples/sec                   batch loss = 1417.246741771698 | accuracy = 0.6705128205128205\n"
     ]
    },
    {
     "name": "stdout",
     "output_type": "stream",
     "text": [
      "Epoch[2] Batch[590] Speed: 1.2507955574627927 samples/sec                   batch loss = 1428.5298682451248 | accuracy = 0.6703389830508475\n"
     ]
    },
    {
     "name": "stdout",
     "output_type": "stream",
     "text": [
      "Epoch[2] Batch[595] Speed: 1.2545865627036565 samples/sec                   batch loss = 1439.6638287305832 | accuracy = 0.6705882352941176\n"
     ]
    },
    {
     "name": "stdout",
     "output_type": "stream",
     "text": [
      "Epoch[2] Batch[600] Speed: 1.257687070015918 samples/sec                   batch loss = 1453.426666021347 | accuracy = 0.6704166666666667\n"
     ]
    },
    {
     "name": "stdout",
     "output_type": "stream",
     "text": [
      "Epoch[2] Batch[605] Speed: 1.2530004369798635 samples/sec                   batch loss = 1464.107307434082 | accuracy = 0.6706611570247933\n"
     ]
    },
    {
     "name": "stdout",
     "output_type": "stream",
     "text": [
      "Epoch[2] Batch[610] Speed: 1.258138556339652 samples/sec                   batch loss = 1475.8137724399567 | accuracy = 0.6704918032786885\n"
     ]
    },
    {
     "name": "stdout",
     "output_type": "stream",
     "text": [
      "Epoch[2] Batch[615] Speed: 1.2567766898305026 samples/sec                   batch loss = 1486.778623700142 | accuracy = 0.6703252032520325\n"
     ]
    },
    {
     "name": "stdout",
     "output_type": "stream",
     "text": [
      "Epoch[2] Batch[620] Speed: 1.2561831989738022 samples/sec                   batch loss = 1499.2615708112717 | accuracy = 0.6697580645161291\n"
     ]
    },
    {
     "name": "stdout",
     "output_type": "stream",
     "text": [
      "Epoch[2] Batch[625] Speed: 1.2607001458386686 samples/sec                   batch loss = 1511.7158974409103 | accuracy = 0.6688\n"
     ]
    },
    {
     "name": "stdout",
     "output_type": "stream",
     "text": [
      "Epoch[2] Batch[630] Speed: 1.2544164018160204 samples/sec                   batch loss = 1524.5119397640228 | accuracy = 0.669047619047619\n"
     ]
    },
    {
     "name": "stdout",
     "output_type": "stream",
     "text": [
      "Epoch[2] Batch[635] Speed: 1.2529603860654555 samples/sec                   batch loss = 1536.73291182518 | accuracy = 0.6681102362204724\n"
     ]
    },
    {
     "name": "stdout",
     "output_type": "stream",
     "text": [
      "Epoch[2] Batch[640] Speed: 1.255981951583818 samples/sec                   batch loss = 1547.6418661475182 | accuracy = 0.668359375\n"
     ]
    },
    {
     "name": "stdout",
     "output_type": "stream",
     "text": [
      "Epoch[2] Batch[645] Speed: 1.2566412300649248 samples/sec                   batch loss = 1558.8444857001305 | accuracy = 0.6693798449612403\n"
     ]
    },
    {
     "name": "stdout",
     "output_type": "stream",
     "text": [
      "Epoch[2] Batch[650] Speed: 1.249526397087629 samples/sec                   batch loss = 1570.1044266819954 | accuracy = 0.6696153846153846\n"
     ]
    },
    {
     "name": "stdout",
     "output_type": "stream",
     "text": [
      "Epoch[2] Batch[655] Speed: 1.2553839504629192 samples/sec                   batch loss = 1582.553154528141 | accuracy = 0.6694656488549618\n"
     ]
    },
    {
     "name": "stdout",
     "output_type": "stream",
     "text": [
      "Epoch[2] Batch[660] Speed: 1.248115408681674 samples/sec                   batch loss = 1595.5457836985588 | accuracy = 0.6681818181818182\n"
     ]
    },
    {
     "name": "stdout",
     "output_type": "stream",
     "text": [
      "Epoch[2] Batch[665] Speed: 1.2515035453713241 samples/sec                   batch loss = 1606.1887227892876 | accuracy = 0.6691729323308271\n"
     ]
    },
    {
     "name": "stdout",
     "output_type": "stream",
     "text": [
      "Epoch[2] Batch[670] Speed: 1.2551586378296367 samples/sec                   batch loss = 1617.0861540436745 | accuracy = 0.6697761194029851\n"
     ]
    },
    {
     "name": "stdout",
     "output_type": "stream",
     "text": [
      "Epoch[2] Batch[675] Speed: 1.2530398353540149 samples/sec                   batch loss = 1627.3260642886162 | accuracy = 0.6696296296296296\n"
     ]
    },
    {
     "name": "stdout",
     "output_type": "stream",
     "text": [
      "Epoch[2] Batch[680] Speed: 1.2491959293579378 samples/sec                   batch loss = 1642.946459710598 | accuracy = 0.6683823529411764\n"
     ]
    },
    {
     "name": "stdout",
     "output_type": "stream",
     "text": [
      "Epoch[2] Batch[685] Speed: 1.2543078006444086 samples/sec                   batch loss = 1655.7476492524147 | accuracy = 0.6686131386861314\n"
     ]
    },
    {
     "name": "stdout",
     "output_type": "stream",
     "text": [
      "Epoch[2] Batch[690] Speed: 1.2538165169235773 samples/sec                   batch loss = 1667.4021018147469 | accuracy = 0.6688405797101449\n"
     ]
    },
    {
     "name": "stdout",
     "output_type": "stream",
     "text": [
      "Epoch[2] Batch[695] Speed: 1.2543383721294492 samples/sec                   batch loss = 1678.1449256539345 | accuracy = 0.6694244604316547\n"
     ]
    },
    {
     "name": "stdout",
     "output_type": "stream",
     "text": [
      "Epoch[2] Batch[700] Speed: 1.2573257938223583 samples/sec                   batch loss = 1686.2732061743736 | accuracy = 0.6710714285714285\n"
     ]
    },
    {
     "name": "stdout",
     "output_type": "stream",
     "text": [
      "Epoch[2] Batch[705] Speed: 1.2592548447699603 samples/sec                   batch loss = 1697.7772473692894 | accuracy = 0.6709219858156028\n"
     ]
    },
    {
     "name": "stdout",
     "output_type": "stream",
     "text": [
      "Epoch[2] Batch[710] Speed: 1.258787634373306 samples/sec                   batch loss = 1711.0012581944466 | accuracy = 0.6700704225352113\n"
     ]
    },
    {
     "name": "stdout",
     "output_type": "stream",
     "text": [
      "Epoch[2] Batch[715] Speed: 1.246995045977008 samples/sec                   batch loss = 1723.6998710036278 | accuracy = 0.6702797202797203\n"
     ]
    },
    {
     "name": "stdout",
     "output_type": "stream",
     "text": [
      "Epoch[2] Batch[720] Speed: 1.2458287699201387 samples/sec                   batch loss = 1734.836462855339 | accuracy = 0.6697916666666667\n"
     ]
    },
    {
     "name": "stdout",
     "output_type": "stream",
     "text": [
      "Epoch[2] Batch[725] Speed: 1.2528758009598262 samples/sec                   batch loss = 1750.2883310317993 | accuracy = 0.6679310344827586\n"
     ]
    },
    {
     "name": "stdout",
     "output_type": "stream",
     "text": [
      "Epoch[2] Batch[730] Speed: 1.2489525631188618 samples/sec                   batch loss = 1764.291642665863 | accuracy = 0.6678082191780822\n"
     ]
    },
    {
     "name": "stdout",
     "output_type": "stream",
     "text": [
      "Epoch[2] Batch[735] Speed: 1.248837933933401 samples/sec                   batch loss = 1779.26113986969 | accuracy = 0.6673469387755102\n"
     ]
    },
    {
     "name": "stdout",
     "output_type": "stream",
     "text": [
      "Epoch[2] Batch[740] Speed: 1.2532304985928697 samples/sec                   batch loss = 1789.9330174922943 | accuracy = 0.6682432432432432\n"
     ]
    },
    {
     "name": "stdout",
     "output_type": "stream",
     "text": [
      "Epoch[2] Batch[745] Speed: 1.2521014053998707 samples/sec                   batch loss = 1800.8147656917572 | accuracy = 0.6691275167785234\n"
     ]
    },
    {
     "name": "stdout",
     "output_type": "stream",
     "text": [
      "Epoch[2] Batch[750] Speed: 1.2491570513512569 samples/sec                   batch loss = 1812.693282008171 | accuracy = 0.6696666666666666\n"
     ]
    },
    {
     "name": "stdout",
     "output_type": "stream",
     "text": [
      "Epoch[2] Batch[755] Speed: 1.249042942566429 samples/sec                   batch loss = 1826.8634316921234 | accuracy = 0.6682119205298013\n"
     ]
    },
    {
     "name": "stdout",
     "output_type": "stream",
     "text": [
      "Epoch[2] Batch[760] Speed: 1.2543993319925433 samples/sec                   batch loss = 1838.1510014533997 | accuracy = 0.6694078947368421\n"
     ]
    },
    {
     "name": "stdout",
     "output_type": "stream",
     "text": [
      "Epoch[2] Batch[765] Speed: 1.2521557931331218 samples/sec                   batch loss = 1848.968049645424 | accuracy = 0.6696078431372549\n"
     ]
    },
    {
     "name": "stdout",
     "output_type": "stream",
     "text": [
      "Epoch[2] Batch[770] Speed: 1.2517381006952404 samples/sec                   batch loss = 1859.1118205785751 | accuracy = 0.6698051948051948\n"
     ]
    },
    {
     "name": "stdout",
     "output_type": "stream",
     "text": [
      "Epoch[2] Batch[775] Speed: 1.2510289145993052 samples/sec                   batch loss = 1871.0143982172012 | accuracy = 0.67\n"
     ]
    },
    {
     "name": "stdout",
     "output_type": "stream",
     "text": [
      "Epoch[2] Batch[780] Speed: 1.2510520498660527 samples/sec                   batch loss = 1881.6508222818375 | accuracy = 0.6708333333333333\n"
     ]
    },
    {
     "name": "stdout",
     "output_type": "stream",
     "text": [
      "Epoch[2] Batch[785] Speed: 1.2501825472530803 samples/sec                   batch loss = 1890.551775932312 | accuracy = 0.6719745222929936\n"
     ]
    },
    {
     "name": "stdout",
     "output_type": "stream",
     "text": [
      "[Epoch 2] training: accuracy=0.6719543147208121\n",
      "[Epoch 2] time cost: 644.6906914710999\n",
      "[Epoch 2] validation: validation accuracy=0.7188888888888889\n"
     ]
    }
   ],
   "source": [
    "# Diff 1: Use two GPUs for training.\n",
    "available_gpus = [npx.gpu(i) for i in range(npx.num_gpus())]\n",
    "num_gpus = 2\n",
    "devices = available_gpus[:num_gpus]\n",
    "print('Using {} GPUs'.format(len(devices)))\n",
    "\n",
    "# Diff 2: reinitialize the parameters and place them on multiple GPUs\n",
    "net.initialize(force_reinit=True, ctx=devices)\n",
    "\n",
    "# Loss and trainer are the same as before\n",
    "loss_fn = gluon.loss.SoftmaxCrossEntropyLoss()\n",
    "optimizer = 'sgd'\n",
    "optimizer_params = {'learning_rate': 0.001}\n",
    "trainer = gluon.Trainer(net.collect_params(), optimizer, optimizer_params)\n",
    "\n",
    "epochs = 2\n",
    "accuracy = gluon.metric.Accuracy()\n",
    "log_interval = 5\n",
    "\n",
    "for epoch in range(epochs):\n",
    "    train_loss = 0.\n",
    "    tic = time.time()\n",
    "    btic = time.time()\n",
    "    accuracy.reset()\n",
    "    for idx, batch in enumerate(train_loader):\n",
    "        data, label = batch[0], batch[1]\n",
    "\n",
    "        # Diff 3: split batch and load into corresponding devices\n",
    "        data_list = gluon.utils.split_and_load(data, devices)\n",
    "        label_list = gluon.utils.split_and_load(label, devices)\n",
    "\n",
    "        # Diff 4: run forward and backward on each devices.\n",
    "        # MXNet will automatically run them in parallel\n",
    "        with autograd.record():\n",
    "            outputs = [net(X)\n",
    "                      for X in data_list]\n",
    "            losses = [loss_fn(output, label)\n",
    "                      for output, label in zip(outputs, label_list)]\n",
    "        for l in losses:\n",
    "            l.backward()\n",
    "        trainer.step(batch_size)\n",
    "\n",
    "        # Diff 5: sum losses over all devices. Here, the float\n",
    "        # function will copy data into CPU.\n",
    "        train_loss += sum([float(l.sum()) for l in losses])\n",
    "        accuracy.update(label_list, outputs)\n",
    "        if log_interval and (idx + 1) % log_interval == 0:\n",
    "            _, acc = accuracy.get()\n",
    "\n",
    "            print(f\"\"\"Epoch[{epoch + 1}] Batch[{idx + 1}] Speed: {batch_size / (time.time() - btic)} samples/sec \\\n",
    "                  batch loss = {train_loss} | accuracy = {acc}\"\"\")\n",
    "            btic = time.time()\n",
    "\n",
    "    _, acc = accuracy.get()\n",
    "\n",
    "    acc_val = test(validation_loader, devices)\n",
    "    print(f\"[Epoch {epoch + 1}] training: accuracy={acc}\")\n",
    "    print(f\"[Epoch {epoch + 1}] time cost: {time.time() - tic}\")\n",
    "    print(f\"[Epoch {epoch + 1}] validation: validation accuracy={acc_val}\")"
   ]
  },
  {
   "cell_type": "markdown",
   "id": "3331bf93",
   "metadata": {},
   "source": [
    "## Next steps\n",
    "\n",
    "Now that you have completed training and predicting with a neural network on GPUs, you reached the conclusion of the crash course. Congratulations.\n",
    "If you are keen on studying more, checkout [D2L.ai](https://d2l.ai),\n",
    "[GluonCV](https://cv.gluon.ai/tutorials/index.html), [GluonNLP](https://nlp.gluon.ai),\n",
    "[GluonTS](https://ts.gluon.ai/), [AutoGluon](https://auto.gluon.ai)."
   ]
  }
 ],
 "metadata": {
  "language_info": {
   "name": "python"
  }
 },
 "nbformat": 4,
 "nbformat_minor": 5
}