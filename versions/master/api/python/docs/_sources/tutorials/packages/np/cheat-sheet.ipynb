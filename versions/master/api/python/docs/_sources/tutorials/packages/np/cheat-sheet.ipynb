{
 "cells": [
  {
   "cell_type": "markdown",
   "id": "70bd6a02",
   "metadata": {},
   "source": [
    "<!--- Licensed to the Apache Software Foundation (ASF) under one -->\n",
    "<!--- or more contributor license agreements.  See the NOTICE file -->\n",
    "<!--- distributed with this work for additional information -->\n",
    "<!--- regarding copyright ownership.  The ASF licenses this file -->\n",
    "<!--- to you under the Apache License, Version 2.0 (the -->\n",
    "<!--- \"License\"); you may not use this file except in compliance -->\n",
    "<!--- with the License.  You may obtain a copy of the License at -->\n",
    "\n",
    "<!---   http://www.apache.org/licenses/LICENSE-2.0 -->\n",
    "\n",
    "<!--- Unless required by applicable law or agreed to in writing, -->\n",
    "<!--- software distributed under the License is distributed on an -->\n",
    "<!--- \"AS IS\" BASIS, WITHOUT WARRANTIES OR CONDITIONS OF ANY -->\n",
    "<!--- KIND, either express or implied.  See the License for the -->\n",
    "<!--- specific language governing permissions and limitations -->\n",
    "<!--- under the License. -->\n",
    "\n",
    "# The NP on MXNet cheat sheet\n",
    "\n",
    "To begin, import the `np` and `npx` module and update MXNet to run in\n",
    "NumPy-like mode."
   ]
  },
  {
   "cell_type": "code",
   "execution_count": null,
   "id": "bfa8fe69",
   "metadata": {},
   "outputs": [],
   "source": [
    "from mxnet import np, npx\n",
    "npx.set_np()  # Change MXNet to the numpy-like mode."
   ]
  },
  {
   "cell_type": "markdown",
   "id": "2f5fab51",
   "metadata": {},
   "source": [
    "NDArray figure (TODO)\n",
    "\n",
    "## Creating arrays"
   ]
  },
  {
   "cell_type": "code",
   "execution_count": null,
   "id": "17ce7e66",
   "metadata": {},
   "outputs": [],
   "source": [
    "np.array([1, 2, 3])  # default datatype is float32"
   ]
  },
  {
   "cell_type": "code",
   "execution_count": null,
   "id": "8a1497d5",
   "metadata": {},
   "outputs": [],
   "source": [
    "np.array([(1.5, 2, 3), (4, 5, 6)], dtype='float16')"
   ]
  },
  {
   "cell_type": "code",
   "execution_count": null,
   "id": "1e47f30f",
   "metadata": {},
   "outputs": [],
   "source": [
    "np.array([[(15,2,3), (4,5,6)], [(3,2,1), (4,5,6)]], dtype='int32')"
   ]
  },
  {
   "cell_type": "markdown",
   "id": "56ad9843",
   "metadata": {},
   "source": [
    "### Initial placeholders"
   ]
  },
  {
   "cell_type": "code",
   "execution_count": null,
   "id": "7a55dab1",
   "metadata": {},
   "outputs": [],
   "source": [
    "np.zeros((3, 4))  # Create an array of zeros"
   ]
  },
  {
   "cell_type": "code",
   "execution_count": null,
   "id": "330050eb",
   "metadata": {},
   "outputs": [],
   "source": [
    "np.ones((2, 3, 4), dtype='int8')  # Create an array of ones"
   ]
  },
  {
   "cell_type": "code",
   "execution_count": null,
   "id": "4666b03c",
   "metadata": {},
   "outputs": [],
   "source": [
    "np.arange(10, 25, 5)  # Create an array of evenly spaced values (step value)"
   ]
  },
  {
   "cell_type": "code",
   "execution_count": null,
   "id": "d43071eb",
   "metadata": {},
   "outputs": [],
   "source": [
    "# Create an array of evenly spaced values (number of samples)\n",
    "# np.linspace(0, 2, 9)"
   ]
  },
  {
   "cell_type": "code",
   "execution_count": null,
   "id": "0c17bb53",
   "metadata": {},
   "outputs": [],
   "source": [
    "# np.full((2, 2), 7)  # Create a constant array"
   ]
  },
  {
   "cell_type": "code",
   "execution_count": null,
   "id": "b90d6d55",
   "metadata": {},
   "outputs": [],
   "source": [
    "# np.eye(2)  # Create a 2X2 identity matrix"
   ]
  },
  {
   "cell_type": "code",
   "execution_count": null,
   "id": "6591e2d1",
   "metadata": {},
   "outputs": [],
   "source": [
    "# np.random.random((2, 2))  # Create an array with random values"
   ]
  },
  {
   "cell_type": "code",
   "execution_count": null,
   "id": "5999ab34",
   "metadata": {},
   "outputs": [],
   "source": [
    "np.empty((3,2))  # Create an empty array"
   ]
  },
  {
   "cell_type": "markdown",
   "id": "80b79102",
   "metadata": {},
   "source": [
    "## I/O\n",
    "\n",
    "### Saving and loading on disk"
   ]
  },
  {
   "cell_type": "code",
   "execution_count": null,
   "id": "3ea2943b",
   "metadata": {},
   "outputs": [],
   "source": [
    "# Save one array\n",
    "a = np.array([1, 2, 3])\n",
    "npx.save('my_array', a)\n",
    "npx.load('my_array')"
   ]
  },
  {
   "cell_type": "code",
   "execution_count": null,
   "id": "ee956c6d",
   "metadata": {},
   "outputs": [],
   "source": [
    "# Save a list of arrays\n",
    "b = np.array([4, 6, 8])\n",
    "npx.save('my_arrays', [a, b])  # FIXME, cannot be a tuple\n",
    "npx.load('my_arrays')"
   ]
  },
  {
   "cell_type": "markdown",
   "id": "e0e27b87",
   "metadata": {},
   "source": [
    "### Saving and loading text files"
   ]
  },
  {
   "cell_type": "code",
   "execution_count": null,
   "id": "9e448390",
   "metadata": {},
   "outputs": [],
   "source": [
    "# np.loadtxt(\"myfile.txt\")\n",
    "# np.genfromtxt(\"my_file.csv\", delimiter=',')\n",
    "# np.savetxt(\"myarray.txt\", a, delimiter=\" \")"
   ]
  },
  {
   "cell_type": "markdown",
   "id": "b2bcc5c1",
   "metadata": {},
   "source": [
    "## Data types"
   ]
  },
  {
   "cell_type": "code",
   "execution_count": null,
   "id": "399bc8fd",
   "metadata": {},
   "outputs": [],
   "source": [
    "# np.int64    # Signed 64-bit integer types\n",
    "# np.float32  # Standard double-precision floating point\n",
    "# np.complex  # Complex numbers represented by 128 floats\n",
    "# np.bool     # Boolean type storing TRUE and FALSE values\n",
    "# np.object   # Python object type\n",
    "# np.string_  # Fixed-length string type\n",
    "# np.unicode_ # Fixed-length unicode type"
   ]
  },
  {
   "cell_type": "markdown",
   "id": "3384cf9d",
   "metadata": {},
   "source": [
    "## Inspecting your array"
   ]
  },
  {
   "cell_type": "code",
   "execution_count": null,
   "id": "569a0b2b",
   "metadata": {},
   "outputs": [],
   "source": [
    "a.shape # Array dimensions"
   ]
  },
  {
   "cell_type": "code",
   "execution_count": null,
   "id": "b044bec5",
   "metadata": {},
   "outputs": [],
   "source": [
    "len(a) # Length of array"
   ]
  },
  {
   "cell_type": "code",
   "execution_count": null,
   "id": "d8d01def",
   "metadata": {},
   "outputs": [],
   "source": [
    "b.ndim # Number of array dimensions"
   ]
  },
  {
   "cell_type": "code",
   "execution_count": null,
   "id": "2d0cd506",
   "metadata": {},
   "outputs": [],
   "source": [
    "b.size # Number of array elements"
   ]
  },
  {
   "cell_type": "code",
   "execution_count": null,
   "id": "e11a3d84",
   "metadata": {},
   "outputs": [],
   "source": [
    "b.dtype # Data type of array elements"
   ]
  },
  {
   "cell_type": "code",
   "execution_count": null,
   "id": "23031ff5",
   "metadata": {},
   "outputs": [],
   "source": [
    "# b.dtype.name # Name of data type"
   ]
  },
  {
   "cell_type": "code",
   "execution_count": null,
   "id": "91846fd6",
   "metadata": {},
   "outputs": [],
   "source": [
    "b.astype('int') # Convert an array to a different type"
   ]
  },
  {
   "cell_type": "markdown",
   "id": "b7df2196",
   "metadata": {},
   "source": [
    "## Asking For Help"
   ]
  },
  {
   "cell_type": "code",
   "execution_count": null,
   "id": "2cb986ee",
   "metadata": {},
   "outputs": [],
   "source": [
    "# np.info(np.ndarray.dtype)"
   ]
  },
  {
   "cell_type": "markdown",
   "id": "cb3319e3",
   "metadata": {},
   "source": [
    "## Array mathematics\n",
    "\n",
    "### Arithmetic operations"
   ]
  },
  {
   "cell_type": "code",
   "execution_count": null,
   "id": "dacb847b",
   "metadata": {},
   "outputs": [],
   "source": [
    "a - b # Subtraction"
   ]
  },
  {
   "cell_type": "code",
   "execution_count": null,
   "id": "04cfd8ad",
   "metadata": {},
   "outputs": [],
   "source": [
    "np.subtract(a, b) # Subtraction"
   ]
  },
  {
   "cell_type": "code",
   "execution_count": null,
   "id": "a9dcf8bc",
   "metadata": {},
   "outputs": [],
   "source": [
    "b + a # Addition"
   ]
  },
  {
   "cell_type": "code",
   "execution_count": null,
   "id": "cecbe3d3",
   "metadata": {},
   "outputs": [],
   "source": [
    "np.add(b, a) # Addition"
   ]
  },
  {
   "cell_type": "code",
   "execution_count": null,
   "id": "b56835ae",
   "metadata": {},
   "outputs": [],
   "source": [
    "a / b # Division"
   ]
  },
  {
   "cell_type": "code",
   "execution_count": null,
   "id": "bb2a68a5",
   "metadata": {},
   "outputs": [],
   "source": [
    "np.divide(a,b) # Division"
   ]
  },
  {
   "cell_type": "code",
   "execution_count": null,
   "id": "9e5ba41a",
   "metadata": {},
   "outputs": [],
   "source": [
    "a * b # Multiplication"
   ]
  },
  {
   "cell_type": "code",
   "execution_count": null,
   "id": "e792b501",
   "metadata": {},
   "outputs": [],
   "source": [
    "np.multiply(a, b) # Multiplication"
   ]
  },
  {
   "cell_type": "code",
   "execution_count": null,
   "id": "35caf5dc",
   "metadata": {},
   "outputs": [],
   "source": [
    "np.exp(b) # Exponentiation"
   ]
  },
  {
   "cell_type": "code",
   "execution_count": null,
   "id": "72e63247",
   "metadata": {},
   "outputs": [],
   "source": [
    "np.sqrt(b) # Square root"
   ]
  },
  {
   "cell_type": "code",
   "execution_count": null,
   "id": "3a1e63ad",
   "metadata": {},
   "outputs": [],
   "source": [
    "np.sin(a) # Sines of an array"
   ]
  },
  {
   "cell_type": "code",
   "execution_count": null,
   "id": "27337e18",
   "metadata": {},
   "outputs": [],
   "source": [
    "np.cos(b) # Element-wise cosine"
   ]
  },
  {
   "cell_type": "code",
   "execution_count": null,
   "id": "2ff322c1",
   "metadata": {},
   "outputs": [],
   "source": [
    "np.log(a) # Element-wise natural logarithm"
   ]
  },
  {
   "cell_type": "code",
   "execution_count": null,
   "id": "c795b164",
   "metadata": {},
   "outputs": [],
   "source": [
    "a.dot(b) # Dot product"
   ]
  },
  {
   "cell_type": "markdown",
   "id": "4b3ea15d",
   "metadata": {},
   "source": [
    "### Comparison\n",
    "\n",
    "### Aggregate functions"
   ]
  },
  {
   "cell_type": "code",
   "execution_count": null,
   "id": "a8e553af",
   "metadata": {},
   "outputs": [],
   "source": [
    "a.sum() # Array-wise sum"
   ]
  },
  {
   "cell_type": "code",
   "execution_count": null,
   "id": "fdacdfbb",
   "metadata": {},
   "outputs": [],
   "source": [
    "# a.min() # Array-wise minimum value"
   ]
  },
  {
   "cell_type": "code",
   "execution_count": null,
   "id": "025ec8a0",
   "metadata": {},
   "outputs": [],
   "source": [
    "c = np.array(([[1,2,3], [2,3,4]]))\n",
    "# c.max(axis=0) # Maximum value of an array row"
   ]
  },
  {
   "cell_type": "code",
   "execution_count": null,
   "id": "fd776d2f",
   "metadata": {},
   "outputs": [],
   "source": [
    "# c.cumsum(axis=1) # Cumulative sum of the elements"
   ]
  },
  {
   "cell_type": "code",
   "execution_count": null,
   "id": "42096668",
   "metadata": {},
   "outputs": [],
   "source": [
    "a.mean() # Mean"
   ]
  },
  {
   "cell_type": "code",
   "execution_count": null,
   "id": "d6f8accd",
   "metadata": {},
   "outputs": [],
   "source": [
    "# b.median() # Median"
   ]
  },
  {
   "cell_type": "code",
   "execution_count": null,
   "id": "9ed2d718",
   "metadata": {},
   "outputs": [],
   "source": [
    "# a.corrcoef() # Correlation coefficient"
   ]
  },
  {
   "cell_type": "code",
   "execution_count": null,
   "id": "44e46c29",
   "metadata": {},
   "outputs": [],
   "source": [
    "# np.std(b) # Standard deviation"
   ]
  },
  {
   "cell_type": "markdown",
   "id": "54cc9a93",
   "metadata": {},
   "source": [
    "## Copying arrays"
   ]
  },
  {
   "cell_type": "code",
   "execution_count": null,
   "id": "d7e2523a",
   "metadata": {},
   "outputs": [],
   "source": [
    "# a.view() # Create a view of the array with the same data"
   ]
  },
  {
   "cell_type": "code",
   "execution_count": null,
   "id": "53c898d2",
   "metadata": {},
   "outputs": [],
   "source": [
    "np.copy(a) # Create a copy of the array"
   ]
  },
  {
   "cell_type": "code",
   "execution_count": null,
   "id": "3e90b605",
   "metadata": {},
   "outputs": [],
   "source": [
    "a.copy() # Create a deep copy of the array"
   ]
  },
  {
   "cell_type": "markdown",
   "id": "1dd82e81",
   "metadata": {},
   "source": [
    "## Sorting Arrays"
   ]
  },
  {
   "cell_type": "code",
   "execution_count": null,
   "id": "475275f8",
   "metadata": {},
   "outputs": [],
   "source": [
    "# a.sort() # Sort an array"
   ]
  },
  {
   "cell_type": "code",
   "execution_count": null,
   "id": "02901c53",
   "metadata": {},
   "outputs": [],
   "source": [
    "# c.sort(axis=0) # Sort the elements of an array's axis"
   ]
  },
  {
   "cell_type": "markdown",
   "id": "090ec2b2",
   "metadata": {},
   "source": [
    "## Subsetting, slicing, indexing\n",
    "\n",
    "### Subsetting"
   ]
  },
  {
   "cell_type": "code",
   "execution_count": null,
   "id": "8abd6997",
   "metadata": {},
   "outputs": [],
   "source": [
    "a[2] # Select the element at the 2nd index 3"
   ]
  },
  {
   "cell_type": "code",
   "execution_count": null,
   "id": "0039c803",
   "metadata": {},
   "outputs": [],
   "source": [
    "c[0,1] # Select the element at row 1 column 2"
   ]
  },
  {
   "cell_type": "markdown",
   "id": "ec3da5e9",
   "metadata": {},
   "source": [
    "### Slicing"
   ]
  },
  {
   "cell_type": "code",
   "execution_count": null,
   "id": "2fd67a96",
   "metadata": {},
   "outputs": [],
   "source": [
    "a[0:2] # Select items at index 0 and 1"
   ]
  },
  {
   "cell_type": "code",
   "execution_count": null,
   "id": "523cb4d1",
   "metadata": {},
   "outputs": [],
   "source": [
    "c[0:2,1] # Select items at rows 0 and 1 in column 1"
   ]
  },
  {
   "cell_type": "code",
   "execution_count": null,
   "id": "7615a4e3",
   "metadata": {},
   "outputs": [],
   "source": [
    "c[:1] # Select all items at row 0"
   ]
  },
  {
   "cell_type": "code",
   "execution_count": null,
   "id": "6279d02c",
   "metadata": {},
   "outputs": [],
   "source": [
    "# c[1,...] # Same as [1,:,:]"
   ]
  },
  {
   "cell_type": "code",
   "execution_count": null,
   "id": "6ce07960",
   "metadata": {},
   "outputs": [],
   "source": [
    "a[ : :-1] #Reversed array a array([3, 2, 1])"
   ]
  },
  {
   "cell_type": "markdown",
   "id": "9f3b6337",
   "metadata": {},
   "source": [
    "### Boolean Indexing"
   ]
  },
  {
   "cell_type": "code",
   "execution_count": null,
   "id": "6129d180",
   "metadata": {},
   "outputs": [],
   "source": [
    "# a[a<2] # Select elements from a less than 2"
   ]
  },
  {
   "cell_type": "markdown",
   "id": "841b5048",
   "metadata": {},
   "source": [
    "### Fancy indexing"
   ]
  },
  {
   "cell_type": "code",
   "execution_count": null,
   "id": "544f6245",
   "metadata": {},
   "outputs": [],
   "source": [
    "c[[1,0,1,0], [0,1,2,0]] # Select elements (1,0),(0,1),(1,2) and (0,0)"
   ]
  },
  {
   "cell_type": "code",
   "execution_count": null,
   "id": "db39c89e",
   "metadata": {},
   "outputs": [],
   "source": [
    "c[[1,0,1,0]][:,[0,1,2,0]] # Select a subset of the matrix’s rows"
   ]
  },
  {
   "cell_type": "markdown",
   "id": "0014e995",
   "metadata": {},
   "source": [
    "## Array manipulation\n",
    "\n",
    "### Transposing array"
   ]
  },
  {
   "cell_type": "code",
   "execution_count": null,
   "id": "e8ba1864",
   "metadata": {},
   "outputs": [],
   "source": [
    "np.transpose(c) # Permute array dimensions"
   ]
  },
  {
   "cell_type": "code",
   "execution_count": null,
   "id": "b8376be1",
   "metadata": {},
   "outputs": [],
   "source": [
    "c.T # Permute array dimensions"
   ]
  },
  {
   "cell_type": "markdown",
   "id": "f27cca5e",
   "metadata": {},
   "source": [
    "### Changing array shape"
   ]
  },
  {
   "cell_type": "code",
   "execution_count": null,
   "id": "a9f6f48a",
   "metadata": {},
   "outputs": [],
   "source": [
    "# b.ravel() # Flatten the array"
   ]
  },
  {
   "cell_type": "code",
   "execution_count": null,
   "id": "7ad86361",
   "metadata": {},
   "outputs": [],
   "source": [
    "# c.reshape(3,-2) # Reshape, but don’t change data"
   ]
  },
  {
   "cell_type": "markdown",
   "id": "4c60d0ee",
   "metadata": {},
   "source": [
    "### Adding and removing elements"
   ]
  },
  {
   "cell_type": "code",
   "execution_count": null,
   "id": "66b64c1e",
   "metadata": {},
   "outputs": [],
   "source": [
    "# c.resize((6,2)) # Return a new array with shape (6, 2)"
   ]
  },
  {
   "cell_type": "code",
   "execution_count": null,
   "id": "65b6a0f8",
   "metadata": {},
   "outputs": [],
   "source": [
    "# np.append(h,g) # Append items to an array"
   ]
  },
  {
   "cell_type": "code",
   "execution_count": null,
   "id": "c7485823",
   "metadata": {},
   "outputs": [],
   "source": [
    "# np.insert(a, 1, 5) # Insert items in an array"
   ]
  },
  {
   "cell_type": "code",
   "execution_count": null,
   "id": "be433b40",
   "metadata": {},
   "outputs": [],
   "source": [
    "# np.delete(a, [1]) # Delete items from an array"
   ]
  },
  {
   "cell_type": "markdown",
   "id": "af6a7b67",
   "metadata": {},
   "source": [
    "### Combining arrays"
   ]
  },
  {
   "cell_type": "code",
   "execution_count": null,
   "id": "7ebd2d6f",
   "metadata": {},
   "outputs": [],
   "source": [
    "np.concatenate((a,b),axis=0) # Concatenate arrays"
   ]
  },
  {
   "cell_type": "code",
   "execution_count": null,
   "id": "d543685d",
   "metadata": {},
   "outputs": [],
   "source": [
    "# np.vstack((a,b)) # Stack arrays vertically (row-wise)"
   ]
  },
  {
   "cell_type": "code",
   "execution_count": null,
   "id": "af435e3b",
   "metadata": {},
   "outputs": [],
   "source": [
    "# np.r_[e,f] # Stack arrays vertically (row-wise)"
   ]
  },
  {
   "cell_type": "code",
   "execution_count": null,
   "id": "ea10a192",
   "metadata": {},
   "outputs": [],
   "source": [
    "# np.hstack((e,f)) # Stack arrays horizontally (column-wise)"
   ]
  },
  {
   "cell_type": "code",
   "execution_count": null,
   "id": "d3dee28a",
   "metadata": {},
   "outputs": [],
   "source": [
    "# np.column_stack((a,d)) # Create stacked column-wise arrays"
   ]
  },
  {
   "cell_type": "code",
   "execution_count": null,
   "id": "658fe961",
   "metadata": {},
   "outputs": [],
   "source": [
    "# np.c_[a,d] # Create stacked column-wise arrays"
   ]
  },
  {
   "cell_type": "markdown",
   "id": "c573b69f",
   "metadata": {},
   "source": [
    "### Splitting arrays"
   ]
  },
  {
   "cell_type": "code",
   "execution_count": null,
   "id": "21cb3cdd",
   "metadata": {},
   "outputs": [],
   "source": [
    "# np.hsplit(a,3) # Split the array horizontally at the 3rd index"
   ]
  },
  {
   "cell_type": "code",
   "execution_count": null,
   "id": "7f472891",
   "metadata": {},
   "outputs": [],
   "source": [
    "# np.vsplit(c,2) # Split the array vertically at the 2nd index"
   ]
  },
  {
   "cell_type": "markdown",
   "id": "5312826b",
   "metadata": {},
   "source": [
    "## Use GPUs\n",
    "\n",
    "Prerequisites: A GPU exists and GPU-enabled MXNet is installed."
   ]
  },
  {
   "cell_type": "code",
   "execution_count": null,
   "id": "0603092e",
   "metadata": {},
   "outputs": [],
   "source": [
    "npx.num_gpus()  # Query number of GPUs"
   ]
  },
  {
   "cell_type": "code",
   "execution_count": null,
   "id": "ac5e6356",
   "metadata": {},
   "outputs": [],
   "source": [
    "npx.gpu(0), npx.gpu(1)  # Context for the first and second GPUs"
   ]
  },
  {
   "cell_type": "code",
   "execution_count": null,
   "id": "928ac7bb",
   "metadata": {},
   "outputs": [],
   "source": [
    "gpu_0 = npx.gpu(0) if npx.num_gpus() > 1 else npx.cpu()\n",
    "g0 = np.zeros((2,3), ctx=gpu_0)  # Create array on GPU 0\n",
    "g0"
   ]
  },
  {
   "cell_type": "code",
   "execution_count": null,
   "id": "2a8c77b8",
   "metadata": {},
   "outputs": [],
   "source": [
    "gpu_1 = npx.gpu(1) if npx.num_gpus() > 2 else npx.cpu()\n",
    "g1 = np.random.uniform(size=(2,3), ctx=gpu_1)  # Create array on GPU 1\n",
    "g1"
   ]
  },
  {
   "cell_type": "code",
   "execution_count": null,
   "id": "3e75ef40",
   "metadata": {},
   "outputs": [],
   "source": [
    "# Copy to another GPU\n",
    "g1.copyto(gpu_0)"
   ]
  },
  {
   "cell_type": "code",
   "execution_count": null,
   "id": "a62fbadb",
   "metadata": {},
   "outputs": [],
   "source": [
    "# Return itself if matching the context, otherwise copy\n",
    "g1.copyto(gpu_0), g1.copyto(gpu_0)"
   ]
  },
  {
   "cell_type": "code",
   "execution_count": null,
   "id": "829f15a6",
   "metadata": {},
   "outputs": [],
   "source": [
    "g1.context  # Query the device an array is on"
   ]
  },
  {
   "cell_type": "code",
   "execution_count": null,
   "id": "9a18cbb3",
   "metadata": {},
   "outputs": [],
   "source": [
    "## The computation is performed by the devices on which the input arrays are\n",
    "g0 + g1.copyto(gpu_0)"
   ]
  },
  {
   "cell_type": "markdown",
   "id": "0338fd59",
   "metadata": {},
   "source": [
    "## Auto differentiation"
   ]
  },
  {
   "cell_type": "code",
   "execution_count": null,
   "id": "1f9d1273",
   "metadata": {},
   "outputs": [],
   "source": [
    "a.attach_grad() # Allocate gradient for a variable\n",
    "a.grad # access the gradient"
   ]
  },
  {
   "cell_type": "markdown",
   "id": "536806d7",
   "metadata": {},
   "source": [
    "Compute the $\\nabla_a b=\\exp(2a)^T a$"
   ]
  },
  {
   "cell_type": "code",
   "execution_count": null,
   "id": "4aee340e",
   "metadata": {},
   "outputs": [],
   "source": [
    "from mxnet import autograd\n",
    "\n",
    "with autograd.record():\n",
    "    b = np.exp(2*a).dot(a)\n",
    "b.backward()\n",
    "a.grad"
   ]
  },
  {
   "cell_type": "markdown",
   "id": "19f99e4d",
   "metadata": {},
   "source": [
    "**Acknowledgement**\n",
    "\n",
    "Adapted from www.datacamp.com."
   ]
  }
 ],
 "metadata": {
  "language_info": {
   "name": "python"
  }
 },
 "nbformat": 4,
 "nbformat_minor": 5
}