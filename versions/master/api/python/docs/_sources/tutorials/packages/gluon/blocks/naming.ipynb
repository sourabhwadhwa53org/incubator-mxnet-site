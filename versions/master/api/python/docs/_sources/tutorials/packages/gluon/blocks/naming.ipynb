{
 "cells": [
  {
   "cell_type": "markdown",
   "id": "romantic-personal",
   "metadata": {},
   "source": [
    "<!--- Licensed to the Apache Software Foundation (ASF) under one -->\n",
    "<!--- or more contributor license agreements.  See the NOTICE file -->\n",
    "<!--- distributed with this work for additional information -->\n",
    "<!--- regarding copyright ownership.  The ASF licenses this file -->\n",
    "<!--- to you under the Apache License, Version 2.0 (the -->\n",
    "<!--- \"License\"); you may not use this file except in compliance -->\n",
    "<!--- with the License.  You may obtain a copy of the License at -->\n",
    "\n",
    "<!---   http://www.apache.org/licenses/LICENSE-2.0 -->\n",
    "\n",
    "<!--- Unless required by applicable law or agreed to in writing, -->\n",
    "<!--- software distributed under the License is distributed on an -->\n",
    "<!--- \"AS IS\" BASIS, WITHOUT WARRANTIES OR CONDITIONS OF ANY -->\n",
    "<!--- KIND, either express or implied.  See the License for the -->\n",
    "<!--- specific language governing permissions and limitations -->\n",
    "<!--- under the License. -->\n",
    "\n",
    "# Parameter and Block Naming\n",
    "\n",
    "In gluon, each Parameter or Block has a name. Parameter names and Block names can be automatically created.\n",
    "\n",
    "In this tutorial we talk about the best practices on naming. First, let's import MXNet and Gluon:"
   ]
  },
  {
   "cell_type": "code",
   "execution_count": null,
   "id": "phantom-contrast",
   "metadata": {},
   "outputs": [],
   "source": [
    "from __future__ import print_function\n",
    "import mxnet as mx\n",
    "from mxnet import gluon"
   ]
  },
  {
   "cell_type": "markdown",
   "id": "severe-butterfly",
   "metadata": {},
   "source": [
    "## Naming Blocks\n",
    "\n",
    "When creating a block, you can simply do as follows:"
   ]
  },
  {
   "cell_type": "code",
   "execution_count": null,
   "id": "funky-recall",
   "metadata": {},
   "outputs": [],
   "source": [
    "mydense = gluon.nn.Dense(100)\n",
    "print(mydense.name)"
   ]
  },
  {
   "cell_type": "markdown",
   "id": "affected-uniform",
   "metadata": {},
   "source": [
    "When you create more Blocks of the same kind, they will be named with incrementing suffixes to avoid collision:"
   ]
  },
  {
   "cell_type": "code",
   "execution_count": null,
   "id": "bigger-procedure",
   "metadata": {},
   "outputs": [],
   "source": [
    "dense1 = gluon.nn.Dense(100)\n",
    "print(dense1.name)"
   ]
  },
  {
   "cell_type": "markdown",
   "id": "medical-transcription",
   "metadata": {},
   "source": [
    "## Naming Parameters\n",
    "\n",
    "Parameters will be named automatically by a unique name in the format of `param_{uuid4}_{name}`:"
   ]
  },
  {
   "cell_type": "code",
   "execution_count": null,
   "id": "fossil-formula",
   "metadata": {},
   "outputs": [],
   "source": [
    "param = gluon.Parameter(name = 'bias')\n",
    "print(param.name)"
   ]
  },
  {
   "cell_type": "markdown",
   "id": "blond-korea",
   "metadata": {},
   "source": [
    "`param.name` is used as the name of a parameter's symbol representation. And it can not be changed once the parameter is created.\n",
    "\n",
    "When getting parameters within a Block, you should use the structure based name as the key:"
   ]
  },
  {
   "cell_type": "code",
   "execution_count": null,
   "id": "actual-corporation",
   "metadata": {},
   "outputs": [],
   "source": [
    "print(dense0.collect_params())"
   ]
  },
  {
   "cell_type": "markdown",
   "id": "unlike-chest",
   "metadata": {},
   "source": [
    "## Nested Blocks\n",
    "\n",
    "In MXNet 2, we don't have to define children blocks within a `name_scope` any more. Let's demonstrate this by defining and initiating a simple neural net:"
   ]
  },
  {
   "cell_type": "code",
   "execution_count": null,
   "id": "severe-round",
   "metadata": {},
   "outputs": [],
   "source": [
    "class Model(gluon.HybridBlock):\n",
    "    def __init__(self):\n",
    "        super(Model, self).__init__()\n",
    "        self.dense0 = gluon.nn.Dense(20)\n",
    "        self.dense1 = gluon.nn.Dense(20)\n",
    "        self.mydense = gluon.nn.Dense(20)\n",
    "\n",
    "    def forward(self, x):\n",
    "        x = mx.nd.relu(self.dense0(x))\n",
    "        x = mx.nd.relu(self.dense1(x))\n",
    "        return mx.nd.relu(self.mydense(x))\n",
    "\n",
    "model0 = Model()\n",
    "model0.initialize()\n",
    "model0.hybridize()\n",
    "model0(mx.nd.zeros((1, 20)))"
   ]
  },
  {
   "cell_type": "markdown",
   "id": "theoretical-clearing",
   "metadata": {},
   "source": [
    "The same principle also applies to container blocks like Sequential. We can simply do as follows:"
   ]
  },
  {
   "cell_type": "code",
   "execution_count": null,
   "id": "received-packaging",
   "metadata": {},
   "outputs": [],
   "source": [
    "net = gluon.nn.Sequential()\n",
    "net.add(gluon.nn.Dense(20))\n",
    "net.add(gluon.nn.Dense(20))"
   ]
  },
  {
   "cell_type": "markdown",
   "id": "aquatic-contract",
   "metadata": {},
   "source": [
    "## Saving and loading\n",
    "\n",
    "\n",
    "For `HybridBlock`, we use `save_parameters`/`load_parameters`, which uses model structure, instead of parameter name, to match parameters."
   ]
  },
  {
   "cell_type": "code",
   "execution_count": null,
   "id": "atmospheric-position",
   "metadata": {},
   "outputs": [],
   "source": [
    "model0.save_parameters('model.params')\n",
    "model1.load_parameters('model.params')\n",
    "print(mx.nd.load('model.params').keys())"
   ]
  },
  {
   "cell_type": "markdown",
   "id": "collect-specification",
   "metadata": {},
   "source": [
    "For `SymbolBlock.imports`, we use `export`, which uses parameter name `param.name`, to save parameters."
   ]
  },
  {
   "cell_type": "code",
   "execution_count": null,
   "id": "sixth-grace",
   "metadata": {},
   "outputs": [],
   "source": [
    "model0.export('model0')\n",
    "model2 = gluon.SymbolBlock.imports('model0-symbol.json', ['data'], 'model0-0000.params')"
   ]
  },
  {
   "cell_type": "markdown",
   "id": "union-honolulu",
   "metadata": {},
   "source": [
    "## Replacing Blocks from networks and fine-tuning\n",
    "\n",
    "Sometimes you may want to load a pretrained model, and replace certain Blocks in it for fine-tuning.\n",
    "\n",
    "For example, the alexnet in model zoo has 1000 output dimensions, but maybe you only have 100 classes in your application.\n",
    "\n",
    "To see how to do this, we first load a pretrained AlexNet.\n",
    "\n",
    "- In Gluon model zoo, all image classification models follow the format where the feature extraction layers are named `features` while the output layer is named `output`.\n",
    "- Note that the output layer is a dense block with 1000 dimension outputs."
   ]
  },
  {
   "cell_type": "code",
   "execution_count": null,
   "id": "nuclear-excess",
   "metadata": {},
   "outputs": [],
   "source": [
    "alexnet = gluon.model_zoo.vision.alexnet(pretrained=True)\n",
    "print(alexnet.output)"
   ]
  },
  {
   "cell_type": "markdown",
   "id": "reflected-wayne",
   "metadata": {},
   "source": [
    "To change the output to 100 dimension, we replace it with a new block."
   ]
  },
  {
   "cell_type": "code",
   "execution_count": null,
   "id": "imported-anthropology",
   "metadata": {},
   "outputs": [],
   "source": [
    "alexnet.output = gluon.nn.Dense(100)\n",
    "alexnet.output.initialize()"
   ]
  }
 ],
 "metadata": {
  "language_info": {
   "name": "python"
  }
 },
 "nbformat": 4,
 "nbformat_minor": 5
}