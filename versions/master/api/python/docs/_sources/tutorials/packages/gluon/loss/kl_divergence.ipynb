{
 "cells": [
  {
   "cell_type": "markdown",
   "id": "6d97644a",
   "metadata": {},
   "source": [
    "<!--- Licensed to the Apache Software Foundation (ASF) under one -->\n",
    "<!--- or more contributor license agreements.  See the NOTICE file -->\n",
    "<!--- distributed with this work for additional information -->\n",
    "<!--- regarding copyright ownership.  The ASF licenses this file -->\n",
    "<!--- to you under the Apache License, Version 2.0 (the -->\n",
    "<!--- \"License\"); you may not use this file except in compliance -->\n",
    "<!--- with the License.  You may obtain a copy of the License at -->\n",
    "\n",
    "<!---   http://www.apache.org/licenses/LICENSE-2.0 -->\n",
    "\n",
    "<!--- Unless required by applicable law or agreed to in writing, -->\n",
    "<!--- software distributed under the License is distributed on an -->\n",
    "<!--- \"AS IS\" BASIS, WITHOUT WARRANTIES OR CONDITIONS OF ANY -->\n",
    "<!--- KIND, either express or implied.  See the License for the -->\n",
    "<!--- specific language governing permissions and limitations -->\n",
    "<!--- under the License. -->\n",
    "\n",
    "# Kullback-Leibler (KL) Divergence\n",
    "\n",
    "Kullback-Leibler (KL) Divergence is a measure of how one probability distribution is different from a second, reference probability distribution. Smaller KL Divergence values indicate more similar distributions and, since this loss function is differentiable, we can use gradient descent to minimize the KL divergence between network outputs and some target distribution. As an example, this can be used in Variational Autoencoders (VAEs), and reinforcement learning policy networks such as [Trust Region Policy Optimization (TRPO)](https://arxiv.org/abs/1502.05477).\n",
    "\n",
    "In MXNet Gluon, we can use [KLDivLoss](../../../../api/gluon/loss/index.rst#mxnet.gluon.loss.KLDivLoss) to compare categorical distributions. One important thing to note is that the KL Divergence is an asymmetric measure (i.e. `KL(P,Q) != KL(Q,P)`): order matters and we should compare our predicted distribution with our target distribution in that order. Another thing to note is that there are two ways to use [KLDivLoss](../../../../api/gluon/loss/index.rst#mxnet.gluon.loss.KLDivLoss) that depend on how we set `from_logits` (which has a default value of true). \n",
    "\n",
    "As an example, let's compare a few categorical distributions (`dist_1`, `dist_2` and `dist_3`), each with 4 categories."
   ]
  },
  {
   "cell_type": "code",
   "execution_count": 1,
   "id": "07156bc8",
   "metadata": {},
   "outputs": [
    {
     "data": {
      "text/plain": [
       "Text(0.5, 1.0, 'Distributions 1 & 3')"
      ]
     },
     "execution_count": 1,
     "metadata": {},
     "output_type": "execute_result"
    },
    {
     "data": {
      "image/png": "[encoded data removed]",
      "text/plain": [
       "<Figure size 720x360 with 2 Axes>"
      ]
     },
     "metadata": {
      "needs_background": "light"
     },
     "output_type": "display_data"
    }
   ],
   "source": [
    "from matplotlib import pyplot as plt\n",
    "import mxnet as mx\n",
    "import numpy as np\n",
    "\n",
    "idx = np.array([1, 2, 3, 4])\n",
    "dist_1 = np.array([0.2, 0.5, 0.2, 0.1])\n",
    "dist_2 = np.array([0.3, 0.4, 0.1, 0.2])\n",
    "dist_3 = np.array([0.1, 0.1, 0.1, 0.7])\n",
    "\n",
    "plt.figure(figsize=(10,5))\n",
    "plt.subplot(1,2,1)\n",
    "plt.ylim(top=1)\n",
    "plt.bar(idx, dist_1, alpha=0.5, color='black')\n",
    "plt.bar(idx, dist_2, alpha=0.5, color='aqua')\n",
    "plt.title('Distributions 1 & 2')\n",
    "plt.subplot(1,2,2)\n",
    "plt.ylim(top=1)\n",
    "plt.bar(idx, dist_1, alpha=0.5, color='black')\n",
    "plt.bar(idx, dist_3, alpha=0.5, color='aqua')\n",
    "plt.title('Distributions 1 & 3')"
   ]
  },
  {
   "cell_type": "markdown",
   "id": "9fd097fa",
   "metadata": {},
   "source": [
    "We can see visually that distributions 1 and 2 are more similar than distributions 1 and 3. We'll confirm this result using [KLDivLoss](../../../../api/gluon/loss/index.rst#mxnet.gluon.loss.KLDivLoss). When using [KLDivLoss](../../../../api/gluon/loss/index.rst#mxnet.gluon.loss.KLDivLoss) with the default `from_logits=True` we need:\n",
    "\n",
    "1. our predictions to be parameters of a logged probability distribution.\n",
    "2. our targets to be parameters of a probability distribution (i.e. not logged).\n",
    "\n",
    "We often apply a [softmax](../../../../api/npx/generated/mxnet.npx.softmax.rst) operation to the output of our network to get a distribution, but this can have a numerically unstable gradient calculation. As as stable alternative, we use [log_softmax](../../../../api/npx/generated/mxnet.npx.log_softmax.rst) and so this is what is expected by [KLDivLoss](../../../../api/gluon/loss/index.rst#mxnet.gluon.loss.KLDivLoss) when `from_logits=True`. We also usually work with batches of predictions, so the predictions and targets need to have a batch dimension (the first axis by default).\n",
    "\n",
    "Since we're already working with distributions in this example, we don't need to apply the softmax and only need to apply [log](../../../../api/np/generated/mxnet.np.log.rst). And we'll create batch dimensions even though we're working with single distributions."
   ]
  },
  {
   "cell_type": "code",
   "execution_count": 2,
   "id": "46c926d8",
   "metadata": {},
   "outputs": [],
   "source": [
    "def kl_divergence(dist_a, dist_b):\n",
    "    # add batch dimension\n",
    "    pred_batch = mx.np.expand_dims(mx.np.array(dist_a), axis=0)\n",
    "    target_batch = mx.np.expand_dims(mx.np.array(dist_b), axis=0)\n",
    "    # log the distribution\n",
    "    pred_batch = mx.np.log(pred_batch)\n",
    "    # create loss (assuming we have a logged prediction distribution)\n",
    "    loss_fn = mx.gluon.loss.KLDivLoss(from_logits=True)\n",
    "    divergence = loss_fn(pred_batch, target_batch)\n",
    "    return divergence.item()"
   ]
  },
  {
   "cell_type": "code",
   "execution_count": 3,
   "id": "e1c3a1fd",
   "metadata": {},
   "outputs": [
    {
     "name": "stdout",
     "output_type": "stream",
     "text": [
      "Distribution 1 compared with Distribution 2: 0.025424212217330933\n",
      "Distribution 1 compared with Distribution 3: 0.2656409740447998\n",
      "Distribution 1 compared with Distribution 1: 0.0\n"
     ]
    },
    {
     "name": "stderr",
     "output_type": "stream",
     "text": [
      "[22:08:40] /work/mxnet/src/storage/storage.cc:199: Using Pooled (Naive) StorageManager for CPU\n"
     ]
    }
   ],
   "source": [
    "print(\"Distribution 1 compared with Distribution 2: {}\".format(\n",
    "        kl_divergence(dist_1, dist_2)))\n",
    "print(\"Distribution 1 compared with Distribution 3: {}\".format(\n",
    "        kl_divergence(dist_1, dist_3)))\n",
    "print(\"Distribution 1 compared with Distribution 1: {}\".format(\n",
    "        kl_divergence(dist_1, dist_1)))"
   ]
  },
  {
   "cell_type": "markdown",
   "id": "d841781a",
   "metadata": {},
   "source": [
    "As expected we see a smaller KL Divergence for distributions 1 & 2 than 1 & 3. And we also see the KL Divergence of a distribution with itself is 0.\n",
    "\n",
    "#### `from_logits=False`\n",
    "\n",
    "Alternatively, instead of manually applying the [log_softmax](../../../../api/npx/generated/mxnet.npx.log_softmax.rst) to our network outputs, we can leave that to the loss function. When setting `from_logits=False` on [KLDivLoss](../../../../api/gluon/loss/index.rst#mxnet.gluon.loss.KLDivLoss), the [log_softmax](../../../../api/npx/generated/mxnet.npx.log_softmax.rst) is applied to the first argument passed to `loss_fn`. As an example, let's assume our network outputs us the values below (favorably chosen so that when we [softmax](../../../../api/npx/generated/mxnet.npx.softmax.rst) these values we get the same distribution parameters as `dist_1`)."
   ]
  },
  {
   "cell_type": "code",
   "execution_count": 4,
   "id": "24214231",
   "metadata": {},
   "outputs": [],
   "source": [
    "output = mx.np.array([0.39056206, 1.3068528, 0.39056206, -0.30258512])"
   ]
  },
  {
   "cell_type": "markdown",
   "id": "ce628f0c",
   "metadata": {},
   "source": [
    "We can pass this to our [KLDivLoss](../../../../api/gluon/loss/index.rst#mxnet.gluon.loss.KLDivLoss) loss function (with `from_logits=False`) and get the same KL Divergence between `dist_1` and `dist_2` as before, because the [log_softmax](../../../../api/npx/generated/mxnet.npx.log_softmax.rst) is applied within the loss function."
   ]
  },
  {
   "cell_type": "code",
   "execution_count": 5,
   "id": "7a9db428",
   "metadata": {},
   "outputs": [],
   "source": [
    "def kl_divergence_not_from_logits(dist_a, dist_b):\n",
    "    # add batch dimension\n",
    "    pred_batch = mx.np.expand_dims(mx.np.array(dist_a), axis=0)\n",
    "    target_batch = mx.np.expand_dims(mx.np.array(dist_b), axis=0)\n",
    "    # create loss (assuming we have a logged prediction distribution)\n",
    "    loss_fn = mx.gluon.loss.KLDivLoss(from_logits=False)\n",
    "    divergence = loss_fn(pred_batch, target_batch)\n",
    "    return divergence.item()"
   ]
  },
  {
   "cell_type": "code",
   "execution_count": 6,
   "id": "9db52fbe",
   "metadata": {},
   "outputs": [
    {
     "name": "stdout",
     "output_type": "stream",
     "text": [
      "Distribution 1 compared with Distribution 2: 0.025424206629395485\n"
     ]
    }
   ],
   "source": [
    "print(\"Distribution 1 compared with Distribution 2: {}\".format(\n",
    "        kl_divergence_not_from_logits(output, dist_2)))"
   ]
  },
  {
   "cell_type": "markdown",
   "id": "64d6420e",
   "metadata": {},
   "source": [
    "### Advanced: Common Support\n",
    "\n",
    "Occasionally, you might have issues with [KLDivLoss](../../../../api/gluon/loss/index.rst#mxnet.gluon.loss.KLDivLoss). One common issue arises when the support of the distributions being compared are not the same. 'Support' here is referring to the values of the distribution which have a non-zero probability. Conveniently, all our examples above had the same support, but we might have a case where some categories have a probability of 0."
   ]
  },
  {
   "cell_type": "code",
   "execution_count": 7,
   "id": "bc31c3e1",
   "metadata": {},
   "outputs": [],
   "source": [
    "dist_4 = np.array([0, 0.9, 0, 0.1])"
   ]
  },
  {
   "cell_type": "code",
   "execution_count": 8,
   "id": "050a8f5b",
   "metadata": {},
   "outputs": [
    {
     "name": "stdout",
     "output_type": "stream",
     "text": [
      "Distribution 4 compared with Distribution 1: nan\n"
     ]
    }
   ],
   "source": [
    "print(\"Distribution 4 compared with Distribution 1: {}\".format(\n",
    "        kl_divergence(dist_4, dist_1)))"
   ]
  },
  {
   "cell_type": "markdown",
   "id": "8b0af4f4",
   "metadata": {},
   "source": [
    "We can see that the result is `nan`, which will obviously cause issues when calculating the gradient. One option is to add a small value `epsilon` to all of the probabilities, and this is already done for the target distribution (using the value of 1e-12).\n",
    "\n",
    "### Advanced: Aggregation\n",
    "\n",
    "One minor difference between the true definition of KL Divergence and the result from [KLDivLoss](../../../../api/gluon/loss/index.rst#mxnet.gluon.loss.KLDivLoss) is how the aggregation of category contributions is performed. Although the true definition sums up these contributions, the default behaviour in MXNet Gluon is to average terms along the batch dimension. As a result, the [KLDivLoss](../../../../api/gluon/loss/index.rst#mxnet.gluon.loss.KLDivLoss) output will be smaller than the true definition by a factor of the number of categories."
   ]
  },
  {
   "cell_type": "code",
   "execution_count": 9,
   "id": "71bb6a81",
   "metadata": {},
   "outputs": [
    {
     "name": "stdout",
     "output_type": "stream",
     "text": [
      "true_divergence: 0.10169682996275987\n"
     ]
    }
   ],
   "source": [
    "true_divergence = (dist_2*(np.log(dist_2)-np.log(dist_1))).sum()\n",
    "print('true_divergence: {}'.format(true_divergence))"
   ]
  },
  {
   "cell_type": "markdown",
   "id": "3f8e93a8",
   "metadata": {},
   "source": [
    "```{.python .input}\n",
    "num_categories = dist_1.shape[0]\n",
    "divergence = kl_divergence(dist_1, dist_2)\n",
    "print('divergence: {}'.format(divergence))\n",
    "print('divergence * num_categories: {}'.format(divergence * num_categories))\n",
    "```"
   ]
  }
 ],
 "metadata": {
  "language_info": {
   "name": "python"
  }
 },
 "nbformat": 4,
 "nbformat_minor": 5
}